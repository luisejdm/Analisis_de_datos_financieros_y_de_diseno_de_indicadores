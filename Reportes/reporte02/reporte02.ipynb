{
 "cells": [
  {
   "cell_type": "markdown",
   "id": "2d8ff19f-b5c8-40f9-896e-5ee09864d86a",
   "metadata": {},
   "source": [
    "## Luis Eduardo Jiménez del Muro - 26/08/2024\n",
    "---"
   ]
  },
  {
   "cell_type": "markdown",
   "id": "09d2681d",
   "metadata": {},
   "source": [
    "## Niveles de madures en la empresa y enfoque en KPIs\n",
    "\n",
    "Los negocios atraviesan diversas etapas de crecimiento, cada una con sus propios desafíos y oportunidades. Para navegar con éxito en este camino, es fundamental seleccionar los indicadores clave de desempeño (KPIs) más adecuados. Estos indicadores nos permiten medir el progreso hacia nuestros objetivos y tomar decisiones estratégicas basadas en datos. **Sin embargo, es crucial reconocer que los KPIs son solo una parte de la ecuación.** Si bien son esenciales para monitorear el rendimiento general del negocio, no proporcionan una visión completa de la salud de la organización. Es necesario complementar los KPIs con otros indicadores y análisis cualitativos para obtener una comprensión más profunda de los factores que influyen en el éxito.\n",
    "\n",
    "### 1. Etapa pre-semilla y semilla (pre-seed y seed).\n",
    "- **Enfoque:** Esta etapa es para probar el concepto inicial, desarrollar el producto y ganar los primeros usuarios o clientes.\n",
    "- **KPIs típicos:**\n",
    "  - **User Engagement:** Mide la interacción del usuario con el producto, crucial para refinar la experiencia del usuario. La formula depende completamente del producto, pero comunmente puede encontrarse como tiempo promedio en la aplicación por usuario, click through rate, returning rate, etc...\n",
    "  - **Retroalimentaciones de Early Adopter:** Insights cualitativos de usuarios iniciales que guian el desarrollo del producto.\n",
    "  - **Monthly Active Users (MAU):** Métrica vital para medir la tracción inicial y la retención de los usuarios.\n",
    "    - Formula: $\\text{MAU} = \\text{Unique Users per Month}$\n",
    "  - **Burn Rate:** Tasa a la cual la compañia se gasta la inversión para financiar la idea antes de generar flujo de caja positivo de las operaciones.\n",
    "    - Formula: $\\text{Burn Rate} = \\frac{\\text{Dinero gastado a traves del periodo}}{\\text{Periodo de tiempo}}$\n",
    "  - **Cash Runway:** Tiempo (normalmente mencionado en meses) que tienes de vida como startup antes de que se le acabe el dinero. Esta métrica es importante por que te ayuda a seguir tu progreso y el tiempo que tienes para alcanzar a ser rentable.\n",
    "      - Formula: $\\text{Cash Runway} = \\frac{\\text{Capital}}{\\text{Burn Rate}}$\n",
    "\n",
    "### 2. Series A a C\n",
    "- **Enfoque:** Las compañias en esta etapa están escalando las operaciones, expandiendo el mercado, y construyendo la linea de productos.\n",
    "- **KPIs típicos:**\n",
    "  - **Customer Acquisition Cost (CAC):** Costos asociados con convencer al cliente para adquirir el producto o servicio. Crucial para etender la escabilidad de los esfuerzos de venta.\n",
    "    - Formula: $\\text{CAC} = \\frac{\\text{Gastos totales de Marketing y Ventas}}{\\text{Número de nuevos clientes adquiridos}}$\n",
    "  - **Customer Lifetime Value (CLTV):** Predice el revenue total que un negocio puede esperar de manera razonable de un cliente a traves de la relación comercial que tenga con el negocio.\n",
    "    - Formula: $\\text{CLTV} = \\frac{\\text{Average Revenue per User (ARPU)} \\times \\text{Gross Margin}}{\\text{Churn Rate}}$\n",
    "  - **Tasa de crecimiento de ingresos:** Indica el ritmo al cual el ingreso de la compañía esta creciento, ayudando a medir el éxito de las estrategias de ventas y marketing.\n",
    "    - Formula: $\\text{Tasa de crecimiento de ingresos} = \\frac{\\text{Ingresos del periodo actual}}{\\text{Ingresos del periodo pasado}} - 1$\n",
    "  - **Churn Rate:** Mide la tasa a la cual los clientes dejan de tener una relación comercial con el negocio. Importante para entender la retención de los clientes.\n",
    "    - Formula: $\\text{Churn Rate} = \\frac{\\text{Numero de clientes perdidos en el periodo}}{\\text{Clientes que comenzaron al inicio del periodo + Clientes adquiridos en el periodo}}$\n",
    "\n",
    "### 3. Compañias maduras o independientes de inversión\n",
    "- **Enfoque:** El enfoque cambia a sostenibilidad, eficiencia y maximizar el valor para los accionistas o dueños.\n",
    "- **KPIs típicos:**\n",
    "  - **Net Promoter Score (NPS):** Refleja la satisfacción y lealtad de los clientes. Crucial para negocios maduros enfocados en mantener o aumentar el número de sus clientes.\n",
    "    - Formula: $\\text{NPS} = (\\text{% Promotores (9 o 10)} - \\text{% Detractores (6 o menos)}) \\times 100$\n",
    "  - **Market Share:** Indica el porcentaje de las ventas de una industria que controla una determinada empresa, mostrando una posición competitiva.\n",
    "    - Formula: $\\text{Market Share} = \\frac{\\text{Ventas de la compañia}}{\\text{Ventas totales de la industria}} \\times 100$\n",
    "  - **EBITDA:** Provides insight into profitability before the effects of interest, taxes, depreciation, and amortization.\n",
    "    - Formula: $\\text{EBITDA} = \\text{Ingresos} - \\text{Costos y gastos (excluyendo impuestos, intereses, depreciación, y amortización)}$\n",
    "  - **Return on Assets (ROA):** Indica que tan eficiente una compañía puede administrar sus actuvis para producir ganancias durante un periodo.\n",
    "    - Formula: $\\text{ROA} = \\frac{\\text{Ingreso neto}}{\\text{Activos totales}}$\n",
    "\n",
    "Esta sección marca la importancia de alinear los KPIs con la etapa de desarrollo de la empresa para asegurar que reflejan y apoyan adecuacuadamente los objetivos de la empresa y sus necesidades operacionales.\n",
    "\n",
    "**EJEMPLOS DE EMPRESAS SELECCIONADAS POR ALUMNOS**\n"
   ]
  },
  {
   "cell_type": "markdown",
   "id": "e9b9630f",
   "metadata": {},
   "source": [
    "## Indicadores Lead y Lag\n",
    "\n",
    "Lead y Lag son dos tipos de indicadores usados para medir el desempeño. Sirven para propositos distintos y proveen conclusiones a diferentes tiempos del ciclo de la empresa.\n",
    "\n",
    "**Referencias:** [Investopedia - Lead and Lag Indicators](https://www.investopedia.com/ask/answers/what-are-leading-lagging-and-coincident-indicators/)\n",
    "\n",
    "### Indicadores Lead\n",
    "- **Definición:** Indicadores Lead son medidas predictivas que mandan señales de eventos futuros y son útiles para influir en el cambio. Por lo general, ofrecen datos en tiempo real que pueden predecir el resultado de un proceso.\n",
    "- **Ejemplos:**\n",
    "    - **Customer Satisfaction (CSAT):** Puede indicar retención y recurrencia de los usuarios. Indicador Lead especificamente para áreas como ventas, producto o retención de clientes.\n",
    "    - **Trafico del sitio web:** Puede indicar ventas futuras de la empresa.\n",
    "    - **Horas de etrenamiento de empleados:** Correlacionada positivamente con mejoras en la calidad de producción o entrega de servicio.\n",
    "- **Ventajas:** Teniendo vista al futuro, los indicadores Lead pueden ayudar a directivos a hacer ajusted proactivos antes de que los resultados Lag sean aparentes.\n",
    "\n",
    "### Indicadores Lag\n",
    "- **Definición:** Los indicadores lag miden el resultado de los procesos, mostrando el impacto de las acciones pasadas al final del periodo. Estan enfocadas en resultados.\n",
    "- **Ejemplos:**\n",
    "  - **Ganancia trimestral:** Refleja el desempeño financiero del pasado.\n",
    "  - **Customer Satisfaction (CSAT):** Es obtenido despues de que el cliente interactua con el producto o servicio.\n",
    "- **Ventajas:** Son útiles para declarar objetivos y evaluaciones de desempeño. Proveen datos que son certeros y fáciles de recolectar y entender.\n",
    "\n",
    "Entender la diferencia entre indicadores Lead y Lag, y como pueden ser aplicados de manera estrategica en el contexto de las actividades operacionales de una empresa, es crucial para una administración y toma de decisión efectiva."
   ]
  },
  {
   "cell_type": "markdown",
   "id": "ae431c05",
   "metadata": {},
   "source": [
    "## Caso práctico: OptiTech Solutions\n",
    "\n",
    "**Antecedentes:**\n",
    "OptiTech Solutions es una empresa de tecnología en expansión que se especializa en la implementación de soluciones de Inteligencia Artificial para pequeñas empresas. Desde su fundación hace cinco años, OptiTech ha progresado desde las fases iniciales de financiamiento hasta la etapa de crecimiento acelerado. Actualmente, la empresa se está preparando para una ronda de financiación Serie B, con el objetivo de ampliar su presencia en el mercado y mejorar las funcionalidades de sus productos.\n",
    "\n",
    "**Desafío:**\n",
    "El reto principal de OptiTech Solutions es fortalecer su toma de decisiones estratégicas para atraer inversionistas y asegurar un crecimiento sostenible. Para esto, el equipo directivo pretende optimizar sus Indicadores Clave de Desempeño (KPIs) relacionados con la adquisición de clientes y su satisfacción, facilitando así decisiones más informadas y adaptativas frente a las exigencias del mercado.\n",
    "\n",
    "**Datos disponibles:**\n",
    "Descripción de los datos\n",
    "- Date: Mes y año de registro.\n",
    "- Marketing_Expenditure: Fondos dedicados a Marketing.\n",
    "- Web_Traffic: Numero de visitas en la página.\n",
    "- New_Customers: Clientes nuevos adquiridos mensualmente.\n",
    "- Beginning_Customers: Clientes totales al inicio del mes.\n",
    "- Monthly_Revenue: Ingreso mensual.\n",
    "- Employee_Training_Hours: Horas dedicadas al entrenamiento de empleados al mes.\n",
    "- Total_Customer_Respondents: Clientes que contestaron la encuesta CSAT.\n",
    "- High_Customer_Score_Respondents: Clientes que dieron una calificación de 4 o 5 al CSAT.\n",
    "- Total_Employee_Respondents: Empleados que contestaron el eNPS.\n",
    "- Promoters_Employee_Score_Respondents: Empleados que dieron una calificación de 9 o 10 al eNPS.\n",
    "- Detractors_Employee_Score_Respondents: Empleados que dieron una calificación de 6 o menos al eNPS.\n",
    "\n",
    "**Su actividad:**\n",
    "Como consultores, su grupo tiene la tarea de:\n",
    "1. Revisar la trayectoria de crecimiento de la empresa:\n",
    "    - Analizar los datos históricos de ingresos y gastos de marketing para evaluar la salud financiera y los patrones de crecimiento de OptiTech Solutions.\n",
    "    - Evaluar el tráfico web y las tendencias de adquisición de clientes para inferir el alcance del mercado y la visibilidad de la marca.\n",
    "\n",
    "&nbsp;\n",
    "\n",
    "2. Definir indicadores clave de rendimiento (KPI):\n",
    "    - Determinar los KPIs más cruciales que correspondan con la fase actual de desarrollo de la empresa y sus metas estratégicas, incluyendo métricas financieras y no financieras.\n",
    "    - Proponer Lead KPIs que proporcionen información predictiva para los ajustes operativos y Lag KPIs para la planificación estratégica.\n",
    "\n",
    "&nbsp;\n",
    "\n",
    "3. Cálculo de métricas:\n",
    "    - Calcule los KPI seleccionados utilizando los datos históricos proporcionados. Utilice Python y pandas en su Jupyter Notebook para la manipulación y el cálculo de datos.\n",
    "    - Analice las tendencias y los patrones de estas métricas para proporcionar información sobre la eficacia operativa y la alineación estratégica.\n",
    "\n",
    "&nbsp;\n",
    "\n",
    "4. Establecer parámetros de referencia (benchmarks):\n",
    "    - Investigar los estándares de la industria y los parámetros de referencia de empresas tecnológicas similares en etapas comparables de crecimiento.\n",
    "    - Comparar el desempeño de OptiTech con estos parámetros de referencia para identificar áreas de fortaleza y oportunidades de mejora.\n",
    "\n",
    "&nbsp;\n",
    "\n",
    "5. Presentar los hallazgos:\n",
    "    - Resume el análisis, los hallazgos y las recomendaciones.\n",
    "    - Resalta cómo los KPIs propuestos pueden ayudar a OptiTech a lograr sus objetivos estratégicos y prepararse de manera eficaz para la ronda de financiación de la Serie B."
   ]
  },
  {
   "cell_type": "markdown",
   "id": "f1e96f24-ae4b-44ab-9d66-71caf71054ee",
   "metadata": {},
   "source": [
    "### 2. Definir los KPIs"
   ]
  },
  {
   "cell_type": "markdown",
   "id": "3c9b9eff-7fd7-47db-b160-9bc98d620cfc",
   "metadata": {},
   "source": [
    "- CAC. (Escalabilidad de traer nuevos clientes)\n",
    "- CSAT. Customer Satisfaction Score. (clientes que me calificaron bien / clientes que me calificaron)"
   ]
  },
  {
   "cell_type": "markdown",
   "id": "8fe0f292-eecb-489b-b94c-9ae23f90c1eb",
   "metadata": {},
   "source": [
    "### 3. Calcular las métricas"
   ]
  },
  {
   "cell_type": "code",
   "execution_count": 1,
   "id": "1cbafb7e-153d-44d0-a969-934a296aadc2",
   "metadata": {},
   "outputs": [],
   "source": [
    "import pandas as pd"
   ]
  },
  {
   "cell_type": "code",
   "execution_count": 2,
   "id": "5fe1e560-b966-43a0-9320-a204996f75a6",
   "metadata": {
    "scrolled": true
   },
   "outputs": [
    {
     "data": {
      "text/html": [
       "<div>\n",
       "<style scoped>\n",
       "    .dataframe tbody tr th:only-of-type {\n",
       "        vertical-align: middle;\n",
       "    }\n",
       "\n",
       "    .dataframe tbody tr th {\n",
       "        vertical-align: top;\n",
       "    }\n",
       "\n",
       "    .dataframe thead th {\n",
       "        text-align: right;\n",
       "    }\n",
       "</style>\n",
       "<table border=\"1\" class=\"dataframe\">\n",
       "  <thead>\n",
       "    <tr style=\"text-align: right;\">\n",
       "      <th></th>\n",
       "      <th>Date</th>\n",
       "      <th>Marketing_Expenditure</th>\n",
       "      <th>Web_Traffic</th>\n",
       "      <th>New_Customers</th>\n",
       "      <th>Beginning_Customers</th>\n",
       "      <th>Monthly_Revenue</th>\n",
       "      <th>Employee_Training_Hours</th>\n",
       "      <th>Total_Customer_Respondents</th>\n",
       "      <th>High_Customer_Score_Respondents</th>\n",
       "      <th>Total_Employee_Respondents</th>\n",
       "      <th>Promoters_Employee_Score_Respondents</th>\n",
       "      <th>Detractors_Employee_Score_Respondents</th>\n",
       "    </tr>\n",
       "  </thead>\n",
       "  <tbody>\n",
       "    <tr>\n",
       "      <th>0</th>\n",
       "      <td>2019-01-31</td>\n",
       "      <td>14542</td>\n",
       "      <td>23452</td>\n",
       "      <td>71</td>\n",
       "      <td>71</td>\n",
       "      <td>65003</td>\n",
       "      <td>115</td>\n",
       "      <td>232</td>\n",
       "      <td>63</td>\n",
       "      <td>85</td>\n",
       "      <td>17</td>\n",
       "      <td>5</td>\n",
       "    </tr>\n",
       "    <tr>\n",
       "      <th>1</th>\n",
       "      <td>2019-02-28</td>\n",
       "      <td>29014</td>\n",
       "      <td>25523</td>\n",
       "      <td>16</td>\n",
       "      <td>79</td>\n",
       "      <td>32044</td>\n",
       "      <td>137</td>\n",
       "      <td>285</td>\n",
       "      <td>122</td>\n",
       "      <td>75</td>\n",
       "      <td>26</td>\n",
       "      <td>4</td>\n",
       "    </tr>\n",
       "    <tr>\n",
       "      <th>2</th>\n",
       "      <td>2019-03-31</td>\n",
       "      <td>27571</td>\n",
       "      <td>15227</td>\n",
       "      <td>44</td>\n",
       "      <td>124</td>\n",
       "      <td>57586</td>\n",
       "      <td>128</td>\n",
       "      <td>258</td>\n",
       "      <td>116</td>\n",
       "      <td>57</td>\n",
       "      <td>21</td>\n",
       "      <td>3</td>\n",
       "    </tr>\n",
       "    <tr>\n",
       "      <th>3</th>\n",
       "      <td>2019-04-30</td>\n",
       "      <td>27316</td>\n",
       "      <td>13223</td>\n",
       "      <td>17</td>\n",
       "      <td>141</td>\n",
       "      <td>66405</td>\n",
       "      <td>101</td>\n",
       "      <td>214</td>\n",
       "      <td>91</td>\n",
       "      <td>99</td>\n",
       "      <td>36</td>\n",
       "      <td>7</td>\n",
       "    </tr>\n",
       "    <tr>\n",
       "      <th>4</th>\n",
       "      <td>2019-05-31</td>\n",
       "      <td>25355</td>\n",
       "      <td>29371</td>\n",
       "      <td>95</td>\n",
       "      <td>228</td>\n",
       "      <td>95995</td>\n",
       "      <td>113</td>\n",
       "      <td>235</td>\n",
       "      <td>93</td>\n",
       "      <td>77</td>\n",
       "      <td>25</td>\n",
       "      <td>5</td>\n",
       "    </tr>\n",
       "  </tbody>\n",
       "</table>\n",
       "</div>"
      ],
      "text/plain": [
       "         Date  Marketing_Expenditure  Web_Traffic  New_Customers  \\\n",
       "0  2019-01-31                  14542        23452             71   \n",
       "1  2019-02-28                  29014        25523             16   \n",
       "2  2019-03-31                  27571        15227             44   \n",
       "3  2019-04-30                  27316        13223             17   \n",
       "4  2019-05-31                  25355        29371             95   \n",
       "\n",
       "   Beginning_Customers  Monthly_Revenue  Employee_Training_Hours  \\\n",
       "0                   71            65003                      115   \n",
       "1                   79            32044                      137   \n",
       "2                  124            57586                      128   \n",
       "3                  141            66405                      101   \n",
       "4                  228            95995                      113   \n",
       "\n",
       "   Total_Customer_Respondents  High_Customer_Score_Respondents  \\\n",
       "0                         232                               63   \n",
       "1                         285                              122   \n",
       "2                         258                              116   \n",
       "3                         214                               91   \n",
       "4                         235                               93   \n",
       "\n",
       "   Total_Employee_Respondents  Promoters_Employee_Score_Respondents  \\\n",
       "0                          85                                    17   \n",
       "1                          75                                    26   \n",
       "2                          57                                    21   \n",
       "3                          99                                    36   \n",
       "4                          77                                    25   \n",
       "\n",
       "   Detractors_Employee_Score_Respondents  \n",
       "0                                      5  \n",
       "1                                      4  \n",
       "2                                      3  \n",
       "3                                      7  \n",
       "4                                      5  "
      ]
     },
     "execution_count": 2,
     "metadata": {},
     "output_type": "execute_result"
    }
   ],
   "source": [
    "df = pd.read_csv('optitech_solutions_data.csv')\n",
    "df.head()"
   ]
  },
  {
   "cell_type": "code",
   "execution_count": 3,
   "id": "16b74a11-1192-43f4-b587-e70a9ff5350a",
   "metadata": {},
   "outputs": [
    {
     "data": {
      "text/html": [
       "<div>\n",
       "<style scoped>\n",
       "    .dataframe tbody tr th:only-of-type {\n",
       "        vertical-align: middle;\n",
       "    }\n",
       "\n",
       "    .dataframe tbody tr th {\n",
       "        vertical-align: top;\n",
       "    }\n",
       "\n",
       "    .dataframe thead th {\n",
       "        text-align: right;\n",
       "    }\n",
       "</style>\n",
       "<table border=\"1\" class=\"dataframe\">\n",
       "  <thead>\n",
       "    <tr style=\"text-align: right;\">\n",
       "      <th></th>\n",
       "      <th>Marketing_Expenditure</th>\n",
       "      <th>Web_Traffic</th>\n",
       "      <th>New_Customers</th>\n",
       "      <th>Beginning_Customers</th>\n",
       "      <th>Monthly_Revenue</th>\n",
       "      <th>Employee_Training_Hours</th>\n",
       "      <th>Total_Customer_Respondents</th>\n",
       "      <th>High_Customer_Score_Respondents</th>\n",
       "      <th>Total_Employee_Respondents</th>\n",
       "      <th>Promoters_Employee_Score_Respondents</th>\n",
       "      <th>Detractors_Employee_Score_Respondents</th>\n",
       "    </tr>\n",
       "  </thead>\n",
       "  <tbody>\n",
       "    <tr>\n",
       "      <th>count</th>\n",
       "      <td>60.000000</td>\n",
       "      <td>60.000000</td>\n",
       "      <td>60.000000</td>\n",
       "      <td>60.000000</td>\n",
       "      <td>6.000000e+01</td>\n",
       "      <td>60.000000</td>\n",
       "      <td>60.000000</td>\n",
       "      <td>60.000000</td>\n",
       "      <td>60.000000</td>\n",
       "      <td>60.000000</td>\n",
       "      <td>60.000000</td>\n",
       "    </tr>\n",
       "    <tr>\n",
       "      <th>mean</th>\n",
       "      <td>23770.650000</td>\n",
       "      <td>23998.700000</td>\n",
       "      <td>48.316667</td>\n",
       "      <td>1299.083333</td>\n",
       "      <td>5.325228e+05</td>\n",
       "      <td>123.166667</td>\n",
       "      <td>232.050000</td>\n",
       "      <td>99.533333</td>\n",
       "      <td>75.133333</td>\n",
       "      <td>26.233333</td>\n",
       "      <td>4.566667</td>\n",
       "    </tr>\n",
       "    <tr>\n",
       "      <th>std</th>\n",
       "      <td>3302.653175</td>\n",
       "      <td>9221.395511</td>\n",
       "      <td>32.123433</td>\n",
       "      <td>769.860328</td>\n",
       "      <td>3.503077e+05</td>\n",
       "      <td>20.818153</td>\n",
       "      <td>46.027046</td>\n",
       "      <td>22.392089</td>\n",
       "      <td>14.611891</td>\n",
       "      <td>5.315046</td>\n",
       "      <td>0.963163</td>\n",
       "    </tr>\n",
       "    <tr>\n",
       "      <th>min</th>\n",
       "      <td>14542.000000</td>\n",
       "      <td>10000.000000</td>\n",
       "      <td>10.000000</td>\n",
       "      <td>71.000000</td>\n",
       "      <td>3.204400e+04</td>\n",
       "      <td>83.000000</td>\n",
       "      <td>150.000000</td>\n",
       "      <td>59.000000</td>\n",
       "      <td>50.000000</td>\n",
       "      <td>17.000000</td>\n",
       "      <td>3.000000</td>\n",
       "    </tr>\n",
       "    <tr>\n",
       "      <th>25%</th>\n",
       "      <td>21308.250000</td>\n",
       "      <td>18215.250000</td>\n",
       "      <td>22.750000</td>\n",
       "      <td>638.250000</td>\n",
       "      <td>2.652680e+05</td>\n",
       "      <td>104.750000</td>\n",
       "      <td>196.000000</td>\n",
       "      <td>84.750000</td>\n",
       "      <td>62.000000</td>\n",
       "      <td>22.000000</td>\n",
       "      <td>4.000000</td>\n",
       "    </tr>\n",
       "    <tr>\n",
       "      <th>50%</th>\n",
       "      <td>24019.000000</td>\n",
       "      <td>23090.000000</td>\n",
       "      <td>41.500000</td>\n",
       "      <td>1264.500000</td>\n",
       "      <td>4.950735e+05</td>\n",
       "      <td>122.500000</td>\n",
       "      <td>237.000000</td>\n",
       "      <td>98.000000</td>\n",
       "      <td>76.500000</td>\n",
       "      <td>26.000000</td>\n",
       "      <td>4.500000</td>\n",
       "    </tr>\n",
       "    <tr>\n",
       "      <th>75%</th>\n",
       "      <td>25557.000000</td>\n",
       "      <td>28350.500000</td>\n",
       "      <td>66.250000</td>\n",
       "      <td>1849.500000</td>\n",
       "      <td>7.556240e+05</td>\n",
       "      <td>138.000000</td>\n",
       "      <td>272.000000</td>\n",
       "      <td>117.500000</td>\n",
       "      <td>85.000000</td>\n",
       "      <td>29.250000</td>\n",
       "      <td>5.000000</td>\n",
       "    </tr>\n",
       "    <tr>\n",
       "      <th>max</th>\n",
       "      <td>29950.000000</td>\n",
       "      <td>51420.000000</td>\n",
       "      <td>134.000000</td>\n",
       "      <td>2727.000000</td>\n",
       "      <td>1.674471e+06</td>\n",
       "      <td>182.000000</td>\n",
       "      <td>298.000000</td>\n",
       "      <td>142.000000</td>\n",
       "      <td>99.000000</td>\n",
       "      <td>39.000000</td>\n",
       "      <td>7.000000</td>\n",
       "    </tr>\n",
       "  </tbody>\n",
       "</table>\n",
       "</div>"
      ],
      "text/plain": [
       "       Marketing_Expenditure   Web_Traffic  New_Customers  \\\n",
       "count              60.000000     60.000000      60.000000   \n",
       "mean            23770.650000  23998.700000      48.316667   \n",
       "std              3302.653175   9221.395511      32.123433   \n",
       "min             14542.000000  10000.000000      10.000000   \n",
       "25%             21308.250000  18215.250000      22.750000   \n",
       "50%             24019.000000  23090.000000      41.500000   \n",
       "75%             25557.000000  28350.500000      66.250000   \n",
       "max             29950.000000  51420.000000     134.000000   \n",
       "\n",
       "       Beginning_Customers  Monthly_Revenue  Employee_Training_Hours  \\\n",
       "count            60.000000     6.000000e+01                60.000000   \n",
       "mean           1299.083333     5.325228e+05               123.166667   \n",
       "std             769.860328     3.503077e+05                20.818153   \n",
       "min              71.000000     3.204400e+04                83.000000   \n",
       "25%             638.250000     2.652680e+05               104.750000   \n",
       "50%            1264.500000     4.950735e+05               122.500000   \n",
       "75%            1849.500000     7.556240e+05               138.000000   \n",
       "max            2727.000000     1.674471e+06               182.000000   \n",
       "\n",
       "       Total_Customer_Respondents  High_Customer_Score_Respondents  \\\n",
       "count                   60.000000                        60.000000   \n",
       "mean                   232.050000                        99.533333   \n",
       "std                     46.027046                        22.392089   \n",
       "min                    150.000000                        59.000000   \n",
       "25%                    196.000000                        84.750000   \n",
       "50%                    237.000000                        98.000000   \n",
       "75%                    272.000000                       117.500000   \n",
       "max                    298.000000                       142.000000   \n",
       "\n",
       "       Total_Employee_Respondents  Promoters_Employee_Score_Respondents  \\\n",
       "count                   60.000000                             60.000000   \n",
       "mean                    75.133333                             26.233333   \n",
       "std                     14.611891                              5.315046   \n",
       "min                     50.000000                             17.000000   \n",
       "25%                     62.000000                             22.000000   \n",
       "50%                     76.500000                             26.000000   \n",
       "75%                     85.000000                             29.250000   \n",
       "max                     99.000000                             39.000000   \n",
       "\n",
       "       Detractors_Employee_Score_Respondents  \n",
       "count                              60.000000  \n",
       "mean                                4.566667  \n",
       "std                                 0.963163  \n",
       "min                                 3.000000  \n",
       "25%                                 4.000000  \n",
       "50%                                 4.500000  \n",
       "75%                                 5.000000  \n",
       "max                                 7.000000  "
      ]
     },
     "execution_count": 3,
     "metadata": {},
     "output_type": "execute_result"
    }
   ],
   "source": [
    "df.describe()"
   ]
  },
  {
   "cell_type": "code",
   "execution_count": 4,
   "id": "2e3f5b25-10d4-420a-af0a-33c6876b8f4b",
   "metadata": {},
   "outputs": [
    {
     "name": "stdout",
     "output_type": "stream",
     "text": [
      "<class 'pandas.core.frame.DataFrame'>\n",
      "RangeIndex: 60 entries, 0 to 59\n",
      "Data columns (total 12 columns):\n",
      " #   Column                                 Non-Null Count  Dtype \n",
      "---  ------                                 --------------  ----- \n",
      " 0   Date                                   60 non-null     object\n",
      " 1   Marketing_Expenditure                  60 non-null     int64 \n",
      " 2   Web_Traffic                            60 non-null     int64 \n",
      " 3   New_Customers                          60 non-null     int64 \n",
      " 4   Beginning_Customers                    60 non-null     int64 \n",
      " 5   Monthly_Revenue                        60 non-null     int64 \n",
      " 6   Employee_Training_Hours                60 non-null     int64 \n",
      " 7   Total_Customer_Respondents             60 non-null     int64 \n",
      " 8   High_Customer_Score_Respondents        60 non-null     int64 \n",
      " 9   Total_Employee_Respondents             60 non-null     int64 \n",
      " 10  Promoters_Employee_Score_Respondents   60 non-null     int64 \n",
      " 11  Detractors_Employee_Score_Respondents  60 non-null     int64 \n",
      "dtypes: int64(11), object(1)\n",
      "memory usage: 5.8+ KB\n"
     ]
    }
   ],
   "source": [
    "df.info()"
   ]
  },
  {
   "cell_type": "code",
   "execution_count": 5,
   "id": "62fb61c0-0942-4e45-bbf6-07966dfcddd5",
   "metadata": {},
   "outputs": [],
   "source": [
    "df['cac'] = df['Marketing_Expenditure'] / df['New_Customers']"
   ]
  },
  {
   "cell_type": "code",
   "execution_count": 6,
   "id": "e0b22a45-4929-424b-8fa9-24a5ea383184",
   "metadata": {},
   "outputs": [
    {
     "data": {
      "text/plain": [
       "<Axes: >"
      ]
     },
     "execution_count": 6,
     "metadata": {},
     "output_type": "execute_result"
    },
    {
     "data": {
      "image/png": "[encoded data removed]",
      "text/plain": [
       "<Figure size 640x480 with 1 Axes>"
      ]
     },
     "metadata": {},
     "output_type": "display_data"
    }
   ],
   "source": [
    "df['cac'].plot()"
   ]
  },
  {
   "cell_type": "code",
   "execution_count": 7,
   "id": "dd57fca8-3530-4518-af7d-975f19676216",
   "metadata": {},
   "outputs": [],
   "source": [
    "df['csat'] = df['High_Customer_Score_Respondents'] / df['Total_Customer_Respondents']"
   ]
  },
  {
   "cell_type": "code",
   "execution_count": 8,
   "id": "f783821b-c5b7-4e8e-a247-7095a6e59c4f",
   "metadata": {},
   "outputs": [
    {
     "data": {
      "text/plain": [
       "<Axes: >"
      ]
     },
     "execution_count": 8,
     "metadata": {},
     "output_type": "execute_result"
    },
    {
     "data": {
      "image/png": "[encoded data removed]",
      "text/plain": [
       "<Figure size 640x480 with 1 Axes>"
      ]
     },
     "metadata": {},
     "output_type": "display_data"
    }
   ],
   "source": [
    "df['csat'].plot()"
   ]
  },
  {
   "cell_type": "markdown",
   "id": "32d2e3a7-693f-4588-acb4-f4865a35167c",
   "metadata": {},
   "source": [
    "### 4. Benchmarks"
   ]
  },
  {
   "cell_type": "code",
   "execution_count": 9,
   "id": "bcff2960-ab91-48c8-b8ee-2eeb171b86ac",
   "metadata": {},
   "outputs": [
    {
     "data": {
      "text/plain": [
       "777.7167768724031"
      ]
     },
     "execution_count": 9,
     "metadata": {},
     "output_type": "execute_result"
    }
   ],
   "source": [
    "df['cac'].mean()"
   ]
  },
  {
   "cell_type": "code",
   "execution_count": 10,
   "id": "f4012b5c-651d-459e-9bd4-a2608a7ecdd7",
   "metadata": {},
   "outputs": [
    {
     "data": {
      "text/plain": [
       "0.42789825960204714"
      ]
     },
     "execution_count": 10,
     "metadata": {},
     "output_type": "execute_result"
    }
   ],
   "source": [
    "df['csat'].mean()"
   ]
  },
  {
   "cell_type": "markdown",
   "id": "15b3be12-3949-43de-bd79-74791a571f21",
   "metadata": {},
   "source": [
    "- Dado la inestabilidad del CAC, definimos nuestra meta (benchmark) a llegar máximo a la media de 777.\n",
    "- El benchmark en la industria en CSAT es de 0.65, por lo tanto, la empresa esta muy mal comparado con la industria."
   ]
  },
  {
   "cell_type": "markdown",
   "id": "e347814d-2dbc-4d85-8ba2-4cee093f44d5",
   "metadata": {},
   "source": [
    "### 5. Conclusiones "
   ]
  },
  {
   "cell_type": "markdown",
   "id": "588a94be-551c-438e-8dd6-041132f30ecd",
   "metadata": {},
   "source": [
    "* El CAC se observa altamente inestable, visualmente parece que ronda entre el 0 y el 1300 y teniendo picos de hasta 2500 aprox. Por lo tanto, creo que un buen valor meta para la empresa sería estabilizarlo y si en el caso de haber picos altos sean cuando mucho la media actual que es de 777.\n",
    "* Dado que los KPIs que quiere optimizar la empresa son de adquisición y satisfacción de clientes, para ellos el indicador del CSAT es de los mas importantes, y no pueden permitirse el estar teniendo una leve tendencia a la baja y que su media sea de 0.42 mientras la industria tiene valores de 0.65, por lo tanto, uno de los principales problemas a trabajar en este momento es el cómo hacer que el cliente tenga una mejor satisfacción y así que esta empresa pueda lograr sus objetivos."
   ]
  }
 ],
 "metadata": {
  "kernelspec": {
   "display_name": "Python 3 (ipykernel)",
   "language": "python",
   "name": "python3"
  },
  "language_info": {
   "codemirror_mode": {
    "name": "ipython",
    "version": 3
   },
   "file_extension": ".py",
   "mimetype": "text/x-python",
   "name": "python",
   "nbconvert_exporter": "python",
   "pygments_lexer": "ipython3",
   "version": "3.12.2"
  }
 },
 "nbformat": 4,
 "nbformat_minor": 5
}
