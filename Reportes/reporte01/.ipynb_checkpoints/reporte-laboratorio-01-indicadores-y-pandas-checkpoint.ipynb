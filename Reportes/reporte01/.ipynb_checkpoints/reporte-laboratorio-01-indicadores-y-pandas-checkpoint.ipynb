{
 "cells": [
  {
   "cell_type": "markdown",
   "id": "9288b2c2",
   "metadata": {},
   "source": [
    "# Reporte de laboratorio 1"
   ]
  },
  {
   "cell_type": "markdown",
   "id": "7904e6d9",
   "metadata": {},
   "source": [
    "## Actividad 1: Definir el KPI mas importante de la empresa \"Café del Centro\".\n",
    "\n",
    "\"Café del Centro\" es una cadena de cafeterías ubicada en el centro de una ciudad grande, con cinco sucursales. En los últimos años, la empresa ha experimentado un crecimiento constante en ingresos, pero también ha visto un aumento en la competencia local. La pandemia del COVID-19 obligó a la empresa a cerrar temporalmente sus locales y a centrarse más en las ventas en línea y entregas a domicilio. Con la reanudación de las operaciones normales, la gerencia quiere asegurarse de que los próximos seis meses mejoren la satisfacción del cliente para consolidar la lealtad de los clientes y captar una mayor demanda del mercado.\n",
    "\n",
    "### Objetivos Estratégicos:\n",
    "\n",
    "- Mejorar la experiencia del cliente para aumentar la satisfacción y la lealtad.\n",
    "- Incrementar las ventas en línea y las entregas a domicilio en un 30%.\n",
    "\n",
    "### Datos Disponibles:\n",
    "\n",
    "- Ventas diarias por sucursal.\n",
    "- Costos operativos mensuales.\n",
    "- Calificaciones de satisfacción del cliente por sucursal.\n",
    "- Datos de tráfico web y conversiones de ventas en línea.\n",
    "- Tiempos de entrega y tasas de error en los pedidos.\n",
    "\n",
    "### Actividad:\n",
    "En grupos de 2, discutan y seleccionen un indicador clave de rendimiento (KPI) que consideren más crítico para \"Café del Centro\" monitorear en los próximos seis meses. Justifiquen su elección basándose en los objetivos estratégicos y los datos disponibles. Cada integrante tendrá que subir su propio archivo de reporte.\n",
    "\n",
    "### Indicadores a Considerar:\n",
    "\n",
    "- Tasa de Retención de Clientes: Mide la proporción de clientes recurrentes que siguen comprando en \"Café del centro\".\n",
    "- Costo Operativo por Transacción: Calcula el costo operativo dividido por el número total de transacciones.\n",
    "- Índice de Satisfacción del Cliente (CSI): Basado en encuestas de satisfacción post-venta.\n",
    "- Porcentaje de Incremento en Ventas en Línea: Mide el crecimiento de las ventas realizadas a través del canal en línea.\n",
    "- Tiempo Medio de Entrega: Tiempo promedio que tardan los pedidos en llegar a los clientes.\n",
    "\n",
    "### Instrucciones:\n",
    "\n",
    "1. Analicen cómo cada KPI puede ayudar a \"Café del Centro\" a alcanzar sus objetivos estratégicos.\n",
    "2. Consideren los desafíos y beneficios de monitorear y mejorar cada indicador.\n",
    "3. Seleccione un KPI y desarrollen una argumentación sólida para apoyar su elección, considerando cómo este KPI afectará las decisiones operativas y estratégicas."
   ]
  },
  {
   "cell_type": "markdown",
   "id": "1a0f125c",
   "metadata": {},
   "source": [
    "### Pongan su respuesta aquí"
   ]
  },
  {
   "cell_type": "markdown",
   "id": "52f9bbf7-8030-4a9e-adb1-a781204920a8",
   "metadata": {},
   "source": [
    "#### Tasa de retención de clientes\n",
    "- Pro: cuantificar los clientes recurrentes\n",
    "- Contra: no sabes que tipo de cliente es\n",
    "\n",
    "#### Costo Operativo por Transacción\n",
    "- Pro: estimas cuanto te cuesta en promedio venderle a un cliente\n",
    "- Contra: no toma en cuenta si vuelve o le gustó\n",
    "  \n",
    "#### CSI ***(ESCOGEMOS ESE)***\n",
    "- Pro: Mide que tan bueno es tu producto y si le gustó al cliente\n",
    "- Contra: No sabes realmente cuanto vendes\n",
    "\n",
    "#### Porcentaje de Incremento en Ventas en Línea\n",
    "- Pro: Saber si estas creciendo el 30% buscado.\n",
    "- Contra: No sabes si tendrás clientes recurrentes.\n",
    "\n",
    "#### Tiempo Medio de Entrega\n",
    "- Pro: Puede cuantificar la satisfacción\n",
    "- Contra: No sabes si el producto es bueno y si estas vendiendo"
   ]
  },
  {
   "cell_type": "markdown",
   "id": "bb39c875",
   "metadata": {},
   "source": [
    "## Actividad 2: Pandas.\n",
    "\n",
    "### Descripción de los datos\n",
    "\n",
    "En los siguientes ejercicios usarás los datos del archivo \"tips.csv\", que contiene información de propinas.\n",
    "\n",
    "Variables en las columnas:\n",
    "\n",
    "* **total_bill**: **monto de la cuenta (dólares)**\n",
    "* **tip**: **monto de la propina (dólares)**\n",
    "* **sex**: **\\[Female, Male\\], género de quien paga la cuenta**\n",
    "* **smoker**: **\\[No, Yes\\], si el grupo incluye o no fumadores**\n",
    "* **day**: **\\['Sun', 'Sat', 'Thur', 'Fri'\\], día de la semana**\n",
    "* **time**: **\\[Dinner, Lunch\\], momento aproximado del día**\n",
    "* **size**: **número de personas en el grupo**"
   ]
  },
  {
   "cell_type": "code",
   "execution_count": null,
   "id": "00fbe791",
   "metadata": {},
   "outputs": [],
   "source": [
    "# Importar pandas\n"
   ]
  },
  {
   "cell_type": "markdown",
   "id": "46cc17e8",
   "metadata": {},
   "source": [
    "Importar los datos guardados en el archivo \"tips.csv\" como un DataFrame de pandas, cuyo nombre sea `tips_data`.\n",
    "\n",
    "Luego utilizar el método `head()` de DataFrames para ver las primeras 5 filas de los datos."
   ]
  },
  {
   "cell_type": "code",
   "execution_count": null,
   "id": "d48a0e75",
   "metadata": {},
   "outputs": [],
   "source": [
    "# Importar los datos\n",
    "tips_data = \n",
    "# Utilizar el método head() para ver las primeras 5 filas de los datos\n",
    "tips_data.head()"
   ]
  },
  {
   "cell_type": "markdown",
   "id": "17c53704",
   "metadata": {},
   "source": [
    "¿Cuántas filas y columnas tiene tu DataFrame? (atributo `shape`)"
   ]
  },
  {
   "cell_type": "code",
   "execution_count": null,
   "id": "8a5644dd",
   "metadata": {},
   "outputs": [],
   "source": [
    "tips_data.shape"
   ]
  },
  {
   "cell_type": "markdown",
   "id": "585b733c",
   "metadata": {},
   "source": [
    "### Análisis exploratorio de datos\n",
    "\n",
    "Esta parte ya está resuelta, solo corre las celdas para ver los resultados."
   ]
  },
  {
   "cell_type": "code",
   "execution_count": null,
   "id": "b4b8365a",
   "metadata": {},
   "outputs": [],
   "source": [
    "def print_min_max(column):\n",
    "    print(\"The min value for the column \\\"\" + column + \"\\\" is:\",  tips_data[column].min())\n",
    "    print(\"The max value for the column \\\"\" + column + \"\\\" is:\",  tips_data[column].max())"
   ]
  },
  {
   "cell_type": "code",
   "execution_count": null,
   "id": "0f130a41",
   "metadata": {},
   "outputs": [],
   "source": [
    "print_min_max(\"tip\")\n",
    "print()\n",
    "print_min_max(\"total_bill\")\n",
    "print()\n",
    "print_min_max(\"size\")"
   ]
  },
  {
   "cell_type": "markdown",
   "id": "24970089",
   "metadata": {},
   "source": [
    "### Filtrado de datos\n",
    "\n",
    "Ya vieron para que sirve el método `head()`: para imprimir solo las primeras 5 filas de su resultado. Es decir, sirve para no desplegar DataFrames muy largos. Asegúrese de utilizar este método si no quiere que se impriman DataFrames largos."
   ]
  },
  {
   "cell_type": "markdown",
   "id": "3cce82ee",
   "metadata": {},
   "source": [
    "#### 1\n",
    "\n",
    "Obtener todos los registros en los cuales **la propina es igual a 10**."
   ]
  },
  {
   "cell_type": "code",
   "execution_count": null,
   "id": "3f73b7ef",
   "metadata": {},
   "outputs": [],
   "source": [
    "# Solución aquí\n"
   ]
  },
  {
   "cell_type": "markdown",
   "id": "e65b23f7",
   "metadata": {},
   "source": [
    "#### 2\n",
    "\n",
    "Obtener todos los registros donde **el número de personas (size) es igual a 5 o 6**. "
   ]
  },
  {
   "cell_type": "code",
   "execution_count": null,
   "id": "b326f93a",
   "metadata": {},
   "outputs": [],
   "source": [
    "# Solución aquí\n"
   ]
  },
  {
   "cell_type": "markdown",
   "id": "ad132e97",
   "metadata": {},
   "source": [
    "#### 3\n",
    "\n",
    "Obtener todos los registros donde **el grupo contenga fumadores**."
   ]
  },
  {
   "cell_type": "code",
   "execution_count": null,
   "id": "ef10a4f7",
   "metadata": {},
   "outputs": [],
   "source": [
    "# Solución aquí\n"
   ]
  },
  {
   "cell_type": "markdown",
   "id": "b6335031",
   "metadata": {},
   "source": [
    "#### 4\n",
    "\n",
    "Obtener todos los registros donde **el grupo no contenga fumadores**."
   ]
  },
  {
   "cell_type": "code",
   "execution_count": null,
   "id": "986121dc",
   "metadata": {},
   "outputs": [],
   "source": [
    "# Solución aquí\n"
   ]
  },
  {
   "cell_type": "markdown",
   "id": "93ea9ce1",
   "metadata": {},
   "source": [
    "#### 5\n",
    "\n",
    "Obtener todos los registros donde **la propina sea igual a 5, 7 o 10**"
   ]
  },
  {
   "cell_type": "code",
   "execution_count": null,
   "id": "2dc4a146",
   "metadata": {},
   "outputs": [],
   "source": [
    "# Solución aquí\n"
   ]
  },
  {
   "cell_type": "markdown",
   "id": "91a4580d",
   "metadata": {},
   "source": [
    "#### 6\n",
    "\n",
    "Obtenga todos los registros donde **el día sea Sábado o Domingo**."
   ]
  },
  {
   "cell_type": "code",
   "execution_count": null,
   "id": "41c6cfff",
   "metadata": {},
   "outputs": [],
   "source": [
    "# Solución aquí\n"
   ]
  },
  {
   "cell_type": "markdown",
   "id": "6a405a08",
   "metadata": {},
   "source": [
    "#### 7\n",
    "\n",
    "Obtenga todos los registros donde **el número de personas sea mayor a 4** y **quien pague la cuenta sea una mujer**."
   ]
  },
  {
   "cell_type": "code",
   "execution_count": null,
   "id": "997a2d99",
   "metadata": {},
   "outputs": [],
   "source": [
    "# Solución aquí\n"
   ]
  },
  {
   "cell_type": "markdown",
   "id": "6704795d",
   "metadata": {},
   "source": [
    "#### 8\n",
    "\n",
    "Obtenga todos los registros donde **la cuenta total sea mayor a 40** y **la propina sea mayor que 5**"
   ]
  },
  {
   "cell_type": "code",
   "execution_count": null,
   "id": "a6b8e30b",
   "metadata": {},
   "outputs": [],
   "source": [
    "# Solución aquí\n"
   ]
  },
  {
   "cell_type": "markdown",
   "id": "9032328a",
   "metadata": {},
   "source": [
    "#### 9\n",
    "\n",
    "Obtener todos los registros donde el **número de personas sea mayor que 4** o **el momento de asistencia sea una cena**"
   ]
  },
  {
   "cell_type": "code",
   "execution_count": null,
   "id": "3466c30e",
   "metadata": {},
   "outputs": [],
   "source": [
    "# Solución aquí\n"
   ]
  },
  {
   "cell_type": "markdown",
   "id": "be90bded",
   "metadata": {},
   "source": [
    "#### 10\n",
    "\n",
    "Obtener todos los registros donde **no hayan fumadores**, la **cuenta total sea mayor a 30**, y **el día sea jueves o viernes**."
   ]
  },
  {
   "cell_type": "code",
   "execution_count": null,
   "id": "eaa11afd",
   "metadata": {},
   "outputs": [],
   "source": [
    "# Solución aquí\n"
   ]
  },
  {
   "cell_type": "markdown",
   "id": "f9dc1a89",
   "metadata": {},
   "source": [
    "#### 11\n",
    "\n",
    "Obtener todos los registros donde **el día sea viernes o sábado**, el **momento de asistencia sea para la comida**, y el **número de personas sea menor a 4**."
   ]
  },
  {
   "cell_type": "code",
   "execution_count": null,
   "id": "0cc8a0d3",
   "metadata": {},
   "outputs": [],
   "source": [
    "# Solución aquí\n"
   ]
  },
  {
   "cell_type": "markdown",
   "id": "ba7ed85b",
   "metadata": {},
   "source": [
    "#### 12\n",
    "\n",
    "Obtener todos los registros donde\n",
    "\n",
    "el **día sea viernes**, el **número de personas sea menor a 3**, y **quien pague la cuenta sea una mujer**\n",
    "\n",
    "o\n",
    "\n",
    "el **día sea domingo**, el **número de personas sea mayor a 4**, y **quien pague la cuenta sea un hombre**."
   ]
  },
  {
   "cell_type": "code",
   "execution_count": null,
   "id": "f59df0ee",
   "metadata": {},
   "outputs": [],
   "source": [
    "# Solución aquí\n"
   ]
  }
 ],
 "metadata": {
  "kernelspec": {
   "display_name": "Python 3 (ipykernel)",
   "language": "python",
   "name": "python3"
  },
  "language_info": {
   "codemirror_mode": {
    "name": "ipython",
    "version": 3
   },
   "file_extension": ".py",
   "mimetype": "text/x-python",
   "name": "python",
   "nbconvert_exporter": "python",
   "pygments_lexer": "ipython3",
   "version": "3.11.7"
  }
 },
 "nbformat": 4,
 "nbformat_minor": 5
}
