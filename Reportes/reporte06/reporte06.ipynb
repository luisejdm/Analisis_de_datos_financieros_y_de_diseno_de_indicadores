{
 "cells": [
  {
   "cell_type": "markdown",
   "id": "d565a42c",
   "metadata": {},
   "source": [
    "# Reporte 06\n",
    "- Luis Jiménez\n",
    "- José Melchor\n",
    "- Lenin Quezada\n",
    "- Édgar Ramos\n",
    "---"
   ]
  },
  {
   "cell_type": "markdown",
   "id": "f86c0192",
   "metadata": {},
   "source": [
    "### Actividad de la Sesión\n",
    "\n",
    "1. **Discusión en clase**: Analizaremos ejemplos de pruebas A/B reales y discutiremos cómo aplicar esta metodología en diferentes áreas de negocio, como marketing, cambios en ambiente productivo, diseño de productos y fijación de precios.\n",
    "2. **Trabajo en equipo**: Diseñen una prueba A/B para evaluar una hipótesis de cambio de precio.\n",
    "\n",
    "#### Trabajo de equipo\n",
    "CompuTech, una empresa de servicios de consulta de AI a través de API, está evaluando cambiar el precio de uno de sus servicios más populares. Tienen como objetivo incrementar 20 USD el ingreso promedio por usuario.\n",
    "\n",
    "\n",
    "El servicio tiene actualmente un precio de 1 USD por consulta, y la empresa está considerando aumentar el precio a 1.25 USD. Antes de implementar este cambio, desean evaluar cómo este aumento afectará su KPI ventas por usuario. Se llevará a cabo una prueba A/B para respaldar esta decisión.\n",
    "\n",
    "##### Objetivo del Caso\n",
    "El objetivo de la prueba es determinar si el cambio de precio tiene un impacto significativo en los siguientes KPIs:\n",
    "\n",
    "Ingreso promedio por usuario: Ingreso promedio por usuario. Desean que por lo menos aumente un 20 USD.\n",
    "\n",
    "Tasa de Conversión: Proporción de usuarios que completan la suscripción.\n",
    "\n",
    "\n",
    "##### Hipótesis\n",
    "- Hipótesis Nula ($H_0$): El aumento de precio a 1.25 USD no tiene un impacto significativo en la tasa de conversión ni en el ingreso promedio por usuario.\n",
    "- Hipótesis Alternativa ($H_1$): El aumento de precio a 1.25 USD tiene un impacto significativo en la tasa de conversión y el ingreso promedio por usuario.\n"
   ]
  },
  {
   "cell_type": "code",
   "execution_count": 1,
   "id": "2a505510-8eb8-444f-a86e-40f310d57d0c",
   "metadata": {},
   "outputs": [],
   "source": [
    "import pandas as pd\n",
    "import statsmodels.api as sm\n",
    "import scipy.stats as stats\n",
    "import numpy as np"
   ]
  },
  {
   "cell_type": "markdown",
   "id": "fddab69f-65ca-4889-acdc-75cc92c77cd6",
   "metadata": {},
   "source": [
    "**Prueba de hipótesis de tasa conversión:**\n",
    "- $H_0: \\Delta TC \\leq 0$\n",
    "- $H_i: \\Delta TC > 0$\n",
    "\n",
    "**Prueba de hipótesis de tasa ARPU:**\n",
    "- $H_0: \\Delta TC \\leq 20$\n",
    "- $H_i: \\Delta TC > 20$"
   ]
  },
  {
   "cell_type": "markdown",
   "id": "22ec1e08",
   "metadata": {},
   "source": [
    "### Importar Datos"
   ]
  },
  {
   "cell_type": "code",
   "execution_count": 2,
   "id": "766cb05b-4c23-41af-9784-3aa4e2923d0e",
   "metadata": {},
   "outputs": [],
   "source": [
    "conversion_A = pd.read_csv('group_A_conversion.csv')\n",
    "conversion_B = pd.read_csv('group_B_conversion.csv')\n",
    "revenue_A = pd.read_csv('group_A_revenue.csv')\n",
    "revenue_B = pd.read_csv('group_B_revenue.csv')\n",
    "historical_arpu = pd.read_csv('historical_arpu.csv')"
   ]
  },
  {
   "cell_type": "code",
   "execution_count": 3,
   "id": "e1c87110-c46f-480e-8899-7ea5d7fbd763",
   "metadata": {},
   "outputs": [
    {
     "data": {
      "text/plain": [
       "(800, 200, 1000, 1000)"
      ]
     },
     "execution_count": 3,
     "metadata": {},
     "output_type": "execute_result"
    }
   ],
   "source": [
    "len(revenue_A), len(revenue_B), len(conversion_A), len(conversion_B)"
   ]
  },
  {
   "cell_type": "code",
   "execution_count": 4,
   "id": "8c1ab2ac-c028-4dce-9c4b-05c252e02c7b",
   "metadata": {},
   "outputs": [
    {
     "data": {
      "text/plain": [
       "(0.043, 0.04)"
      ]
     },
     "execution_count": 4,
     "metadata": {},
     "output_type": "execute_result"
    }
   ],
   "source": [
    "conversion_A['Converted'].mean(), conversion_B['Converted'].mean()"
   ]
  },
  {
   "cell_type": "markdown",
   "id": "12658925",
   "metadata": {},
   "source": [
    "### Tamaños de Muestra"
   ]
  },
  {
   "cell_type": "code",
   "execution_count": 14,
   "id": "a202119d-5cf7-4c19-bcbd-1a45444d959f",
   "metadata": {
    "tags": []
   },
   "outputs": [
    {
     "name": "stdout",
     "output_type": "stream",
     "text": [
      "n óptimo para tasa de conversión: 71694.18666666684\n"
     ]
    }
   ],
   "source": [
    "n_tc = (2*((1.96+0.84)**2)*0.043*(1-0.043))/(0.043-0.04)**2\n",
    "print('n óptimo para tasa de conversión:', n_tc)"
   ]
  },
  {
   "cell_type": "code",
   "execution_count": 15,
   "id": "9ad125d9-f210-4100-b963-92e743aaef85",
   "metadata": {},
   "outputs": [
    {
     "name": "stdout",
     "output_type": "stream",
     "text": [
      "n óptimo para ARPU: 8.457179188620609\n"
     ]
    }
   ],
   "source": [
    "var_arpu = (historical_arpu['ARPU'].std())**2\n",
    "n_arpu = (2*((1.96+0.84)**2)*var_arpu)/(20)**2\n",
    "print('n óptimo para ARPU:', n_arpu)"
   ]
  },
  {
   "cell_type": "markdown",
   "id": "b43fd0aa",
   "metadata": {},
   "source": [
    "### Pruebas Estadísticas"
   ]
  },
  {
   "cell_type": "code",
   "execution_count": 16,
   "id": "30389e4e-170e-4e0b-8c28-759b7e810564",
   "metadata": {},
   "outputs": [
    {
     "name": "stdout",
     "output_type": "stream",
     "text": [
      "Mean LTV of Group A: 100.06\n",
      "Mean LTV of Group B: 120.75\n",
      "Objective Difference: 20\n",
      "T-statistic: 0.4893\n",
      "P-value: 0.3126\n"
     ]
    }
   ],
   "source": [
    "# Experimento controlado, distinto número de observaciones\n",
    "arpu_A = revenue_A['ARPU']\n",
    "arpu_B = revenue_B['ARPU']\n",
    "\n",
    "# Objectivo: tener diferencia de 20 dolares en el ARPU\n",
    "objective_difference = 20\n",
    "\n",
    "# Promedio y desviación estandar por grupo\n",
    "mean_a = np.mean(arpu_A)\n",
    "mean_b = np.mean(arpu_B)\n",
    "\n",
    "std_a = np.std(arpu_A, ddof=1)\n",
    "std_b = np.std(arpu_B, ddof=1)\n",
    "\n",
    "n_a = len(arpu_A)\n",
    "n_b = len(arpu_B)\n",
    "\n",
    "pooled_std = np.sqrt(((std_a**2 / n_a) + (std_b**2 / n_b)))\n",
    "t_stat = (mean_b - mean_a - objective_difference) / pooled_std\n",
    "p_value = 1 - stats.t.cdf(t_stat, df=min(n_a, n_b) - 1)\n",
    "\n",
    "# Output the results\n",
    "print(f\"Mean LTV of Group A: {mean_a:.2f}\")\n",
    "print(f\"Mean LTV of Group B: {mean_b:.2f}\")\n",
    "print(f\"Objective Difference: {objective_difference}\")\n",
    "print(f\"T-statistic: {t_stat:.4f}\")\n",
    "print(f\"P-value: {p_value:.4f}\")"
   ]
  },
  {
   "cell_type": "code",
   "execution_count": 17,
   "id": "5a843a4e-b721-42c6-b565-305afab3ec42",
   "metadata": {},
   "outputs": [
    {
     "name": "stdout",
     "output_type": "stream",
     "text": [
      "Mean LTV of Group A: 100.06\n",
      "Mean LTV of Group B: 120.75\n",
      "Objective Difference: 18.35\n",
      "T-statistic: 1.6539\n",
      "P-value: 0.0499\n"
     ]
    }
   ],
   "source": [
    "# Experimento controlado, distinto número de observaciones\n",
    "arpu_A = revenue_A['ARPU']\n",
    "arpu_B = revenue_B['ARPU']\n",
    "\n",
    "# Objectivo: tener diferencia de 18.35 dolares en el ARPU\n",
    "objective_difference = 18.35\n",
    "\n",
    "# Promedio y desviación estandar por grupo\n",
    "mean_a = np.mean(arpu_A)\n",
    "mean_b = np.mean(arpu_B)  \n",
    "std_a = np.std(arpu_A, ddof=1)\n",
    "std_b = np.std(arpu_B, ddof=1)\n",
    "\n",
    "n_a = len(arpu_A)\n",
    "n_b = len(arpu_B)\n",
    "\n",
    "pooled_std = np.sqrt(((std_a**2 / n_a) + (std_b**2 / n_b)))\n",
    "t_stat = (mean_b - mean_a - objective_difference) / pooled_std\n",
    "p_value = 1 - stats.t.cdf(t_stat, df=min(n_a, n_b) - 1)\n",
    "\n",
    "# Output the results\n",
    "print(f\"Mean LTV of Group A: {mean_a:.2f}\")\n",
    "print(f\"Mean LTV of Group B: {mean_b:.2f}\")\n",
    "print(f\"Objective Difference: {objective_difference}\")\n",
    "print(f\"T-statistic: {t_stat:.4f}\")\n",
    "print(f\"P-value: {p_value:.4f}\")"
   ]
  },
  {
   "cell_type": "code",
   "execution_count": 18,
   "id": "79305386-f6ce-4059-9419-8d7d55f3a18d",
   "metadata": {},
   "outputs": [
    {
     "name": "stdout",
     "output_type": "stream",
     "text": [
      "Z-statistic: 0.33634590917760526, P-value: 0.7366100338880623\n"
     ]
    }
   ],
   "source": [
    "conversions_a = conversion_A['Converted'].sum()\n",
    "total_a = len(conversion_A['Converted'])\n",
    "conversions_b = conversion_B['Converted'].sum()\n",
    "total_b = len(conversion_B['Converted'])\n",
    "\n",
    "# Calcular conversion rate\n",
    "rate_a = conversions_a / total_a\n",
    "rate_b = conversions_b / total_b\n",
    "\n",
    "# Hacer un z-test de proporciones\n",
    "count = np.array([conversions_a, conversions_b])\n",
    "nobs = np.array([total_a, total_b])\n",
    "z_stat, p_value = sm.stats.proportions_ztest(count, nobs)\n",
    "\n",
    "print(f\"Z-statistic: {z_stat}, P-value: {p_value}\")"
   ]
  },
  {
   "cell_type": "markdown",
   "id": "ec2fe580",
   "metadata": {},
   "source": [
    "### Conclusiones"
   ]
  },
  {
   "cell_type": "markdown",
   "id": "7bb6b02b",
   "metadata": {},
   "source": [
    "- No se puede aceptar que el incrementar 1.25 USD el precio se obtenga una diferencia de 20 USD en el ARPU dado que el p-value es de 0. 3126.\n",
    "- Sin embargo, se puede aceptar que el incrementar 1.25 USD obtenga una diferencia de 18.35 USD en el ARPU dado que el p-value es de 0.0499.\n",
    "- Tambien, no podemos aceptar que la tasa de conversión se mantendrá igual a 0 dado que el p-value es de 0.7366. Aunque hay un 73% de probabilidades de que suceda, tambien hay altas posibilidades de que incremente."
   ]
  }
 ],
 "metadata": {
  "kernelspec": {
   "display_name": "Python 3",
   "language": "python",
   "name": "python3"
  },
  "language_info": {
   "codemirror_mode": {
    "name": "ipython",
    "version": 3
   },
   "file_extension": ".py",
   "mimetype": "text/x-python",
   "name": "python",
   "nbconvert_exporter": "python",
   "pygments_lexer": "ipython3",
   "version": "3.11.3"
  }
 },
 "nbformat": 4,
 "nbformat_minor": 5
}
