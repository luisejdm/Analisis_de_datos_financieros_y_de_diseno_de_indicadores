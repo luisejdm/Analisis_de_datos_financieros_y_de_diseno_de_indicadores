{
 "cells": [
  {
   "cell_type": "code",
   "execution_count": 1,
   "id": "f59971e5-ebd7-43d2-a56a-ab1711ee8b21",
   "metadata": {},
   "outputs": [],
   "source": [
    "import pandas as pd\n",
    "import numpy as np\n",
    "import yfinance as yf\n",
    "from semopy import Model, Optimizer\n",
    "import matplotlib.pyplot as plt\n",
    "from semopy import Model, Optimizer, semplot"
   ]
  },
  {
   "cell_type": "code",
   "execution_count": 2,
   "id": "9b010555-e7ba-46ac-8eb4-c5aeb6fb66b7",
   "metadata": {},
   "outputs": [],
   "source": [
    "def get_adj_close(tickets, start=None, end=None):\n",
    "    return yf.download(tickets, start=start, end=end)['Adj Close']"
   ]
  },
  {
   "cell_type": "code",
   "execution_count": 3,
   "id": "ffc4ea40-4c94-4998-9792-c37e3e7c5ce1",
   "metadata": {},
   "outputs": [
    {
     "name": "stderr",
     "output_type": "stream",
     "text": [
      "[*********************100%%**********************]  12 of 12 completed\n"
     ]
    },
    {
     "data": {
      "text/html": [
       "<div>\n",
       "<style scoped>\n",
       "    .dataframe tbody tr th:only-of-type {\n",
       "        vertical-align: middle;\n",
       "    }\n",
       "\n",
       "    .dataframe tbody tr th {\n",
       "        vertical-align: top;\n",
       "    }\n",
       "\n",
       "    .dataframe thead th {\n",
       "        text-align: right;\n",
       "    }\n",
       "</style>\n",
       "<table border=\"1\" class=\"dataframe\">\n",
       "  <thead>\n",
       "    <tr style=\"text-align: right;\">\n",
       "      <th>Ticker</th>\n",
       "      <th>BIMBOA.MX</th>\n",
       "      <th>BN.PA</th>\n",
       "      <th>CAG</th>\n",
       "      <th>HERDEZ.MX</th>\n",
       "      <th>HLF</th>\n",
       "      <th>KHC</th>\n",
       "      <th>KOF</th>\n",
       "      <th>MDLZ</th>\n",
       "      <th>MKC</th>\n",
       "      <th>NESN.SW</th>\n",
       "      <th>PEP</th>\n",
       "      <th>ULVR.L</th>\n",
       "    </tr>\n",
       "    <tr>\n",
       "      <th>Date</th>\n",
       "      <th></th>\n",
       "      <th></th>\n",
       "      <th></th>\n",
       "      <th></th>\n",
       "      <th></th>\n",
       "      <th></th>\n",
       "      <th></th>\n",
       "      <th></th>\n",
       "      <th></th>\n",
       "      <th></th>\n",
       "      <th></th>\n",
       "      <th></th>\n",
       "    </tr>\n",
       "  </thead>\n",
       "  <tbody>\n",
       "    <tr>\n",
       "      <th>2018-01-04</th>\n",
       "      <td>0.006221</td>\n",
       "      <td>0.014835</td>\n",
       "      <td>0.016341</td>\n",
       "      <td>-0.006970</td>\n",
       "      <td>0.009734</td>\n",
       "      <td>0.011686</td>\n",
       "      <td>0.003143</td>\n",
       "      <td>0.002348</td>\n",
       "      <td>0.006307</td>\n",
       "      <td>-0.000959</td>\n",
       "      <td>0.004926</td>\n",
       "      <td>0.003080</td>\n",
       "    </tr>\n",
       "    <tr>\n",
       "      <th>2018-01-05</th>\n",
       "      <td>-0.002977</td>\n",
       "      <td>0.018308</td>\n",
       "      <td>0.003163</td>\n",
       "      <td>0.023909</td>\n",
       "      <td>0.011079</td>\n",
       "      <td>-0.000899</td>\n",
       "      <td>0.008829</td>\n",
       "      <td>0.012887</td>\n",
       "      <td>0.009793</td>\n",
       "      <td>0.005282</td>\n",
       "      <td>0.002874</td>\n",
       "      <td>0.005281</td>\n",
       "    </tr>\n",
       "    <tr>\n",
       "      <th>2018-01-08</th>\n",
       "      <td>-0.000689</td>\n",
       "      <td>-0.006690</td>\n",
       "      <td>-0.014189</td>\n",
       "      <td>0.000000</td>\n",
       "      <td>-0.007400</td>\n",
       "      <td>0.008222</td>\n",
       "      <td>0.010023</td>\n",
       "      <td>-0.005089</td>\n",
       "      <td>0.001067</td>\n",
       "      <td>-0.001194</td>\n",
       "      <td>-0.005730</td>\n",
       "      <td>-0.000244</td>\n",
       "    </tr>\n",
       "    <tr>\n",
       "      <th>2018-01-09</th>\n",
       "      <td>0.002758</td>\n",
       "      <td>-0.001403</td>\n",
       "      <td>-0.003464</td>\n",
       "      <td>-0.009426</td>\n",
       "      <td>0.007455</td>\n",
       "      <td>0.001784</td>\n",
       "      <td>-0.009224</td>\n",
       "      <td>-0.000465</td>\n",
       "      <td>-0.000969</td>\n",
       "      <td>0.009087</td>\n",
       "      <td>0.000763</td>\n",
       "      <td>-0.001833</td>\n",
       "    </tr>\n",
       "    <tr>\n",
       "      <th>2018-01-10</th>\n",
       "      <td>-0.012835</td>\n",
       "      <td>-0.029928</td>\n",
       "      <td>-0.014977</td>\n",
       "      <td>-0.024222</td>\n",
       "      <td>-0.019496</td>\n",
       "      <td>-0.009285</td>\n",
       "      <td>-0.016787</td>\n",
       "      <td>-0.008374</td>\n",
       "      <td>-0.014934</td>\n",
       "      <td>-0.014218</td>\n",
       "      <td>-0.005081</td>\n",
       "      <td>-0.019221</td>\n",
       "    </tr>\n",
       "  </tbody>\n",
       "</table>\n",
       "</div>"
      ],
      "text/plain": [
       "Ticker      BIMBOA.MX     BN.PA       CAG  HERDEZ.MX       HLF       KHC  \\\n",
       "Date                                                                       \n",
       "2018-01-04   0.006221  0.014835  0.016341  -0.006970  0.009734  0.011686   \n",
       "2018-01-05  -0.002977  0.018308  0.003163   0.023909  0.011079 -0.000899   \n",
       "2018-01-08  -0.000689 -0.006690 -0.014189   0.000000 -0.007400  0.008222   \n",
       "2018-01-09   0.002758 -0.001403 -0.003464  -0.009426  0.007455  0.001784   \n",
       "2018-01-10  -0.012835 -0.029928 -0.014977  -0.024222 -0.019496 -0.009285   \n",
       "\n",
       "Ticker           KOF      MDLZ       MKC   NESN.SW       PEP    ULVR.L  \n",
       "Date                                                                    \n",
       "2018-01-04  0.003143  0.002348  0.006307 -0.000959  0.004926  0.003080  \n",
       "2018-01-05  0.008829  0.012887  0.009793  0.005282  0.002874  0.005281  \n",
       "2018-01-08  0.010023 -0.005089  0.001067 -0.001194 -0.005730 -0.000244  \n",
       "2018-01-09 -0.009224 -0.000465 -0.000969  0.009087  0.000763 -0.001833  \n",
       "2018-01-10 -0.016787 -0.008374 -0.014934 -0.014218 -0.005081 -0.019221  "
      ]
     },
     "execution_count": 3,
     "metadata": {},
     "output_type": "execute_result"
    }
   ],
   "source": [
    "tickers = ['BIMBOA.MX', 'KHC', 'NESN.SW', 'PEP', 'KOF', 'MKC', 'HERDEZ.MX', 'BN.PA', 'ULVR.L', 'HLF', 'CAG', 'MDLZ']\n",
    "closes = get_adj_close(tickers, start='2018-01-01', end='2024-01-01')\n",
    "rend = closes.pct_change()\n",
    "rend = rend.dropna()\n",
    "rend.head()"
   ]
  },
  {
   "cell_type": "code",
   "execution_count": 4,
   "id": "5da79e89-72f3-4cee-8b46-3a4cd278dd85",
   "metadata": {},
   "outputs": [],
   "source": [
    "model_desc = f\"\"\"\n",
    "# Latent Variables\n",
    "Mood =~ {tickers[0]} + {tickers[1]} + {tickers[2]} + {tickers[3]} + {tickers[4]} + {tickers[5]} + {tickers[6]} + {tickers[7]} + {tickers[8]} + {tickers[9]} + {tickers[10]} + {tickers[11]}\n",
    "\"\"\""
   ]
  },
  {
   "cell_type": "code",
   "execution_count": 5,
   "id": "17c6ac5f-fd79-48e8-a506-7aa54b15e3da",
   "metadata": {},
   "outputs": [
    {
     "name": "stdout",
     "output_type": "stream",
     "text": [
      "         lval  op       rval      Estimate      Std. Err    z-value   p-value\n",
      "0   BIMBOA.MX   ~       Mood  1.000000e+00             -          -         -\n",
      "1         KHC   ~       Mood  1.054822e-01  33116.675655   0.000003  0.999997\n",
      "2     NESN.SW   ~       Mood  8.697261e-02  78612.706711   0.000001  0.999999\n",
      "3         PEP   ~       Mood  1.197560e-01  50575.167131   0.000002  0.999998\n",
      "4         KOF   ~       Mood  2.654509e-01  22887.411058   0.000012  0.999991\n",
      "5         MKC   ~       Mood  1.075960e-01  45732.648477   0.000002  0.999998\n",
      "6   HERDEZ.MX   ~       Mood  2.006655e-01  13611.285021   0.000015  0.999988\n",
      "7       BN.PA   ~       Mood  9.109254e-02    62314.1952   0.000001  0.999999\n",
      "8      ULVR.L   ~       Mood  9.542177e-02  64045.607019   0.000001  0.999999\n",
      "9         HLF   ~       Mood  1.310801e-01   5058.483379   0.000026  0.999979\n",
      "10        CAG   ~       Mood  8.027511e-02  43488.525552   0.000002  0.999999\n",
      "11       MDLZ   ~       Mood  1.410864e-01   43029.98295   0.000003  0.999997\n",
      "12       Mood  ~~       Mood  9.584947e-08      0.009458    0.00001  0.999992\n",
      "13  BIMBOA.MX  ~~  BIMBOA.MX  3.143773e+00      0.113323  27.741692       0.0\n",
      "14      BN.PA  ~~      BN.PA  9.170054e+00        0.3294   27.83867       0.0\n",
      "15        CAG  ~~        CAG  4.458682e+00      0.160162  27.838579       0.0\n",
      "16  HERDEZ.MX  ~~  HERDEZ.MX  3.112117e-01      0.011191  27.809897       0.0\n",
      "17        HLF  ~~        HLF  7.986605e-04      0.000151   5.301361       0.0\n",
      "18        KHC  ~~        KHC  2.562127e+00      0.092037  27.838087       0.0\n",
      "19        KOF  ~~        KOF  4.881865e-04      0.000607   0.804573  0.421066\n",
      "20       MDLZ  ~~       MDLZ  4.322081e+00      0.155258  27.838042       0.0\n",
      "21        MKC  ~~        MKC  4.916616e+00      0.176613  27.838425       0.0\n",
      "22    NESN.SW  ~~    NESN.SW  1.461218e+01      0.524887  27.838735       0.0\n",
      "23        PEP  ~~        PEP  6.012379e+00      0.215974   27.83842       0.0\n",
      "24     ULVR.L  ~~     ULVR.L  9.685640e+00       0.34792  27.838664       0.0\n"
     ]
    }
   ],
   "source": [
    "mod = Model(model_desc)\n",
    "res_opt = mod.fit(rend)\n",
    "estimates = mod.inspect()\n",
    "\n",
    "# Imprimir los resultados del ajuste del modelo\n",
    "print(estimates)"
   ]
  },
  {
   "cell_type": "code",
   "execution_count": 6,
   "id": "1dc19a26-5bc7-400f-911e-d56e1c61dfce",
   "metadata": {},
   "outputs": [
    {
     "name": "stdout",
     "output_type": "stream",
     "text": [
      "Name of objective: MLW\n",
      "Optimization method: SLSQP\n",
      "Optimization successful.\n",
      "Optimization terminated successfully\n",
      "Objective value: 92.059\n",
      "Number of iterations: 27\n",
      "Params: 0.105 0.087 0.120 0.265 0.108 0.201 0.091 0.095 0.131 0.080 0.141 3.144 9.170 4.459 0.311 0.001 2.562 0.000 4.322 4.917 0.000 14.612 6.012 9.686\n"
     ]
    }
   ],
   "source": [
    "# Paso 5: Visualizar el Modelo SEM con un Diagrama de Trayectoria\n",
    "print(res_opt)"
   ]
  },
  {
   "cell_type": "code",
   "execution_count": 8,
   "id": "015c1e30-8f79-40b3-a877-f17f0e9dc184",
   "metadata": {},
   "outputs": [
    {
     "data": {
      "text/plain": [
       "[1,\n",
       " 0.10548223664052456,\n",
       " 0.08697260964858426,\n",
       " 0.11975596722136188,\n",
       " 0.26545085806012075,\n",
       " 0.10759601711505727,\n",
       " 0.20066548609220447,\n",
       " 0.0910925402659696,\n",
       " 0.09542176508944537,\n",
       " 0.13108007388622034,\n",
       " 0.08027511395157827,\n",
       " 0.14108638644571353]"
      ]
     },
     "execution_count": 8,
     "metadata": {},
     "output_type": "execute_result"
    }
   ],
   "source": [
    "mood_factors = res_opt.x[0:(len(tickers)-1)].tolist()\n",
    "mood_factors.insert(0, 1)\n",
    "mood_factors"
   ]
  },
  {
   "cell_type": "code",
   "execution_count": 9,
   "id": "31e91373-44d9-442d-be08-699da79618a6",
   "metadata": {},
   "outputs": [],
   "source": [
    "def calculate_latent_values(df, factors, var):\n",
    "    resultado = pd.DataFrame()\n",
    "    for i in range(len(factors)):\n",
    "        resultado[var[i]] =  df.iloc[:, i] * factors[i]\n",
    "    resultado['Latent Value'] = resultado.sum(axis=1)\n",
    "    resultado = resultado['Latent Value']\n",
    "    return resultado"
   ]
  },
  {
   "cell_type": "code",
   "execution_count": 10,
   "id": "be0b854b-e5e7-485b-8082-baab6b3a66a3",
   "metadata": {},
   "outputs": [
    {
     "data": {
      "text/plain": [
       "Date\n",
       "2018-01-04    0.012639\n",
       "2018-01-05    0.011623\n",
       "2018-01-08   -0.001296\n",
       "2018-01-09   -0.000286\n",
       "2018-01-10   -0.036083\n",
       "                ...   \n",
       "2023-12-22    0.009135\n",
       "2023-12-26    0.000291\n",
       "2023-12-27   -0.003248\n",
       "2023-12-28   -0.005333\n",
       "2023-12-29   -0.013226\n",
       "Name: Latent Value, Length: 1550, dtype: float64"
      ]
     },
     "execution_count": 10,
     "metadata": {},
     "output_type": "execute_result"
    }
   ],
   "source": [
    "mood = calculate_latent_values(rend[tickers], mood_factors, tickers)\n",
    "mood"
   ]
  },
  {
   "cell_type": "code",
   "execution_count": 11,
   "id": "84bac486-1f16-486f-a236-09781916bb81",
   "metadata": {},
   "outputs": [],
   "source": [
    "g = semplot(mod, 'pd.png')"
   ]
  },
  {
   "cell_type": "markdown",
   "id": "70cadcbb-6834-4f74-8276-08922231a639",
   "metadata": {},
   "source": [
    "## Gráfica"
   ]
  },
  {
   "cell_type": "markdown",
   "id": "43cbaf7c-f966-4d02-add7-7f0b04851829",
   "metadata": {},
   "source": [
    "<img src=\"pd.png\">"
   ]
  }
 ],
 "metadata": {
  "kernelspec": {
   "display_name": "Python 3 (ipykernel)",
   "language": "python",
   "name": "python3"
  },
  "language_info": {
   "codemirror_mode": {
    "name": "ipython",
    "version": 3
   },
   "file_extension": ".py",
   "mimetype": "text/x-python",
   "name": "python",
   "nbconvert_exporter": "python",
   "pygments_lexer": "ipython3",
   "version": "3.11.7"
  }
 },
 "nbformat": 4,
 "nbformat_minor": 5
}
