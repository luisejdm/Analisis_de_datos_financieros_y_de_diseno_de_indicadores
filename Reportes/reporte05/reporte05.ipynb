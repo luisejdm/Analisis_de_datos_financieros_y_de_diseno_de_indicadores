{
 "cells": [
  {
   "cell_type": "markdown",
   "id": "f9a23e81-e485-4701-be55-1b39c9c9fa8a",
   "metadata": {},
   "source": [
    "- Luis Jiménez\n",
    "- Lenin Quezada\n",
    "- José Melchor\n",
    "---"
   ]
  },
  {
   "cell_type": "markdown",
   "id": "120c0907-4cde-46b4-a7b5-41e1e11717e2",
   "metadata": {},
   "source": [
    "# Reporte de Laboratorio 5"
   ]
  },
  {
   "cell_type": "markdown",
   "id": "a292ca59-c6bf-4012-adb2-6b13e180cfd7",
   "metadata": {},
   "source": [
    "## Funciones "
   ]
  },
  {
   "cell_type": "code",
   "execution_count": 1,
   "id": "f59971e5-ebd7-43d2-a56a-ab1711ee8b21",
   "metadata": {},
   "outputs": [],
   "source": [
    "import pandas as pd\n",
    "import numpy as np\n",
    "import yfinance as yf\n",
    "from semopy import Model, Optimizer\n",
    "import matplotlib.pyplot as plt\n",
    "from semopy import Model, Optimizer, semplot"
   ]
  },
  {
   "cell_type": "markdown",
   "id": "79af0385-5312-4abc-9c90-aaffcf23876e",
   "metadata": {},
   "source": [
    "## Descargar históricos de acciones "
   ]
  },
  {
   "cell_type": "code",
   "execution_count": 2,
   "id": "9b010555-e7ba-46ac-8eb4-c5aeb6fb66b7",
   "metadata": {},
   "outputs": [],
   "source": [
    "def get_adj_close(tickets, start=None, end=None):\n",
    "    return yf.download(tickets, start=start, end=end)['Adj Close']"
   ]
  },
  {
   "cell_type": "code",
   "execution_count": 3,
   "id": "ffc4ea40-4c94-4998-9792-c37e3e7c5ce1",
   "metadata": {},
   "outputs": [
    {
     "name": "stderr",
     "output_type": "stream",
     "text": [
      "[*********************100%%**********************]  12 of 12 completed\n"
     ]
    },
    {
     "data": {
      "text/html": [
       "<div>\n",
       "<style scoped>\n",
       "    .dataframe tbody tr th:only-of-type {\n",
       "        vertical-align: middle;\n",
       "    }\n",
       "\n",
       "    .dataframe tbody tr th {\n",
       "        vertical-align: top;\n",
       "    }\n",
       "\n",
       "    .dataframe thead th {\n",
       "        text-align: right;\n",
       "    }\n",
       "</style>\n",
       "<table border=\"1\" class=\"dataframe\">\n",
       "  <thead>\n",
       "    <tr style=\"text-align: right;\">\n",
       "      <th>Ticker</th>\n",
       "      <th>BIMBOA.MX</th>\n",
       "      <th>BN.PA</th>\n",
       "      <th>CAG</th>\n",
       "      <th>HERDEZ.MX</th>\n",
       "      <th>HLF</th>\n",
       "      <th>KHC</th>\n",
       "      <th>KOF</th>\n",
       "      <th>MDLZ</th>\n",
       "      <th>MKC</th>\n",
       "      <th>NESN.SW</th>\n",
       "      <th>PEP</th>\n",
       "      <th>ULVR.L</th>\n",
       "    </tr>\n",
       "    <tr>\n",
       "      <th>Date</th>\n",
       "      <th></th>\n",
       "      <th></th>\n",
       "      <th></th>\n",
       "      <th></th>\n",
       "      <th></th>\n",
       "      <th></th>\n",
       "      <th></th>\n",
       "      <th></th>\n",
       "      <th></th>\n",
       "      <th></th>\n",
       "      <th></th>\n",
       "      <th></th>\n",
       "    </tr>\n",
       "  </thead>\n",
       "  <tbody>\n",
       "    <tr>\n",
       "      <th>2018-01-04</th>\n",
       "      <td>0.006221</td>\n",
       "      <td>0.014835</td>\n",
       "      <td>0.016341</td>\n",
       "      <td>-0.006970</td>\n",
       "      <td>0.009734</td>\n",
       "      <td>0.011687</td>\n",
       "      <td>0.003143</td>\n",
       "      <td>0.002348</td>\n",
       "      <td>0.006307</td>\n",
       "      <td>-0.000959</td>\n",
       "      <td>0.004926</td>\n",
       "      <td>0.003080</td>\n",
       "    </tr>\n",
       "    <tr>\n",
       "      <th>2018-01-05</th>\n",
       "      <td>-0.002977</td>\n",
       "      <td>0.018308</td>\n",
       "      <td>0.003163</td>\n",
       "      <td>0.023909</td>\n",
       "      <td>0.011079</td>\n",
       "      <td>-0.000899</td>\n",
       "      <td>0.008829</td>\n",
       "      <td>0.012887</td>\n",
       "      <td>0.009793</td>\n",
       "      <td>0.005282</td>\n",
       "      <td>0.002873</td>\n",
       "      <td>0.005281</td>\n",
       "    </tr>\n",
       "    <tr>\n",
       "      <th>2018-01-08</th>\n",
       "      <td>-0.000689</td>\n",
       "      <td>-0.006690</td>\n",
       "      <td>-0.014188</td>\n",
       "      <td>0.000000</td>\n",
       "      <td>-0.007400</td>\n",
       "      <td>0.008222</td>\n",
       "      <td>0.010023</td>\n",
       "      <td>-0.005090</td>\n",
       "      <td>0.001067</td>\n",
       "      <td>-0.001194</td>\n",
       "      <td>-0.005730</td>\n",
       "      <td>-0.000244</td>\n",
       "    </tr>\n",
       "    <tr>\n",
       "      <th>2018-01-09</th>\n",
       "      <td>0.002758</td>\n",
       "      <td>-0.001403</td>\n",
       "      <td>-0.003465</td>\n",
       "      <td>-0.009426</td>\n",
       "      <td>0.007455</td>\n",
       "      <td>0.001784</td>\n",
       "      <td>-0.009224</td>\n",
       "      <td>-0.000464</td>\n",
       "      <td>-0.000969</td>\n",
       "      <td>0.009087</td>\n",
       "      <td>0.000763</td>\n",
       "      <td>-0.001833</td>\n",
       "    </tr>\n",
       "    <tr>\n",
       "      <th>2018-01-10</th>\n",
       "      <td>-0.012835</td>\n",
       "      <td>-0.029928</td>\n",
       "      <td>-0.014977</td>\n",
       "      <td>-0.024222</td>\n",
       "      <td>-0.019496</td>\n",
       "      <td>-0.009285</td>\n",
       "      <td>-0.016787</td>\n",
       "      <td>-0.008374</td>\n",
       "      <td>-0.014934</td>\n",
       "      <td>-0.014218</td>\n",
       "      <td>-0.005081</td>\n",
       "      <td>-0.019221</td>\n",
       "    </tr>\n",
       "  </tbody>\n",
       "</table>\n",
       "</div>"
      ],
      "text/plain": [
       "Ticker      BIMBOA.MX     BN.PA       CAG  HERDEZ.MX       HLF       KHC  \\\n",
       "Date                                                                       \n",
       "2018-01-04   0.006221  0.014835  0.016341  -0.006970  0.009734  0.011687   \n",
       "2018-01-05  -0.002977  0.018308  0.003163   0.023909  0.011079 -0.000899   \n",
       "2018-01-08  -0.000689 -0.006690 -0.014188   0.000000 -0.007400  0.008222   \n",
       "2018-01-09   0.002758 -0.001403 -0.003465  -0.009426  0.007455  0.001784   \n",
       "2018-01-10  -0.012835 -0.029928 -0.014977  -0.024222 -0.019496 -0.009285   \n",
       "\n",
       "Ticker           KOF      MDLZ       MKC   NESN.SW       PEP    ULVR.L  \n",
       "Date                                                                    \n",
       "2018-01-04  0.003143  0.002348  0.006307 -0.000959  0.004926  0.003080  \n",
       "2018-01-05  0.008829  0.012887  0.009793  0.005282  0.002873  0.005281  \n",
       "2018-01-08  0.010023 -0.005090  0.001067 -0.001194 -0.005730 -0.000244  \n",
       "2018-01-09 -0.009224 -0.000464 -0.000969  0.009087  0.000763 -0.001833  \n",
       "2018-01-10 -0.016787 -0.008374 -0.014934 -0.014218 -0.005081 -0.019221  "
      ]
     },
     "execution_count": 3,
     "metadata": {},
     "output_type": "execute_result"
    }
   ],
   "source": [
    "tickers = ['BIMBOA.MX', 'KHC', 'NESN.SW', 'PEP', 'KOF', 'MKC', 'HERDEZ.MX', 'BN.PA', 'ULVR.L', 'HLF', 'CAG', 'MDLZ']\n",
    "closes = get_adj_close(tickers, start='2018-01-01', end='2024-01-01')\n",
    "rend = closes.pct_change()\n",
    "rend = rend.dropna()\n",
    "rend.head()"
   ]
  },
  {
   "cell_type": "markdown",
   "id": "d62de234-a3c7-4325-b854-34e191fed41a",
   "metadata": {},
   "source": [
    "## Calcular la variable latente. Mood del mercado en la industria alimentaria"
   ]
  },
  {
   "cell_type": "code",
   "execution_count": 4,
   "id": "5da79e89-72f3-4cee-8b46-3a4cd278dd85",
   "metadata": {},
   "outputs": [],
   "source": [
    "model_desc = f\"\"\"\n",
    "# Latent Variables\n",
    "Mood =~ {tickers[0]} + {tickers[1]} + {tickers[2]} + {tickers[3]} + {tickers[4]} + {tickers[5]} + {tickers[6]} + {tickers[7]} + {tickers[8]} + {tickers[9]} + {tickers[10]} + {tickers[11]}\n",
    "\"\"\""
   ]
  },
  {
   "cell_type": "code",
   "execution_count": 5,
   "id": "17c6ac5f-fd79-48e8-a506-7aa54b15e3da",
   "metadata": {},
   "outputs": [
    {
     "name": "stdout",
     "output_type": "stream",
     "text": [
      "         lval  op       rval   Estimate    Std. Err    z-value   p-value\n",
      "0   BIMBOA.MX   ~       Mood   1.000000           -          -         -\n",
      "1         KHC   ~       Mood   0.105937   90.912089   0.001165   0.99907\n",
      "2     NESN.SW   ~       Mood   0.087248   269.94345   0.000323  0.999742\n",
      "3         PEP   ~       Mood   0.120218  152.797184   0.000787  0.999372\n",
      "4         KOF   ~       Mood   0.086419   21.788306   0.003966  0.996835\n",
      "5         MKC   ~       Mood   0.108006  133.256444   0.000811  0.999353\n",
      "6   HERDEZ.MX   ~       Mood   0.200284   33.526264   0.005974  0.995234\n",
      "7       BN.PA   ~       Mood   0.091393  201.185505   0.000454  0.999638\n",
      "8      ULVR.L   ~       Mood   0.095697  208.074698    0.00046  0.999633\n",
      "9         HLF   ~       Mood   0.148888   18.981368   0.007844  0.993742\n",
      "10        CAG   ~       Mood   0.080596  125.199208   0.000644  0.999486\n",
      "11       MDLZ   ~       Mood   0.141649  123.386738   0.001148  0.999084\n",
      "12       Mood  ~~       Mood   0.000089    0.025537   0.003481  0.997223\n",
      "13  BIMBOA.MX  ~~  BIMBOA.MX   1.808166    0.069788  25.909411       0.0\n",
      "14      BN.PA  ~~      BN.PA   7.174321     0.25773  27.836587       0.0\n",
      "15        CAG  ~~        CAG   2.771511    0.099572  27.834314       0.0\n",
      "16  HERDEZ.MX  ~~  HERDEZ.MX   0.115363    0.004301   26.82395       0.0\n",
      "17        HLF  ~~        HLF   0.016142     0.00078   20.69341       0.0\n",
      "18        KHC  ~~        KHC   1.444950    0.051932  27.823764       0.0\n",
      "19        KOF  ~~        KOF   0.000611    0.000174   3.509262  0.000449\n",
      "20       MDLZ  ~~       MDLZ   2.662902    0.095704  27.824219       0.0\n",
      "21        MKC  ~~        MKC   3.130650    0.112485  27.831641       0.0\n",
      "22    NESN.SW  ~~    NESN.SW  12.931774    0.464542  27.837693       0.0\n",
      "23        PEP  ~~        PEP   4.117989    0.147958   27.83206       0.0\n",
      "24     ULVR.L  ~~     ULVR.L   7.673604    0.275667  27.836531       0.0\n"
     ]
    }
   ],
   "source": [
    "mod = Model(model_desc)\n",
    "res_opt = mod.fit(rend)\n",
    "estimates = mod.inspect()\n",
    "\n",
    "# Imprimir los resultados del ajuste del modelo\n",
    "print(estimates)"
   ]
  },
  {
   "cell_type": "code",
   "execution_count": 6,
   "id": "1dc19a26-5bc7-400f-911e-d56e1c61dfce",
   "metadata": {},
   "outputs": [
    {
     "name": "stdout",
     "output_type": "stream",
     "text": [
      "Name of objective: MLW\n",
      "Optimization method: SLSQP\n",
      "Optimization successful.\n",
      "Optimization terminated successfully\n",
      "Objective value: 89.739\n",
      "Number of iterations: 36\n",
      "Params: 0.106 0.087 0.120 0.086 0.108 0.200 0.091 0.096 0.149 0.081 0.142 1.808 7.174 2.772 0.115 0.016 1.445 0.001 2.663 3.131 0.000 12.932 4.118 7.674\n"
     ]
    }
   ],
   "source": [
    "# Paso 5: Visualizar el Modelo SEM con un Diagrama de Trayectoria\n",
    "print(res_opt)"
   ]
  },
  {
   "cell_type": "code",
   "execution_count": 10,
   "id": "015c1e30-8f79-40b3-a877-f17f0e9dc184",
   "metadata": {},
   "outputs": [
    {
     "data": {
      "text/plain": [
       "[1,\n",
       " 0.10593720112465946,\n",
       " 0.08724814062393049,\n",
       " 0.12021831893170191,\n",
       " 0.08641895482796168,\n",
       " 0.10800623523860317,\n",
       " 0.20028359472189652,\n",
       " 0.09139324514671182,\n",
       " 0.0956966496270609,\n",
       " 0.1488883386055401,\n",
       " 0.08059565844596778,\n",
       " 0.14164908912032706]"
      ]
     },
     "execution_count": 10,
     "metadata": {},
     "output_type": "execute_result"
    }
   ],
   "source": [
    "mood_factors = res_opt.x[0:(len(tickers)-1)].tolist()\n",
    "mood_factors.insert(0, 1)\n",
    "mood_factors"
   ]
  },
  {
   "cell_type": "code",
   "execution_count": 11,
   "id": "31e91373-44d9-442d-be08-699da79618a6",
   "metadata": {},
   "outputs": [],
   "source": [
    "def calculate_latent_values(df, factors, var):\n",
    "    resultado = pd.DataFrame()\n",
    "    for i in range(len(factors)):\n",
    "        resultado[var[i]] =  df.iloc[:, i] * factors[i]\n",
    "    resultado['Latent Value'] = resultado.sum(axis=1)\n",
    "    resultado = resultado['Latent Value']\n",
    "    return resultado"
   ]
  },
  {
   "cell_type": "code",
   "execution_count": 12,
   "id": "be0b854b-e5e7-485b-8082-baab6b3a66a3",
   "metadata": {},
   "outputs": [
    {
     "data": {
      "text/plain": [
       "Date\n",
       "2018-01-04    0.012274\n",
       "2018-01-05    0.010252\n",
       "2018-01-08   -0.003231\n",
       "2018-01-09    0.001503\n",
       "2018-01-10   -0.033456\n",
       "                ...   \n",
       "2023-12-22    0.010574\n",
       "2023-12-26   -0.000033\n",
       "2023-12-27   -0.003725\n",
       "2023-12-28   -0.003690\n",
       "2023-12-29   -0.012856\n",
       "Name: Latent Value, Length: 1550, dtype: float64"
      ]
     },
     "execution_count": 12,
     "metadata": {},
     "output_type": "execute_result"
    }
   ],
   "source": [
    "mood = calculate_latent_values(rend[tickers], mood_factors, tickers)\n",
    "mood"
   ]
  },
  {
   "cell_type": "code",
   "execution_count": 14,
   "id": "3759ccde-7863-414f-8d22-5eb10aedb0dd",
   "metadata": {},
   "outputs": [
    {
     "data": {
      "text/plain": [
       "<Axes: xlabel='Date'>"
      ]
     },
     "execution_count": 14,
     "metadata": {},
     "output_type": "execute_result"
    },
    {
     "data": {
      "image/png": "[encoded data removed]",
      "text/plain": [
       "<Figure size 640x480 with 1 Axes>"
      ]
     },
     "metadata": {},
     "output_type": "display_data"
    }
   ],
   "source": [
    "mood.plot()"
   ]
  },
  {
   "cell_type": "code",
   "execution_count": 13,
   "id": "84bac486-1f16-486f-a236-09781916bb81",
   "metadata": {},
   "outputs": [],
   "source": [
    "g = semplot(mod, 'pd.png')"
   ]
  },
  {
   "cell_type": "markdown",
   "id": "70cadcbb-6834-4f74-8276-08922231a639",
   "metadata": {},
   "source": [
    "## Gráfica"
   ]
  },
  {
   "cell_type": "markdown",
   "id": "43cbaf7c-f966-4d02-add7-7f0b04851829",
   "metadata": {},
   "source": [
    "<img src=\"pd.png\">"
   ]
  },
  {
   "cell_type": "markdown",
   "id": "2bb3c877-7c2c-4352-93d7-e5d054bdd619",
   "metadata": {},
   "source": [
    "## Coeficientes de la variable latente "
   ]
  },
  {
   "cell_type": "code",
   "execution_count": 23,
   "id": "9315cf92-52b0-4c36-8d52-82145880b429",
   "metadata": {},
   "outputs": [
    {
     "data": {
      "text/html": [
       "<div>\n",
       "<style scoped>\n",
       "    .dataframe tbody tr th:only-of-type {\n",
       "        vertical-align: middle;\n",
       "    }\n",
       "\n",
       "    .dataframe tbody tr th {\n",
       "        vertical-align: top;\n",
       "    }\n",
       "\n",
       "    .dataframe thead th {\n",
       "        text-align: right;\n",
       "    }\n",
       "</style>\n",
       "<table border=\"1\" class=\"dataframe\">\n",
       "  <thead>\n",
       "    <tr style=\"text-align: right;\">\n",
       "      <th></th>\n",
       "      <th>Acción</th>\n",
       "      <th>Factores</th>\n",
       "    </tr>\n",
       "  </thead>\n",
       "  <tbody>\n",
       "    <tr>\n",
       "      <th>0</th>\n",
       "      <td>BIMBOA.MX</td>\n",
       "      <td>1.000000</td>\n",
       "    </tr>\n",
       "    <tr>\n",
       "      <th>1</th>\n",
       "      <td>KHC</td>\n",
       "      <td>0.105937</td>\n",
       "    </tr>\n",
       "    <tr>\n",
       "      <th>2</th>\n",
       "      <td>NESN.SW</td>\n",
       "      <td>0.087248</td>\n",
       "    </tr>\n",
       "    <tr>\n",
       "      <th>3</th>\n",
       "      <td>PEP</td>\n",
       "      <td>0.120218</td>\n",
       "    </tr>\n",
       "    <tr>\n",
       "      <th>4</th>\n",
       "      <td>KOF</td>\n",
       "      <td>0.086419</td>\n",
       "    </tr>\n",
       "    <tr>\n",
       "      <th>5</th>\n",
       "      <td>MKC</td>\n",
       "      <td>0.108006</td>\n",
       "    </tr>\n",
       "    <tr>\n",
       "      <th>6</th>\n",
       "      <td>HERDEZ.MX</td>\n",
       "      <td>0.200284</td>\n",
       "    </tr>\n",
       "    <tr>\n",
       "      <th>7</th>\n",
       "      <td>BN.PA</td>\n",
       "      <td>0.091393</td>\n",
       "    </tr>\n",
       "    <tr>\n",
       "      <th>8</th>\n",
       "      <td>ULVR.L</td>\n",
       "      <td>0.095697</td>\n",
       "    </tr>\n",
       "    <tr>\n",
       "      <th>9</th>\n",
       "      <td>HLF</td>\n",
       "      <td>0.148888</td>\n",
       "    </tr>\n",
       "    <tr>\n",
       "      <th>10</th>\n",
       "      <td>CAG</td>\n",
       "      <td>0.080596</td>\n",
       "    </tr>\n",
       "    <tr>\n",
       "      <th>11</th>\n",
       "      <td>MDLZ</td>\n",
       "      <td>0.141649</td>\n",
       "    </tr>\n",
       "  </tbody>\n",
       "</table>\n",
       "</div>"
      ],
      "text/plain": [
       "       Acción  Factores\n",
       "0   BIMBOA.MX  1.000000\n",
       "1         KHC  0.105937\n",
       "2     NESN.SW  0.087248\n",
       "3         PEP  0.120218\n",
       "4         KOF  0.086419\n",
       "5         MKC  0.108006\n",
       "6   HERDEZ.MX  0.200284\n",
       "7       BN.PA  0.091393\n",
       "8      ULVR.L  0.095697\n",
       "9         HLF  0.148888\n",
       "10        CAG  0.080596\n",
       "11       MDLZ  0.141649"
      ]
     },
     "execution_count": 23,
     "metadata": {},
     "output_type": "execute_result"
    }
   ],
   "source": [
    "coeficientes = pd.DataFrame({'Acción':tickers})\n",
    "coeficientes['Factores'] = mood_factors\n",
    "coeficientes"
   ]
  },
  {
   "cell_type": "markdown",
   "id": "b0f30016-28ce-4f02-82c2-61b8263c3cf5",
   "metadata": {},
   "source": [
    "## Interpretación de los coeficientes"
   ]
  },
  {
   "cell_type": "markdown",
   "id": "2b57f64e-4547-4fc4-8635-daa1739d9f0b",
   "metadata": {},
   "source": [
    "Los rendimienteos de todas las acciones afectan positivamente al mood del mercado de la industria alimentaria. La variable que mas afecta es Bimbo, despues Herdez, Herbalife, Mondelēz International. Se puede ver que ninguna afecta en la misma proporción al mood como lo hace bimbo, ya que, bimbo tiene un coeficiente de 1 y las demás son menores al 0.25, y se entiende que no son tan importantes estos factores para calcularlo. Esto mismo se observa en los p-value, lo quen nos dice que no son importantes para el modelo."
   ]
  }
 ],
 "metadata": {
  "kernelspec": {
   "display_name": "Python 3 (ipykernel)",
   "language": "python",
   "name": "python3"
  },
  "language_info": {
   "codemirror_mode": {
    "name": "ipython",
    "version": 3
   },
   "file_extension": ".py",
   "mimetype": "text/x-python",
   "name": "python",
   "nbconvert_exporter": "python",
   "pygments_lexer": "ipython3",
   "version": "3.11.7"
  }
 },
 "nbformat": 4,
 "nbformat_minor": 5
}
