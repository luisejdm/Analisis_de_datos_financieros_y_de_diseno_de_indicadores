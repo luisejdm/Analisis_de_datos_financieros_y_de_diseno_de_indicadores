{
 "cells": [
  {
   "cell_type": "code",
   "execution_count": 1,
   "id": "f59971e5-ebd7-43d2-a56a-ab1711ee8b21",
   "metadata": {},
   "outputs": [],
   "source": [
    "import pandas as pd\n",
    "import numpy as np\n",
    "import yfinance as yf\n",
    "from semopy import Model, Optimizer\n",
    "import matplotlib.pyplot as plt\n",
    "from semopy import Model, Optimizer, semplot"
   ]
  },
  {
   "cell_type": "code",
   "execution_count": 2,
   "id": "9b010555-e7ba-46ac-8eb4-c5aeb6fb66b7",
   "metadata": {},
   "outputs": [],
   "source": [
    "def get_adj_close(tickets, start=None, end=None):\n",
    "    return yf.download(tickets, start=start, end=end)['Adj Close']"
   ]
  },
  {
   "cell_type": "code",
   "execution_count": 3,
   "id": "ffc4ea40-4c94-4998-9792-c37e3e7c5ce1",
   "metadata": {},
   "outputs": [
    {
     "name": "stderr",
     "output_type": "stream",
     "text": [
      "[*********************100%%**********************]  12 of 12 completed\n"
     ]
    },
    {
     "data": {
      "text/html": [
       "<div>\n",
       "<style scoped>\n",
       "    .dataframe tbody tr th:only-of-type {\n",
       "        vertical-align: middle;\n",
       "    }\n",
       "\n",
       "    .dataframe tbody tr th {\n",
       "        vertical-align: top;\n",
       "    }\n",
       "\n",
       "    .dataframe thead th {\n",
       "        text-align: right;\n",
       "    }\n",
       "</style>\n",
       "<table border=\"1\" class=\"dataframe\">\n",
       "  <thead>\n",
       "    <tr style=\"text-align: right;\">\n",
       "      <th>Ticker</th>\n",
       "      <th>BIMBOA.MX</th>\n",
       "      <th>BN.PA</th>\n",
       "      <th>CAG</th>\n",
       "      <th>HERDEZ.MX</th>\n",
       "      <th>HLF</th>\n",
       "      <th>KHC</th>\n",
       "      <th>KOF</th>\n",
       "      <th>MDLZ</th>\n",
       "      <th>MKC</th>\n",
       "      <th>NESN.SW</th>\n",
       "      <th>PEP</th>\n",
       "      <th>ULVR.L</th>\n",
       "    </tr>\n",
       "    <tr>\n",
       "      <th>Date</th>\n",
       "      <th></th>\n",
       "      <th></th>\n",
       "      <th></th>\n",
       "      <th></th>\n",
       "      <th></th>\n",
       "      <th></th>\n",
       "      <th></th>\n",
       "      <th></th>\n",
       "      <th></th>\n",
       "      <th></th>\n",
       "      <th></th>\n",
       "      <th></th>\n",
       "    </tr>\n",
       "  </thead>\n",
       "  <tbody>\n",
       "    <tr>\n",
       "      <th>2018-01-04</th>\n",
       "      <td>0.006221</td>\n",
       "      <td>0.014835</td>\n",
       "      <td>0.016340</td>\n",
       "      <td>-0.006970</td>\n",
       "      <td>0.009734</td>\n",
       "      <td>0.011687</td>\n",
       "      <td>0.003143</td>\n",
       "      <td>0.002349</td>\n",
       "      <td>0.006307</td>\n",
       "      <td>-0.000959</td>\n",
       "      <td>0.004926</td>\n",
       "      <td>0.003080</td>\n",
       "    </tr>\n",
       "    <tr>\n",
       "      <th>2018-01-05</th>\n",
       "      <td>-0.002977</td>\n",
       "      <td>0.018308</td>\n",
       "      <td>0.003163</td>\n",
       "      <td>0.023909</td>\n",
       "      <td>0.011079</td>\n",
       "      <td>-0.000898</td>\n",
       "      <td>0.008829</td>\n",
       "      <td>0.012887</td>\n",
       "      <td>0.009793</td>\n",
       "      <td>0.005282</td>\n",
       "      <td>0.002873</td>\n",
       "      <td>0.005281</td>\n",
       "    </tr>\n",
       "    <tr>\n",
       "      <th>2018-01-08</th>\n",
       "      <td>-0.000689</td>\n",
       "      <td>-0.006690</td>\n",
       "      <td>-0.014188</td>\n",
       "      <td>0.000000</td>\n",
       "      <td>-0.007400</td>\n",
       "      <td>0.008222</td>\n",
       "      <td>0.010022</td>\n",
       "      <td>-0.005089</td>\n",
       "      <td>0.001067</td>\n",
       "      <td>-0.001194</td>\n",
       "      <td>-0.005730</td>\n",
       "      <td>-0.000244</td>\n",
       "    </tr>\n",
       "    <tr>\n",
       "      <th>2018-01-09</th>\n",
       "      <td>0.002758</td>\n",
       "      <td>-0.001403</td>\n",
       "      <td>-0.003465</td>\n",
       "      <td>-0.009426</td>\n",
       "      <td>0.007455</td>\n",
       "      <td>0.001784</td>\n",
       "      <td>-0.009224</td>\n",
       "      <td>-0.000465</td>\n",
       "      <td>-0.000969</td>\n",
       "      <td>0.009086</td>\n",
       "      <td>0.000763</td>\n",
       "      <td>-0.001833</td>\n",
       "    </tr>\n",
       "    <tr>\n",
       "      <th>2018-01-10</th>\n",
       "      <td>-0.012835</td>\n",
       "      <td>-0.029928</td>\n",
       "      <td>-0.014977</td>\n",
       "      <td>-0.024221</td>\n",
       "      <td>-0.019496</td>\n",
       "      <td>-0.009285</td>\n",
       "      <td>-0.016787</td>\n",
       "      <td>-0.008374</td>\n",
       "      <td>-0.014934</td>\n",
       "      <td>-0.014218</td>\n",
       "      <td>-0.005081</td>\n",
       "      <td>-0.019221</td>\n",
       "    </tr>\n",
       "  </tbody>\n",
       "</table>\n",
       "</div>"
      ],
      "text/plain": [
       "Ticker      BIMBOA.MX     BN.PA       CAG  HERDEZ.MX       HLF       KHC  \\\n",
       "Date                                                                       \n",
       "2018-01-04   0.006221  0.014835  0.016340  -0.006970  0.009734  0.011687   \n",
       "2018-01-05  -0.002977  0.018308  0.003163   0.023909  0.011079 -0.000898   \n",
       "2018-01-08  -0.000689 -0.006690 -0.014188   0.000000 -0.007400  0.008222   \n",
       "2018-01-09   0.002758 -0.001403 -0.003465  -0.009426  0.007455  0.001784   \n",
       "2018-01-10  -0.012835 -0.029928 -0.014977  -0.024221 -0.019496 -0.009285   \n",
       "\n",
       "Ticker           KOF      MDLZ       MKC   NESN.SW       PEP    ULVR.L  \n",
       "Date                                                                    \n",
       "2018-01-04  0.003143  0.002349  0.006307 -0.000959  0.004926  0.003080  \n",
       "2018-01-05  0.008829  0.012887  0.009793  0.005282  0.002873  0.005281  \n",
       "2018-01-08  0.010022 -0.005089  0.001067 -0.001194 -0.005730 -0.000244  \n",
       "2018-01-09 -0.009224 -0.000465 -0.000969  0.009086  0.000763 -0.001833  \n",
       "2018-01-10 -0.016787 -0.008374 -0.014934 -0.014218 -0.005081 -0.019221  "
      ]
     },
     "execution_count": 3,
     "metadata": {},
     "output_type": "execute_result"
    }
   ],
   "source": [
    "tickers = ['BIMBOA.MX', 'KHC', 'NESN.SW', 'PEP', 'KOF', 'MKC', 'HERDEZ.MX', 'BN.PA', 'ULVR.L', 'HLF', 'CAG', 'MDLZ']\n",
    "closes = get_adj_close(tickers, start='2018-01-01', end='2024-01-01')\n",
    "rend = closes.pct_change()\n",
    "rend = rend.dropna()\n",
    "rend.head()"
   ]
  },
  {
   "cell_type": "code",
   "execution_count": 4,
   "id": "5da79e89-72f3-4cee-8b46-3a4cd278dd85",
   "metadata": {},
   "outputs": [],
   "source": [
    "model_desc = f\"\"\"\n",
    "# Latent Variables\n",
    "Mood =~ {tickers[0]} + {tickers[1]} + {tickers[2]} + {tickers[3]} + {tickers[4]} + {tickers[5]} + {tickers[6]} + {tickers[7]} + {tickers[8]} + {tickers[9]} + {tickers[10]} + {tickers[11]}\n",
    "\"\"\""
   ]
  },
  {
   "cell_type": "code",
   "execution_count": 5,
   "id": "17c6ac5f-fd79-48e8-a506-7aa54b15e3da",
   "metadata": {},
   "outputs": [
    {
     "name": "stdout",
     "output_type": "stream",
     "text": [
      "         lval  op       rval   Estimate    Std. Err    z-value   p-value\n",
      "0   BIMBOA.MX   ~       Mood   1.000000           -          -         -\n",
      "1         KHC   ~       Mood   0.105632  146.475087   0.000721  0.999425\n",
      "2     NESN.SW   ~       Mood   0.087062  442.198526   0.000197  0.999843\n",
      "3         PEP   ~       Mood   0.119906   265.37017   0.000452  0.999639\n",
      "4         KOF   ~       Mood   0.219131    77.33713   0.002833  0.997739\n",
      "5         MKC   ~       Mood   0.107729  235.670925   0.000457  0.999635\n",
      "6   HERDEZ.MX   ~       Mood   0.200873   72.459434   0.002772  0.997788\n",
      "7       BN.PA   ~       Mood   0.091190  339.278964   0.000269  0.999786\n",
      "8      ULVR.L   ~       Mood   0.095511  350.709497   0.000272  0.999783\n",
      "9         HLF   ~       Mood   0.136453   25.825325   0.005284  0.995784\n",
      "10        CAG   ~       Mood   0.080380  221.467127   0.000363   0.99971\n",
      "11       MDLZ   ~       Mood   0.141270  218.034635   0.000648  0.999483\n",
      "12       Mood  ~~       Mood   0.000022    0.009112   0.002392  0.998091\n",
      "13  BIMBOA.MX  ~~  BIMBOA.MX   2.185334    0.079026  27.653439       0.0\n",
      "14      BN.PA  ~~      BN.PA   8.480002    0.304614   27.83855       0.0\n",
      "15        CAG  ~~        CAG   3.606779    0.129562  27.838325       0.0\n",
      "16  HERDEZ.MX  ~~  HERDEZ.MX   0.297839    0.010715  27.796155       0.0\n",
      "17        HLF  ~~        HLF   0.000984    0.000158   6.223447       0.0\n",
      "18        KHC  ~~        KHC   1.559174    0.056011  27.836825       0.0\n",
      "19        KOF  ~~        KOF   0.000593    0.000398   1.490313  0.136142\n",
      "20       MDLZ  ~~       MDLZ   3.465368    0.124487  27.837217       0.0\n",
      "21        MKC  ~~        MKC   4.074711    0.146372   27.83803       0.0\n",
      "22    NESN.SW  ~~    NESN.SW  14.419680    0.517973  27.838676       0.0\n",
      "23        PEP  ~~        PEP   5.167163    0.185615  27.838049       0.0\n",
      "24     ULVR.L  ~~     ULVR.L   9.060494    0.325466  27.838543       0.0\n"
     ]
    }
   ],
   "source": [
    "mod = Model(model_desc)\n",
    "res_opt = mod.fit(rend)\n",
    "estimates = mod.inspect()\n",
    "\n",
    "# Imprimir los resultados del ajuste del modelo\n",
    "print(estimates)"
   ]
  },
  {
   "cell_type": "code",
   "execution_count": 6,
   "id": "1dc19a26-5bc7-400f-911e-d56e1c61dfce",
   "metadata": {},
   "outputs": [
    {
     "name": "stdout",
     "output_type": "stream",
     "text": [
      "Name of objective: MLW\n",
      "Optimization method: SLSQP\n",
      "Optimization successful.\n",
      "Optimization terminated successfully\n",
      "Objective value: 90.347\n",
      "Number of iterations: 25\n",
      "Params: 0.106 0.087 0.120 0.219 0.108 0.201 0.091 0.096 0.136 0.080 0.141 2.185 8.480 3.607 0.298 0.001 1.559 0.001 3.465 4.075 0.000 14.420 5.167 9.060\n"
     ]
    }
   ],
   "source": [
    "# Paso 5: Visualizar el Modelo SEM con un Diagrama de Trayectoria\n",
    "print(res_opt)"
   ]
  },
  {
   "cell_type": "code",
   "execution_count": 7,
   "id": "015c1e30-8f79-40b3-a877-f17f0e9dc184",
   "metadata": {},
   "outputs": [
    {
     "data": {
      "text/plain": [
       "[1,\n",
       " 0.10563210893786426,\n",
       " 0.08706157447359421,\n",
       " 0.11990594864721889,\n",
       " 0.21913089582630121,\n",
       " 0.10772942948350947,\n",
       " 0.2008729960112427,\n",
       " 0.09118994242852611,\n",
       " 0.09551086192822093,\n",
       " 0.13645298442431267,\n",
       " 0.08037984403624006,\n",
       " 0.14126960642545952]"
      ]
     },
     "execution_count": 7,
     "metadata": {},
     "output_type": "execute_result"
    }
   ],
   "source": [
    "mood_factors = res_opt.x[0:(len(tickers)-1)].tolist()\n",
    "mood_factors.insert(0, 1)\n",
    "mood_factors"
   ]
  },
  {
   "cell_type": "code",
   "execution_count": 8,
   "id": "31e91373-44d9-442d-be08-699da79618a6",
   "metadata": {},
   "outputs": [],
   "source": [
    "def calculate_latent_values(df, factors, var):\n",
    "    resultado = pd.DataFrame()\n",
    "    for i in range(len(factors)):\n",
    "        resultado[var[i]] =  df.iloc[:, i] * factors[i]\n",
    "    resultado['Latent Value'] = resultado.sum(axis=1)\n",
    "    resultado = resultado['Latent Value']\n",
    "    return resultado"
   ]
  },
  {
   "cell_type": "code",
   "execution_count": 9,
   "id": "be0b854b-e5e7-485b-8082-baab6b3a66a3",
   "metadata": {},
   "outputs": [
    {
     "data": {
      "text/plain": [
       "Date\n",
       "2018-01-04    0.012551\n",
       "2018-01-05    0.011286\n",
       "2018-01-08   -0.001803\n",
       "2018-01-09    0.000180\n",
       "2018-01-10   -0.035428\n",
       "                ...   \n",
       "2023-12-22    0.009511\n",
       "2023-12-26    0.000217\n",
       "2023-12-27   -0.003364\n",
       "2023-12-28   -0.004911\n",
       "2023-12-29   -0.013132\n",
       "Name: Latent Value, Length: 1550, dtype: float64"
      ]
     },
     "execution_count": 9,
     "metadata": {},
     "output_type": "execute_result"
    }
   ],
   "source": [
    "mood = calculate_latent_values(rend[tickers], mood_factors, tickers)\n",
    "mood"
   ]
  },
  {
   "cell_type": "code",
   "execution_count": 10,
   "id": "84bac486-1f16-486f-a236-09781916bb81",
   "metadata": {},
   "outputs": [],
   "source": [
    "g = semplot(mod, 'pd.png')"
   ]
  },
  {
   "cell_type": "markdown",
   "id": "70cadcbb-6834-4f74-8276-08922231a639",
   "metadata": {},
   "source": [
    "## Gráfica"
   ]
  },
  {
   "cell_type": "markdown",
   "id": "43cbaf7c-f966-4d02-add7-7f0b04851829",
   "metadata": {},
   "source": [
    "<img src=\"pd.png\">"
   ]
  }
 ],
 "metadata": {
  "kernelspec": {
   "display_name": "Python 3 (ipykernel)",
   "language": "python",
   "name": "python3"
  },
  "language_info": {
   "codemirror_mode": {
    "name": "ipython",
    "version": 3
   },
   "file_extension": ".py",
   "mimetype": "text/x-python",
   "name": "python",
   "nbconvert_exporter": "python",
   "pygments_lexer": "ipython3",
   "version": "3.11.7"
  }
 },
 "nbformat": 4,
 "nbformat_minor": 5
}
