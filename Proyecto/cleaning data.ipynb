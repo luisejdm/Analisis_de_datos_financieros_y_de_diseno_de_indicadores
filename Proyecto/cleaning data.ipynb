{
 "cells": [
  {
   "cell_type": "markdown",
   "id": "7c36ee73",
   "metadata": {},
   "source": [
    "# Librerías"
   ]
  },
  {
   "cell_type": "code",
   "execution_count": 28,
   "id": "844ca8d6-0a0e-474e-b335-45e0f4be3fdb",
   "metadata": {},
   "outputs": [],
   "source": [
    "import time\n",
    "import re\n",
    "import numpy as np\n",
    "import pandas as pd\n",
    "from sentence_transformers import SentenceTransformer\n",
    "import warnings \n",
    "warnings.filterwarnings('ignore')"
   ]
  },
  {
   "cell_type": "markdown",
   "id": "26880b5e",
   "metadata": {},
   "source": [
    "# Funciones"
   ]
  },
  {
   "cell_type": "code",
   "execution_count": 15,
   "id": "c1026b24",
   "metadata": {},
   "outputs": [],
   "source": [
    "def sumar_numeros_rango(df, columna_texto):\n",
    "    def extraer_y_sumar(text):\n",
    "        numeros = re.findall(r'\\d+(?:\\.\\d{1,2})?', text)\n",
    "        numeros_en_rango = [float(num) for num in numeros if 50 <= float(num) <= 50000]\n",
    "        return sum(numeros_en_rango) if numeros_en_rango else np.nan\n",
    "    df['INGRESO'] = df[columna_texto].apply(lambda x: extraer_y_sumar(str(x)))\n",
    "    \n",
    "def get_embedding(texts):\n",
    "    EMBEDDING_MODEL = \"all-MiniLM-L6-v2\"\n",
    "    model = SentenceTransformer(EMBEDDING_MODEL)\n",
    "    embedding = model.encode(texts, convert_to_numpy=True) \n",
    "    return embedding \n",
    "\n",
    "def cosine_similarity(vec1, vec2):\n",
    "    dot_product = np.dot(vec1, vec2)\n",
    "    norm_a = np.linalg.norm(vec1)\n",
    "    norm_b = np.linalg.norm(vec2)\n",
    "    return dot_product / (norm_a * norm_b)"
   ]
  },
  {
   "cell_type": "markdown",
   "id": "9299db9b",
   "metadata": {},
   "source": [
    "# Limpieza de Datos"
   ]
  },
  {
   "cell_type": "code",
   "execution_count": 54,
   "id": "73ecddf7-0560-4bb7-beb3-82ae176b81bc",
   "metadata": {},
   "outputs": [
    {
     "data": {
      "text/html": [
       "<div>\n",
       "<style scoped>\n",
       "    .dataframe tbody tr th:only-of-type {\n",
       "        vertical-align: middle;\n",
       "    }\n",
       "\n",
       "    .dataframe tbody tr th {\n",
       "        vertical-align: top;\n",
       "    }\n",
       "\n",
       "    .dataframe thead th {\n",
       "        text-align: right;\n",
       "    }\n",
       "</style>\n",
       "<table border=\"1\" class=\"dataframe\">\n",
       "  <thead>\n",
       "    <tr style=\"text-align: right;\">\n",
       "      <th></th>\n",
       "      <th>CLIENTE</th>\n",
       "      <th>COMBINADO</th>\n",
       "      <th>INGRESO</th>\n",
       "    </tr>\n",
       "  </thead>\n",
       "  <tbody>\n",
       "    <tr>\n",
       "      <th>0</th>\n",
       "      <td>2</td>\n",
       "      <td>revision general tndr cambio del panel de cont...</td>\n",
       "      <td>1820.0</td>\n",
       "    </tr>\n",
       "    <tr>\n",
       "      <th>1</th>\n",
       "      <td>12</td>\n",
       "      <td>incluir el editor de pdf  contasea hienz   inc...</td>\n",
       "      <td>150.0</td>\n",
       "    </tr>\n",
       "    <tr>\n",
       "      <th>2</th>\n",
       "      <td>2</td>\n",
       "      <td>imprime negro tn mantenimiento iva</td>\n",
       "      <td>480.0</td>\n",
       "    </tr>\n",
       "    <tr>\n",
       "      <th>3</th>\n",
       "      <td>3</td>\n",
       "      <td>mayusculas no escribe  minusculasse nota mas  ...</td>\n",
       "      <td>360.0</td>\n",
       "    </tr>\n",
       "    <tr>\n",
       "      <th>4</th>\n",
       "      <td>3</td>\n",
       "      <td>rev  gral margarita cinta  tapa y cubierta rep...</td>\n",
       "      <td>360.0</td>\n",
       "    </tr>\n",
       "    <tr>\n",
       "      <th>5</th>\n",
       "      <td>2</td>\n",
       "      <td>rev gral cartucho toner reparacion traccion de...</td>\n",
       "      <td>1030.0</td>\n",
       "    </tr>\n",
       "    <tr>\n",
       "      <th>6</th>\n",
       "      <td>2</td>\n",
       "      <td>rev gral sin toner    con cable de energia bue...</td>\n",
       "      <td>530.0</td>\n",
       "    </tr>\n",
       "    <tr>\n",
       "      <th>7</th>\n",
       "      <td>2</td>\n",
       "      <td>rev gral   sin toner cambio de contacto del ca...</td>\n",
       "      <td>480.0</td>\n",
       "    </tr>\n",
       "    <tr>\n",
       "      <th>8</th>\n",
       "      <td>3</td>\n",
       "      <td>rev gral toner reparacion de traccion de papel...</td>\n",
       "      <td>480.0</td>\n",
       "    </tr>\n",
       "    <tr>\n",
       "      <th>9</th>\n",
       "      <td>4</td>\n",
       "      <td>rev gral toners el juego de cartuchos que envi...</td>\n",
       "      <td>400.0</td>\n",
       "    </tr>\n",
       "  </tbody>\n",
       "</table>\n",
       "</div>"
      ],
      "text/plain": [
       "   CLIENTE                                          COMBINADO  INGRESO\n",
       "0        2  revision general tndr cambio del panel de cont...   1820.0\n",
       "1       12  incluir el editor de pdf  contasea hienz   inc...    150.0\n",
       "2        2                 imprime negro tn mantenimiento iva    480.0\n",
       "3        3  mayusculas no escribe  minusculasse nota mas  ...    360.0\n",
       "4        3  rev  gral margarita cinta  tapa y cubierta rep...    360.0\n",
       "5        2  rev gral cartucho toner reparacion traccion de...   1030.0\n",
       "6        2  rev gral sin toner    con cable de energia bue...    530.0\n",
       "7        2  rev gral   sin toner cambio de contacto del ca...    480.0\n",
       "8        3  rev gral toner reparacion de traccion de papel...    480.0\n",
       "9        4  rev gral toners el juego de cartuchos que envi...    400.0"
      ]
     },
     "execution_count": 54,
     "metadata": {},
     "output_type": "execute_result"
    }
   ],
   "source": [
    "data = pd.read_csv('data/REPARACIONES.csv', encoding='latin1')\n",
    "sumar_numeros_rango(data, 'INFORMETALLER')\n",
    "data_cleaned = data.dropna(subset=['INGRESO'])\n",
    "\n",
    "data_cleaned[\"COMBINADO\"] = (\n",
    "    data_cleaned[\"FALLA\"].fillna(\" \") + \" \" +\n",
    "    data_cleaned[\"OBSERVACIONES\"].fillna(\" \") + \" \" +\n",
    "    data_cleaned[\"INFORMETALLER\"].fillna(\" \") )\n",
    "\n",
    "data_cleaned.reset_index(inplace=True)\n",
    "\n",
    "data_cleaned[\"COMBINADO\"] = (\n",
    "    data_cleaned[\"COMBINADO\"]\n",
    "    .str.replace(r\"[^a-zA-Z\\s]\", \"\", regex=True)\n",
    "    .str.lower())\n",
    "data_cleaned = data_cleaned[['CLIENTE', 'COMBINADO', 'INGRESO']]\n",
    "data_cleaned.head(10)"
   ]
  },
  {
   "cell_type": "markdown",
   "id": "711cfb67",
   "metadata": {},
   "source": [
    "# Creación de Embeddings"
   ]
  },
  {
   "cell_type": "code",
   "execution_count": 55,
   "id": "7f3ca5cc-2e56-4ac8-8a75-585ffd9986b9",
   "metadata": {},
   "outputs": [],
   "source": [
    "keywords = {\n",
    "    'Impresora Laser': ['impresora laser', 'tn', 'toner', 'drum', 'tndr',\n",
    "                        'calor', 'presion', 'pad', 'termistor'],\n",
    "    'Impresora Tinta': ['impresora tinta', 'reset', 'almohadillas', 'bateria',\n",
    "                        '12v', 'cinta', 'perilla', 'cabezal', 'manguera', 'mascarilla'],\n",
    "    'Sistemas': ['sistema', 'office', 'pantalla', 'windows', 'bisagra', 'teclado',\n",
    "                 'mouse', 'mousepad', 'ssd', 'operativo', 'disco duro', 'mayusculas', 'minusculas',\n",
    "                 'ram', 'procesador', 'madre', 'correo', 'gabinete', 'bios'],\n",
    "    'Otros': ['otros']\n",
    "}"
   ]
  },
  {
   "cell_type": "code",
   "execution_count": 49,
   "id": "5aef840e-0e96-4c02-8c00-bef8f63c6b6a",
   "metadata": {},
   "outputs": [
    {
     "name": "stdout",
     "output_type": "stream",
     "text": [
      "El script tardó 35.1624 segundos en ejecutarse.\n"
     ]
    }
   ],
   "source": [
    "inicio = time.time()\n",
    "################################################################\n",
    "\n",
    "imp_laser = []\n",
    "imp_tinta = []\n",
    "sistemas = []\n",
    "otros = []\n",
    "\n",
    "for palabra in keywords['Impresora Laser']:\n",
    "    embedding = get_embedding(palabra)\n",
    "    imp_laser.append(embedding)\n",
    "\n",
    "for palabra in keywords['Impresora Tinta']:\n",
    "    embedding = get_embedding(palabra)\n",
    "    imp_tinta.append(embedding)\n",
    "\n",
    "for palabra in keywords['Sistemas']:\n",
    "    embedding = get_embedding(palabra)\n",
    "    sistemas.append(embedding)\n",
    "\n",
    "for palabra in keywords['Otros']:\n",
    "    embedding = get_embedding(palabra)\n",
    "    otros.append(embedding)\n",
    "    \n",
    "keywords_embedding = {\n",
    "    'Impresora Laser':imp_laser,\n",
    "    'Impresora Tinta':imp_tinta,\n",
    "    'Sistemas':sistemas,\n",
    "    'Otros':otros\n",
    "}\n",
    "\n",
    "################################################################\n",
    "fin = time.time()\n",
    "tiempo_total = fin - inicio\n",
    "print(f\"El script tardó {tiempo_total:.4f} segundos en ejecutarse.\")"
   ]
  },
  {
   "cell_type": "code",
   "execution_count": 70,
   "id": "c7769ae2-a90a-42fc-a2ab-7f9f7e5dc7f5",
   "metadata": {},
   "outputs": [
    {
     "name": "stdout",
     "output_type": "stream",
     "text": [
      "El script tardó 2.2175 segundos en ejecutarse.\n"
     ]
    }
   ],
   "source": [
    "inicio = time.time()\n",
    "################################################################\n",
    "\n",
    "muestra_embedding = []\n",
    "palabras_embedding = []\n",
    "muestra = data_cleaned['COMBINADO'].head(2).reset_index()\n",
    "\n",
    "for i in range(len(muestra)):\n",
    "    embedding = get_embedding(muestra['COMBINADO'][i])\n",
    "    palabras = muestra['COMBINADO'][i].split()\n",
    "    muestra_embedding.append(embedding)\n",
    "    palabras_embedding.append(palabras)\n",
    "\n",
    "################################################################\n",
    "fin = time.time()\n",
    "tiempo_total = fin - inicio\n",
    "print(f\"El script tardó {tiempo_total:.4f} segundos en ejecutarse.\")"
   ]
  },
  {
   "cell_type": "code",
   "execution_count": 81,
   "id": "eb50bbcb",
   "metadata": {},
   "outputs": [
    {
     "data": {
      "text/plain": [
       "13"
      ]
     },
     "execution_count": 81,
     "metadata": {},
     "output_type": "execute_result"
    }
   ],
   "source": [
    "len(palabras_embedding[1])"
   ]
  },
  {
   "cell_type": "code",
   "execution_count": 79,
   "id": "7c330b2c-6229-4bc8-952f-8d05af5e2803",
   "metadata": {},
   "outputs": [
    {
     "data": {
      "text/html": [
       "<div>\n",
       "<style scoped>\n",
       "    .dataframe tbody tr th:only-of-type {\n",
       "        vertical-align: middle;\n",
       "    }\n",
       "\n",
       "    .dataframe tbody tr th {\n",
       "        vertical-align: top;\n",
       "    }\n",
       "\n",
       "    .dataframe thead th {\n",
       "        text-align: right;\n",
       "    }\n",
       "</style>\n",
       "<table border=\"1\" class=\"dataframe\">\n",
       "  <thead>\n",
       "    <tr style=\"text-align: right;\">\n",
       "      <th></th>\n",
       "      <th>Número de falla</th>\n",
       "      <th>Segmento</th>\n",
       "      <th>Palabra</th>\n",
       "      <th>Similitud Coseno</th>\n",
       "    </tr>\n",
       "  </thead>\n",
       "  <tbody>\n",
       "    <tr>\n",
       "      <th>0</th>\n",
       "      <td>1</td>\n",
       "      <td>Impresora Laser</td>\n",
       "      <td>1</td>\n",
       "      <td>0.100994</td>\n",
       "    </tr>\n",
       "    <tr>\n",
       "      <th>1</th>\n",
       "      <td>1</td>\n",
       "      <td>Impresora Laser</td>\n",
       "      <td>2</td>\n",
       "      <td>0.121243</td>\n",
       "    </tr>\n",
       "    <tr>\n",
       "      <th>2</th>\n",
       "      <td>1</td>\n",
       "      <td>Impresora Laser</td>\n",
       "      <td>3</td>\n",
       "      <td>0.068871</td>\n",
       "    </tr>\n",
       "    <tr>\n",
       "      <th>3</th>\n",
       "      <td>1</td>\n",
       "      <td>Impresora Laser</td>\n",
       "      <td>4</td>\n",
       "      <td>0.009358</td>\n",
       "    </tr>\n",
       "    <tr>\n",
       "      <th>4</th>\n",
       "      <td>1</td>\n",
       "      <td>Impresora Laser</td>\n",
       "      <td>5</td>\n",
       "      <td>0.298307</td>\n",
       "    </tr>\n",
       "    <tr>\n",
       "      <th>5</th>\n",
       "      <td>1</td>\n",
       "      <td>Impresora Laser</td>\n",
       "      <td>6</td>\n",
       "      <td>0.057049</td>\n",
       "    </tr>\n",
       "    <tr>\n",
       "      <th>6</th>\n",
       "      <td>1</td>\n",
       "      <td>Impresora Laser</td>\n",
       "      <td>7</td>\n",
       "      <td>0.220492</td>\n",
       "    </tr>\n",
       "    <tr>\n",
       "      <th>7</th>\n",
       "      <td>1</td>\n",
       "      <td>Impresora Laser</td>\n",
       "      <td>8</td>\n",
       "      <td>0.062818</td>\n",
       "    </tr>\n",
       "    <tr>\n",
       "      <th>8</th>\n",
       "      <td>1</td>\n",
       "      <td>Impresora Laser</td>\n",
       "      <td>9</td>\n",
       "      <td>0.137893</td>\n",
       "    </tr>\n",
       "    <tr>\n",
       "      <th>9</th>\n",
       "      <td>1</td>\n",
       "      <td>Impresora Tinta</td>\n",
       "      <td>1</td>\n",
       "      <td>0.188350</td>\n",
       "    </tr>\n",
       "  </tbody>\n",
       "</table>\n",
       "</div>"
      ],
      "text/plain": [
       "   Número de falla         Segmento  Palabra  Similitud Coseno\n",
       "0                1  Impresora Laser        1          0.100994\n",
       "1                1  Impresora Laser        2          0.121243\n",
       "2                1  Impresora Laser        3          0.068871\n",
       "3                1  Impresora Laser        4          0.009358\n",
       "4                1  Impresora Laser        5          0.298307\n",
       "5                1  Impresora Laser        6          0.057049\n",
       "6                1  Impresora Laser        7          0.220492\n",
       "7                1  Impresora Laser        8          0.062818\n",
       "8                1  Impresora Laser        9          0.137893\n",
       "9                1  Impresora Tinta        1          0.188350"
      ]
     },
     "execution_count": 79,
     "metadata": {},
     "output_type": "execute_result"
    }
   ],
   "source": [
    "resultados_correlacion = []\n",
    "\n",
    "for i, vector in enumerate(muestra_embedding):\n",
    "    for key, lista_vectores in keywords_embedding.items():\n",
    "        for j, vector_dict in enumerate(lista_vectores):\n",
    "            cos_sim = cosine_similarity(vector, vector_dict)\n",
    "            resultados_correlacion.append({\n",
    "                \"Número de falla\": i + 1, \n",
    "                \"Segmento\": key,  \n",
    "                \"Palabra\": j+1, \n",
    "                \"Similitud Coseno\": cos_sim\n",
    "            })\n",
    "\n",
    "df_resultados = pd.DataFrame(resultados_correlacion)\n",
    "\n",
    "df_resultados.head(10)"
   ]
  },
  {
   "cell_type": "code",
   "execution_count": 47,
   "id": "6511de54",
   "metadata": {},
   "outputs": [
    {
     "data": {
      "text/plain": [
       "0    revision general tndr cambio panel control bue...\n",
       "Name: COMBINADO, dtype: object"
      ]
     },
     "execution_count": 47,
     "metadata": {},
     "output_type": "execute_result"
    }
   ],
   "source": [
    "data_cleaned['COMBINADO'].head(1)"
   ]
  }
 ],
 "metadata": {
  "kernelspec": {
   "display_name": "base",
   "language": "python",
   "name": "python3"
  },
  "language_info": {
   "codemirror_mode": {
    "name": "ipython",
    "version": 3
   },
   "file_extension": ".py",
   "mimetype": "text/x-python",
   "name": "python",
   "nbconvert_exporter": "python",
   "pygments_lexer": "ipython3",
   "version": "3.11.7"
  }
 },
 "nbformat": 4,
 "nbformat_minor": 5
}
