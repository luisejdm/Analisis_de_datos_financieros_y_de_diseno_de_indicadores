{
 "cells": [
  {
   "cell_type": "markdown",
   "id": "1c30436e",
   "metadata": {},
   "source": [
    "## Paqueterías"
   ]
  },
  {
   "cell_type": "code",
   "execution_count": 1,
   "id": "e4d26ccc-b6c6-4ffa-a454-fee304ea605d",
   "metadata": {},
   "outputs": [],
   "source": [
    "import pandas as pd\n",
    "import numpy as np\n",
    "from datetime import datetime\n",
    "\n",
    "import seaborn as sns\n",
    "import matplotlib.pyplot as plt\n",
    "%matplotlib inline\n",
    "\n",
    "import warnings \n",
    "warnings.filterwarnings('ignore')"
   ]
  },
  {
   "cell_type": "markdown",
   "id": "de989d31",
   "metadata": {},
   "source": [
    "---\n",
    "\n",
    "# Proyecto Final\n",
    "**Laboratorio de Análisis Financiero y de Diseño de Indicadores**\n",
    "\n",
    "**Integrantes del equipo:**\n",
    "- Luis Eduardo Jiménez del Muro\n",
    "- Lenin Adair Quezada Gómez\n",
    "- José Armando Melchor Soto\n",
    "- Edgar Alfonso Ramos Gómez\n",
    "\n",
    "**Fecha: 26/11/2024**"
   ]
  },
  {
   "cell_type": "markdown",
   "id": "62b193a5",
   "metadata": {},
   "source": [
    "## Funciones del Programa "
   ]
  },
  {
   "cell_type": "code",
   "execution_count": null,
   "id": "fc89a719",
   "metadata": {},
   "outputs": [],
   "source": []
  },
  {
   "cell_type": "markdown",
   "id": "d9427de8",
   "metadata": {},
   "source": [
    "## Carga de Datos "
   ]
  },
  {
   "cell_type": "code",
   "execution_count": null,
   "id": "01d51c1b",
   "metadata": {},
   "outputs": [
    {
     "data": {
      "text/html": [
       "<div>\n",
       "<style scoped>\n",
       "    .dataframe tbody tr th:only-of-type {\n",
       "        vertical-align: middle;\n",
       "    }\n",
       "\n",
       "    .dataframe tbody tr th {\n",
       "        vertical-align: top;\n",
       "    }\n",
       "\n",
       "    .dataframe thead th {\n",
       "        text-align: right;\n",
       "    }\n",
       "</style>\n",
       "<table border=\"1\" class=\"dataframe\">\n",
       "  <thead>\n",
       "    <tr style=\"text-align: right;\">\n",
       "      <th></th>\n",
       "      <th>CLIENTE</th>\n",
       "      <th>COHORT</th>\n",
       "      <th>DESCRIPCION FALLA</th>\n",
       "      <th>INGRESO</th>\n",
       "      <th>FECHA REPARACION</th>\n",
       "      <th>CLUSTER</th>\n",
       "      <th>SIMILITUD COSENO</th>\n",
       "    </tr>\n",
       "  </thead>\n",
       "  <tbody>\n",
       "    <tr>\n",
       "      <th>0</th>\n",
       "      <td>2</td>\n",
       "      <td>2017-11-22</td>\n",
       "      <td>revision general tndr cambio del panel de cont...</td>\n",
       "      <td>1820.0</td>\n",
       "      <td>29/11/2018</td>\n",
       "      <td>Impresora Laser</td>\n",
       "      <td>0.298307</td>\n",
       "    </tr>\n",
       "    <tr>\n",
       "      <th>1</th>\n",
       "      <td>2</td>\n",
       "      <td>2017-11-22</td>\n",
       "      <td>imprime negro tn mantenimiento iva</td>\n",
       "      <td>480.0</td>\n",
       "      <td>30/11/2018</td>\n",
       "      <td>Impresora Tinta</td>\n",
       "      <td>0.391361</td>\n",
       "    </tr>\n",
       "    <tr>\n",
       "      <th>2</th>\n",
       "      <td>2</td>\n",
       "      <td>2017-11-22</td>\n",
       "      <td>rev gral cartucho toner reparacion traccion de...</td>\n",
       "      <td>1030.0</td>\n",
       "      <td>02/01/2019</td>\n",
       "      <td>Impresora Laser</td>\n",
       "      <td>0.508475</td>\n",
       "    </tr>\n",
       "    <tr>\n",
       "      <th>3</th>\n",
       "      <td>2</td>\n",
       "      <td>2017-11-22</td>\n",
       "      <td>rev gral sin toner    con cable de energia bue...</td>\n",
       "      <td>530.0</td>\n",
       "      <td>29/11/2018</td>\n",
       "      <td>Impresora Laser</td>\n",
       "      <td>0.493519</td>\n",
       "    </tr>\n",
       "    <tr>\n",
       "      <th>4</th>\n",
       "      <td>2</td>\n",
       "      <td>2017-11-22</td>\n",
       "      <td>rev gral   sin toner cambio de contacto del ca...</td>\n",
       "      <td>480.0</td>\n",
       "      <td>29/11/2018</td>\n",
       "      <td>Impresora Laser</td>\n",
       "      <td>0.448675</td>\n",
       "    </tr>\n",
       "    <tr>\n",
       "      <th>...</th>\n",
       "      <td>...</td>\n",
       "      <td>...</td>\n",
       "      <td>...</td>\n",
       "      <td>...</td>\n",
       "      <td>...</td>\n",
       "      <td>...</td>\n",
       "      <td>...</td>\n",
       "    </tr>\n",
       "    <tr>\n",
       "      <th>9295</th>\n",
       "      <td>1835</td>\n",
       "      <td>2024-09-13</td>\n",
       "      <td>en el area del impime obscuro en doble cara ta...</td>\n",
       "      <td>2815.0</td>\n",
       "      <td>20/09/2024</td>\n",
       "      <td>Sistemas</td>\n",
       "      <td>0.325016</td>\n",
       "    </tr>\n",
       "    <tr>\n",
       "      <th>9296</th>\n",
       "      <td>1837</td>\n",
       "      <td>2024-09-13</td>\n",
       "      <td>no escanea no saca copias marca papel atascado...</td>\n",
       "      <td>3532.0</td>\n",
       "      <td>30/09/2024</td>\n",
       "      <td>Sistemas</td>\n",
       "      <td>0.275756</td>\n",
       "    </tr>\n",
       "    <tr>\n",
       "      <th>9297</th>\n",
       "      <td>1843</td>\n",
       "      <td>2024-09-24</td>\n",
       "      <td>marcaba error de fusor y luego error de escane...</td>\n",
       "      <td>4790.0</td>\n",
       "      <td>30/09/2024</td>\n",
       "      <td>Impresora Laser</td>\n",
       "      <td>0.458887</td>\n",
       "    </tr>\n",
       "    <tr>\n",
       "      <th>9298</th>\n",
       "      <td>1841</td>\n",
       "      <td>2024-09-20</td>\n",
       "      <td>arruga las hojas y se atora   cambio de filmin...</td>\n",
       "      <td>2575.0</td>\n",
       "      <td>26/09/2024</td>\n",
       "      <td>Otros</td>\n",
       "      <td>0.408079</td>\n",
       "    </tr>\n",
       "    <tr>\n",
       "      <th>9299</th>\n",
       "      <td>1845</td>\n",
       "      <td>2024-02-10</td>\n",
       "      <td>retirar bateria hinchada contrasea leonfr elim...</td>\n",
       "      <td>600.0</td>\n",
       "      <td>30/09/2024</td>\n",
       "      <td>Impresora Tinta</td>\n",
       "      <td>0.651373</td>\n",
       "    </tr>\n",
       "  </tbody>\n",
       "</table>\n",
       "<p>9300 rows × 7 columns</p>\n",
       "</div>"
      ],
      "text/plain": [
       "      CLIENTE      COHORT                                  DESCRIPCION FALLA  \\\n",
       "0           2  2017-11-22  revision general tndr cambio del panel de cont...   \n",
       "1           2  2017-11-22                 imprime negro tn mantenimiento iva   \n",
       "2           2  2017-11-22  rev gral cartucho toner reparacion traccion de...   \n",
       "3           2  2017-11-22  rev gral sin toner    con cable de energia bue...   \n",
       "4           2  2017-11-22  rev gral   sin toner cambio de contacto del ca...   \n",
       "...       ...         ...                                                ...   \n",
       "9295     1835  2024-09-13  en el area del impime obscuro en doble cara ta...   \n",
       "9296     1837  2024-09-13  no escanea no saca copias marca papel atascado...   \n",
       "9297     1843  2024-09-24  marcaba error de fusor y luego error de escane...   \n",
       "9298     1841  2024-09-20  arruga las hojas y se atora   cambio de filmin...   \n",
       "9299     1845  2024-02-10  retirar bateria hinchada contrasea leonfr elim...   \n",
       "\n",
       "      INGRESO FECHA REPARACION          CLUSTER  SIMILITUD COSENO  \n",
       "0      1820.0       29/11/2018  Impresora Laser          0.298307  \n",
       "1       480.0       30/11/2018  Impresora Tinta          0.391361  \n",
       "2      1030.0       02/01/2019  Impresora Laser          0.508475  \n",
       "3       530.0       29/11/2018  Impresora Laser          0.493519  \n",
       "4       480.0       29/11/2018  Impresora Laser          0.448675  \n",
       "...       ...              ...              ...               ...  \n",
       "9295   2815.0       20/09/2024         Sistemas          0.325016  \n",
       "9296   3532.0       30/09/2024         Sistemas          0.275756  \n",
       "9297   4790.0       30/09/2024  Impresora Laser          0.458887  \n",
       "9298   2575.0       26/09/2024            Otros          0.408079  \n",
       "9299    600.0       30/09/2024  Impresora Tinta          0.651373  \n",
       "\n",
       "[9300 rows x 7 columns]"
      ]
     },
     "execution_count": 2,
     "metadata": {},
     "output_type": "execute_result"
    }
   ],
   "source": [
    "reparaciones = pd.read_csv('reparaciones.csv')\n",
    "reparaciones = reparaciones[['CLIENTE', 'COHORT', 'DESCRIPCION FALLA', 'INGRESO', 'FECHA REPARACION', 'CLUSTER', 'SIMILITUD COSENO']]\n",
    "\n",
    "clientes = pd.read_csv('data/CLIENTES.csv', encoding='latin1')\n",
    "clientes = clientes[['CLIENTE', 'NOMBRES']]\n",
    "\n",
    "reparaciones"
   ]
  },
  {
   "cell_type": "markdown",
   "id": "d5d47522",
   "metadata": {},
   "source": [
    "## Limpieza de los datos"
   ]
  },
  {
   "cell_type": "markdown",
   "id": "0b7b37b5",
   "metadata": {},
   "source": [
    "En esta sección principalmente se observará la distribución de las similitudes coseno y establecer un threshold para eliminar la clasificación imprecisa que pudo tener el modelo de embedding vectors."
   ]
  },
  {
   "cell_type": "markdown",
   "id": "1951bf6b",
   "metadata": {},
   "source": [
    "### Número de fallas por cluster antes de limpieza"
   ]
  },
  {
   "cell_type": "code",
   "execution_count": 3,
   "id": "1d53256a",
   "metadata": {},
   "outputs": [
    {
     "data": {
      "text/plain": [
       "Text(0, 0.5, 'CANTIDAD')"
      ]
     },
     "execution_count": 3,
     "metadata": {},
     "output_type": "execute_result"
    },
    {
     "data": {
      "image/png": "[encoded data removed]",
      "text/plain": [
       "<Figure size 800x600 with 1 Axes>"
      ]
     },
     "metadata": {},
     "output_type": "display_data"
    }
   ],
   "source": [
    "plt.figure(figsize=(8,6))\n",
    "plt.grid()\n",
    "plt.bar(['Laser', 'Tinta', 'Otros', 'Sistemas'], reparaciones.groupby('CLUSTER')['CLUSTER'].count(), color='cadetblue')\n",
    "plt.title('Número de fallas por Cluster antes de limpieza', fontsize=16)\n",
    "plt.xlabel('CLUSTER')\n",
    "plt.ylabel('CANTIDAD')"
   ]
  },
  {
   "cell_type": "markdown",
   "id": "41d2e639",
   "metadata": {},
   "source": [
    "### Distribución de las similitudes coseno"
   ]
  },
  {
   "cell_type": "code",
   "execution_count": 4,
   "id": "b375f29b",
   "metadata": {},
   "outputs": [
    {
     "data": {
      "image/png": "[encoded data removed]",
      "text/plain": [
       "<Figure size 800x600 with 1 Axes>"
      ]
     },
     "metadata": {},
     "output_type": "display_data"
    }
   ],
   "source": [
    "plt.figure(figsize=(8,6))\n",
    "sns.histplot(reparaciones['SIMILITUD COSENO'], kde=True, color='cadetblue')\n",
    "plt.xlabel('Valores')\n",
    "plt.ylabel('Frecuencia')\n",
    "plt.title('Histograma de frecuencias de las similitudes coseno')\n",
    "plt.grid()"
   ]
  },
  {
   "cell_type": "markdown",
   "id": "a2668ddf",
   "metadata": {},
   "source": [
    "### Establecimiento del threshold"
   ]
  },
  {
   "cell_type": "markdown",
   "id": "f9b11733",
   "metadata": {},
   "source": [
    "Decidimos limpar a partir del percentil ###, lo que significa que no nos interesan los registros que sean menores al percentil ###. Los que estén por encima del percentil ### no tenemos que eliminarlos porque esos representan a los que el modelo relacionó mejor."
   ]
  },
  {
   "cell_type": "code",
   "execution_count": 5,
   "id": "468d07fd",
   "metadata": {},
   "outputs": [
    {
     "data": {
      "text/plain": [
       "0.25578981100000003"
      ]
     },
     "execution_count": 5,
     "metadata": {},
     "output_type": "execute_result"
    }
   ],
   "source": [
    "threshold = reparaciones['SIMILITUD COSENO'].quantile(0.05)\n",
    "threshold"
   ]
  },
  {
   "cell_type": "markdown",
   "id": "19fb50cd",
   "metadata": {},
   "source": [
    "### Número de fallas fuera del threshold"
   ]
  },
  {
   "cell_type": "code",
   "execution_count": 6,
   "id": "738c3e59",
   "metadata": {},
   "outputs": [
    {
     "data": {
      "image/png": "[encoded data removed]",
      "text/plain": [
       "<Figure size 800x600 with 1 Axes>"
      ]
     },
     "metadata": {},
     "output_type": "display_data"
    }
   ],
   "source": [
    "df_filtrado = reparaciones[reparaciones['SIMILITUD COSENO'] < 0.27]\n",
    "\n",
    "conteo_clusters = df_filtrado['CLUSTER'].value_counts().reset_index()\n",
    "conteo_clusters.columns = ['CLUSTER', 'cantidad']\n",
    "\n",
    "plt.figure(figsize=(8,6))\n",
    "sns.barplot(data=conteo_clusters, x='CLUSTER', y='cantidad', color = 'cadetblue')\n",
    "plt.xlabel('CLUSTER')\n",
    "plt.ylabel('CANTIDAD')\n",
    "plt.title(f'Cantidad de registros menores al threshold: {threshold:.4f}')\n",
    "plt.grid()"
   ]
  },
  {
   "cell_type": "code",
   "execution_count": 7,
   "id": "6ef06088",
   "metadata": {},
   "outputs": [
    {
     "data": {
      "text/html": [
       "<div>\n",
       "<style scoped>\n",
       "    .dataframe tbody tr th:only-of-type {\n",
       "        vertical-align: middle;\n",
       "    }\n",
       "\n",
       "    .dataframe tbody tr th {\n",
       "        vertical-align: top;\n",
       "    }\n",
       "\n",
       "    .dataframe thead th {\n",
       "        text-align: right;\n",
       "    }\n",
       "</style>\n",
       "<table border=\"1\" class=\"dataframe\">\n",
       "  <thead>\n",
       "    <tr style=\"text-align: right;\">\n",
       "      <th></th>\n",
       "      <th>CLIENTE</th>\n",
       "      <th>COHORT</th>\n",
       "      <th>DESCRIPCION FALLA</th>\n",
       "      <th>INGRESO</th>\n",
       "      <th>FECHA REPARACION</th>\n",
       "      <th>CLUSTER</th>\n",
       "      <th>SIMILITUD COSENO</th>\n",
       "    </tr>\n",
       "  </thead>\n",
       "  <tbody>\n",
       "    <tr>\n",
       "      <th>0</th>\n",
       "      <td>2</td>\n",
       "      <td>2017-11-22</td>\n",
       "      <td>revision general tndr cambio del panel de cont...</td>\n",
       "      <td>1820.0</td>\n",
       "      <td>29/11/2018</td>\n",
       "      <td>Impresora Laser</td>\n",
       "      <td>0.298307</td>\n",
       "    </tr>\n",
       "    <tr>\n",
       "      <th>1</th>\n",
       "      <td>2</td>\n",
       "      <td>2017-11-22</td>\n",
       "      <td>imprime negro tn mantenimiento iva</td>\n",
       "      <td>480.0</td>\n",
       "      <td>30/11/2018</td>\n",
       "      <td>Impresora Tinta</td>\n",
       "      <td>0.391361</td>\n",
       "    </tr>\n",
       "    <tr>\n",
       "      <th>2</th>\n",
       "      <td>2</td>\n",
       "      <td>2017-11-22</td>\n",
       "      <td>rev gral cartucho toner reparacion traccion de...</td>\n",
       "      <td>1030.0</td>\n",
       "      <td>02/01/2019</td>\n",
       "      <td>Impresora Laser</td>\n",
       "      <td>0.508475</td>\n",
       "    </tr>\n",
       "    <tr>\n",
       "      <th>3</th>\n",
       "      <td>2</td>\n",
       "      <td>2017-11-22</td>\n",
       "      <td>rev gral sin toner    con cable de energia bue...</td>\n",
       "      <td>530.0</td>\n",
       "      <td>29/11/2018</td>\n",
       "      <td>Impresora Laser</td>\n",
       "      <td>0.493519</td>\n",
       "    </tr>\n",
       "    <tr>\n",
       "      <th>4</th>\n",
       "      <td>2</td>\n",
       "      <td>2017-11-22</td>\n",
       "      <td>rev gral   sin toner cambio de contacto del ca...</td>\n",
       "      <td>480.0</td>\n",
       "      <td>29/11/2018</td>\n",
       "      <td>Impresora Laser</td>\n",
       "      <td>0.448675</td>\n",
       "    </tr>\n",
       "    <tr>\n",
       "      <th>...</th>\n",
       "      <td>...</td>\n",
       "      <td>...</td>\n",
       "      <td>...</td>\n",
       "      <td>...</td>\n",
       "      <td>...</td>\n",
       "      <td>...</td>\n",
       "      <td>...</td>\n",
       "    </tr>\n",
       "    <tr>\n",
       "      <th>8597</th>\n",
       "      <td>1835</td>\n",
       "      <td>2024-09-13</td>\n",
       "      <td>en el area del impime obscuro en doble cara ta...</td>\n",
       "      <td>2815.0</td>\n",
       "      <td>20/09/2024</td>\n",
       "      <td>Sistemas</td>\n",
       "      <td>0.325016</td>\n",
       "    </tr>\n",
       "    <tr>\n",
       "      <th>8598</th>\n",
       "      <td>1837</td>\n",
       "      <td>2024-09-13</td>\n",
       "      <td>no escanea no saca copias marca papel atascado...</td>\n",
       "      <td>3532.0</td>\n",
       "      <td>30/09/2024</td>\n",
       "      <td>Sistemas</td>\n",
       "      <td>0.275756</td>\n",
       "    </tr>\n",
       "    <tr>\n",
       "      <th>8599</th>\n",
       "      <td>1843</td>\n",
       "      <td>2024-09-24</td>\n",
       "      <td>marcaba error de fusor y luego error de escane...</td>\n",
       "      <td>4790.0</td>\n",
       "      <td>30/09/2024</td>\n",
       "      <td>Impresora Laser</td>\n",
       "      <td>0.458887</td>\n",
       "    </tr>\n",
       "    <tr>\n",
       "      <th>8600</th>\n",
       "      <td>1841</td>\n",
       "      <td>2024-09-20</td>\n",
       "      <td>arruga las hojas y se atora   cambio de filmin...</td>\n",
       "      <td>2575.0</td>\n",
       "      <td>26/09/2024</td>\n",
       "      <td>Otros</td>\n",
       "      <td>0.408079</td>\n",
       "    </tr>\n",
       "    <tr>\n",
       "      <th>8601</th>\n",
       "      <td>1845</td>\n",
       "      <td>2024-02-10</td>\n",
       "      <td>retirar bateria hinchada contrasea leonfr elim...</td>\n",
       "      <td>600.0</td>\n",
       "      <td>30/09/2024</td>\n",
       "      <td>Impresora Tinta</td>\n",
       "      <td>0.651373</td>\n",
       "    </tr>\n",
       "  </tbody>\n",
       "</table>\n",
       "<p>8602 rows × 7 columns</p>\n",
       "</div>"
      ],
      "text/plain": [
       "      CLIENTE      COHORT                                  DESCRIPCION FALLA  \\\n",
       "0           2  2017-11-22  revision general tndr cambio del panel de cont...   \n",
       "1           2  2017-11-22                 imprime negro tn mantenimiento iva   \n",
       "2           2  2017-11-22  rev gral cartucho toner reparacion traccion de...   \n",
       "3           2  2017-11-22  rev gral sin toner    con cable de energia bue...   \n",
       "4           2  2017-11-22  rev gral   sin toner cambio de contacto del ca...   \n",
       "...       ...         ...                                                ...   \n",
       "8597     1835  2024-09-13  en el area del impime obscuro en doble cara ta...   \n",
       "8598     1837  2024-09-13  no escanea no saca copias marca papel atascado...   \n",
       "8599     1843  2024-09-24  marcaba error de fusor y luego error de escane...   \n",
       "8600     1841  2024-09-20  arruga las hojas y se atora   cambio de filmin...   \n",
       "8601     1845  2024-02-10  retirar bateria hinchada contrasea leonfr elim...   \n",
       "\n",
       "      INGRESO FECHA REPARACION          CLUSTER  SIMILITUD COSENO  \n",
       "0      1820.0       29/11/2018  Impresora Laser          0.298307  \n",
       "1       480.0       30/11/2018  Impresora Tinta          0.391361  \n",
       "2      1030.0       02/01/2019  Impresora Laser          0.508475  \n",
       "3       530.0       29/11/2018  Impresora Laser          0.493519  \n",
       "4       480.0       29/11/2018  Impresora Laser          0.448675  \n",
       "...       ...              ...              ...               ...  \n",
       "8597   2815.0       20/09/2024         Sistemas          0.325016  \n",
       "8598   3532.0       30/09/2024         Sistemas          0.275756  \n",
       "8599   4790.0       30/09/2024  Impresora Laser          0.458887  \n",
       "8600   2575.0       26/09/2024            Otros          0.408079  \n",
       "8601    600.0       30/09/2024  Impresora Tinta          0.651373  \n",
       "\n",
       "[8602 rows x 7 columns]"
      ]
     },
     "execution_count": 7,
     "metadata": {},
     "output_type": "execute_result"
    }
   ],
   "source": [
    "reparaciones_thresholded = reparaciones[reparaciones['SIMILITUD COSENO'] >= 0.27].reset_index()\n",
    "reparaciones_thresholded = reparaciones_thresholded.drop(columns='index')\n",
    "reparaciones_thresholded"
   ]
  },
  {
   "cell_type": "code",
   "execution_count": 8,
   "id": "7d197067",
   "metadata": {},
   "outputs": [
    {
     "data": {
      "text/plain": [
       "Text(0, 0.5, 'CANTIDAD')"
      ]
     },
     "execution_count": 8,
     "metadata": {},
     "output_type": "execute_result"
    },
    {
     "data": {
      "image/png": "[encoded data removed]",
      "text/plain": [
       "<Figure size 800x600 with 1 Axes>"
      ]
     },
     "metadata": {},
     "output_type": "display_data"
    }
   ],
   "source": [
    "plt.figure(figsize=(8,6))\n",
    "plt.grid()\n",
    "plt.bar(['Laser', 'Tinta', 'Otros', 'Sistemas'], reparaciones_thresholded.groupby('CLUSTER')['CLUSTER'].count(), color='cadetblue')\n",
    "plt.title('Número de fallas por Cluster despues de limpieza', fontsize=16)\n",
    "plt.xlabel('CLUSTER')\n",
    "plt.ylabel('CANTIDAD')"
   ]
  },
  {
   "cell_type": "code",
   "execution_count": 35,
   "id": "99c05c9a",
   "metadata": {},
   "outputs": [],
   "source": [
    "reparaciones = reparaciones_thresholded[['CLIENTE', 'COHORT', 'DESCRIPCION FALLA', 'INGRESO', 'FECHA REPARACION', 'CLUSTER']]"
   ]
  },
  {
   "cell_type": "markdown",
   "id": "8708827a-99b3-4ab9-8a50-3a4647d275fb",
   "metadata": {},
   "source": [
    "## Exploración de Datos "
   ]
  },
  {
   "cell_type": "code",
   "execution_count": 36,
   "id": "ea9aed7d-24bb-43a9-806f-cdce1ef06cf3",
   "metadata": {},
   "outputs": [
    {
     "data": {
      "text/html": [
       "<div>\n",
       "<style scoped>\n",
       "    .dataframe tbody tr th:only-of-type {\n",
       "        vertical-align: middle;\n",
       "    }\n",
       "\n",
       "    .dataframe tbody tr th {\n",
       "        vertical-align: top;\n",
       "    }\n",
       "\n",
       "    .dataframe thead th {\n",
       "        text-align: right;\n",
       "    }\n",
       "</style>\n",
       "<table border=\"1\" class=\"dataframe\">\n",
       "  <thead>\n",
       "    <tr style=\"text-align: right;\">\n",
       "      <th></th>\n",
       "      <th>CLIENTE</th>\n",
       "      <th>COHORT</th>\n",
       "      <th>DESCRIPCION FALLA</th>\n",
       "      <th>INGRESO</th>\n",
       "      <th>FECHA REPARACION</th>\n",
       "      <th>CLUSTER</th>\n",
       "    </tr>\n",
       "  </thead>\n",
       "  <tbody>\n",
       "    <tr>\n",
       "      <th>0</th>\n",
       "      <td>2</td>\n",
       "      <td>2017-11-22</td>\n",
       "      <td>revision general tndr cambio del panel de cont...</td>\n",
       "      <td>1820.0</td>\n",
       "      <td>29/11/2018</td>\n",
       "      <td>Impresora Laser</td>\n",
       "    </tr>\n",
       "    <tr>\n",
       "      <th>1</th>\n",
       "      <td>2</td>\n",
       "      <td>2017-11-22</td>\n",
       "      <td>imprime negro tn mantenimiento iva</td>\n",
       "      <td>480.0</td>\n",
       "      <td>30/11/2018</td>\n",
       "      <td>Impresora Tinta</td>\n",
       "    </tr>\n",
       "    <tr>\n",
       "      <th>2</th>\n",
       "      <td>2</td>\n",
       "      <td>2017-11-22</td>\n",
       "      <td>rev gral cartucho toner reparacion traccion de...</td>\n",
       "      <td>1030.0</td>\n",
       "      <td>02/01/2019</td>\n",
       "      <td>Impresora Laser</td>\n",
       "    </tr>\n",
       "    <tr>\n",
       "      <th>3</th>\n",
       "      <td>2</td>\n",
       "      <td>2017-11-22</td>\n",
       "      <td>rev gral sin toner    con cable de energia bue...</td>\n",
       "      <td>530.0</td>\n",
       "      <td>29/11/2018</td>\n",
       "      <td>Impresora Laser</td>\n",
       "    </tr>\n",
       "    <tr>\n",
       "      <th>4</th>\n",
       "      <td>2</td>\n",
       "      <td>2017-11-22</td>\n",
       "      <td>rev gral   sin toner cambio de contacto del ca...</td>\n",
       "      <td>480.0</td>\n",
       "      <td>29/11/2018</td>\n",
       "      <td>Impresora Laser</td>\n",
       "    </tr>\n",
       "    <tr>\n",
       "      <th>...</th>\n",
       "      <td>...</td>\n",
       "      <td>...</td>\n",
       "      <td>...</td>\n",
       "      <td>...</td>\n",
       "      <td>...</td>\n",
       "      <td>...</td>\n",
       "    </tr>\n",
       "    <tr>\n",
       "      <th>8597</th>\n",
       "      <td>1835</td>\n",
       "      <td>2024-09-13</td>\n",
       "      <td>en el area del impime obscuro en doble cara ta...</td>\n",
       "      <td>2815.0</td>\n",
       "      <td>20/09/2024</td>\n",
       "      <td>Sistemas</td>\n",
       "    </tr>\n",
       "    <tr>\n",
       "      <th>8598</th>\n",
       "      <td>1837</td>\n",
       "      <td>2024-09-13</td>\n",
       "      <td>no escanea no saca copias marca papel atascado...</td>\n",
       "      <td>3532.0</td>\n",
       "      <td>30/09/2024</td>\n",
       "      <td>Sistemas</td>\n",
       "    </tr>\n",
       "    <tr>\n",
       "      <th>8599</th>\n",
       "      <td>1843</td>\n",
       "      <td>2024-09-24</td>\n",
       "      <td>marcaba error de fusor y luego error de escane...</td>\n",
       "      <td>4790.0</td>\n",
       "      <td>30/09/2024</td>\n",
       "      <td>Impresora Laser</td>\n",
       "    </tr>\n",
       "    <tr>\n",
       "      <th>8600</th>\n",
       "      <td>1841</td>\n",
       "      <td>2024-09-20</td>\n",
       "      <td>arruga las hojas y se atora   cambio de filmin...</td>\n",
       "      <td>2575.0</td>\n",
       "      <td>26/09/2024</td>\n",
       "      <td>Otros</td>\n",
       "    </tr>\n",
       "    <tr>\n",
       "      <th>8601</th>\n",
       "      <td>1845</td>\n",
       "      <td>2024-02-10</td>\n",
       "      <td>retirar bateria hinchada contrasea leonfr elim...</td>\n",
       "      <td>600.0</td>\n",
       "      <td>30/09/2024</td>\n",
       "      <td>Impresora Tinta</td>\n",
       "    </tr>\n",
       "  </tbody>\n",
       "</table>\n",
       "<p>8602 rows × 6 columns</p>\n",
       "</div>"
      ],
      "text/plain": [
       "      CLIENTE      COHORT                                  DESCRIPCION FALLA  \\\n",
       "0           2  2017-11-22  revision general tndr cambio del panel de cont...   \n",
       "1           2  2017-11-22                 imprime negro tn mantenimiento iva   \n",
       "2           2  2017-11-22  rev gral cartucho toner reparacion traccion de...   \n",
       "3           2  2017-11-22  rev gral sin toner    con cable de energia bue...   \n",
       "4           2  2017-11-22  rev gral   sin toner cambio de contacto del ca...   \n",
       "...       ...         ...                                                ...   \n",
       "8597     1835  2024-09-13  en el area del impime obscuro en doble cara ta...   \n",
       "8598     1837  2024-09-13  no escanea no saca copias marca papel atascado...   \n",
       "8599     1843  2024-09-24  marcaba error de fusor y luego error de escane...   \n",
       "8600     1841  2024-09-20  arruga las hojas y se atora   cambio de filmin...   \n",
       "8601     1845  2024-02-10  retirar bateria hinchada contrasea leonfr elim...   \n",
       "\n",
       "      INGRESO FECHA REPARACION          CLUSTER  \n",
       "0      1820.0       29/11/2018  Impresora Laser  \n",
       "1       480.0       30/11/2018  Impresora Tinta  \n",
       "2      1030.0       02/01/2019  Impresora Laser  \n",
       "3       530.0       29/11/2018  Impresora Laser  \n",
       "4       480.0       29/11/2018  Impresora Laser  \n",
       "...       ...              ...              ...  \n",
       "8597   2815.0       20/09/2024         Sistemas  \n",
       "8598   3532.0       30/09/2024         Sistemas  \n",
       "8599   4790.0       30/09/2024  Impresora Laser  \n",
       "8600   2575.0       26/09/2024            Otros  \n",
       "8601    600.0       30/09/2024  Impresora Tinta  \n",
       "\n",
       "[8602 rows x 6 columns]"
      ]
     },
     "execution_count": 36,
     "metadata": {},
     "output_type": "execute_result"
    }
   ],
   "source": [
    "reparaciones"
   ]
  },
  {
   "cell_type": "code",
   "execution_count": 37,
   "id": "e0ad6642",
   "metadata": {},
   "outputs": [
    {
     "name": "stdout",
     "output_type": "stream",
     "text": [
      "<class 'pandas.core.frame.DataFrame'>\n",
      "RangeIndex: 8602 entries, 0 to 8601\n",
      "Data columns (total 6 columns):\n",
      " #   Column             Non-Null Count  Dtype  \n",
      "---  ------             --------------  -----  \n",
      " 0   CLIENTE            8602 non-null   int64  \n",
      " 1   COHORT             8602 non-null   object \n",
      " 2   DESCRIPCION FALLA  8602 non-null   object \n",
      " 3   INGRESO            8602 non-null   float64\n",
      " 4   FECHA REPARACION   8602 non-null   object \n",
      " 5   CLUSTER            8602 non-null   object \n",
      "dtypes: float64(1), int64(1), object(4)\n",
      "memory usage: 403.3+ KB\n"
     ]
    }
   ],
   "source": [
    "reparaciones.info()"
   ]
  },
  {
   "cell_type": "code",
   "execution_count": 38,
   "id": "fec699d9-5d3d-4005-8c99-478b602f8439",
   "metadata": {},
   "outputs": [
    {
     "name": "stdout",
     "output_type": "stream",
     "text": [
      "<class 'pandas.core.frame.DataFrame'>\n",
      "Int64Index: 8555 entries, 0 to 8601\n",
      "Data columns (total 6 columns):\n",
      " #   Column             Non-Null Count  Dtype         \n",
      "---  ------             --------------  -----         \n",
      " 0   CLIENTE            8555 non-null   int64         \n",
      " 1   COHORT             8555 non-null   datetime64[ns]\n",
      " 2   DESCRIPCION FALLA  8555 non-null   object        \n",
      " 3   INGRESO            8555 non-null   float64       \n",
      " 4   FECHA REPARACION   8555 non-null   datetime64[ns]\n",
      " 5   CLUSTER            8555 non-null   object        \n",
      "dtypes: datetime64[ns](2), float64(1), int64(1), object(2)\n",
      "memory usage: 467.9+ KB\n"
     ]
    }
   ],
   "source": [
    "reparaciones['FECHA REPARACION'] = reparaciones['FECHA REPARACION'].str.replace('-', '/')\n",
    "reparaciones['COHORT'] = reparaciones['COHORT'].str.replace('-', '/')\n",
    "\n",
    "reparaciones['FECHA REPARACION'] = pd.to_datetime(reparaciones['FECHA REPARACION'], dayfirst=True, errors='coerce')\n",
    "reparaciones['COHORT'] = pd.to_datetime(reparaciones['COHORT'], dayfirst=True, errors='coerce')\n",
    "\n",
    "current_date = datetime.now()\n",
    "reparaciones.loc[reparaciones['FECHA REPARACION'] > current_date, 'FECHA REPARACION'] = pd.NaT\n",
    "reparaciones.loc[reparaciones['COHORT'] > current_date, 'COHORT'] = pd.NaT\n",
    "\n",
    "reparaciones = reparaciones.dropna(subset='FECHA REPARACION')\n",
    "reparaciones = reparaciones.dropna(subset='COHORT')\n",
    "\n",
    "reparaciones.info()"
   ]
  },
  {
   "cell_type": "markdown",
   "id": "03210495",
   "metadata": {},
   "source": [
    "## Análisis y cálculo de los KPIs"
   ]
  },
  {
   "cell_type": "markdown",
   "id": "34d8175c-0cc1-496d-8a65-6cc0b98b6751",
   "metadata": {},
   "source": [
    "### Customer Life Time Value (24 Meses)"
   ]
  },
  {
   "cell_type": "code",
   "execution_count": 39,
   "id": "bc5c0e6b",
   "metadata": {},
   "outputs": [
    {
     "data": {
      "text/plain": [
       "Timestamp('2024-10-18 00:00:00')"
      ]
     },
     "execution_count": 39,
     "metadata": {},
     "output_type": "execute_result"
    }
   ],
   "source": [
    "snapshot_date = reparaciones['FECHA REPARACION'].max()\n",
    "snapshot_date"
   ]
  },
  {
   "cell_type": "code",
   "execution_count": 40,
   "id": "deeb7ee0",
   "metadata": {},
   "outputs": [
    {
     "data": {
      "text/plain": [
       "Timestamp('2017-12-04 00:00:00')"
      ]
     },
     "execution_count": 40,
     "metadata": {},
     "output_type": "execute_result"
    }
   ],
   "source": [
    "reparaciones['FECHA REPARACION'].min()"
   ]
  },
  {
   "cell_type": "code",
   "execution_count": 65,
   "id": "27d02d0c",
   "metadata": {},
   "outputs": [
    {
     "data": {
      "text/html": [
       "<div>\n",
       "<style scoped>\n",
       "    .dataframe tbody tr th:only-of-type {\n",
       "        vertical-align: middle;\n",
       "    }\n",
       "\n",
       "    .dataframe tbody tr th {\n",
       "        vertical-align: top;\n",
       "    }\n",
       "\n",
       "    .dataframe thead th {\n",
       "        text-align: right;\n",
       "    }\n",
       "</style>\n",
       "<table border=\"1\" class=\"dataframe\">\n",
       "  <thead>\n",
       "    <tr style=\"text-align: right;\">\n",
       "      <th></th>\n",
       "      <th>CLIENTE</th>\n",
       "      <th>LTV_24_MESES</th>\n",
       "    </tr>\n",
       "  </thead>\n",
       "  <tbody>\n",
       "    <tr>\n",
       "      <th>20</th>\n",
       "      <td>26</td>\n",
       "      <td>187318.88</td>\n",
       "    </tr>\n",
       "    <tr>\n",
       "      <th>2</th>\n",
       "      <td>4</td>\n",
       "      <td>142495.80</td>\n",
       "    </tr>\n",
       "    <tr>\n",
       "      <th>63</th>\n",
       "      <td>77</td>\n",
       "      <td>137738.80</td>\n",
       "    </tr>\n",
       "    <tr>\n",
       "      <th>713</th>\n",
       "      <td>898</td>\n",
       "      <td>118767.60</td>\n",
       "    </tr>\n",
       "    <tr>\n",
       "      <th>11</th>\n",
       "      <td>17</td>\n",
       "      <td>108435.00</td>\n",
       "    </tr>\n",
       "    <tr>\n",
       "      <th>26</th>\n",
       "      <td>33</td>\n",
       "      <td>103620.00</td>\n",
       "    </tr>\n",
       "    <tr>\n",
       "      <th>44</th>\n",
       "      <td>55</td>\n",
       "      <td>98055.54</td>\n",
       "    </tr>\n",
       "    <tr>\n",
       "      <th>1054</th>\n",
       "      <td>1297</td>\n",
       "      <td>90384.80</td>\n",
       "    </tr>\n",
       "    <tr>\n",
       "      <th>14</th>\n",
       "      <td>20</td>\n",
       "      <td>89573.60</td>\n",
       "    </tr>\n",
       "    <tr>\n",
       "      <th>96</th>\n",
       "      <td>119</td>\n",
       "      <td>89408.00</td>\n",
       "    </tr>\n",
       "    <tr>\n",
       "      <th>91</th>\n",
       "      <td>111</td>\n",
       "      <td>83338.20</td>\n",
       "    </tr>\n",
       "    <tr>\n",
       "      <th>113</th>\n",
       "      <td>141</td>\n",
       "      <td>83316.00</td>\n",
       "    </tr>\n",
       "    <tr>\n",
       "      <th>568</th>\n",
       "      <td>731</td>\n",
       "      <td>77997.25</td>\n",
       "    </tr>\n",
       "    <tr>\n",
       "      <th>753</th>\n",
       "      <td>943</td>\n",
       "      <td>68705.80</td>\n",
       "    </tr>\n",
       "    <tr>\n",
       "      <th>218</th>\n",
       "      <td>275</td>\n",
       "      <td>66897.46</td>\n",
       "    </tr>\n",
       "  </tbody>\n",
       "</table>\n",
       "</div>"
      ],
      "text/plain": [
       "      CLIENTE  LTV_24_MESES\n",
       "20         26     187318.88\n",
       "2           4     142495.80\n",
       "63         77     137738.80\n",
       "713       898     118767.60\n",
       "11         17     108435.00\n",
       "26         33     103620.00\n",
       "44         55      98055.54\n",
       "1054     1297      90384.80\n",
       "14         20      89573.60\n",
       "96        119      89408.00\n",
       "91        111      83338.20\n",
       "113       141      83316.00\n",
       "568       731      77997.25\n",
       "753       943      68705.80\n",
       "218       275      66897.46"
      ]
     },
     "execution_count": 65,
     "metadata": {},
     "output_type": "execute_result"
    }
   ],
   "source": [
    "reparaciones['CUSTOMER_TENURE'] = (snapshot_date.year - reparaciones['FECHA REPARACION'].dt.year)*12 + (\n",
    "    snapshot_date.month - reparaciones['FECHA REPARACION'].dt.month)\n",
    "\n",
    "reparaciones['CUSTOMER_TENURE_ON_TRANSACTION'] = (\n",
    "    reparaciones['FECHA REPARACION'].dt.year - reparaciones['COHORT'].dt.year)*12 + (\n",
    "    reparaciones['FECHA REPARACION'].dt.month - reparaciones['COHORT'].dt.month\n",
    ")\n",
    "\n",
    "cltv_24_months = reparaciones[\n",
    "    (reparaciones['CUSTOMER_TENURE'] > 24) &\n",
    "    (reparaciones['CUSTOMER_TENURE_ON_TRANSACTION'] <= 24)\n",
    "].groupby('CLIENTE')['INGRESO'].sum().reset_index()\n",
    "cltv_24_months = cltv_24_months.rename(columns={'INGRESO':'LTV_24_MESES'})\n",
    "\n",
    "cltv_nombres = cltv_24_months.merge(clientes, on='CLIENTE', how='inner') # Para poder observar los nombres de los clientes\n",
    "\n",
    "cltv_24_months.sort_values('LTV_24_MESES', ascending=False).head(15)"
   ]
  }
 ],
 "metadata": {
  "kernelspec": {
   "display_name": "base",
   "language": "python",
   "name": "python3"
  },
  "language_info": {
   "codemirror_mode": {
    "name": "ipython",
    "version": 3
   },
   "file_extension": ".py",
   "mimetype": "text/x-python",
   "name": "python",
   "nbconvert_exporter": "python",
   "pygments_lexer": "ipython3",
   "version": "3.11.7"
  }
 },
 "nbformat": 4,
 "nbformat_minor": 5
}
