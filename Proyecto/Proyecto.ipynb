{
 "cells": [
  {
   "cell_type": "markdown",
   "id": "1c30436e",
   "metadata": {},
   "source": [
    "## Paqueterías"
   ]
  },
  {
   "cell_type": "code",
   "execution_count": 37,
   "id": "e4d26ccc-b6c6-4ffa-a454-fee304ea605d",
   "metadata": {},
   "outputs": [],
   "source": [
    "import pandas as pd\n",
    "import numpy as np\n",
    "\n",
    "import seaborn as sns\n",
    "import matplotlib.pyplot as plt\n",
    "%matplotlib inline\n",
    "\n",
    "import warnings \n",
    "warnings.filterwarnings('ignore')"
   ]
  },
  {
   "cell_type": "markdown",
   "id": "de989d31",
   "metadata": {},
   "source": [
    "---\n",
    "\n",
    "# Proyecto Final\n",
    "**Laboratorio de Análisis Financiero y de Diseño de Indicadores**\n",
    "\n",
    "**Integrantes del equipo:**\n",
    "- Luis Eduardo Jiménez del Muro\n",
    "- Lenin Adair Quezada Gómez\n",
    "- José Armando Melchor Soto\n",
    "- Edgar Alfonso Ramos Gómez\n",
    "\n",
    "**Fecha: 26/11/2024**"
   ]
  },
  {
   "cell_type": "markdown",
   "id": "62b193a5",
   "metadata": {},
   "source": [
    "## Funciones del Programa "
   ]
  },
  {
   "cell_type": "code",
   "execution_count": null,
   "id": "fc89a719",
   "metadata": {},
   "outputs": [],
   "source": []
  },
  {
   "cell_type": "markdown",
   "id": "d9427de8",
   "metadata": {},
   "source": [
    "## Carga de Datos "
   ]
  },
  {
   "cell_type": "code",
   "execution_count": null,
   "id": "01d51c1b",
   "metadata": {},
   "outputs": [
    {
     "data": {
      "text/html": [
       "<div>\n",
       "<style scoped>\n",
       "    .dataframe tbody tr th:only-of-type {\n",
       "        vertical-align: middle;\n",
       "    }\n",
       "\n",
       "    .dataframe tbody tr th {\n",
       "        vertical-align: top;\n",
       "    }\n",
       "\n",
       "    .dataframe thead th {\n",
       "        text-align: right;\n",
       "    }\n",
       "</style>\n",
       "<table border=\"1\" class=\"dataframe\">\n",
       "  <thead>\n",
       "    <tr style=\"text-align: right;\">\n",
       "      <th></th>\n",
       "      <th>CLIENTE</th>\n",
       "      <th>DESCRIPCION FALLA</th>\n",
       "      <th>INGRESO</th>\n",
       "      <th>CLUSTER</th>\n",
       "      <th>SIMILITUD COSENO</th>\n",
       "      <th>COHORT</th>\n",
       "    </tr>\n",
       "  </thead>\n",
       "  <tbody>\n",
       "    <tr>\n",
       "      <th>0</th>\n",
       "      <td>2</td>\n",
       "      <td>revision general tndr cambio del panel de cont...</td>\n",
       "      <td>1820.0</td>\n",
       "      <td>Impresora Laser</td>\n",
       "      <td>0.298307</td>\n",
       "      <td>2017-11</td>\n",
       "    </tr>\n",
       "    <tr>\n",
       "      <th>1</th>\n",
       "      <td>2</td>\n",
       "      <td>imprime negro tn mantenimiento iva</td>\n",
       "      <td>480.0</td>\n",
       "      <td>Impresora Tinta</td>\n",
       "      <td>0.391361</td>\n",
       "      <td>2017-11</td>\n",
       "    </tr>\n",
       "    <tr>\n",
       "      <th>2</th>\n",
       "      <td>2</td>\n",
       "      <td>rev gral cartucho toner reparacion traccion de...</td>\n",
       "      <td>1030.0</td>\n",
       "      <td>Impresora Laser</td>\n",
       "      <td>0.508475</td>\n",
       "      <td>2017-11</td>\n",
       "    </tr>\n",
       "    <tr>\n",
       "      <th>3</th>\n",
       "      <td>2</td>\n",
       "      <td>rev gral sin toner    con cable de energia bue...</td>\n",
       "      <td>530.0</td>\n",
       "      <td>Impresora Laser</td>\n",
       "      <td>0.493519</td>\n",
       "      <td>2017-11</td>\n",
       "    </tr>\n",
       "    <tr>\n",
       "      <th>4</th>\n",
       "      <td>2</td>\n",
       "      <td>rev gral   sin toner cambio de contacto del ca...</td>\n",
       "      <td>480.0</td>\n",
       "      <td>Impresora Laser</td>\n",
       "      <td>0.448675</td>\n",
       "      <td>2017-11</td>\n",
       "    </tr>\n",
       "  </tbody>\n",
       "</table>\n",
       "</div>"
      ],
      "text/plain": [
       "   CLIENTE                                  DESCRIPCION FALLA  INGRESO  \\\n",
       "0        2  revision general tndr cambio del panel de cont...   1820.0   \n",
       "1        2                 imprime negro tn mantenimiento iva    480.0   \n",
       "2        2  rev gral cartucho toner reparacion traccion de...   1030.0   \n",
       "3        2  rev gral sin toner    con cable de energia bue...    530.0   \n",
       "4        2  rev gral   sin toner cambio de contacto del ca...    480.0   \n",
       "\n",
       "           CLUSTER  SIMILITUD COSENO   COHORT  \n",
       "0  Impresora Laser          0.298307  2017-11  \n",
       "1  Impresora Tinta          0.391361  2017-11  \n",
       "2  Impresora Laser          0.508475  2017-11  \n",
       "3  Impresora Laser          0.493519  2017-11  \n",
       "4  Impresora Laser          0.448675  2017-11  "
      ]
     },
     "metadata": {},
     "output_type": "display_data"
    }
   ],
   "source": [
    "reparaciones = pd.read_csv('reparaciones.csv')\n",
    "reparaciones.head()"
   ]
  },
  {
   "cell_type": "markdown",
   "id": "d5d47522",
   "metadata": {},
   "source": [
    "## Limpieza de los datos"
   ]
  },
  {
   "cell_type": "markdown",
   "id": "0b7b37b5",
   "metadata": {},
   "source": [
    "En esta sección principalmente se observará la distribución de las similitudes coseno y establecer un threshold para eliminar la clasificación imprecisa que pudo tener el modelo de embedding vectors."
   ]
  },
  {
   "cell_type": "markdown",
   "id": "1951bf6b",
   "metadata": {},
   "source": [
    "### Número de fallas por cluster antes de limpieza"
   ]
  },
  {
   "cell_type": "code",
   "execution_count": 15,
   "id": "1d53256a",
   "metadata": {},
   "outputs": [
    {
     "data": {
      "text/plain": [
       "<BarContainer object of 4 artists>"
      ]
     },
     "execution_count": 15,
     "metadata": {},
     "output_type": "execute_result"
    },
    {
     "data": {
      "image/png": "[encoded data removed]",
      "text/plain": [
       "<Figure size 800x600 with 1 Axes>"
      ]
     },
     "metadata": {},
     "output_type": "display_data"
    }
   ],
   "source": [
    "plt.figure(figsize=(8,6))\n",
    "plt.grid()\n",
    "plt.bar(['Laser', 'Tinta', 'Otros', 'Sistemas'], reparaciones.groupby('CLUSTER')['CLUSTER'].count())"
   ]
  },
  {
   "cell_type": "markdown",
   "id": "41d2e639",
   "metadata": {},
   "source": [
    "### Distribución de las similitudes coseno"
   ]
  },
  {
   "cell_type": "code",
   "execution_count": 16,
   "id": "b375f29b",
   "metadata": {},
   "outputs": [
    {
     "data": {
      "image/png": "[encoded data removed]",
      "text/plain": [
       "<Figure size 800x600 with 1 Axes>"
      ]
     },
     "metadata": {},
     "output_type": "display_data"
    }
   ],
   "source": [
    "plt.figure(figsize=(8,6))\n",
    "sns.histplot(reparaciones['SIMILITUD COSENO'], kde=True)\n",
    "plt.xlabel('Valores')\n",
    "plt.ylabel('Frecuencia')\n",
    "plt.title('Distribución de la similitud coseno')\n",
    "plt.grid()"
   ]
  },
  {
   "cell_type": "markdown",
   "id": "a2668ddf",
   "metadata": {},
   "source": [
    "### Establecimiento del threshold"
   ]
  },
  {
   "cell_type": "markdown",
   "id": "f9b11733",
   "metadata": {},
   "source": [
    "Decidimos limpar a partir del percentil ###, lo que significa que no nos interesan los registros que sean menores al percentil ###. Los que estén por encima del percentil ### no tenemos que eliminarlos porque esos representan a los que el modelo relacionó mejor."
   ]
  },
  {
   "cell_type": "code",
   "execution_count": 24,
   "id": "468d07fd",
   "metadata": {},
   "outputs": [
    {
     "data": {
      "text/plain": [
       "0.280610904"
      ]
     },
     "execution_count": 24,
     "metadata": {},
     "output_type": "execute_result"
    }
   ],
   "source": [
    "threshold = reparaciones['SIMILITUD COSENO'].quantile(0.1)\n",
    "threshold"
   ]
  },
  {
   "cell_type": "markdown",
   "id": "19fb50cd",
   "metadata": {},
   "source": [
    "### Número de fallas fuera del threshold"
   ]
  },
  {
   "cell_type": "code",
   "execution_count": 25,
   "id": "738c3e59",
   "metadata": {},
   "outputs": [
    {
     "data": {
      "image/png": "[encoded data removed]",
      "text/plain": [
       "<Figure size 800x600 with 1 Axes>"
      ]
     },
     "metadata": {},
     "output_type": "display_data"
    }
   ],
   "source": [
    "df_filtrado = reparaciones[reparaciones['SIMILITUD COSENO'] < threshold]\n",
    "\n",
    "conteo_clusters = df_filtrado['CLUSTER'].value_counts().reset_index()\n",
    "conteo_clusters.columns = ['CLUSTER', 'cantidad']\n",
    "\n",
    "plt.figure(figsize=(8,6))\n",
    "sns.barplot(data=conteo_clusters, x='CLUSTER', y='cantidad')\n",
    "plt.xlabel('CLUSTER')\n",
    "plt.ylabel('CANTIDAD')\n",
    "plt.title(f'Cantidad de registros menores al threshold: {threshold:.4f}')\n",
    "plt.grid()"
   ]
  },
  {
   "cell_type": "code",
   "execution_count": 26,
   "id": "6ef06088",
   "metadata": {},
   "outputs": [
    {
     "data": {
      "text/html": [
       "<div>\n",
       "<style scoped>\n",
       "    .dataframe tbody tr th:only-of-type {\n",
       "        vertical-align: middle;\n",
       "    }\n",
       "\n",
       "    .dataframe tbody tr th {\n",
       "        vertical-align: top;\n",
       "    }\n",
       "\n",
       "    .dataframe thead th {\n",
       "        text-align: right;\n",
       "    }\n",
       "</style>\n",
       "<table border=\"1\" class=\"dataframe\">\n",
       "  <thead>\n",
       "    <tr style=\"text-align: right;\">\n",
       "      <th></th>\n",
       "      <th>CLIENTE</th>\n",
       "      <th>DESCRIPCION FALLA</th>\n",
       "      <th>INGRESO</th>\n",
       "      <th>CLUSTER</th>\n",
       "      <th>SIMILITUD COSENO</th>\n",
       "      <th>COHORT</th>\n",
       "    </tr>\n",
       "  </thead>\n",
       "  <tbody>\n",
       "    <tr>\n",
       "      <th>0</th>\n",
       "      <td>2</td>\n",
       "      <td>revision general tndr cambio del panel de cont...</td>\n",
       "      <td>1820.0</td>\n",
       "      <td>Impresora Laser</td>\n",
       "      <td>0.298307</td>\n",
       "      <td>2017-11</td>\n",
       "    </tr>\n",
       "    <tr>\n",
       "      <th>1</th>\n",
       "      <td>2</td>\n",
       "      <td>imprime negro tn mantenimiento iva</td>\n",
       "      <td>480.0</td>\n",
       "      <td>Impresora Tinta</td>\n",
       "      <td>0.391361</td>\n",
       "      <td>2017-11</td>\n",
       "    </tr>\n",
       "    <tr>\n",
       "      <th>2</th>\n",
       "      <td>2</td>\n",
       "      <td>rev gral cartucho toner reparacion traccion de...</td>\n",
       "      <td>1030.0</td>\n",
       "      <td>Impresora Laser</td>\n",
       "      <td>0.508475</td>\n",
       "      <td>2017-11</td>\n",
       "    </tr>\n",
       "    <tr>\n",
       "      <th>3</th>\n",
       "      <td>2</td>\n",
       "      <td>rev gral sin toner    con cable de energia bue...</td>\n",
       "      <td>530.0</td>\n",
       "      <td>Impresora Laser</td>\n",
       "      <td>0.493519</td>\n",
       "      <td>2017-11</td>\n",
       "    </tr>\n",
       "    <tr>\n",
       "      <th>4</th>\n",
       "      <td>2</td>\n",
       "      <td>rev gral   sin toner cambio de contacto del ca...</td>\n",
       "      <td>480.0</td>\n",
       "      <td>Impresora Laser</td>\n",
       "      <td>0.448675</td>\n",
       "      <td>2017-11</td>\n",
       "    </tr>\n",
       "    <tr>\n",
       "      <th>...</th>\n",
       "      <td>...</td>\n",
       "      <td>...</td>\n",
       "      <td>...</td>\n",
       "      <td>...</td>\n",
       "      <td>...</td>\n",
       "      <td>...</td>\n",
       "    </tr>\n",
       "    <tr>\n",
       "      <th>8432</th>\n",
       "      <td>1853</td>\n",
       "      <td>arroja una luz roja en la hoja se traba al que...</td>\n",
       "      <td>1970.0</td>\n",
       "      <td>Sistemas</td>\n",
       "      <td>0.367617</td>\n",
       "      <td>2024-10</td>\n",
       "    </tr>\n",
       "    <tr>\n",
       "      <th>8433</th>\n",
       "      <td>1843</td>\n",
       "      <td>marcaba error de fusor y luego error de escane...</td>\n",
       "      <td>4790.0</td>\n",
       "      <td>Impresora Laser</td>\n",
       "      <td>0.458887</td>\n",
       "      <td>2024-09</td>\n",
       "    </tr>\n",
       "    <tr>\n",
       "      <th>8434</th>\n",
       "      <td>1841</td>\n",
       "      <td>arruga las hojas y se atora   cambio de filmin...</td>\n",
       "      <td>2575.0</td>\n",
       "      <td>Otros</td>\n",
       "      <td>0.408079</td>\n",
       "      <td>2024-09</td>\n",
       "    </tr>\n",
       "    <tr>\n",
       "      <th>8435</th>\n",
       "      <td>1845</td>\n",
       "      <td>retirar bateria hinchada contrasea leonfr elim...</td>\n",
       "      <td>600.0</td>\n",
       "      <td>Impresora Tinta</td>\n",
       "      <td>0.651373</td>\n",
       "      <td>2024-02</td>\n",
       "    </tr>\n",
       "    <tr>\n",
       "      <th>8436</th>\n",
       "      <td>1849</td>\n",
       "      <td>se traban las hojas   resorte de sensor de pap...</td>\n",
       "      <td>3695.0</td>\n",
       "      <td>Impresora Tinta</td>\n",
       "      <td>0.344659</td>\n",
       "      <td>2024-08</td>\n",
       "    </tr>\n",
       "  </tbody>\n",
       "</table>\n",
       "<p>8437 rows × 6 columns</p>\n",
       "</div>"
      ],
      "text/plain": [
       "      CLIENTE                                  DESCRIPCION FALLA  INGRESO  \\\n",
       "0           2  revision general tndr cambio del panel de cont...   1820.0   \n",
       "1           2                 imprime negro tn mantenimiento iva    480.0   \n",
       "2           2  rev gral cartucho toner reparacion traccion de...   1030.0   \n",
       "3           2  rev gral sin toner    con cable de energia bue...    530.0   \n",
       "4           2  rev gral   sin toner cambio de contacto del ca...    480.0   \n",
       "...       ...                                                ...      ...   \n",
       "8432     1853  arroja una luz roja en la hoja se traba al que...   1970.0   \n",
       "8433     1843  marcaba error de fusor y luego error de escane...   4790.0   \n",
       "8434     1841  arruga las hojas y se atora   cambio de filmin...   2575.0   \n",
       "8435     1845  retirar bateria hinchada contrasea leonfr elim...    600.0   \n",
       "8436     1849  se traban las hojas   resorte de sensor de pap...   3695.0   \n",
       "\n",
       "              CLUSTER  SIMILITUD COSENO   COHORT  \n",
       "0     Impresora Laser          0.298307  2017-11  \n",
       "1     Impresora Tinta          0.391361  2017-11  \n",
       "2     Impresora Laser          0.508475  2017-11  \n",
       "3     Impresora Laser          0.493519  2017-11  \n",
       "4     Impresora Laser          0.448675  2017-11  \n",
       "...               ...               ...      ...  \n",
       "8432         Sistemas          0.367617  2024-10  \n",
       "8433  Impresora Laser          0.458887  2024-09  \n",
       "8434            Otros          0.408079  2024-09  \n",
       "8435  Impresora Tinta          0.651373  2024-02  \n",
       "8436  Impresora Tinta          0.344659  2024-08  \n",
       "\n",
       "[8437 rows x 6 columns]"
      ]
     },
     "execution_count": 26,
     "metadata": {},
     "output_type": "execute_result"
    }
   ],
   "source": [
    "reparaciones_thresholded = reparaciones[reparaciones['SIMILITUD COSENO'] >= threshold].reset_index()\n",
    "reparaciones_thresholded = reparaciones_thresholded.drop(columns='index')\n",
    "reparaciones_thresholded"
   ]
  },
  {
   "cell_type": "code",
   "execution_count": 27,
   "id": "7d197067",
   "metadata": {},
   "outputs": [
    {
     "data": {
      "text/plain": [
       "<BarContainer object of 4 artists>"
      ]
     },
     "execution_count": 27,
     "metadata": {},
     "output_type": "execute_result"
    },
    {
     "data": {
      "image/png": "[encoded data removed]",
      "text/plain": [
       "<Figure size 640x480 with 1 Axes>"
      ]
     },
     "metadata": {},
     "output_type": "display_data"
    }
   ],
   "source": [
    "plt.grid()\n",
    "plt.bar(['Laser', 'Tinta', 'Otros', 'Sistemas'], reparaciones_thresholded.groupby('CLUSTER')['CLUSTER'].count())"
   ]
  },
  {
   "cell_type": "code",
   "execution_count": 34,
   "id": "99c05c9a",
   "metadata": {},
   "outputs": [],
   "source": [
    "reparaciones = reparaciones_thresholded[['CLIENTE', 'DESCRIPCION FALLA', 'INGRESO', 'CLUSTER', 'COHORT']]"
   ]
  },
  {
   "cell_type": "markdown",
   "id": "8708827a-99b3-4ab9-8a50-3a4647d275fb",
   "metadata": {},
   "source": [
    "## Exploración de Datos "
   ]
  },
  {
   "cell_type": "code",
   "execution_count": 35,
   "id": "ea9aed7d-24bb-43a9-806f-cdce1ef06cf3",
   "metadata": {},
   "outputs": [
    {
     "data": {
      "text/html": [
       "<div>\n",
       "<style scoped>\n",
       "    .dataframe tbody tr th:only-of-type {\n",
       "        vertical-align: middle;\n",
       "    }\n",
       "\n",
       "    .dataframe tbody tr th {\n",
       "        vertical-align: top;\n",
       "    }\n",
       "\n",
       "    .dataframe thead th {\n",
       "        text-align: right;\n",
       "    }\n",
       "</style>\n",
       "<table border=\"1\" class=\"dataframe\">\n",
       "  <thead>\n",
       "    <tr style=\"text-align: right;\">\n",
       "      <th></th>\n",
       "      <th>CLIENTE</th>\n",
       "      <th>DESCRIPCION FALLA</th>\n",
       "      <th>INGRESO</th>\n",
       "      <th>CLUSTER</th>\n",
       "      <th>COHORT</th>\n",
       "    </tr>\n",
       "  </thead>\n",
       "  <tbody>\n",
       "    <tr>\n",
       "      <th>0</th>\n",
       "      <td>2</td>\n",
       "      <td>revision general tndr cambio del panel de cont...</td>\n",
       "      <td>1820.0</td>\n",
       "      <td>Impresora Laser</td>\n",
       "      <td>2017-11-01</td>\n",
       "    </tr>\n",
       "    <tr>\n",
       "      <th>1</th>\n",
       "      <td>2</td>\n",
       "      <td>imprime negro tn mantenimiento iva</td>\n",
       "      <td>480.0</td>\n",
       "      <td>Impresora Tinta</td>\n",
       "      <td>2017-11-01</td>\n",
       "    </tr>\n",
       "    <tr>\n",
       "      <th>2</th>\n",
       "      <td>2</td>\n",
       "      <td>rev gral cartucho toner reparacion traccion de...</td>\n",
       "      <td>1030.0</td>\n",
       "      <td>Impresora Laser</td>\n",
       "      <td>2017-11-01</td>\n",
       "    </tr>\n",
       "    <tr>\n",
       "      <th>3</th>\n",
       "      <td>2</td>\n",
       "      <td>rev gral sin toner    con cable de energia bue...</td>\n",
       "      <td>530.0</td>\n",
       "      <td>Impresora Laser</td>\n",
       "      <td>2017-11-01</td>\n",
       "    </tr>\n",
       "    <tr>\n",
       "      <th>4</th>\n",
       "      <td>2</td>\n",
       "      <td>rev gral   sin toner cambio de contacto del ca...</td>\n",
       "      <td>480.0</td>\n",
       "      <td>Impresora Laser</td>\n",
       "      <td>2017-11-01</td>\n",
       "    </tr>\n",
       "    <tr>\n",
       "      <th>...</th>\n",
       "      <td>...</td>\n",
       "      <td>...</td>\n",
       "      <td>...</td>\n",
       "      <td>...</td>\n",
       "      <td>...</td>\n",
       "    </tr>\n",
       "    <tr>\n",
       "      <th>8432</th>\n",
       "      <td>1853</td>\n",
       "      <td>arroja una luz roja en la hoja se traba al que...</td>\n",
       "      <td>1970.0</td>\n",
       "      <td>Sistemas</td>\n",
       "      <td>2024-10-01</td>\n",
       "    </tr>\n",
       "    <tr>\n",
       "      <th>8433</th>\n",
       "      <td>1843</td>\n",
       "      <td>marcaba error de fusor y luego error de escane...</td>\n",
       "      <td>4790.0</td>\n",
       "      <td>Impresora Laser</td>\n",
       "      <td>2024-09-01</td>\n",
       "    </tr>\n",
       "    <tr>\n",
       "      <th>8434</th>\n",
       "      <td>1841</td>\n",
       "      <td>arruga las hojas y se atora   cambio de filmin...</td>\n",
       "      <td>2575.0</td>\n",
       "      <td>Otros</td>\n",
       "      <td>2024-09-01</td>\n",
       "    </tr>\n",
       "    <tr>\n",
       "      <th>8435</th>\n",
       "      <td>1845</td>\n",
       "      <td>retirar bateria hinchada contrasea leonfr elim...</td>\n",
       "      <td>600.0</td>\n",
       "      <td>Impresora Tinta</td>\n",
       "      <td>2024-02-01</td>\n",
       "    </tr>\n",
       "    <tr>\n",
       "      <th>8436</th>\n",
       "      <td>1849</td>\n",
       "      <td>se traban las hojas   resorte de sensor de pap...</td>\n",
       "      <td>3695.0</td>\n",
       "      <td>Impresora Tinta</td>\n",
       "      <td>2024-08-01</td>\n",
       "    </tr>\n",
       "  </tbody>\n",
       "</table>\n",
       "<p>8437 rows × 5 columns</p>\n",
       "</div>"
      ],
      "text/plain": [
       "      CLIENTE                                  DESCRIPCION FALLA  INGRESO  \\\n",
       "0           2  revision general tndr cambio del panel de cont...   1820.0   \n",
       "1           2                 imprime negro tn mantenimiento iva    480.0   \n",
       "2           2  rev gral cartucho toner reparacion traccion de...   1030.0   \n",
       "3           2  rev gral sin toner    con cable de energia bue...    530.0   \n",
       "4           2  rev gral   sin toner cambio de contacto del ca...    480.0   \n",
       "...       ...                                                ...      ...   \n",
       "8432     1853  arroja una luz roja en la hoja se traba al que...   1970.0   \n",
       "8433     1843  marcaba error de fusor y luego error de escane...   4790.0   \n",
       "8434     1841  arruga las hojas y se atora   cambio de filmin...   2575.0   \n",
       "8435     1845  retirar bateria hinchada contrasea leonfr elim...    600.0   \n",
       "8436     1849  se traban las hojas   resorte de sensor de pap...   3695.0   \n",
       "\n",
       "              CLUSTER     COHORT  \n",
       "0     Impresora Laser 2017-11-01  \n",
       "1     Impresora Tinta 2017-11-01  \n",
       "2     Impresora Laser 2017-11-01  \n",
       "3     Impresora Laser 2017-11-01  \n",
       "4     Impresora Laser 2017-11-01  \n",
       "...               ...        ...  \n",
       "8432         Sistemas 2024-10-01  \n",
       "8433  Impresora Laser 2024-09-01  \n",
       "8434            Otros 2024-09-01  \n",
       "8435  Impresora Tinta 2024-02-01  \n",
       "8436  Impresora Tinta 2024-08-01  \n",
       "\n",
       "[8437 rows x 5 columns]"
      ]
     },
     "execution_count": 35,
     "metadata": {},
     "output_type": "execute_result"
    }
   ],
   "source": [
    "reparaciones"
   ]
  },
  {
   "cell_type": "code",
   "execution_count": null,
   "id": "e0ad6642",
   "metadata": {},
   "outputs": [
    {
     "name": "stdout",
     "output_type": "stream",
     "text": [
      "<class 'pandas.core.frame.DataFrame'>\n",
      "RangeIndex: 8437 entries, 0 to 8436\n",
      "Data columns (total 6 columns):\n",
      " #   Column             Non-Null Count  Dtype  \n",
      "---  ------             --------------  -----  \n",
      " 0   CLIENTE            8437 non-null   int64  \n",
      " 1   DESCRIPCION FALLA  8437 non-null   object \n",
      " 2   INGRESO            8437 non-null   float64\n",
      " 3   CLUSTER            8437 non-null   object \n",
      " 4   SIMILITUD COSENO   8437 non-null   float64\n",
      " 5   COHORT             8437 non-null   object \n",
      "dtypes: float64(2), int64(1), object(3)\n",
      "memory usage: 395.6+ KB\n"
     ]
    }
   ],
   "source": [
    "reparaciones.info()"
   ]
  },
  {
   "cell_type": "code",
   "execution_count": 38,
   "id": "fec699d9-5d3d-4005-8c99-478b602f8439",
   "metadata": {},
   "outputs": [
    {
     "name": "stdout",
     "output_type": "stream",
     "text": [
      "<class 'pandas.core.frame.DataFrame'>\n",
      "RangeIndex: 8437 entries, 0 to 8436\n",
      "Data columns (total 5 columns):\n",
      " #   Column             Non-Null Count  Dtype         \n",
      "---  ------             --------------  -----         \n",
      " 0   CLIENTE            8437 non-null   int64         \n",
      " 1   DESCRIPCION FALLA  8437 non-null   object        \n",
      " 2   INGRESO            8437 non-null   float64       \n",
      " 3   CLUSTER            8437 non-null   object        \n",
      " 4   COHORT             8437 non-null   datetime64[ns]\n",
      "dtypes: datetime64[ns](1), float64(1), int64(1), object(2)\n",
      "memory usage: 329.7+ KB\n"
     ]
    }
   ],
   "source": [
    "reparaciones['COHORT'] = pd.to_datetime(reparaciones['COHORT'])\n",
    "reparaciones.info()"
   ]
  },
  {
   "cell_type": "markdown",
   "id": "03210495",
   "metadata": {},
   "source": [
    "## Análisis y cálculo de los KPIs"
   ]
  },
  {
   "cell_type": "markdown",
   "id": "34d8175c-0cc1-496d-8a65-6cc0b98b6751",
   "metadata": {},
   "source": [
    "### Customer Life Time Value"
   ]
  },
  {
   "cell_type": "code",
   "execution_count": 43,
   "id": "fad2ecd5-aa15-40ae-80e2-dc214efeb36d",
   "metadata": {},
   "outputs": [
    {
     "data": {
      "text/html": [
       "<div>\n",
       "<style scoped>\n",
       "    .dataframe tbody tr th:only-of-type {\n",
       "        vertical-align: middle;\n",
       "    }\n",
       "\n",
       "    .dataframe tbody tr th {\n",
       "        vertical-align: top;\n",
       "    }\n",
       "\n",
       "    .dataframe thead th {\n",
       "        text-align: right;\n",
       "    }\n",
       "</style>\n",
       "<table border=\"1\" class=\"dataframe\">\n",
       "  <thead>\n",
       "    <tr style=\"text-align: right;\">\n",
       "      <th></th>\n",
       "      <th>CLIENTE</th>\n",
       "      <th>INGRESO</th>\n",
       "    </tr>\n",
       "  </thead>\n",
       "  <tbody>\n",
       "    <tr>\n",
       "      <th>26</th>\n",
       "      <td>33</td>\n",
       "      <td>348702.94</td>\n",
       "    </tr>\n",
       "    <tr>\n",
       "      <th>40</th>\n",
       "      <td>50</td>\n",
       "      <td>300301.00</td>\n",
       "    </tr>\n",
       "    <tr>\n",
       "      <th>11</th>\n",
       "      <td>17</td>\n",
       "      <td>241241.80</td>\n",
       "    </tr>\n",
       "    <tr>\n",
       "      <th>20</th>\n",
       "      <td>26</td>\n",
       "      <td>240884.88</td>\n",
       "    </tr>\n",
       "    <tr>\n",
       "      <th>64</th>\n",
       "      <td>77</td>\n",
       "      <td>235516.60</td>\n",
       "    </tr>\n",
       "    <tr>\n",
       "      <th>...</th>\n",
       "      <td>...</td>\n",
       "      <td>...</td>\n",
       "    </tr>\n",
       "    <tr>\n",
       "      <th>683</th>\n",
       "      <td>847</td>\n",
       "      <td>80.00</td>\n",
       "    </tr>\n",
       "    <tr>\n",
       "      <th>455</th>\n",
       "      <td>586</td>\n",
       "      <td>80.00</td>\n",
       "    </tr>\n",
       "    <tr>\n",
       "      <th>168</th>\n",
       "      <td>201</td>\n",
       "      <td>80.00</td>\n",
       "    </tr>\n",
       "    <tr>\n",
       "      <th>838</th>\n",
       "      <td>1032</td>\n",
       "      <td>51.00</td>\n",
       "    </tr>\n",
       "    <tr>\n",
       "      <th>1214</th>\n",
       "      <td>1465</td>\n",
       "      <td>50.00</td>\n",
       "    </tr>\n",
       "  </tbody>\n",
       "</table>\n",
       "<p>1522 rows × 2 columns</p>\n",
       "</div>"
      ],
      "text/plain": [
       "      CLIENTE    INGRESO\n",
       "26         33  348702.94\n",
       "40         50  300301.00\n",
       "11         17  241241.80\n",
       "20         26  240884.88\n",
       "64         77  235516.60\n",
       "...       ...        ...\n",
       "683       847      80.00\n",
       "455       586      80.00\n",
       "168       201      80.00\n",
       "838      1032      51.00\n",
       "1214     1465      50.00\n",
       "\n",
       "[1522 rows x 2 columns]"
      ]
     },
     "execution_count": 43,
     "metadata": {},
     "output_type": "execute_result"
    }
   ],
   "source": [
    "ltv = reparaciones.groupby(['CLIENTE'])['INGRESO'].sum().reset_index()\n",
    "ltv.sort_values('INGRESO', ascending=False)"
   ]
  },
  {
   "cell_type": "code",
   "execution_count": null,
   "id": "364618bd",
   "metadata": {},
   "outputs": [],
   "source": []
  }
 ],
 "metadata": {
  "kernelspec": {
   "display_name": "base",
   "language": "python",
   "name": "python3"
  },
  "language_info": {
   "codemirror_mode": {
    "name": "ipython",
    "version": 3
   },
   "file_extension": ".py",
   "mimetype": "text/x-python",
   "name": "python",
   "nbconvert_exporter": "python",
   "pygments_lexer": "ipython3",
   "version": "3.11.7"
  }
 },
 "nbformat": 4,
 "nbformat_minor": 5
}
