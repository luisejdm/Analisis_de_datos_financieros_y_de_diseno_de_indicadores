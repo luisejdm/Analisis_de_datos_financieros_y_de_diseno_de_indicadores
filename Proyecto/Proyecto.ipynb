{
 "cells": [
  {
   "cell_type": "markdown",
   "id": "1c30436e",
   "metadata": {},
   "source": [
    "## Paqueterías"
   ]
  },
  {
   "cell_type": "code",
   "execution_count": 1,
   "id": "e4d26ccc-b6c6-4ffa-a454-fee304ea605d",
   "metadata": {},
   "outputs": [],
   "source": [
    "import pandas as pd\n",
    "import numpy as np\n",
    "from datetime import datetime\n",
    "from semopy import Model, Optimizer, semplot\n",
    "import statsmodels.api as sm\n",
    "from sklearn.preprocessing import StandardScaler\n",
    "\n",
    "import seaborn as sns\n",
    "import matplotlib.pyplot as plt\n",
    "%matplotlib inline\n",
    "\n",
    "from PIL import Image\n",
    "from IPython.display import display\n",
    "\n",
    "import warnings \n",
    "warnings.filterwarnings('ignore')"
   ]
  },
  {
   "cell_type": "markdown",
   "id": "de989d31",
   "metadata": {},
   "source": [
    "---\n",
    "\n",
    "# Proyecto Final\n",
    "**Laboratorio de Análisis Financiero y de Diseño de Indicadores**\n",
    "\n",
    "**Integrantes del equipo:**\n",
    "- Luis Eduardo Jiménez del Muro\n",
    "- Lenin Adair Quezada Gómez\n",
    "- José Armando Melchor Soto\n",
    "- Edgar Alfonso Ramos Gómez\n",
    "\n",
    "**Fecha: 26/11/2024**"
   ]
  },
  {
   "cell_type": "markdown",
   "id": "d9427de8",
   "metadata": {},
   "source": [
    "## Carga de Datos "
   ]
  },
  {
   "cell_type": "code",
   "execution_count": 2,
   "id": "01d51c1b",
   "metadata": {},
   "outputs": [
    {
     "data": {
      "text/html": [
       "<div>\n",
       "<style scoped>\n",
       "    .dataframe tbody tr th:only-of-type {\n",
       "        vertical-align: middle;\n",
       "    }\n",
       "\n",
       "    .dataframe tbody tr th {\n",
       "        vertical-align: top;\n",
       "    }\n",
       "\n",
       "    .dataframe thead th {\n",
       "        text-align: right;\n",
       "    }\n",
       "</style>\n",
       "<table border=\"1\" class=\"dataframe\">\n",
       "  <thead>\n",
       "    <tr style=\"text-align: right;\">\n",
       "      <th></th>\n",
       "      <th>CLIENTE</th>\n",
       "      <th>COHORT</th>\n",
       "      <th>DESCRIPCION FALLA</th>\n",
       "      <th>INGRESO</th>\n",
       "      <th>FECHA REPARACION</th>\n",
       "      <th>CLUSTER</th>\n",
       "      <th>SIMILITUD COSENO</th>\n",
       "    </tr>\n",
       "  </thead>\n",
       "  <tbody>\n",
       "    <tr>\n",
       "      <th>0</th>\n",
       "      <td>2</td>\n",
       "      <td>2017-11-22</td>\n",
       "      <td>revision general tndr cambio del panel de cont...</td>\n",
       "      <td>1820.0</td>\n",
       "      <td>29/11/2018</td>\n",
       "      <td>Impresora Laser</td>\n",
       "      <td>0.298307</td>\n",
       "    </tr>\n",
       "    <tr>\n",
       "      <th>1</th>\n",
       "      <td>2</td>\n",
       "      <td>2017-11-22</td>\n",
       "      <td>imprime negro tn mantenimiento iva</td>\n",
       "      <td>480.0</td>\n",
       "      <td>30/11/2018</td>\n",
       "      <td>Impresora Tinta</td>\n",
       "      <td>0.391361</td>\n",
       "    </tr>\n",
       "    <tr>\n",
       "      <th>2</th>\n",
       "      <td>2</td>\n",
       "      <td>2017-11-22</td>\n",
       "      <td>rev gral cartucho toner reparacion traccion de...</td>\n",
       "      <td>1030.0</td>\n",
       "      <td>02/01/2019</td>\n",
       "      <td>Impresora Laser</td>\n",
       "      <td>0.508475</td>\n",
       "    </tr>\n",
       "    <tr>\n",
       "      <th>3</th>\n",
       "      <td>2</td>\n",
       "      <td>2017-11-22</td>\n",
       "      <td>rev gral sin toner    con cable de energia bue...</td>\n",
       "      <td>530.0</td>\n",
       "      <td>29/11/2018</td>\n",
       "      <td>Impresora Laser</td>\n",
       "      <td>0.493519</td>\n",
       "    </tr>\n",
       "    <tr>\n",
       "      <th>4</th>\n",
       "      <td>2</td>\n",
       "      <td>2017-11-22</td>\n",
       "      <td>rev gral   sin toner cambio de contacto del ca...</td>\n",
       "      <td>480.0</td>\n",
       "      <td>29/11/2018</td>\n",
       "      <td>Impresora Laser</td>\n",
       "      <td>0.448675</td>\n",
       "    </tr>\n",
       "    <tr>\n",
       "      <th>...</th>\n",
       "      <td>...</td>\n",
       "      <td>...</td>\n",
       "      <td>...</td>\n",
       "      <td>...</td>\n",
       "      <td>...</td>\n",
       "      <td>...</td>\n",
       "      <td>...</td>\n",
       "    </tr>\n",
       "    <tr>\n",
       "      <th>9295</th>\n",
       "      <td>1835</td>\n",
       "      <td>2024-09-13</td>\n",
       "      <td>en el area del impime obscuro en doble cara ta...</td>\n",
       "      <td>2815.0</td>\n",
       "      <td>20/09/2024</td>\n",
       "      <td>Sistemas</td>\n",
       "      <td>0.325016</td>\n",
       "    </tr>\n",
       "    <tr>\n",
       "      <th>9296</th>\n",
       "      <td>1837</td>\n",
       "      <td>2024-09-13</td>\n",
       "      <td>no escanea no saca copias marca papel atascado...</td>\n",
       "      <td>3532.0</td>\n",
       "      <td>30/09/2024</td>\n",
       "      <td>Sistemas</td>\n",
       "      <td>0.275756</td>\n",
       "    </tr>\n",
       "    <tr>\n",
       "      <th>9297</th>\n",
       "      <td>1843</td>\n",
       "      <td>2024-09-24</td>\n",
       "      <td>marcaba error de fusor y luego error de escane...</td>\n",
       "      <td>4790.0</td>\n",
       "      <td>30/09/2024</td>\n",
       "      <td>Impresora Laser</td>\n",
       "      <td>0.458887</td>\n",
       "    </tr>\n",
       "    <tr>\n",
       "      <th>9298</th>\n",
       "      <td>1841</td>\n",
       "      <td>2024-09-20</td>\n",
       "      <td>arruga las hojas y se atora   cambio de filmin...</td>\n",
       "      <td>2575.0</td>\n",
       "      <td>26/09/2024</td>\n",
       "      <td>Otros</td>\n",
       "      <td>0.408079</td>\n",
       "    </tr>\n",
       "    <tr>\n",
       "      <th>9299</th>\n",
       "      <td>1845</td>\n",
       "      <td>2024-02-10</td>\n",
       "      <td>retirar bateria hinchada contrasea leonfr elim...</td>\n",
       "      <td>600.0</td>\n",
       "      <td>30/09/2024</td>\n",
       "      <td>Impresora Tinta</td>\n",
       "      <td>0.651373</td>\n",
       "    </tr>\n",
       "  </tbody>\n",
       "</table>\n",
       "<p>9300 rows × 7 columns</p>\n",
       "</div>"
      ],
      "text/plain": [
       "      CLIENTE      COHORT                                  DESCRIPCION FALLA  \\\n",
       "0           2  2017-11-22  revision general tndr cambio del panel de cont...   \n",
       "1           2  2017-11-22                 imprime negro tn mantenimiento iva   \n",
       "2           2  2017-11-22  rev gral cartucho toner reparacion traccion de...   \n",
       "3           2  2017-11-22  rev gral sin toner    con cable de energia bue...   \n",
       "4           2  2017-11-22  rev gral   sin toner cambio de contacto del ca...   \n",
       "...       ...         ...                                                ...   \n",
       "9295     1835  2024-09-13  en el area del impime obscuro en doble cara ta...   \n",
       "9296     1837  2024-09-13  no escanea no saca copias marca papel atascado...   \n",
       "9297     1843  2024-09-24  marcaba error de fusor y luego error de escane...   \n",
       "9298     1841  2024-09-20  arruga las hojas y se atora   cambio de filmin...   \n",
       "9299     1845  2024-02-10  retirar bateria hinchada contrasea leonfr elim...   \n",
       "\n",
       "      INGRESO FECHA REPARACION          CLUSTER  SIMILITUD COSENO  \n",
       "0      1820.0       29/11/2018  Impresora Laser          0.298307  \n",
       "1       480.0       30/11/2018  Impresora Tinta          0.391361  \n",
       "2      1030.0       02/01/2019  Impresora Laser          0.508475  \n",
       "3       530.0       29/11/2018  Impresora Laser          0.493519  \n",
       "4       480.0       29/11/2018  Impresora Laser          0.448675  \n",
       "...       ...              ...              ...               ...  \n",
       "9295   2815.0       20/09/2024         Sistemas          0.325016  \n",
       "9296   3532.0       30/09/2024         Sistemas          0.275756  \n",
       "9297   4790.0       30/09/2024  Impresora Laser          0.458887  \n",
       "9298   2575.0       26/09/2024            Otros          0.408079  \n",
       "9299    600.0       30/09/2024  Impresora Tinta          0.651373  \n",
       "\n",
       "[9300 rows x 7 columns]"
      ]
     },
     "execution_count": 2,
     "metadata": {},
     "output_type": "execute_result"
    }
   ],
   "source": [
    "reparaciones = pd.read_csv('reparaciones.csv')\n",
    "reparaciones = reparaciones[['CLIENTE', 'COHORT', 'DESCRIPCION FALLA', 'INGRESO', 'FECHA REPARACION', 'CLUSTER', 'SIMILITUD COSENO']]\n",
    "\n",
    "clientes = pd.read_csv('data/CLIENTES.csv', encoding='latin1')\n",
    "clientes = clientes[['CLIENTE', 'NOMBRES']]\n",
    "\n",
    "reparaciones"
   ]
  },
  {
   "cell_type": "markdown",
   "id": "d5d47522",
   "metadata": {},
   "source": [
    "## Limpieza de los datos"
   ]
  },
  {
   "cell_type": "markdown",
   "id": "0b7b37b5",
   "metadata": {},
   "source": [
    "En esta sección principalmente se observará la distribución de las similitudes coseno y establecer un threshold para eliminar la clasificación imprecisa que pudo tener el modelo de embedding vectors."
   ]
  },
  {
   "cell_type": "markdown",
   "id": "1951bf6b",
   "metadata": {},
   "source": [
    "### Número de fallas por cluster antes de limpieza"
   ]
  },
  {
   "cell_type": "code",
   "execution_count": 3,
   "id": "1d53256a",
   "metadata": {},
   "outputs": [
    {
     "data": {
      "text/plain": [
       "Text(0, 0.5, 'CANTIDAD')"
      ]
     },
     "execution_count": 3,
     "metadata": {},
     "output_type": "execute_result"
    },
    {
     "data": {
      "image/png": "[encoded data removed]",
      "text/plain": [
       "<Figure size 800x600 with 1 Axes>"
      ]
     },
     "metadata": {},
     "output_type": "display_data"
    }
   ],
   "source": [
    "plt.figure(figsize=(8,6))\n",
    "plt.grid()\n",
    "plt.bar(['Laser', 'Tinta', 'Otros', 'Sistemas'], reparaciones.groupby('CLUSTER')['CLUSTER'].count(), color='cadetblue')\n",
    "plt.title('Número de fallas por Cluster antes de limpieza', fontsize=16)\n",
    "plt.xlabel('CLUSTER')\n",
    "plt.ylabel('CANTIDAD')"
   ]
  },
  {
   "cell_type": "markdown",
   "id": "41d2e639",
   "metadata": {},
   "source": [
    "### Distribución de las similitudes coseno"
   ]
  },
  {
   "cell_type": "code",
   "execution_count": 4,
   "id": "b375f29b",
   "metadata": {},
   "outputs": [
    {
     "data": {
      "image/png": "[encoded data removed]",
      "text/plain": [
       "<Figure size 800x600 with 1 Axes>"
      ]
     },
     "metadata": {},
     "output_type": "display_data"
    }
   ],
   "source": [
    "plt.figure(figsize=(8,6))\n",
    "sns.histplot(reparaciones['SIMILITUD COSENO'], kde=True, color='cadetblue')\n",
    "plt.xlabel('Valores')\n",
    "plt.ylabel('Frecuencia')\n",
    "plt.title('Histograma de frecuencias de las similitudes coseno')\n",
    "plt.grid()"
   ]
  },
  {
   "cell_type": "markdown",
   "id": "a2668ddf",
   "metadata": {},
   "source": [
    "### Establecimiento del threshold"
   ]
  },
  {
   "cell_type": "markdown",
   "id": "c51b9315",
   "metadata": {},
   "source": [
    "#### Percentil 0.05 de la distribución"
   ]
  },
  {
   "cell_type": "code",
   "execution_count": 5,
   "id": "468d07fd",
   "metadata": {},
   "outputs": [
    {
     "data": {
      "text/plain": [
       "0.25578981100000003"
      ]
     },
     "execution_count": 5,
     "metadata": {},
     "output_type": "execute_result"
    }
   ],
   "source": [
    "threshold = reparaciones['SIMILITUD COSENO'].quantile(0.05)\n",
    "threshold"
   ]
  },
  {
   "cell_type": "markdown",
   "id": "4c705af0",
   "metadata": {},
   "source": [
    "Observamos que el 5% de las similitudes coseno mas bajas se encuentran de 0.2557 para abajo. Sin embargo, nosotros, decidimos penalizar un poco más y decidimos eliminar todas las que se encuentren por dabajo de 0.27 de similitud."
   ]
  },
  {
   "cell_type": "markdown",
   "id": "19fb50cd",
   "metadata": {},
   "source": [
    "### Número de fallas fuera del threshold"
   ]
  },
  {
   "cell_type": "code",
   "execution_count": 6,
   "id": "738c3e59",
   "metadata": {},
   "outputs": [
    {
     "data": {
      "image/png": "[encoded data removed]",
      "text/plain": [
       "<Figure size 800x600 with 1 Axes>"
      ]
     },
     "metadata": {},
     "output_type": "display_data"
    }
   ],
   "source": [
    "df_filtrado = reparaciones[reparaciones['SIMILITUD COSENO'] < 0.27]\n",
    "\n",
    "conteo_clusters = df_filtrado['CLUSTER'].value_counts().reset_index()\n",
    "conteo_clusters.columns = ['CLUSTER', 'cantidad']\n",
    "\n",
    "plt.figure(figsize=(8,6))\n",
    "sns.barplot(data=conteo_clusters, x='CLUSTER', y='cantidad', color = 'cadetblue')\n",
    "plt.xlabel('CLUSTER')\n",
    "plt.ylabel('CANTIDAD')\n",
    "plt.title('Cantidad de registros menores al threshold: 0.27')\n",
    "plt.grid()"
   ]
  },
  {
   "cell_type": "code",
   "execution_count": 7,
   "id": "6ef06088",
   "metadata": {},
   "outputs": [
    {
     "data": {
      "text/html": [
       "<div>\n",
       "<style scoped>\n",
       "    .dataframe tbody tr th:only-of-type {\n",
       "        vertical-align: middle;\n",
       "    }\n",
       "\n",
       "    .dataframe tbody tr th {\n",
       "        vertical-align: top;\n",
       "    }\n",
       "\n",
       "    .dataframe thead th {\n",
       "        text-align: right;\n",
       "    }\n",
       "</style>\n",
       "<table border=\"1\" class=\"dataframe\">\n",
       "  <thead>\n",
       "    <tr style=\"text-align: right;\">\n",
       "      <th></th>\n",
       "      <th>CLIENTE</th>\n",
       "      <th>COHORT</th>\n",
       "      <th>DESCRIPCION FALLA</th>\n",
       "      <th>INGRESO</th>\n",
       "      <th>FECHA REPARACION</th>\n",
       "      <th>CLUSTER</th>\n",
       "      <th>SIMILITUD COSENO</th>\n",
       "    </tr>\n",
       "  </thead>\n",
       "  <tbody>\n",
       "    <tr>\n",
       "      <th>0</th>\n",
       "      <td>2</td>\n",
       "      <td>2017-11-22</td>\n",
       "      <td>revision general tndr cambio del panel de cont...</td>\n",
       "      <td>1820.0</td>\n",
       "      <td>29/11/2018</td>\n",
       "      <td>Impresora Laser</td>\n",
       "      <td>0.298307</td>\n",
       "    </tr>\n",
       "    <tr>\n",
       "      <th>1</th>\n",
       "      <td>2</td>\n",
       "      <td>2017-11-22</td>\n",
       "      <td>imprime negro tn mantenimiento iva</td>\n",
       "      <td>480.0</td>\n",
       "      <td>30/11/2018</td>\n",
       "      <td>Impresora Tinta</td>\n",
       "      <td>0.391361</td>\n",
       "    </tr>\n",
       "    <tr>\n",
       "      <th>2</th>\n",
       "      <td>2</td>\n",
       "      <td>2017-11-22</td>\n",
       "      <td>rev gral cartucho toner reparacion traccion de...</td>\n",
       "      <td>1030.0</td>\n",
       "      <td>02/01/2019</td>\n",
       "      <td>Impresora Laser</td>\n",
       "      <td>0.508475</td>\n",
       "    </tr>\n",
       "    <tr>\n",
       "      <th>3</th>\n",
       "      <td>2</td>\n",
       "      <td>2017-11-22</td>\n",
       "      <td>rev gral sin toner    con cable de energia bue...</td>\n",
       "      <td>530.0</td>\n",
       "      <td>29/11/2018</td>\n",
       "      <td>Impresora Laser</td>\n",
       "      <td>0.493519</td>\n",
       "    </tr>\n",
       "    <tr>\n",
       "      <th>4</th>\n",
       "      <td>2</td>\n",
       "      <td>2017-11-22</td>\n",
       "      <td>rev gral   sin toner cambio de contacto del ca...</td>\n",
       "      <td>480.0</td>\n",
       "      <td>29/11/2018</td>\n",
       "      <td>Impresora Laser</td>\n",
       "      <td>0.448675</td>\n",
       "    </tr>\n",
       "    <tr>\n",
       "      <th>...</th>\n",
       "      <td>...</td>\n",
       "      <td>...</td>\n",
       "      <td>...</td>\n",
       "      <td>...</td>\n",
       "      <td>...</td>\n",
       "      <td>...</td>\n",
       "      <td>...</td>\n",
       "    </tr>\n",
       "    <tr>\n",
       "      <th>8597</th>\n",
       "      <td>1835</td>\n",
       "      <td>2024-09-13</td>\n",
       "      <td>en el area del impime obscuro en doble cara ta...</td>\n",
       "      <td>2815.0</td>\n",
       "      <td>20/09/2024</td>\n",
       "      <td>Sistemas</td>\n",
       "      <td>0.325016</td>\n",
       "    </tr>\n",
       "    <tr>\n",
       "      <th>8598</th>\n",
       "      <td>1837</td>\n",
       "      <td>2024-09-13</td>\n",
       "      <td>no escanea no saca copias marca papel atascado...</td>\n",
       "      <td>3532.0</td>\n",
       "      <td>30/09/2024</td>\n",
       "      <td>Sistemas</td>\n",
       "      <td>0.275756</td>\n",
       "    </tr>\n",
       "    <tr>\n",
       "      <th>8599</th>\n",
       "      <td>1843</td>\n",
       "      <td>2024-09-24</td>\n",
       "      <td>marcaba error de fusor y luego error de escane...</td>\n",
       "      <td>4790.0</td>\n",
       "      <td>30/09/2024</td>\n",
       "      <td>Impresora Laser</td>\n",
       "      <td>0.458887</td>\n",
       "    </tr>\n",
       "    <tr>\n",
       "      <th>8600</th>\n",
       "      <td>1841</td>\n",
       "      <td>2024-09-20</td>\n",
       "      <td>arruga las hojas y se atora   cambio de filmin...</td>\n",
       "      <td>2575.0</td>\n",
       "      <td>26/09/2024</td>\n",
       "      <td>Otros</td>\n",
       "      <td>0.408079</td>\n",
       "    </tr>\n",
       "    <tr>\n",
       "      <th>8601</th>\n",
       "      <td>1845</td>\n",
       "      <td>2024-02-10</td>\n",
       "      <td>retirar bateria hinchada contrasea leonfr elim...</td>\n",
       "      <td>600.0</td>\n",
       "      <td>30/09/2024</td>\n",
       "      <td>Impresora Tinta</td>\n",
       "      <td>0.651373</td>\n",
       "    </tr>\n",
       "  </tbody>\n",
       "</table>\n",
       "<p>8602 rows × 7 columns</p>\n",
       "</div>"
      ],
      "text/plain": [
       "      CLIENTE      COHORT                                  DESCRIPCION FALLA  \\\n",
       "0           2  2017-11-22  revision general tndr cambio del panel de cont...   \n",
       "1           2  2017-11-22                 imprime negro tn mantenimiento iva   \n",
       "2           2  2017-11-22  rev gral cartucho toner reparacion traccion de...   \n",
       "3           2  2017-11-22  rev gral sin toner    con cable de energia bue...   \n",
       "4           2  2017-11-22  rev gral   sin toner cambio de contacto del ca...   \n",
       "...       ...         ...                                                ...   \n",
       "8597     1835  2024-09-13  en el area del impime obscuro en doble cara ta...   \n",
       "8598     1837  2024-09-13  no escanea no saca copias marca papel atascado...   \n",
       "8599     1843  2024-09-24  marcaba error de fusor y luego error de escane...   \n",
       "8600     1841  2024-09-20  arruga las hojas y se atora   cambio de filmin...   \n",
       "8601     1845  2024-02-10  retirar bateria hinchada contrasea leonfr elim...   \n",
       "\n",
       "      INGRESO FECHA REPARACION          CLUSTER  SIMILITUD COSENO  \n",
       "0      1820.0       29/11/2018  Impresora Laser          0.298307  \n",
       "1       480.0       30/11/2018  Impresora Tinta          0.391361  \n",
       "2      1030.0       02/01/2019  Impresora Laser          0.508475  \n",
       "3       530.0       29/11/2018  Impresora Laser          0.493519  \n",
       "4       480.0       29/11/2018  Impresora Laser          0.448675  \n",
       "...       ...              ...              ...               ...  \n",
       "8597   2815.0       20/09/2024         Sistemas          0.325016  \n",
       "8598   3532.0       30/09/2024         Sistemas          0.275756  \n",
       "8599   4790.0       30/09/2024  Impresora Laser          0.458887  \n",
       "8600   2575.0       26/09/2024            Otros          0.408079  \n",
       "8601    600.0       30/09/2024  Impresora Tinta          0.651373  \n",
       "\n",
       "[8602 rows x 7 columns]"
      ]
     },
     "execution_count": 7,
     "metadata": {},
     "output_type": "execute_result"
    }
   ],
   "source": [
    "reparaciones_thresholded = reparaciones[reparaciones['SIMILITUD COSENO'] >= 0.27].reset_index()\n",
    "reparaciones_thresholded = reparaciones_thresholded.drop(columns='index')\n",
    "reparaciones_thresholded"
   ]
  },
  {
   "cell_type": "code",
   "execution_count": 8,
   "id": "7d197067",
   "metadata": {},
   "outputs": [
    {
     "data": {
      "text/plain": [
       "Text(0, 0.5, 'CANTIDAD')"
      ]
     },
     "execution_count": 8,
     "metadata": {},
     "output_type": "execute_result"
    },
    {
     "data": {
      "image/png": "[encoded data removed]",
      "text/plain": [
       "<Figure size 800x600 with 1 Axes>"
      ]
     },
     "metadata": {},
     "output_type": "display_data"
    }
   ],
   "source": [
    "plt.figure(figsize=(8,6))\n",
    "plt.grid()\n",
    "plt.bar(['Laser', 'Tinta', 'Otros', 'Sistemas'], reparaciones_thresholded.groupby('CLUSTER')['CLUSTER'].count(), color='cadetblue')\n",
    "plt.title('Número de fallas por Cluster despues de limpieza', fontsize=16)\n",
    "plt.xlabel('CLUSTER')\n",
    "plt.ylabel('CANTIDAD')"
   ]
  },
  {
   "cell_type": "code",
   "execution_count": 9,
   "id": "99c05c9a",
   "metadata": {},
   "outputs": [],
   "source": [
    "reparaciones = reparaciones_thresholded[['CLIENTE', 'COHORT', 'DESCRIPCION FALLA', 'INGRESO', 'FECHA REPARACION', 'CLUSTER']]"
   ]
  },
  {
   "cell_type": "markdown",
   "id": "8708827a-99b3-4ab9-8a50-3a4647d275fb",
   "metadata": {},
   "source": [
    "## Exploración de Datos "
   ]
  },
  {
   "cell_type": "code",
   "execution_count": 10,
   "id": "ea9aed7d-24bb-43a9-806f-cdce1ef06cf3",
   "metadata": {},
   "outputs": [
    {
     "data": {
      "text/html": [
       "<div>\n",
       "<style scoped>\n",
       "    .dataframe tbody tr th:only-of-type {\n",
       "        vertical-align: middle;\n",
       "    }\n",
       "\n",
       "    .dataframe tbody tr th {\n",
       "        vertical-align: top;\n",
       "    }\n",
       "\n",
       "    .dataframe thead th {\n",
       "        text-align: right;\n",
       "    }\n",
       "</style>\n",
       "<table border=\"1\" class=\"dataframe\">\n",
       "  <thead>\n",
       "    <tr style=\"text-align: right;\">\n",
       "      <th></th>\n",
       "      <th>CLIENTE</th>\n",
       "      <th>COHORT</th>\n",
       "      <th>DESCRIPCION FALLA</th>\n",
       "      <th>INGRESO</th>\n",
       "      <th>FECHA REPARACION</th>\n",
       "      <th>CLUSTER</th>\n",
       "    </tr>\n",
       "  </thead>\n",
       "  <tbody>\n",
       "    <tr>\n",
       "      <th>0</th>\n",
       "      <td>2</td>\n",
       "      <td>2017-11-22</td>\n",
       "      <td>revision general tndr cambio del panel de cont...</td>\n",
       "      <td>1820.0</td>\n",
       "      <td>29/11/2018</td>\n",
       "      <td>Impresora Laser</td>\n",
       "    </tr>\n",
       "    <tr>\n",
       "      <th>1</th>\n",
       "      <td>2</td>\n",
       "      <td>2017-11-22</td>\n",
       "      <td>imprime negro tn mantenimiento iva</td>\n",
       "      <td>480.0</td>\n",
       "      <td>30/11/2018</td>\n",
       "      <td>Impresora Tinta</td>\n",
       "    </tr>\n",
       "    <tr>\n",
       "      <th>2</th>\n",
       "      <td>2</td>\n",
       "      <td>2017-11-22</td>\n",
       "      <td>rev gral cartucho toner reparacion traccion de...</td>\n",
       "      <td>1030.0</td>\n",
       "      <td>02/01/2019</td>\n",
       "      <td>Impresora Laser</td>\n",
       "    </tr>\n",
       "    <tr>\n",
       "      <th>3</th>\n",
       "      <td>2</td>\n",
       "      <td>2017-11-22</td>\n",
       "      <td>rev gral sin toner    con cable de energia bue...</td>\n",
       "      <td>530.0</td>\n",
       "      <td>29/11/2018</td>\n",
       "      <td>Impresora Laser</td>\n",
       "    </tr>\n",
       "    <tr>\n",
       "      <th>4</th>\n",
       "      <td>2</td>\n",
       "      <td>2017-11-22</td>\n",
       "      <td>rev gral   sin toner cambio de contacto del ca...</td>\n",
       "      <td>480.0</td>\n",
       "      <td>29/11/2018</td>\n",
       "      <td>Impresora Laser</td>\n",
       "    </tr>\n",
       "    <tr>\n",
       "      <th>...</th>\n",
       "      <td>...</td>\n",
       "      <td>...</td>\n",
       "      <td>...</td>\n",
       "      <td>...</td>\n",
       "      <td>...</td>\n",
       "      <td>...</td>\n",
       "    </tr>\n",
       "    <tr>\n",
       "      <th>8597</th>\n",
       "      <td>1835</td>\n",
       "      <td>2024-09-13</td>\n",
       "      <td>en el area del impime obscuro en doble cara ta...</td>\n",
       "      <td>2815.0</td>\n",
       "      <td>20/09/2024</td>\n",
       "      <td>Sistemas</td>\n",
       "    </tr>\n",
       "    <tr>\n",
       "      <th>8598</th>\n",
       "      <td>1837</td>\n",
       "      <td>2024-09-13</td>\n",
       "      <td>no escanea no saca copias marca papel atascado...</td>\n",
       "      <td>3532.0</td>\n",
       "      <td>30/09/2024</td>\n",
       "      <td>Sistemas</td>\n",
       "    </tr>\n",
       "    <tr>\n",
       "      <th>8599</th>\n",
       "      <td>1843</td>\n",
       "      <td>2024-09-24</td>\n",
       "      <td>marcaba error de fusor y luego error de escane...</td>\n",
       "      <td>4790.0</td>\n",
       "      <td>30/09/2024</td>\n",
       "      <td>Impresora Laser</td>\n",
       "    </tr>\n",
       "    <tr>\n",
       "      <th>8600</th>\n",
       "      <td>1841</td>\n",
       "      <td>2024-09-20</td>\n",
       "      <td>arruga las hojas y se atora   cambio de filmin...</td>\n",
       "      <td>2575.0</td>\n",
       "      <td>26/09/2024</td>\n",
       "      <td>Otros</td>\n",
       "    </tr>\n",
       "    <tr>\n",
       "      <th>8601</th>\n",
       "      <td>1845</td>\n",
       "      <td>2024-02-10</td>\n",
       "      <td>retirar bateria hinchada contrasea leonfr elim...</td>\n",
       "      <td>600.0</td>\n",
       "      <td>30/09/2024</td>\n",
       "      <td>Impresora Tinta</td>\n",
       "    </tr>\n",
       "  </tbody>\n",
       "</table>\n",
       "<p>8602 rows × 6 columns</p>\n",
       "</div>"
      ],
      "text/plain": [
       "      CLIENTE      COHORT                                  DESCRIPCION FALLA  \\\n",
       "0           2  2017-11-22  revision general tndr cambio del panel de cont...   \n",
       "1           2  2017-11-22                 imprime negro tn mantenimiento iva   \n",
       "2           2  2017-11-22  rev gral cartucho toner reparacion traccion de...   \n",
       "3           2  2017-11-22  rev gral sin toner    con cable de energia bue...   \n",
       "4           2  2017-11-22  rev gral   sin toner cambio de contacto del ca...   \n",
       "...       ...         ...                                                ...   \n",
       "8597     1835  2024-09-13  en el area del impime obscuro en doble cara ta...   \n",
       "8598     1837  2024-09-13  no escanea no saca copias marca papel atascado...   \n",
       "8599     1843  2024-09-24  marcaba error de fusor y luego error de escane...   \n",
       "8600     1841  2024-09-20  arruga las hojas y se atora   cambio de filmin...   \n",
       "8601     1845  2024-02-10  retirar bateria hinchada contrasea leonfr elim...   \n",
       "\n",
       "      INGRESO FECHA REPARACION          CLUSTER  \n",
       "0      1820.0       29/11/2018  Impresora Laser  \n",
       "1       480.0       30/11/2018  Impresora Tinta  \n",
       "2      1030.0       02/01/2019  Impresora Laser  \n",
       "3       530.0       29/11/2018  Impresora Laser  \n",
       "4       480.0       29/11/2018  Impresora Laser  \n",
       "...       ...              ...              ...  \n",
       "8597   2815.0       20/09/2024         Sistemas  \n",
       "8598   3532.0       30/09/2024         Sistemas  \n",
       "8599   4790.0       30/09/2024  Impresora Laser  \n",
       "8600   2575.0       26/09/2024            Otros  \n",
       "8601    600.0       30/09/2024  Impresora Tinta  \n",
       "\n",
       "[8602 rows x 6 columns]"
      ]
     },
     "execution_count": 10,
     "metadata": {},
     "output_type": "execute_result"
    }
   ],
   "source": [
    "reparaciones"
   ]
  },
  {
   "cell_type": "code",
   "execution_count": 11,
   "id": "e0ad6642",
   "metadata": {},
   "outputs": [
    {
     "name": "stdout",
     "output_type": "stream",
     "text": [
      "<class 'pandas.core.frame.DataFrame'>\n",
      "RangeIndex: 8602 entries, 0 to 8601\n",
      "Data columns (total 6 columns):\n",
      " #   Column             Non-Null Count  Dtype  \n",
      "---  ------             --------------  -----  \n",
      " 0   CLIENTE            8602 non-null   int64  \n",
      " 1   COHORT             8602 non-null   object \n",
      " 2   DESCRIPCION FALLA  8602 non-null   object \n",
      " 3   INGRESO            8602 non-null   float64\n",
      " 4   FECHA REPARACION   8602 non-null   object \n",
      " 5   CLUSTER            8602 non-null   object \n",
      "dtypes: float64(1), int64(1), object(4)\n",
      "memory usage: 403.3+ KB\n"
     ]
    }
   ],
   "source": [
    "reparaciones.info()"
   ]
  },
  {
   "cell_type": "markdown",
   "id": "083e203f-3de0-4052-b44a-bc964937a958",
   "metadata": {},
   "source": [
    "### Corregir las fechas que están escrita con '-' y cambiarlas por '/' para realizar la conversión a DateTime"
   ]
  },
  {
   "cell_type": "code",
   "execution_count": 12,
   "id": "fec699d9-5d3d-4005-8c99-478b602f8439",
   "metadata": {},
   "outputs": [
    {
     "name": "stdout",
     "output_type": "stream",
     "text": [
      "<class 'pandas.core.frame.DataFrame'>\n",
      "Int64Index: 8593 entries, 0 to 8601\n",
      "Data columns (total 6 columns):\n",
      " #   Column             Non-Null Count  Dtype         \n",
      "---  ------             --------------  -----         \n",
      " 0   CLIENTE            8593 non-null   int64         \n",
      " 1   COHORT             8593 non-null   datetime64[ns]\n",
      " 2   DESCRIPCION FALLA  8593 non-null   object        \n",
      " 3   INGRESO            8593 non-null   float64       \n",
      " 4   FECHA REPARACION   8593 non-null   datetime64[ns]\n",
      " 5   CLUSTER            8593 non-null   object        \n",
      "dtypes: datetime64[ns](2), float64(1), int64(1), object(2)\n",
      "memory usage: 469.9+ KB\n"
     ]
    }
   ],
   "source": [
    "reparaciones['FECHA REPARACION'] = reparaciones['FECHA REPARACION'].str.replace('-', '/')\n",
    "reparaciones['COHORT'] = reparaciones['COHORT'].str.replace('-', '/')\n",
    "\n",
    "reparaciones['FECHA REPARACION'] = pd.to_datetime(reparaciones['FECHA REPARACION'], dayfirst=True, errors='coerce')\n",
    "reparaciones['COHORT'] = pd.to_datetime(reparaciones['COHORT'], dayfirst=True, errors='coerce')\n",
    "\n",
    "current_date = datetime.now()\n",
    "reparaciones.loc[reparaciones['FECHA REPARACION'] > current_date, 'FECHA REPARACION'] = pd.NaT\n",
    "reparaciones.loc[reparaciones['COHORT'] > current_date, 'COHORT'] = pd.NaT\n",
    "\n",
    "reparaciones = reparaciones.dropna(subset='FECHA REPARACION')\n",
    "reparaciones = reparaciones.dropna(subset='COHORT')\n",
    "\n",
    "reparaciones.info()"
   ]
  },
  {
   "cell_type": "markdown",
   "id": "93a304fc-ad53-42d9-a27c-166a17db4eac",
   "metadata": {},
   "source": [
    "### Identificar primer ticket por cliente. "
   ]
  },
  {
   "cell_type": "code",
   "execution_count": 13,
   "id": "6824b6e7-4586-4a69-8a32-a171f93f1bdc",
   "metadata": {},
   "outputs": [
    {
     "data": {
      "text/html": [
       "<div>\n",
       "<style scoped>\n",
       "    .dataframe tbody tr th:only-of-type {\n",
       "        vertical-align: middle;\n",
       "    }\n",
       "\n",
       "    .dataframe tbody tr th {\n",
       "        vertical-align: top;\n",
       "    }\n",
       "\n",
       "    .dataframe thead th {\n",
       "        text-align: right;\n",
       "    }\n",
       "</style>\n",
       "<table border=\"1\" class=\"dataframe\">\n",
       "  <thead>\n",
       "    <tr style=\"text-align: right;\">\n",
       "      <th></th>\n",
       "      <th>CLIENTE</th>\n",
       "      <th>CLUSTER</th>\n",
       "      <th>INGRESO</th>\n",
       "    </tr>\n",
       "  </thead>\n",
       "  <tbody>\n",
       "    <tr>\n",
       "      <th>0</th>\n",
       "      <td>2</td>\n",
       "      <td>Impresora Laser</td>\n",
       "      <td>1820.0</td>\n",
       "    </tr>\n",
       "    <tr>\n",
       "      <th>1</th>\n",
       "      <td>3</td>\n",
       "      <td>Sistemas</td>\n",
       "      <td>360.0</td>\n",
       "    </tr>\n",
       "    <tr>\n",
       "      <th>2</th>\n",
       "      <td>4</td>\n",
       "      <td>Sistemas</td>\n",
       "      <td>300.0</td>\n",
       "    </tr>\n",
       "    <tr>\n",
       "      <th>3</th>\n",
       "      <td>5</td>\n",
       "      <td>Sistemas</td>\n",
       "      <td>480.0</td>\n",
       "    </tr>\n",
       "    <tr>\n",
       "      <th>4</th>\n",
       "      <td>6</td>\n",
       "      <td>Sistemas</td>\n",
       "      <td>500.0</td>\n",
       "    </tr>\n",
       "  </tbody>\n",
       "</table>\n",
       "</div>"
      ],
      "text/plain": [
       "   CLIENTE          CLUSTER  INGRESO\n",
       "0        2  Impresora Laser   1820.0\n",
       "1        3         Sistemas    360.0\n",
       "2        4         Sistemas    300.0\n",
       "3        5         Sistemas    480.0\n",
       "4        6         Sistemas    500.0"
      ]
     },
     "execution_count": 13,
     "metadata": {},
     "output_type": "execute_result"
    }
   ],
   "source": [
    "reparaciones_sorted = reparaciones.sort_values(by=['CLIENTE', 'FECHA REPARACION'])\n",
    "first_ticket_df = reparaciones_sorted.groupby('CLIENTE').first().reset_index()\n",
    "first_ticket_df = first_ticket_df[['CLIENTE', 'CLUSTER', 'INGRESO']]\n",
    "first_ticket_df.head()"
   ]
  },
  {
   "cell_type": "markdown",
   "id": "03210495",
   "metadata": {},
   "source": [
    "## Análisis y cálculo del KPI"
   ]
  },
  {
   "cell_type": "markdown",
   "id": "34d8175c-0cc1-496d-8a65-6cc0b98b6751",
   "metadata": {},
   "source": [
    "### Customer Lifetime Value (24 Meses)"
   ]
  },
  {
   "cell_type": "code",
   "execution_count": 14,
   "id": "bc5c0e6b",
   "metadata": {},
   "outputs": [
    {
     "data": {
      "text/plain": [
       "Timestamp('2024-10-18 00:00:00')"
      ]
     },
     "execution_count": 14,
     "metadata": {},
     "output_type": "execute_result"
    }
   ],
   "source": [
    "snapshot_date = reparaciones['FECHA REPARACION'].max()\n",
    "snapshot_date"
   ]
  },
  {
   "cell_type": "code",
   "execution_count": 15,
   "id": "deeb7ee0",
   "metadata": {},
   "outputs": [
    {
     "data": {
      "text/plain": [
       "Timestamp('2017-12-04 00:00:00')"
      ]
     },
     "execution_count": 15,
     "metadata": {},
     "output_type": "execute_result"
    }
   ],
   "source": [
    "reparaciones['FECHA REPARACION'].min()"
   ]
  },
  {
   "cell_type": "code",
   "execution_count": 16,
   "id": "27d02d0c",
   "metadata": {},
   "outputs": [
    {
     "data": {
      "text/html": [
       "<div>\n",
       "<style scoped>\n",
       "    .dataframe tbody tr th:only-of-type {\n",
       "        vertical-align: middle;\n",
       "    }\n",
       "\n",
       "    .dataframe tbody tr th {\n",
       "        vertical-align: top;\n",
       "    }\n",
       "\n",
       "    .dataframe thead th {\n",
       "        text-align: right;\n",
       "    }\n",
       "</style>\n",
       "<table border=\"1\" class=\"dataframe\">\n",
       "  <thead>\n",
       "    <tr style=\"text-align: right;\">\n",
       "      <th></th>\n",
       "      <th>CLIENTE</th>\n",
       "      <th>LTV_24_MESES</th>\n",
       "    </tr>\n",
       "  </thead>\n",
       "  <tbody>\n",
       "    <tr>\n",
       "      <th>0</th>\n",
       "      <td>2</td>\n",
       "      <td>10200.0</td>\n",
       "    </tr>\n",
       "    <tr>\n",
       "      <th>1</th>\n",
       "      <td>3</td>\n",
       "      <td>31575.0</td>\n",
       "    </tr>\n",
       "    <tr>\n",
       "      <th>2</th>\n",
       "      <td>4</td>\n",
       "      <td>142495.8</td>\n",
       "    </tr>\n",
       "    <tr>\n",
       "      <th>3</th>\n",
       "      <td>5</td>\n",
       "      <td>32372.0</td>\n",
       "    </tr>\n",
       "    <tr>\n",
       "      <th>4</th>\n",
       "      <td>6</td>\n",
       "      <td>13021.0</td>\n",
       "    </tr>\n",
       "  </tbody>\n",
       "</table>\n",
       "</div>"
      ],
      "text/plain": [
       "   CLIENTE  LTV_24_MESES\n",
       "0        2       10200.0\n",
       "1        3       31575.0\n",
       "2        4      142495.8\n",
       "3        5       32372.0\n",
       "4        6       13021.0"
      ]
     },
     "execution_count": 16,
     "metadata": {},
     "output_type": "execute_result"
    }
   ],
   "source": [
    "reparaciones['CUSTOMER_TENURE'] = (snapshot_date.year - reparaciones['FECHA REPARACION'].dt.year)*12 + (\n",
    "    snapshot_date.month - reparaciones['FECHA REPARACION'].dt.month)\n",
    "\n",
    "reparaciones['CUSTOMER_TENURE_ON_TRANSACTION'] = (\n",
    "    reparaciones['FECHA REPARACION'].dt.year - reparaciones['COHORT'].dt.year)*12 + (\n",
    "    reparaciones['FECHA REPARACION'].dt.month - reparaciones['COHORT'].dt.month\n",
    ")\n",
    "\n",
    "cltv_24_months = reparaciones[\n",
    "    (reparaciones['CUSTOMER_TENURE'] > 24) &\n",
    "    (reparaciones['CUSTOMER_TENURE_ON_TRANSACTION'] <= 24)\n",
    "].groupby('CLIENTE')['INGRESO'].sum().reset_index()\n",
    "cltv_24_months = cltv_24_months.rename(columns={'INGRESO':'LTV_24_MESES'})\n",
    "\n",
    "cltv_nombres = cltv_24_months.merge(clientes, on='CLIENTE', how='inner') # Para poder observar los nombres de los clientes\n",
    "\n",
    "cltv_24_months.head()"
   ]
  },
  {
   "cell_type": "markdown",
   "id": "618ba79e-4472-4aee-9d0b-6de655e781c8",
   "metadata": {},
   "source": [
    "## Visualización de las variables relacionadas. "
   ]
  },
  {
   "cell_type": "markdown",
   "id": "49846999-637c-445e-a7c8-716b086b2714",
   "metadata": {},
   "source": [
    "### LTV por cohort"
   ]
  },
  {
   "cell_type": "code",
   "execution_count": 17,
   "id": "ff6b7cac-d878-4a2f-8faf-80b475986e4f",
   "metadata": {},
   "outputs": [
    {
     "data": {
      "text/plain": [
       "Text(0, 0.5, 'LTV')"
      ]
     },
     "execution_count": 17,
     "metadata": {},
     "output_type": "execute_result"
    },
    {
     "data": {
      "image/png": "[encoded data removed]",
      "text/plain": [
       "<Figure size 1200x600 with 1 Axes>"
      ]
     },
     "metadata": {},
     "output_type": "display_data"
    }
   ],
   "source": [
    "reparaciones_ltv = reparaciones.merge(cltv_24_months, on='CLIENTE', how='inner')\n",
    "reparaciones_cohort_m = reparaciones_ltv[['CLIENTE', 'COHORT', 'LTV_24_MESES']]\n",
    "reparaciones_cohort_m['COHORT'] = pd.to_datetime(reparaciones['COHORT'], errors='coerce').dt.to_period('M')\n",
    "reparaciones_cohort_m = reparaciones_cohort_m.drop_duplicates().reset_index(drop=True)\n",
    "reparaciones_cohort_m = reparaciones_cohort_m.sort_values('COHORT').dropna()\n",
    "\n",
    "plt.figure(figsize=(12,6))\n",
    "reparaciones_cohort_m.groupby('COHORT')['LTV_24_MESES'].mean().plot(color='cadetblue')\n",
    "plt.title('LTV 24 MESES POR COHORT', fontsize=18)\n",
    "plt.grid()\n",
    "plt.xlabel('COHORT')\n",
    "plt.ylabel('LTV')"
   ]
  },
  {
   "cell_type": "markdown",
   "id": "92f9f207-d6e8-451d-9c42-eebbae94e990",
   "metadata": {},
   "source": [
    "- El principal objetivo de la empresa es mejorar el LifeTime Value de sus clientes. Lo que podemos ver en la gráfica, es que a lo largo de los años que llevan operando no ha habido ningun tipo de mejora en esto.\n",
    "- Los clientes que entraron en 2018 le han dado el mismo LifeTime Value que los que entraron en 2022."
   ]
  },
  {
   "cell_type": "markdown",
   "id": "7789d642",
   "metadata": {},
   "source": [
    "## Predicción del Customer Lifetime Value"
   ]
  },
  {
   "cell_type": "markdown",
   "id": "0d299df1-71c5-40bd-8c25-49676b29df3b",
   "metadata": {},
   "source": [
    "Para esta regresión lineal se utilizará el primer ticket de cada cliente. Las variables que se tienen es la cantidad de dinero que ingresó a la empresa en su primer ticket y el sector al que se dirigía su reparación."
   ]
  },
  {
   "cell_type": "code",
   "execution_count": 18,
   "id": "4f62a53a-bec2-4abe-95db-0a9c38e6e265",
   "metadata": {},
   "outputs": [
    {
     "data": {
      "text/html": [
       "<div>\n",
       "<style scoped>\n",
       "    .dataframe tbody tr th:only-of-type {\n",
       "        vertical-align: middle;\n",
       "    }\n",
       "\n",
       "    .dataframe tbody tr th {\n",
       "        vertical-align: top;\n",
       "    }\n",
       "\n",
       "    .dataframe thead th {\n",
       "        text-align: right;\n",
       "    }\n",
       "</style>\n",
       "<table border=\"1\" class=\"dataframe\">\n",
       "  <thead>\n",
       "    <tr style=\"text-align: right;\">\n",
       "      <th></th>\n",
       "      <th>CLIENTE</th>\n",
       "      <th>CLUSTER</th>\n",
       "      <th>INGRESO</th>\n",
       "      <th>LTV</th>\n",
       "    </tr>\n",
       "  </thead>\n",
       "  <tbody>\n",
       "    <tr>\n",
       "      <th>0</th>\n",
       "      <td>2</td>\n",
       "      <td>Impresora Laser</td>\n",
       "      <td>1820.0</td>\n",
       "      <td>10200.0</td>\n",
       "    </tr>\n",
       "    <tr>\n",
       "      <th>1</th>\n",
       "      <td>3</td>\n",
       "      <td>Sistemas</td>\n",
       "      <td>360.0</td>\n",
       "      <td>31575.0</td>\n",
       "    </tr>\n",
       "    <tr>\n",
       "      <th>2</th>\n",
       "      <td>4</td>\n",
       "      <td>Sistemas</td>\n",
       "      <td>300.0</td>\n",
       "      <td>142495.8</td>\n",
       "    </tr>\n",
       "    <tr>\n",
       "      <th>3</th>\n",
       "      <td>5</td>\n",
       "      <td>Sistemas</td>\n",
       "      <td>480.0</td>\n",
       "      <td>32372.0</td>\n",
       "    </tr>\n",
       "    <tr>\n",
       "      <th>4</th>\n",
       "      <td>6</td>\n",
       "      <td>Sistemas</td>\n",
       "      <td>500.0</td>\n",
       "      <td>13021.0</td>\n",
       "    </tr>\n",
       "    <tr>\n",
       "      <th>...</th>\n",
       "      <td>...</td>\n",
       "      <td>...</td>\n",
       "      <td>...</td>\n",
       "      <td>...</td>\n",
       "    </tr>\n",
       "    <tr>\n",
       "      <th>1221</th>\n",
       "      <td>1467</td>\n",
       "      <td>Impresora Tinta</td>\n",
       "      <td>2100.0</td>\n",
       "      <td>1240.0</td>\n",
       "    </tr>\n",
       "    <tr>\n",
       "      <th>1222</th>\n",
       "      <td>1470</td>\n",
       "      <td>Sistemas</td>\n",
       "      <td>6631.9</td>\n",
       "      <td>2890.0</td>\n",
       "    </tr>\n",
       "    <tr>\n",
       "      <th>1223</th>\n",
       "      <td>1471</td>\n",
       "      <td>Sistemas</td>\n",
       "      <td>11200.0</td>\n",
       "      <td>1064.0</td>\n",
       "    </tr>\n",
       "    <tr>\n",
       "      <th>1224</th>\n",
       "      <td>1472</td>\n",
       "      <td>Sistemas</td>\n",
       "      <td>850.0</td>\n",
       "      <td>2610.0</td>\n",
       "    </tr>\n",
       "    <tr>\n",
       "      <th>1225</th>\n",
       "      <td>1474</td>\n",
       "      <td>Impresora Tinta</td>\n",
       "      <td>1915.0</td>\n",
       "      <td>3703.2</td>\n",
       "    </tr>\n",
       "  </tbody>\n",
       "</table>\n",
       "<p>1226 rows × 4 columns</p>\n",
       "</div>"
      ],
      "text/plain": [
       "      CLIENTE          CLUSTER  INGRESO       LTV\n",
       "0           2  Impresora Laser   1820.0   10200.0\n",
       "1           3         Sistemas    360.0   31575.0\n",
       "2           4         Sistemas    300.0  142495.8\n",
       "3           5         Sistemas    480.0   32372.0\n",
       "4           6         Sistemas    500.0   13021.0\n",
       "...       ...              ...      ...       ...\n",
       "1221     1467  Impresora Tinta   2100.0    1240.0\n",
       "1222     1470         Sistemas   6631.9    2890.0\n",
       "1223     1471         Sistemas  11200.0    1064.0\n",
       "1224     1472         Sistemas    850.0    2610.0\n",
       "1225     1474  Impresora Tinta   1915.0    3703.2\n",
       "\n",
       "[1226 rows x 4 columns]"
      ]
     },
     "execution_count": 18,
     "metadata": {},
     "output_type": "execute_result"
    }
   ],
   "source": [
    "first_ticket_df['LTV'] = cltv_24_months['LTV_24_MESES']\n",
    "df_regresion = first_ticket_df.dropna()\n",
    "df_regresion"
   ]
  },
  {
   "cell_type": "markdown",
   "id": "e5218bb4-8576-46ee-8b33-18e7af2cd811",
   "metadata": {},
   "source": [
    "#### Creación de variables dummies para la variable categórica Cluster."
   ]
  },
  {
   "cell_type": "code",
   "execution_count": 19,
   "id": "4cf12ffc-4b85-44da-b3f9-fc097a903bcb",
   "metadata": {},
   "outputs": [
    {
     "data": {
      "text/html": [
       "<div>\n",
       "<style scoped>\n",
       "    .dataframe tbody tr th:only-of-type {\n",
       "        vertical-align: middle;\n",
       "    }\n",
       "\n",
       "    .dataframe tbody tr th {\n",
       "        vertical-align: top;\n",
       "    }\n",
       "\n",
       "    .dataframe thead th {\n",
       "        text-align: right;\n",
       "    }\n",
       "</style>\n",
       "<table border=\"1\" class=\"dataframe\">\n",
       "  <thead>\n",
       "    <tr style=\"text-align: right;\">\n",
       "      <th></th>\n",
       "      <th>CLIENTE</th>\n",
       "      <th>INGRESO</th>\n",
       "      <th>LTV</th>\n",
       "      <th>CLUSTER_Impresora Laser</th>\n",
       "      <th>CLUSTER_Impresora Tinta</th>\n",
       "      <th>CLUSTER_Otros</th>\n",
       "      <th>CLUSTER_Sistemas</th>\n",
       "    </tr>\n",
       "  </thead>\n",
       "  <tbody>\n",
       "    <tr>\n",
       "      <th>0</th>\n",
       "      <td>2</td>\n",
       "      <td>1820.0</td>\n",
       "      <td>10200.0</td>\n",
       "      <td>1</td>\n",
       "      <td>0</td>\n",
       "      <td>0</td>\n",
       "      <td>0</td>\n",
       "    </tr>\n",
       "    <tr>\n",
       "      <th>1</th>\n",
       "      <td>3</td>\n",
       "      <td>360.0</td>\n",
       "      <td>31575.0</td>\n",
       "      <td>0</td>\n",
       "      <td>0</td>\n",
       "      <td>0</td>\n",
       "      <td>1</td>\n",
       "    </tr>\n",
       "    <tr>\n",
       "      <th>2</th>\n",
       "      <td>4</td>\n",
       "      <td>300.0</td>\n",
       "      <td>142495.8</td>\n",
       "      <td>0</td>\n",
       "      <td>0</td>\n",
       "      <td>0</td>\n",
       "      <td>1</td>\n",
       "    </tr>\n",
       "    <tr>\n",
       "      <th>3</th>\n",
       "      <td>5</td>\n",
       "      <td>480.0</td>\n",
       "      <td>32372.0</td>\n",
       "      <td>0</td>\n",
       "      <td>0</td>\n",
       "      <td>0</td>\n",
       "      <td>1</td>\n",
       "    </tr>\n",
       "    <tr>\n",
       "      <th>4</th>\n",
       "      <td>6</td>\n",
       "      <td>500.0</td>\n",
       "      <td>13021.0</td>\n",
       "      <td>0</td>\n",
       "      <td>0</td>\n",
       "      <td>0</td>\n",
       "      <td>1</td>\n",
       "    </tr>\n",
       "    <tr>\n",
       "      <th>...</th>\n",
       "      <td>...</td>\n",
       "      <td>...</td>\n",
       "      <td>...</td>\n",
       "      <td>...</td>\n",
       "      <td>...</td>\n",
       "      <td>...</td>\n",
       "      <td>...</td>\n",
       "    </tr>\n",
       "    <tr>\n",
       "      <th>1221</th>\n",
       "      <td>1467</td>\n",
       "      <td>2100.0</td>\n",
       "      <td>1240.0</td>\n",
       "      <td>0</td>\n",
       "      <td>1</td>\n",
       "      <td>0</td>\n",
       "      <td>0</td>\n",
       "    </tr>\n",
       "    <tr>\n",
       "      <th>1222</th>\n",
       "      <td>1470</td>\n",
       "      <td>6631.9</td>\n",
       "      <td>2890.0</td>\n",
       "      <td>0</td>\n",
       "      <td>0</td>\n",
       "      <td>0</td>\n",
       "      <td>1</td>\n",
       "    </tr>\n",
       "    <tr>\n",
       "      <th>1223</th>\n",
       "      <td>1471</td>\n",
       "      <td>11200.0</td>\n",
       "      <td>1064.0</td>\n",
       "      <td>0</td>\n",
       "      <td>0</td>\n",
       "      <td>0</td>\n",
       "      <td>1</td>\n",
       "    </tr>\n",
       "    <tr>\n",
       "      <th>1224</th>\n",
       "      <td>1472</td>\n",
       "      <td>850.0</td>\n",
       "      <td>2610.0</td>\n",
       "      <td>0</td>\n",
       "      <td>0</td>\n",
       "      <td>0</td>\n",
       "      <td>1</td>\n",
       "    </tr>\n",
       "    <tr>\n",
       "      <th>1225</th>\n",
       "      <td>1474</td>\n",
       "      <td>1915.0</td>\n",
       "      <td>3703.2</td>\n",
       "      <td>0</td>\n",
       "      <td>1</td>\n",
       "      <td>0</td>\n",
       "      <td>0</td>\n",
       "    </tr>\n",
       "  </tbody>\n",
       "</table>\n",
       "<p>1226 rows × 7 columns</p>\n",
       "</div>"
      ],
      "text/plain": [
       "      CLIENTE  INGRESO       LTV  CLUSTER_Impresora Laser  \\\n",
       "0           2   1820.0   10200.0                        1   \n",
       "1           3    360.0   31575.0                        0   \n",
       "2           4    300.0  142495.8                        0   \n",
       "3           5    480.0   32372.0                        0   \n",
       "4           6    500.0   13021.0                        0   \n",
       "...       ...      ...       ...                      ...   \n",
       "1221     1467   2100.0    1240.0                        0   \n",
       "1222     1470   6631.9    2890.0                        0   \n",
       "1223     1471  11200.0    1064.0                        0   \n",
       "1224     1472    850.0    2610.0                        0   \n",
       "1225     1474   1915.0    3703.2                        0   \n",
       "\n",
       "      CLUSTER_Impresora Tinta  CLUSTER_Otros  CLUSTER_Sistemas  \n",
       "0                           0              0                 0  \n",
       "1                           0              0                 1  \n",
       "2                           0              0                 1  \n",
       "3                           0              0                 1  \n",
       "4                           0              0                 1  \n",
       "...                       ...            ...               ...  \n",
       "1221                        1              0                 0  \n",
       "1222                        0              0                 1  \n",
       "1223                        0              0                 1  \n",
       "1224                        0              0                 1  \n",
       "1225                        1              0                 0  \n",
       "\n",
       "[1226 rows x 7 columns]"
      ]
     },
     "execution_count": 19,
     "metadata": {},
     "output_type": "execute_result"
    }
   ],
   "source": [
    "categorical_features = ['CLUSTER']\n",
    "numerical_features = ['INGRESO', 'LTV']\n",
    "\n",
    "data_encoded = pd.get_dummies(df_regresion[['CLIENTE']+categorical_features], \n",
    "                              columns=categorical_features, \n",
    "                              drop_first=False)\n",
    "\n",
    "df_to_model = df_regresion[['CLIENTE']+numerical_features].merge(data_encoded, on='CLIENTE')\n",
    "\n",
    "df_to_model"
   ]
  },
  {
   "cell_type": "markdown",
   "id": "931cbc6d-c5a5-448e-b59a-9e12c61651f5",
   "metadata": {},
   "source": [
    "#### Regresión lineal con todas las variables "
   ]
  },
  {
   "cell_type": "code",
   "execution_count": 20,
   "id": "551d2d39-6b89-45b9-8e29-d4ea16d531ec",
   "metadata": {},
   "outputs": [
    {
     "name": "stdout",
     "output_type": "stream",
     "text": [
      "                            OLS Regression Results                            \n",
      "==============================================================================\n",
      "Dep. Variable:                    LTV   R-squared:                       0.007\n",
      "Model:                            OLS   Adj. R-squared:                  0.004\n",
      "Method:                 Least Squares   F-statistic:                     2.158\n",
      "Date:                Mon, 18 Nov 2024   Prob (F-statistic):             0.0716\n",
      "Time:                        14:57:16   Log-Likelihood:                -13501.\n",
      "No. Observations:                1226   AIC:                         2.701e+04\n",
      "Df Residuals:                    1221   BIC:                         2.704e+04\n",
      "Df Model:                           4                                         \n",
      "Covariance Type:            nonrobust                                         \n",
      "===========================================================================================\n",
      "                              coef    std err          t      P>|t|      [0.025      0.975]\n",
      "-------------------------------------------------------------------------------------------\n",
      "const                    6402.7879    509.255     12.573      0.000    5403.676    7401.900\n",
      "INGRESO                    -0.2381      0.121     -1.963      0.050      -0.476   -7.34e-05\n",
      "CLUSTER_Impresora Laser  1981.0518   1034.628      1.915      0.056     -48.795    4010.898\n",
      "CLUSTER_Impresora Tinta    95.3740    849.596      0.112      0.911   -1571.455    1762.203\n",
      "CLUSTER_Otros            3913.6874   1471.746      2.659      0.008    1026.257    6801.118\n",
      "CLUSTER_Sistemas          412.6747    637.611      0.647      0.518    -838.261    1663.610\n",
      "==============================================================================\n",
      "Omnibus:                     1339.691   Durbin-Watson:                   1.926\n",
      "Prob(Omnibus):                  0.000   Jarque-Bera (JB):            88219.791\n",
      "Skew:                           5.415   Prob(JB):                         0.00\n",
      "Kurtosis:                      43.121   Cond. No.                     3.52e+19\n",
      "==============================================================================\n",
      "\n",
      "Notes:\n",
      "[1] Standard Errors assume that the covariance matrix of the errors is correctly specified.\n",
      "[2] The smallest eigenvalue is 1.5e-29. This might indicate that there are\n",
      "strong multicollinearity problems or that the design matrix is singular.\n"
     ]
    }
   ],
   "source": [
    "x = ['INGRESO', 'CLUSTER_Impresora Laser', 'CLUSTER_Impresora Tinta', 'CLUSTER_Otros', 'CLUSTER_Sistemas']\n",
    "y = ['LTV']\n",
    "\n",
    "\n",
    "X = sm.add_constant(df_to_model[x])\n",
    "\n",
    "model = sm.OLS(df_to_model[y], X)\n",
    "results = model.fit()\n",
    "\n",
    "print(results.summary())"
   ]
  },
  {
   "cell_type": "markdown",
   "id": "99f69140-038a-4cda-a35e-26a6974cead0",
   "metadata": {},
   "source": [
    "Eliminamos el Cluster de impresora de Tinta de la regresión, dado que su p-value indica que no es significativa para el modelo."
   ]
  },
  {
   "cell_type": "markdown",
   "id": "83166092-e50c-48eb-8e94-3a030e089635",
   "metadata": {},
   "source": [
    "#### Regresión lineal sin Impresora Tinta"
   ]
  },
  {
   "cell_type": "code",
   "execution_count": 21,
   "id": "ab01743a-9307-4c41-b8c1-1093a1d0d93e",
   "metadata": {},
   "outputs": [
    {
     "name": "stdout",
     "output_type": "stream",
     "text": [
      "                            OLS Regression Results                            \n",
      "==============================================================================\n",
      "Dep. Variable:                    LTV   R-squared:                       0.007\n",
      "Model:                            OLS   Adj. R-squared:                  0.004\n",
      "Method:                 Least Squares   F-statistic:                     2.158\n",
      "Date:                Mon, 18 Nov 2024   Prob (F-statistic):             0.0716\n",
      "Time:                        14:57:16   Log-Likelihood:                -13501.\n",
      "No. Observations:                1226   AIC:                         2.701e+04\n",
      "Df Residuals:                    1221   BIC:                         2.704e+04\n",
      "Df Model:                           4                                         \n",
      "Covariance Type:            nonrobust                                         \n",
      "===========================================================================================\n",
      "                              coef    std err          t      P>|t|      [0.025      0.975]\n",
      "-------------------------------------------------------------------------------------------\n",
      "const                    6498.1619    919.136      7.070      0.000    4694.901    8301.423\n",
      "INGRESO                    -0.2381      0.121     -1.963      0.050      -0.476   -7.34e-05\n",
      "CLUSTER_Impresora Laser  1885.6778   1490.758      1.265      0.206   -1039.053    4810.409\n",
      "CLUSTER_Otros            3818.3133   2012.226      1.898      0.058    -129.490    7766.117\n",
      "CLUSTER_Sistemas          317.3006   1056.898      0.300      0.764   -1756.236    2390.838\n",
      "==============================================================================\n",
      "Omnibus:                     1339.691   Durbin-Watson:                   1.926\n",
      "Prob(Omnibus):                  0.000   Jarque-Bera (JB):            88219.791\n",
      "Skew:                           5.415   Prob(JB):                         0.00\n",
      "Kurtosis:                      43.121   Cond. No.                     2.09e+04\n",
      "==============================================================================\n",
      "\n",
      "Notes:\n",
      "[1] Standard Errors assume that the covariance matrix of the errors is correctly specified.\n",
      "[2] The condition number is large, 2.09e+04. This might indicate that there are\n",
      "strong multicollinearity or other numerical problems.\n"
     ]
    }
   ],
   "source": [
    "x = ['INGRESO', 'CLUSTER_Impresora Laser', 'CLUSTER_Otros', 'CLUSTER_Sistemas']\n",
    "y = ['LTV']\n",
    "\n",
    "\n",
    "X = sm.add_constant(df_to_model[x])\n",
    "\n",
    "model = sm.OLS(df_to_model[y], X)\n",
    "results = model.fit()\n",
    "\n",
    "print(results.summary())"
   ]
  },
  {
   "cell_type": "markdown",
   "id": "2f4ae053-bd28-4bef-83b4-0763766e4d63",
   "metadata": {},
   "source": [
    "Eliminamos el Cluster de sistemas de la regresión, dado que su p-value indica que no es significativo para el modelo."
   ]
  },
  {
   "cell_type": "markdown",
   "id": "18dedd3c-a49d-4eb6-95d5-6dfba7515145",
   "metadata": {},
   "source": [
    "#### Regresión lineal sin Impresora Tinta y sin Sistemas"
   ]
  },
  {
   "cell_type": "code",
   "execution_count": 22,
   "id": "8e9cba4b-8668-4e5b-8616-98cd489384ff",
   "metadata": {},
   "outputs": [
    {
     "name": "stdout",
     "output_type": "stream",
     "text": [
      "                            OLS Regression Results                            \n",
      "==============================================================================\n",
      "Dep. Variable:                    LTV   R-squared:                       0.007\n",
      "Model:                            OLS   Adj. R-squared:                  0.005\n",
      "Method:                 Least Squares   F-statistic:                     2.850\n",
      "Date:                Mon, 18 Nov 2024   Prob (F-statistic):             0.0364\n",
      "Time:                        14:57:16   Log-Likelihood:                -13501.\n",
      "No. Observations:                1226   AIC:                         2.701e+04\n",
      "Df Residuals:                    1222   BIC:                         2.703e+04\n",
      "Df Model:                           3                                         \n",
      "Covariance Type:            nonrobust                                         \n",
      "===========================================================================================\n",
      "                              coef    std err          t      P>|t|      [0.025      0.975]\n",
      "-------------------------------------------------------------------------------------------\n",
      "const                    6728.1514    507.693     13.252      0.000    5732.105    7724.198\n",
      "INGRESO                    -0.2356      0.121     -1.947      0.052      -0.473       0.002\n",
      "CLUSTER_Impresora Laser  1650.6251   1268.136      1.302      0.193    -837.340    4138.590\n",
      "CLUSTER_Otros            3583.5224   1853.339      1.934      0.053     -52.557    7219.602\n",
      "==============================================================================\n",
      "Omnibus:                     1339.560   Durbin-Watson:                   1.924\n",
      "Prob(Omnibus):                  0.000   Jarque-Bera (JB):            88196.200\n",
      "Skew:                           5.414   Prob(JB):                         0.00\n",
      "Kurtosis:                      43.116   Cond. No.                     1.73e+04\n",
      "==============================================================================\n",
      "\n",
      "Notes:\n",
      "[1] Standard Errors assume that the covariance matrix of the errors is correctly specified.\n",
      "[2] The condition number is large, 1.73e+04. This might indicate that there are\n",
      "strong multicollinearity or other numerical problems.\n"
     ]
    }
   ],
   "source": [
    "x = ['INGRESO', 'CLUSTER_Impresora Laser', 'CLUSTER_Otros']\n",
    "y = ['LTV']\n",
    "\n",
    "\n",
    "X = sm.add_constant(df_to_model[x])\n",
    "\n",
    "model = sm.OLS(df_to_model[y], X)\n",
    "results = model.fit()\n",
    "\n",
    "print(results.summary())"
   ]
  },
  {
   "cell_type": "markdown",
   "id": "2d151a06-03a9-48f2-b13b-fc44dcc1ccb1",
   "metadata": {},
   "source": [
    "Eliminamos el Cluster de impresora láser de la regresión, dado que su p-value indica que no es significativo para el modelo."
   ]
  },
  {
   "cell_type": "markdown",
   "id": "6fe7cd78-6172-4f86-971b-cbf812060215",
   "metadata": {},
   "source": [
    "#### Regresión lineal sin Impresora Tinta, sin Sistemas y sin Láser"
   ]
  },
  {
   "cell_type": "code",
   "execution_count": 23,
   "id": "2d625479-1994-468e-98e0-32443a3cb20a",
   "metadata": {},
   "outputs": [
    {
     "name": "stdout",
     "output_type": "stream",
     "text": [
      "                            OLS Regression Results                            \n",
      "==============================================================================\n",
      "Dep. Variable:                    LTV   R-squared:                       0.006\n",
      "Model:                            OLS   Adj. R-squared:                  0.004\n",
      "Method:                 Least Squares   F-statistic:                     3.426\n",
      "Date:                Mon, 18 Nov 2024   Prob (F-statistic):             0.0328\n",
      "Time:                        14:57:16   Log-Likelihood:                -13502.\n",
      "No. Observations:                1226   AIC:                         2.701e+04\n",
      "Df Residuals:                    1223   BIC:                         2.702e+04\n",
      "Df Model:                           2                                         \n",
      "Covariance Type:            nonrobust                                         \n",
      "=================================================================================\n",
      "                    coef    std err          t      P>|t|      [0.025      0.975]\n",
      "---------------------------------------------------------------------------------\n",
      "const          6939.5079    481.161     14.422      0.000    5995.515    7883.501\n",
      "INGRESO          -0.2303      0.121     -1.904      0.057      -0.468       0.007\n",
      "CLUSTER_Otros  3361.7032   1846.011      1.821      0.069    -259.996    6983.402\n",
      "==============================================================================\n",
      "Omnibus:                     1339.300   Durbin-Watson:                   1.917\n",
      "Prob(Omnibus):                  0.000   Jarque-Bera (JB):            87802.472\n",
      "Skew:                           5.414   Prob(JB):                         0.00\n",
      "Kurtosis:                      43.019   Cond. No.                     1.72e+04\n",
      "==============================================================================\n",
      "\n",
      "Notes:\n",
      "[1] Standard Errors assume that the covariance matrix of the errors is correctly specified.\n",
      "[2] The condition number is large, 1.72e+04. This might indicate that there are\n",
      "strong multicollinearity or other numerical problems.\n"
     ]
    }
   ],
   "source": [
    "x = ['INGRESO', 'CLUSTER_Otros']\n",
    "y = ['LTV']\n",
    "\n",
    "\n",
    "X = sm.add_constant(df_to_model[x])\n",
    "\n",
    "model = sm.OLS(df_to_model[y], X)\n",
    "results = model.fit()\n",
    "\n",
    "print(results.summary())"
   ]
  },
  {
   "cell_type": "markdown",
   "id": "2117e798-47ca-4b83-8217-65e42d402d39",
   "metadata": {},
   "source": [
    "Eliminamos el Cluster de Otros de la regresión, dado que su p-value indica que no es significativo para el modelo."
   ]
  },
  {
   "cell_type": "markdown",
   "id": "fd82848e-1430-413d-991f-d6709d43072b",
   "metadata": {},
   "source": [
    "#### Regresión lineal únicamente con Ingreso"
   ]
  },
  {
   "cell_type": "code",
   "execution_count": 24,
   "id": "d6b1ca0f-8714-4704-8248-530f0b9c35c2",
   "metadata": {},
   "outputs": [
    {
     "name": "stdout",
     "output_type": "stream",
     "text": [
      "                            OLS Regression Results                            \n",
      "==============================================================================\n",
      "Dep. Variable:                    LTV   R-squared:                       0.003\n",
      "Model:                            OLS   Adj. R-squared:                  0.002\n",
      "Method:                 Least Squares   F-statistic:                     3.528\n",
      "Date:                Mon, 18 Nov 2024   Prob (F-statistic):             0.0606\n",
      "Time:                        14:57:16   Log-Likelihood:                -13503.\n",
      "No. Observations:                1226   AIC:                         2.701e+04\n",
      "Df Residuals:                    1224   BIC:                         2.702e+04\n",
      "Df Model:                           1                                         \n",
      "Covariance Type:            nonrobust                                         \n",
      "==============================================================================\n",
      "                 coef    std err          t      P>|t|      [0.025      0.975]\n",
      "------------------------------------------------------------------------------\n",
      "const       7118.0915    471.507     15.096      0.000    6193.040    8043.143\n",
      "INGRESO       -0.2274      0.121     -1.878      0.061      -0.465       0.010\n",
      "==============================================================================\n",
      "Omnibus:                     1347.950   Durbin-Watson:                   1.918\n",
      "Prob(Omnibus):                  0.000   Jarque-Bera (JB):            91571.600\n",
      "Skew:                           5.460   Prob(JB):                         0.00\n",
      "Kurtosis:                      43.907   Cond. No.                     4.37e+03\n",
      "==============================================================================\n",
      "\n",
      "Notes:\n",
      "[1] Standard Errors assume that the covariance matrix of the errors is correctly specified.\n",
      "[2] The condition number is large, 4.37e+03. This might indicate that there are\n",
      "strong multicollinearity or other numerical problems.\n"
     ]
    }
   ],
   "source": [
    "x = ['INGRESO']\n",
    "y = ['LTV']\n",
    "\n",
    "\n",
    "X = sm.add_constant(df_to_model[x])\n",
    "\n",
    "model = sm.OLS(df_to_model[y], X)\n",
    "results = model.fit()\n",
    "\n",
    "print(results.summary())"
   ]
  },
  {
   "cell_type": "markdown",
   "id": "512605c4-0854-4d9e-b82c-da5694671d5d",
   "metadata": {},
   "source": [
    "Eliminamos los ingresos de la regresión, dado que su p-value indica que no es significativo para el modelo."
   ]
  },
  {
   "cell_type": "markdown",
   "id": "569f8173-45b4-45dd-bc13-a127dd928105",
   "metadata": {},
   "source": [
    "### Conclusiones de la regresión"
   ]
  },
  {
   "cell_type": "markdown",
   "id": "8b078d04-4a58-4bc8-a766-951a86bad586",
   "metadata": {},
   "source": [
    "- Ninguna de las variables que tienen los datos de la empresa son significativas para la predicción del LifeTime Value de sus clientes.\n",
    "- Comenzar a registrar nuevos datos que se relacionen con los objetivos de la empresa.\n",
    "- Si se quiere realizar un análisis para la toma de decisiones de la empresa, no podemos encontrar datos que den soporte estadístico a las decisiones."
   ]
  },
  {
   "cell_type": "markdown",
   "id": "928009ff",
   "metadata": {},
   "source": [
    "## Variable latente: La confianza del cliente."
   ]
  },
  {
   "cell_type": "markdown",
   "id": "52b5116a-fcf4-47c0-a09c-e9ee136f013a",
   "metadata": {},
   "source": [
    "Para medir la confianza del cliente utilizaremos 2 variables. En primer lugar, el número de veces que ha regresado el cliente y por último el ingreso que le ha dado a la empresa."
   ]
  },
  {
   "cell_type": "code",
   "execution_count": 25,
   "id": "83e9f5ac",
   "metadata": {},
   "outputs": [
    {
     "data": {
      "text/html": [
       "<div>\n",
       "<style scoped>\n",
       "    .dataframe tbody tr th:only-of-type {\n",
       "        vertical-align: middle;\n",
       "    }\n",
       "\n",
       "    .dataframe tbody tr th {\n",
       "        vertical-align: top;\n",
       "    }\n",
       "\n",
       "    .dataframe thead th {\n",
       "        text-align: right;\n",
       "    }\n",
       "</style>\n",
       "<table border=\"1\" class=\"dataframe\">\n",
       "  <thead>\n",
       "    <tr style=\"text-align: right;\">\n",
       "      <th></th>\n",
       "      <th>CLIENTE</th>\n",
       "      <th>Retorno</th>\n",
       "      <th>Ingreso_Total</th>\n",
       "    </tr>\n",
       "  </thead>\n",
       "  <tbody>\n",
       "    <tr>\n",
       "      <th>0</th>\n",
       "      <td>2</td>\n",
       "      <td>6</td>\n",
       "      <td>10200.0</td>\n",
       "    </tr>\n",
       "    <tr>\n",
       "      <th>1</th>\n",
       "      <td>3</td>\n",
       "      <td>36</td>\n",
       "      <td>57913.5</td>\n",
       "    </tr>\n",
       "    <tr>\n",
       "      <th>2</th>\n",
       "      <td>4</td>\n",
       "      <td>172</td>\n",
       "      <td>208777.0</td>\n",
       "    </tr>\n",
       "    <tr>\n",
       "      <th>3</th>\n",
       "      <td>5</td>\n",
       "      <td>73</td>\n",
       "      <td>102255.0</td>\n",
       "    </tr>\n",
       "    <tr>\n",
       "      <th>4</th>\n",
       "      <td>6</td>\n",
       "      <td>13</td>\n",
       "      <td>14941.0</td>\n",
       "    </tr>\n",
       "  </tbody>\n",
       "</table>\n",
       "</div>"
      ],
      "text/plain": [
       "   CLIENTE  Retorno  Ingreso_Total\n",
       "0        2        6        10200.0\n",
       "1        3       36        57913.5\n",
       "2        4      172       208777.0\n",
       "3        5       73       102255.0\n",
       "4        6       13        14941.0"
      ]
     },
     "execution_count": 25,
     "metadata": {},
     "output_type": "execute_result"
    }
   ],
   "source": [
    "retorno_clientes = reparaciones.groupby('CLIENTE')['CLIENTE'].count()\n",
    "ingreso_clientes = reparaciones.groupby('CLIENTE')['INGRESO'].sum()\n",
    "\n",
    "confianza = pd.DataFrame()\n",
    "confianza['Retorno'] = retorno_clientes\n",
    "confianza['Ingreso_Total'] = ingreso_clientes\n",
    "confianza = confianza.reset_index()\n",
    "confianza.head()"
   ]
  },
  {
   "cell_type": "markdown",
   "id": "0d6c82e1-989e-47c8-b7f0-d5648e111b3d",
   "metadata": {},
   "source": [
    "### Estandarizar los datos para el modelo SEM"
   ]
  },
  {
   "cell_type": "code",
   "execution_count": 26,
   "id": "81787695-5c5d-46d3-b046-3e504f6526af",
   "metadata": {},
   "outputs": [
    {
     "data": {
      "text/html": [
       "<div>\n",
       "<style scoped>\n",
       "    .dataframe tbody tr th:only-of-type {\n",
       "        vertical-align: middle;\n",
       "    }\n",
       "\n",
       "    .dataframe tbody tr th {\n",
       "        vertical-align: top;\n",
       "    }\n",
       "\n",
       "    .dataframe thead th {\n",
       "        text-align: right;\n",
       "    }\n",
       "</style>\n",
       "<table border=\"1\" class=\"dataframe\">\n",
       "  <thead>\n",
       "    <tr style=\"text-align: right;\">\n",
       "      <th></th>\n",
       "      <th>Retorno</th>\n",
       "      <th>Ingreso_Total</th>\n",
       "    </tr>\n",
       "  </thead>\n",
       "  <tbody>\n",
       "    <tr>\n",
       "      <th>0</th>\n",
       "      <td>0.020393</td>\n",
       "      <td>0.000654</td>\n",
       "    </tr>\n",
       "    <tr>\n",
       "      <th>1</th>\n",
       "      <td>1.804099</td>\n",
       "      <td>1.847008</td>\n",
       "    </tr>\n",
       "    <tr>\n",
       "      <th>2</th>\n",
       "      <td>9.890235</td>\n",
       "      <td>7.684926</td>\n",
       "    </tr>\n",
       "    <tr>\n",
       "      <th>3</th>\n",
       "      <td>4.004004</td>\n",
       "      <td>3.562878</td>\n",
       "    </tr>\n",
       "    <tr>\n",
       "      <th>4</th>\n",
       "      <td>0.436591</td>\n",
       "      <td>0.184115</td>\n",
       "    </tr>\n",
       "  </tbody>\n",
       "</table>\n",
       "</div>"
      ],
      "text/plain": [
       "    Retorno  Ingreso_Total\n",
       "0  0.020393       0.000654\n",
       "1  1.804099       1.847008\n",
       "2  9.890235       7.684926\n",
       "3  4.004004       3.562878\n",
       "4  0.436591       0.184115"
      ]
     },
     "execution_count": 26,
     "metadata": {},
     "output_type": "execute_result"
    }
   ],
   "source": [
    "df_for_scaler = confianza[['Retorno', 'Ingreso_Total']] \n",
    "\n",
    "scaler = StandardScaler()\n",
    "df_scaled = scaler.fit_transform(df_for_scaler[['Retorno', 'Ingreso_Total']])\n",
    "\n",
    "df_scaled = pd.DataFrame(df_scaled, columns = confianza.columns[-2:])\n",
    "df_scaled.head()"
   ]
  },
  {
   "cell_type": "markdown",
   "id": "6caa7bfb-a4a3-448c-b0be-6e22094341c7",
   "metadata": {},
   "source": [
    "### Creación del Modelo"
   ]
  },
  {
   "cell_type": "code",
   "execution_count": 27,
   "id": "7a8aa209",
   "metadata": {},
   "outputs": [
    {
     "name": "stderr",
     "output_type": "stream",
     "text": [
      "WARNING:root:Fisher Information Matrix is not PD.Moore-Penrose inverse will be used instead of Cholesky decomposition. See 10.1109/TSP.2012.2208105.\n"
     ]
    },
    {
     "data": {
      "text/html": [
       "<div>\n",
       "<style scoped>\n",
       "    .dataframe tbody tr th:only-of-type {\n",
       "        vertical-align: middle;\n",
       "    }\n",
       "\n",
       "    .dataframe tbody tr th {\n",
       "        vertical-align: top;\n",
       "    }\n",
       "\n",
       "    .dataframe thead th {\n",
       "        text-align: right;\n",
       "    }\n",
       "</style>\n",
       "<table border=\"1\" class=\"dataframe\">\n",
       "  <thead>\n",
       "    <tr style=\"text-align: right;\">\n",
       "      <th></th>\n",
       "      <th>lval</th>\n",
       "      <th>op</th>\n",
       "      <th>rval</th>\n",
       "      <th>Estimate</th>\n",
       "      <th>Std. Err</th>\n",
       "      <th>z-value</th>\n",
       "      <th>p-value</th>\n",
       "    </tr>\n",
       "  </thead>\n",
       "  <tbody>\n",
       "    <tr>\n",
       "      <th>0</th>\n",
       "      <td>Retorno</td>\n",
       "      <td>~</td>\n",
       "      <td>Confianza</td>\n",
       "      <td>1.000000</td>\n",
       "      <td>-</td>\n",
       "      <td>-</td>\n",
       "      <td>-</td>\n",
       "    </tr>\n",
       "    <tr>\n",
       "      <th>1</th>\n",
       "      <td>Ingreso_Total</td>\n",
       "      <td>~</td>\n",
       "      <td>Confianza</td>\n",
       "      <td>0.988293</td>\n",
       "      <td>0.010792</td>\n",
       "      <td>91.578769</td>\n",
       "      <td>0.0</td>\n",
       "    </tr>\n",
       "    <tr>\n",
       "      <th>2</th>\n",
       "      <td>Confianza</td>\n",
       "      <td>~~</td>\n",
       "      <td>Confianza</td>\n",
       "      <td>0.926630</td>\n",
       "      <td>0.026871</td>\n",
       "      <td>34.484495</td>\n",
       "      <td>0.0</td>\n",
       "    </tr>\n",
       "    <tr>\n",
       "      <th>3</th>\n",
       "      <td>Ingreso_Total</td>\n",
       "      <td>~~</td>\n",
       "      <td>Ingreso_Total</td>\n",
       "      <td>0.095198</td>\n",
       "      <td>0.010418</td>\n",
       "      <td>9.13819</td>\n",
       "      <td>0.0</td>\n",
       "    </tr>\n",
       "    <tr>\n",
       "      <th>4</th>\n",
       "      <td>Retorno</td>\n",
       "      <td>~~</td>\n",
       "      <td>Retorno</td>\n",
       "      <td>0.073608</td>\n",
       "      <td>0.010291</td>\n",
       "      <td>7.15268</td>\n",
       "      <td>0.0</td>\n",
       "    </tr>\n",
       "  </tbody>\n",
       "</table>\n",
       "</div>"
      ],
      "text/plain": [
       "            lval  op           rval  Estimate  Std. Err    z-value p-value\n",
       "0        Retorno   ~      Confianza  1.000000         -          -       -\n",
       "1  Ingreso_Total   ~      Confianza  0.988293  0.010792  91.578769     0.0\n",
       "2      Confianza  ~~      Confianza  0.926630  0.026871  34.484495     0.0\n",
       "3  Ingreso_Total  ~~  Ingreso_Total  0.095198  0.010418    9.13819     0.0\n",
       "4        Retorno  ~~        Retorno  0.073608  0.010291    7.15268     0.0"
      ]
     },
     "execution_count": 27,
     "metadata": {},
     "output_type": "execute_result"
    }
   ],
   "source": [
    "model_desc = \"\"\"\n",
    "# Latent Variables\n",
    "Confianza =~ Retorno + Ingreso_Total\n",
    "\"\"\"\n",
    "\n",
    "mod = Model(model_desc)\n",
    "res_opt = mod.fit(df_scaled)\n",
    "estimates = mod.inspect()\n",
    "\n",
    "estimates"
   ]
  },
  {
   "cell_type": "markdown",
   "id": "e607d51e-13f4-43ae-960c-48b3277c4f32",
   "metadata": {},
   "source": [
    "### Gráfico de trayectorías "
   ]
  },
  {
   "cell_type": "code",
   "execution_count": 28,
   "id": "a552723c",
   "metadata": {},
   "outputs": [
    {
     "name": "stderr",
     "output_type": "stream",
     "text": [
      "WARNING:root:Fisher Information Matrix is not PD.Moore-Penrose inverse will be used instead of Cholesky decomposition. See 10.1109/TSP.2012.2208105.\n"
     ]
    }
   ],
   "source": [
    "g = semplot(mod, 'pd.png')"
   ]
  },
  {
   "cell_type": "code",
   "execution_count": 29,
   "id": "c898f079-16be-4b7e-8e4a-a3a89f3f4aa6",
   "metadata": {},
   "outputs": [
    {
     "data": {
      "image/png": "[encoded data removed]",
      "text/plain": [
       "<PIL.Image.Image image mode=RGBA size=400x450>"
      ]
     },
     "metadata": {},
     "output_type": "display_data"
    }
   ],
   "source": [
    "img = Image.open(\"pd.png\")\n",
    "img_resized = img.resize((400, 450))\n",
    "display(img_resized)"
   ]
  },
  {
   "cell_type": "markdown",
   "id": "a574346e-c307-426d-baa1-83ead7fd7993",
   "metadata": {},
   "source": [
    "### Cálculo de la Confianza del cliente "
   ]
  },
  {
   "cell_type": "code",
   "execution_count": 30,
   "id": "50480cc3-836d-4180-bab5-9172a6fbe180",
   "metadata": {},
   "outputs": [
    {
     "data": {
      "text/html": [
       "<div>\n",
       "<style scoped>\n",
       "    .dataframe tbody tr th:only-of-type {\n",
       "        vertical-align: middle;\n",
       "    }\n",
       "\n",
       "    .dataframe tbody tr th {\n",
       "        vertical-align: top;\n",
       "    }\n",
       "\n",
       "    .dataframe thead th {\n",
       "        text-align: right;\n",
       "    }\n",
       "</style>\n",
       "<table border=\"1\" class=\"dataframe\">\n",
       "  <thead>\n",
       "    <tr style=\"text-align: right;\">\n",
       "      <th></th>\n",
       "      <th>Cliente</th>\n",
       "      <th>Retorno</th>\n",
       "      <th>Ingreso_Total</th>\n",
       "    </tr>\n",
       "  </thead>\n",
       "  <tbody>\n",
       "    <tr>\n",
       "      <th>0</th>\n",
       "      <td>2</td>\n",
       "      <td>0.020393</td>\n",
       "      <td>0.000654</td>\n",
       "    </tr>\n",
       "    <tr>\n",
       "      <th>1</th>\n",
       "      <td>3</td>\n",
       "      <td>1.804099</td>\n",
       "      <td>1.847008</td>\n",
       "    </tr>\n",
       "    <tr>\n",
       "      <th>2</th>\n",
       "      <td>4</td>\n",
       "      <td>9.890235</td>\n",
       "      <td>7.684926</td>\n",
       "    </tr>\n",
       "    <tr>\n",
       "      <th>3</th>\n",
       "      <td>5</td>\n",
       "      <td>4.004004</td>\n",
       "      <td>3.562878</td>\n",
       "    </tr>\n",
       "    <tr>\n",
       "      <th>4</th>\n",
       "      <td>6</td>\n",
       "      <td>0.436591</td>\n",
       "      <td>0.184115</td>\n",
       "    </tr>\n",
       "    <tr>\n",
       "      <th>...</th>\n",
       "      <td>...</td>\n",
       "      <td>...</td>\n",
       "      <td>...</td>\n",
       "    </tr>\n",
       "    <tr>\n",
       "      <th>1514</th>\n",
       "      <td>1845</td>\n",
       "      <td>-0.276891</td>\n",
       "      <td>-0.370834</td>\n",
       "    </tr>\n",
       "    <tr>\n",
       "      <th>1515</th>\n",
       "      <td>1847</td>\n",
       "      <td>-0.276891</td>\n",
       "      <td>-0.306830</td>\n",
       "    </tr>\n",
       "    <tr>\n",
       "      <th>1516</th>\n",
       "      <td>1848</td>\n",
       "      <td>-0.276891</td>\n",
       "      <td>-0.329816</td>\n",
       "    </tr>\n",
       "    <tr>\n",
       "      <th>1517</th>\n",
       "      <td>1850</td>\n",
       "      <td>-0.276891</td>\n",
       "      <td>-0.301954</td>\n",
       "    </tr>\n",
       "    <tr>\n",
       "      <th>1518</th>\n",
       "      <td>1851</td>\n",
       "      <td>-0.276891</td>\n",
       "      <td>-0.265502</td>\n",
       "    </tr>\n",
       "  </tbody>\n",
       "</table>\n",
       "<p>1519 rows × 3 columns</p>\n",
       "</div>"
      ],
      "text/plain": [
       "      Cliente   Retorno  Ingreso_Total\n",
       "0           2  0.020393       0.000654\n",
       "1           3  1.804099       1.847008\n",
       "2           4  9.890235       7.684926\n",
       "3           5  4.004004       3.562878\n",
       "4           6  0.436591       0.184115\n",
       "...       ...       ...            ...\n",
       "1514     1845 -0.276891      -0.370834\n",
       "1515     1847 -0.276891      -0.306830\n",
       "1516     1848 -0.276891      -0.329816\n",
       "1517     1850 -0.276891      -0.301954\n",
       "1518     1851 -0.276891      -0.265502\n",
       "\n",
       "[1519 rows x 3 columns]"
      ]
     },
     "execution_count": 30,
     "metadata": {},
     "output_type": "execute_result"
    }
   ],
   "source": [
    "df_scaled['Cliente'] = confianza['CLIENTE']\n",
    "df_scaled = df_scaled.set_index('Cliente').reset_index()\n",
    "df_scaled"
   ]
  },
  {
   "cell_type": "code",
   "execution_count": 31,
   "id": "81da2998-a2d0-47e9-b3ea-0e8696e4c184",
   "metadata": {},
   "outputs": [
    {
     "data": {
      "text/html": [
       "<div>\n",
       "<style scoped>\n",
       "    .dataframe tbody tr th:only-of-type {\n",
       "        vertical-align: middle;\n",
       "    }\n",
       "\n",
       "    .dataframe tbody tr th {\n",
       "        vertical-align: top;\n",
       "    }\n",
       "\n",
       "    .dataframe thead th {\n",
       "        text-align: right;\n",
       "    }\n",
       "</style>\n",
       "<table border=\"1\" class=\"dataframe\">\n",
       "  <thead>\n",
       "    <tr style=\"text-align: right;\">\n",
       "      <th></th>\n",
       "      <th>Cliente</th>\n",
       "      <th>Retorno</th>\n",
       "      <th>Ingreso Total</th>\n",
       "      <th>Confianza</th>\n",
       "    </tr>\n",
       "  </thead>\n",
       "  <tbody>\n",
       "    <tr>\n",
       "      <th>0</th>\n",
       "      <td>2</td>\n",
       "      <td>0.020393</td>\n",
       "      <td>0.000654</td>\n",
       "      <td>0.021039</td>\n",
       "    </tr>\n",
       "    <tr>\n",
       "      <th>1</th>\n",
       "      <td>3</td>\n",
       "      <td>1.804099</td>\n",
       "      <td>1.847008</td>\n",
       "      <td>3.628944</td>\n",
       "    </tr>\n",
       "    <tr>\n",
       "      <th>2</th>\n",
       "      <td>4</td>\n",
       "      <td>9.890235</td>\n",
       "      <td>7.684926</td>\n",
       "      <td>17.482942</td>\n",
       "    </tr>\n",
       "    <tr>\n",
       "      <th>3</th>\n",
       "      <td>5</td>\n",
       "      <td>4.004004</td>\n",
       "      <td>3.562878</td>\n",
       "      <td>7.524127</td>\n",
       "    </tr>\n",
       "    <tr>\n",
       "      <th>4</th>\n",
       "      <td>6</td>\n",
       "      <td>0.436591</td>\n",
       "      <td>0.184115</td>\n",
       "      <td>0.618497</td>\n",
       "    </tr>\n",
       "  </tbody>\n",
       "</table>\n",
       "</div>"
      ],
      "text/plain": [
       "   Cliente   Retorno  Ingreso Total  Confianza\n",
       "0        2  0.020393       0.000654   0.021039\n",
       "1        3  1.804099       1.847008   3.628944\n",
       "2        4  9.890235       7.684926  17.482942\n",
       "3        5  4.004004       3.562878   7.524127\n",
       "4        6  0.436591       0.184115   0.618497"
      ]
     },
     "execution_count": 31,
     "metadata": {},
     "output_type": "execute_result"
    }
   ],
   "source": [
    "confianza_factors = [1, 0.988]      \n",
    "\n",
    "confianza_var = ['Retorno', 'Ingreso_Total']\n",
    "\n",
    "def calculate_latent_values(df, factors, var):\n",
    "    resultado = pd.DataFrame()\n",
    "    for i in range(len(factors)):\n",
    "        resultado[var[i]] =  df.iloc[:, i] * factors[i]\n",
    "    resultado['Latent Value'] = resultado.sum(axis=1)\n",
    "    resultado = resultado['Latent Value']\n",
    "    return resultado\n",
    "\n",
    "confianza_prediccion = calculate_latent_values(df_scaled[confianza_var], confianza_factors, confianza_var)\n",
    "results = pd.DataFrame()\n",
    "results[['Cliente', 'Retorno', 'Ingreso Total']] = df_scaled\n",
    "results['Confianza'] = confianza_prediccion\n",
    "results.head()"
   ]
  },
  {
   "cell_type": "code",
   "execution_count": 32,
   "id": "7206fb7e-01a7-4b35-80a3-21e9eed5f84f",
   "metadata": {},
   "outputs": [],
   "source": [
    "results_sorted = results.sort_values('Confianza', ascending=False).reset_index()\n",
    "results_sorted = results_sorted.drop(columns=['index'])"
   ]
  },
  {
   "cell_type": "code",
   "execution_count": 37,
   "id": "942dcefe-09ac-4ad1-838d-e56bc3c22f3e",
   "metadata": {},
   "outputs": [
    {
     "data": {
      "image/png": "[encoded data removed]",
      "text/plain": [
       "<Figure size 1300x800 with 1 Axes>"
      ]
     },
     "metadata": {},
     "output_type": "display_data"
    }
   ],
   "source": [
    "plt.figure(figsize=(13,8))\n",
    "plt.bar(results_sorted.index, results_sorted['Confianza'], color='cadetblue')\n",
    "plt.title('Confianza de los clientes en la empresa', fontsize=18)\n",
    "plt.xlabel('Clientes')\n",
    "plt.ylabel('Confianza')\n",
    "plt.tight_layout()"
   ]
  },
  {
   "cell_type": "markdown",
   "id": "5bf440eb-2415-4c25-81c3-8a8e27055ff0",
   "metadata": {},
   "source": [
    "Observamos que los clientes que se encuentran en el primer 5% de la gráfica con clientes que tienen mucha confianza en la empresa. Por lo que sería importante identificarlos para que la empresa esté consciente de ello y se considere tener un trato especial hacia ellos, dado que, al haber definido la confianza como las veces que regresan y su ingreso total, esto significa que esos son los clientes que mas veces regresan y mas dinero ingresan."
   ]
  },
  {
   "cell_type": "markdown",
   "id": "280f7450-15a9-46a8-92e3-2cc35d89c949",
   "metadata": {},
   "source": [
    "### Percentil 95% de la confianza de los clientes"
   ]
  },
  {
   "cell_type": "code",
   "execution_count": 34,
   "id": "5b229f9d-9f68-41a9-8300-ac88e40f9c00",
   "metadata": {},
   "outputs": [
    {
     "data": {
      "text/plain": [
       "2.058130495334776"
      ]
     },
     "execution_count": 34,
     "metadata": {},
     "output_type": "execute_result"
    }
   ],
   "source": [
    "threshold_confianza = results_sorted['Confianza'].quantile(0.95)\n",
    "threshold_confianza"
   ]
  },
  {
   "cell_type": "markdown",
   "id": "04f83817-72df-4a37-a222-8f986c126878",
   "metadata": {},
   "source": [
    "### Clientes por encima del threshold de confianza"
   ]
  },
  {
   "cell_type": "code",
   "execution_count": 38,
   "id": "b9952bc5-0065-4acc-aa91-780dec497f69",
   "metadata": {},
   "outputs": [
    {
     "data": {
      "image/png": "[encoded data removed]",
      "text/plain": [
       "<Figure size 1300x800 with 1 Axes>"
      ]
     },
     "metadata": {},
     "output_type": "display_data"
    }
   ],
   "source": [
    "clientes_mayor_confianza = results_sorted[results_sorted['Confianza'] > threshold_confianza]\n",
    "\n",
    "plt.figure(figsize=(13,8))\n",
    "plt.bar(clientes_mayor_confianza.index, clientes_mayor_confianza['Confianza'], color='cadetblue', tick_label=clientes_mayor_confianza['Cliente'])\n",
    "plt.title(f'Clientes con confianza por encima del Threshold {threshold_confianza:.3}', fontsize=18)\n",
    "plt.xlabel('IdCliente', fontsize=14)\n",
    "plt.ylabel('Confianza', fontsize=14)\n",
    "plt.xticks(rotation=90)\n",
    "plt.grid()\n",
    "plt.tight_layout()"
   ]
  }
 ],
 "metadata": {
  "kernelspec": {
   "display_name": "Python 3 (ipykernel)",
   "language": "python",
   "name": "python3"
  },
  "language_info": {
   "codemirror_mode": {
    "name": "ipython",
    "version": 3
   },
   "file_extension": ".py",
   "mimetype": "text/x-python",
   "name": "python",
   "nbconvert_exporter": "python",
   "pygments_lexer": "ipython3",
   "version": "3.11.7"
  }
 },
 "nbformat": 4,
 "nbformat_minor": 5
}
