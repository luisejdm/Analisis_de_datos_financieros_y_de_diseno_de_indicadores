{
 "cells": [
  {
   "cell_type": "markdown",
   "id": "1c30436e",
   "metadata": {},
   "source": [
    "## Paqueterías"
   ]
  },
  {
   "cell_type": "code",
   "execution_count": 58,
   "id": "e4d26ccc-b6c6-4ffa-a454-fee304ea605d",
   "metadata": {},
   "outputs": [],
   "source": [
    "import pandas as pd\n",
    "import numpy as np\n",
    "from datetime import datetime\n",
    "from semopy import Model, Optimizer, semplot\n",
    "import statsmodels.api as sm\n",
    "\n",
    "import seaborn as sns\n",
    "import matplotlib.pyplot as plt\n",
    "%matplotlib inline\n",
    "\n",
    "import warnings \n",
    "warnings.filterwarnings('ignore')"
   ]
  },
  {
   "cell_type": "markdown",
   "id": "de989d31",
   "metadata": {},
   "source": [
    "---\n",
    "\n",
    "# Proyecto Final\n",
    "**Laboratorio de Análisis Financiero y de Diseño de Indicadores**\n",
    "\n",
    "**Integrantes del equipo:**\n",
    "- Luis Eduardo Jiménez del Muro\n",
    "- Lenin Adair Quezada Gómez\n",
    "- José Armando Melchor Soto\n",
    "- Edgar Alfonso Ramos Gómez\n",
    "\n",
    "**Fecha: 26/11/2024**"
   ]
  },
  {
   "cell_type": "markdown",
   "id": "62b193a5",
   "metadata": {},
   "source": [
    "## Funciones del Programa "
   ]
  },
  {
   "cell_type": "code",
   "execution_count": null,
   "id": "fc89a719",
   "metadata": {},
   "outputs": [],
   "source": []
  },
  {
   "cell_type": "markdown",
   "id": "d9427de8",
   "metadata": {},
   "source": [
    "## Carga de Datos "
   ]
  },
  {
   "cell_type": "code",
   "execution_count": 2,
   "id": "01d51c1b",
   "metadata": {},
   "outputs": [
    {
     "data": {
      "text/html": [
       "<div>\n",
       "<style scoped>\n",
       "    .dataframe tbody tr th:only-of-type {\n",
       "        vertical-align: middle;\n",
       "    }\n",
       "\n",
       "    .dataframe tbody tr th {\n",
       "        vertical-align: top;\n",
       "    }\n",
       "\n",
       "    .dataframe thead th {\n",
       "        text-align: right;\n",
       "    }\n",
       "</style>\n",
       "<table border=\"1\" class=\"dataframe\">\n",
       "  <thead>\n",
       "    <tr style=\"text-align: right;\">\n",
       "      <th></th>\n",
       "      <th>CLIENTE</th>\n",
       "      <th>COHORT</th>\n",
       "      <th>DESCRIPCION FALLA</th>\n",
       "      <th>INGRESO</th>\n",
       "      <th>FECHA REPARACION</th>\n",
       "      <th>CLUSTER</th>\n",
       "      <th>SIMILITUD COSENO</th>\n",
       "    </tr>\n",
       "  </thead>\n",
       "  <tbody>\n",
       "    <tr>\n",
       "      <th>0</th>\n",
       "      <td>2</td>\n",
       "      <td>2017-11-22</td>\n",
       "      <td>revision general tndr cambio del panel de cont...</td>\n",
       "      <td>1820.0</td>\n",
       "      <td>29/11/2018</td>\n",
       "      <td>Impresora Laser</td>\n",
       "      <td>0.298307</td>\n",
       "    </tr>\n",
       "    <tr>\n",
       "      <th>1</th>\n",
       "      <td>2</td>\n",
       "      <td>2017-11-22</td>\n",
       "      <td>imprime negro tn mantenimiento iva</td>\n",
       "      <td>480.0</td>\n",
       "      <td>30/11/2018</td>\n",
       "      <td>Impresora Tinta</td>\n",
       "      <td>0.391361</td>\n",
       "    </tr>\n",
       "    <tr>\n",
       "      <th>2</th>\n",
       "      <td>2</td>\n",
       "      <td>2017-11-22</td>\n",
       "      <td>rev gral cartucho toner reparacion traccion de...</td>\n",
       "      <td>1030.0</td>\n",
       "      <td>02/01/2019</td>\n",
       "      <td>Impresora Laser</td>\n",
       "      <td>0.508475</td>\n",
       "    </tr>\n",
       "    <tr>\n",
       "      <th>3</th>\n",
       "      <td>2</td>\n",
       "      <td>2017-11-22</td>\n",
       "      <td>rev gral sin toner    con cable de energia bue...</td>\n",
       "      <td>530.0</td>\n",
       "      <td>29/11/2018</td>\n",
       "      <td>Impresora Laser</td>\n",
       "      <td>0.493519</td>\n",
       "    </tr>\n",
       "    <tr>\n",
       "      <th>4</th>\n",
       "      <td>2</td>\n",
       "      <td>2017-11-22</td>\n",
       "      <td>rev gral   sin toner cambio de contacto del ca...</td>\n",
       "      <td>480.0</td>\n",
       "      <td>29/11/2018</td>\n",
       "      <td>Impresora Laser</td>\n",
       "      <td>0.448675</td>\n",
       "    </tr>\n",
       "    <tr>\n",
       "      <th>...</th>\n",
       "      <td>...</td>\n",
       "      <td>...</td>\n",
       "      <td>...</td>\n",
       "      <td>...</td>\n",
       "      <td>...</td>\n",
       "      <td>...</td>\n",
       "      <td>...</td>\n",
       "    </tr>\n",
       "    <tr>\n",
       "      <th>9295</th>\n",
       "      <td>1835</td>\n",
       "      <td>2024-09-13</td>\n",
       "      <td>en el area del impime obscuro en doble cara ta...</td>\n",
       "      <td>2815.0</td>\n",
       "      <td>20/09/2024</td>\n",
       "      <td>Sistemas</td>\n",
       "      <td>0.325016</td>\n",
       "    </tr>\n",
       "    <tr>\n",
       "      <th>9296</th>\n",
       "      <td>1837</td>\n",
       "      <td>2024-09-13</td>\n",
       "      <td>no escanea no saca copias marca papel atascado...</td>\n",
       "      <td>3532.0</td>\n",
       "      <td>30/09/2024</td>\n",
       "      <td>Sistemas</td>\n",
       "      <td>0.275756</td>\n",
       "    </tr>\n",
       "    <tr>\n",
       "      <th>9297</th>\n",
       "      <td>1843</td>\n",
       "      <td>2024-09-24</td>\n",
       "      <td>marcaba error de fusor y luego error de escane...</td>\n",
       "      <td>4790.0</td>\n",
       "      <td>30/09/2024</td>\n",
       "      <td>Impresora Laser</td>\n",
       "      <td>0.458887</td>\n",
       "    </tr>\n",
       "    <tr>\n",
       "      <th>9298</th>\n",
       "      <td>1841</td>\n",
       "      <td>2024-09-20</td>\n",
       "      <td>arruga las hojas y se atora   cambio de filmin...</td>\n",
       "      <td>2575.0</td>\n",
       "      <td>26/09/2024</td>\n",
       "      <td>Otros</td>\n",
       "      <td>0.408079</td>\n",
       "    </tr>\n",
       "    <tr>\n",
       "      <th>9299</th>\n",
       "      <td>1845</td>\n",
       "      <td>2024-02-10</td>\n",
       "      <td>retirar bateria hinchada contrasea leonfr elim...</td>\n",
       "      <td>600.0</td>\n",
       "      <td>30/09/2024</td>\n",
       "      <td>Impresora Tinta</td>\n",
       "      <td>0.651373</td>\n",
       "    </tr>\n",
       "  </tbody>\n",
       "</table>\n",
       "<p>9300 rows × 7 columns</p>\n",
       "</div>"
      ],
      "text/plain": [
       "      CLIENTE      COHORT                                  DESCRIPCION FALLA  \\\n",
       "0           2  2017-11-22  revision general tndr cambio del panel de cont...   \n",
       "1           2  2017-11-22                 imprime negro tn mantenimiento iva   \n",
       "2           2  2017-11-22  rev gral cartucho toner reparacion traccion de...   \n",
       "3           2  2017-11-22  rev gral sin toner    con cable de energia bue...   \n",
       "4           2  2017-11-22  rev gral   sin toner cambio de contacto del ca...   \n",
       "...       ...         ...                                                ...   \n",
       "9295     1835  2024-09-13  en el area del impime obscuro en doble cara ta...   \n",
       "9296     1837  2024-09-13  no escanea no saca copias marca papel atascado...   \n",
       "9297     1843  2024-09-24  marcaba error de fusor y luego error de escane...   \n",
       "9298     1841  2024-09-20  arruga las hojas y se atora   cambio de filmin...   \n",
       "9299     1845  2024-02-10  retirar bateria hinchada contrasea leonfr elim...   \n",
       "\n",
       "      INGRESO FECHA REPARACION          CLUSTER  SIMILITUD COSENO  \n",
       "0      1820.0       29/11/2018  Impresora Laser          0.298307  \n",
       "1       480.0       30/11/2018  Impresora Tinta          0.391361  \n",
       "2      1030.0       02/01/2019  Impresora Laser          0.508475  \n",
       "3       530.0       29/11/2018  Impresora Laser          0.493519  \n",
       "4       480.0       29/11/2018  Impresora Laser          0.448675  \n",
       "...       ...              ...              ...               ...  \n",
       "9295   2815.0       20/09/2024         Sistemas          0.325016  \n",
       "9296   3532.0       30/09/2024         Sistemas          0.275756  \n",
       "9297   4790.0       30/09/2024  Impresora Laser          0.458887  \n",
       "9298   2575.0       26/09/2024            Otros          0.408079  \n",
       "9299    600.0       30/09/2024  Impresora Tinta          0.651373  \n",
       "\n",
       "[9300 rows x 7 columns]"
      ]
     },
     "execution_count": 2,
     "metadata": {},
     "output_type": "execute_result"
    }
   ],
   "source": [
    "reparaciones = pd.read_csv('reparaciones.csv')\n",
    "reparaciones = reparaciones[['CLIENTE', 'COHORT', 'DESCRIPCION FALLA', 'INGRESO', 'FECHA REPARACION', 'CLUSTER', 'SIMILITUD COSENO']]\n",
    "\n",
    "clientes = pd.read_csv('data/CLIENTES.csv', encoding='latin1')\n",
    "clientes = clientes[['CLIENTE', 'NOMBRES']]\n",
    "\n",
    "reparaciones"
   ]
  },
  {
   "cell_type": "markdown",
   "id": "d5d47522",
   "metadata": {},
   "source": [
    "## Limpieza de los datos"
   ]
  },
  {
   "cell_type": "markdown",
   "id": "0b7b37b5",
   "metadata": {},
   "source": [
    "En esta sección principalmente se observará la distribución de las similitudes coseno y establecer un threshold para eliminar la clasificación imprecisa que pudo tener el modelo de embedding vectors."
   ]
  },
  {
   "cell_type": "markdown",
   "id": "1951bf6b",
   "metadata": {},
   "source": [
    "### Número de fallas por cluster antes de limpieza"
   ]
  },
  {
   "cell_type": "code",
   "execution_count": 3,
   "id": "1d53256a",
   "metadata": {},
   "outputs": [
    {
     "data": {
      "text/plain": [
       "Text(0, 0.5, 'CANTIDAD')"
      ]
     },
     "execution_count": 3,
     "metadata": {},
     "output_type": "execute_result"
    },
    {
     "data": {
      "image/png": "[encoded data removed]",
      "text/plain": [
       "<Figure size 800x600 with 1 Axes>"
      ]
     },
     "metadata": {},
     "output_type": "display_data"
    }
   ],
   "source": [
    "plt.figure(figsize=(8,6))\n",
    "plt.grid()\n",
    "plt.bar(['Laser', 'Tinta', 'Otros', 'Sistemas'], reparaciones.groupby('CLUSTER')['CLUSTER'].count(), color='cadetblue')\n",
    "plt.title('Número de fallas por Cluster antes de limpieza', fontsize=16)\n",
    "plt.xlabel('CLUSTER')\n",
    "plt.ylabel('CANTIDAD')"
   ]
  },
  {
   "cell_type": "markdown",
   "id": "41d2e639",
   "metadata": {},
   "source": [
    "### Distribución de las similitudes coseno"
   ]
  },
  {
   "cell_type": "code",
   "execution_count": 4,
   "id": "b375f29b",
   "metadata": {},
   "outputs": [
    {
     "data": {
      "image/png": "[encoded data removed]",
      "text/plain": [
       "<Figure size 800x600 with 1 Axes>"
      ]
     },
     "metadata": {},
     "output_type": "display_data"
    }
   ],
   "source": [
    "plt.figure(figsize=(8,6))\n",
    "sns.histplot(reparaciones['SIMILITUD COSENO'], kde=True, color='cadetblue')\n",
    "plt.xlabel('Valores')\n",
    "plt.ylabel('Frecuencia')\n",
    "plt.title('Histograma de frecuencias de las similitudes coseno')\n",
    "plt.grid()"
   ]
  },
  {
   "cell_type": "markdown",
   "id": "a2668ddf",
   "metadata": {},
   "source": [
    "### Establecimiento del threshold"
   ]
  },
  {
   "cell_type": "markdown",
   "id": "f9b11733",
   "metadata": {},
   "source": [
    "Decidimos limpar a partir del percentil ###, lo que significa que no nos interesan los registros que sean menores al percentil ###. Los que estén por encima del percentil ### no tenemos que eliminarlos porque esos representan a los que el modelo relacionó mejor."
   ]
  },
  {
   "cell_type": "code",
   "execution_count": 5,
   "id": "468d07fd",
   "metadata": {},
   "outputs": [
    {
     "data": {
      "text/plain": [
       "0.25578981100000003"
      ]
     },
     "execution_count": 5,
     "metadata": {},
     "output_type": "execute_result"
    }
   ],
   "source": [
    "threshold = reparaciones['SIMILITUD COSENO'].quantile(0.05)\n",
    "threshold"
   ]
  },
  {
   "cell_type": "markdown",
   "id": "19fb50cd",
   "metadata": {},
   "source": [
    "### Número de fallas fuera del threshold"
   ]
  },
  {
   "cell_type": "code",
   "execution_count": 6,
   "id": "738c3e59",
   "metadata": {},
   "outputs": [
    {
     "data": {
      "image/png": "[encoded data removed]",
      "text/plain": [
       "<Figure size 800x600 with 1 Axes>"
      ]
     },
     "metadata": {},
     "output_type": "display_data"
    }
   ],
   "source": [
    "df_filtrado = reparaciones[reparaciones['SIMILITUD COSENO'] < 0.27]\n",
    "\n",
    "conteo_clusters = df_filtrado['CLUSTER'].value_counts().reset_index()\n",
    "conteo_clusters.columns = ['CLUSTER', 'cantidad']\n",
    "\n",
    "plt.figure(figsize=(8,6))\n",
    "sns.barplot(data=conteo_clusters, x='CLUSTER', y='cantidad', color = 'cadetblue')\n",
    "plt.xlabel('CLUSTER')\n",
    "plt.ylabel('CANTIDAD')\n",
    "plt.title('Cantidad de registros menores al threshold: 0.27')\n",
    "plt.grid()"
   ]
  },
  {
   "cell_type": "code",
   "execution_count": 7,
   "id": "6ef06088",
   "metadata": {},
   "outputs": [
    {
     "data": {
      "text/html": [
       "<div>\n",
       "<style scoped>\n",
       "    .dataframe tbody tr th:only-of-type {\n",
       "        vertical-align: middle;\n",
       "    }\n",
       "\n",
       "    .dataframe tbody tr th {\n",
       "        vertical-align: top;\n",
       "    }\n",
       "\n",
       "    .dataframe thead th {\n",
       "        text-align: right;\n",
       "    }\n",
       "</style>\n",
       "<table border=\"1\" class=\"dataframe\">\n",
       "  <thead>\n",
       "    <tr style=\"text-align: right;\">\n",
       "      <th></th>\n",
       "      <th>CLIENTE</th>\n",
       "      <th>COHORT</th>\n",
       "      <th>DESCRIPCION FALLA</th>\n",
       "      <th>INGRESO</th>\n",
       "      <th>FECHA REPARACION</th>\n",
       "      <th>CLUSTER</th>\n",
       "      <th>SIMILITUD COSENO</th>\n",
       "    </tr>\n",
       "  </thead>\n",
       "  <tbody>\n",
       "    <tr>\n",
       "      <th>0</th>\n",
       "      <td>2</td>\n",
       "      <td>2017-11-22</td>\n",
       "      <td>revision general tndr cambio del panel de cont...</td>\n",
       "      <td>1820.0</td>\n",
       "      <td>29/11/2018</td>\n",
       "      <td>Impresora Laser</td>\n",
       "      <td>0.298307</td>\n",
       "    </tr>\n",
       "    <tr>\n",
       "      <th>1</th>\n",
       "      <td>2</td>\n",
       "      <td>2017-11-22</td>\n",
       "      <td>imprime negro tn mantenimiento iva</td>\n",
       "      <td>480.0</td>\n",
       "      <td>30/11/2018</td>\n",
       "      <td>Impresora Tinta</td>\n",
       "      <td>0.391361</td>\n",
       "    </tr>\n",
       "    <tr>\n",
       "      <th>2</th>\n",
       "      <td>2</td>\n",
       "      <td>2017-11-22</td>\n",
       "      <td>rev gral cartucho toner reparacion traccion de...</td>\n",
       "      <td>1030.0</td>\n",
       "      <td>02/01/2019</td>\n",
       "      <td>Impresora Laser</td>\n",
       "      <td>0.508475</td>\n",
       "    </tr>\n",
       "    <tr>\n",
       "      <th>3</th>\n",
       "      <td>2</td>\n",
       "      <td>2017-11-22</td>\n",
       "      <td>rev gral sin toner    con cable de energia bue...</td>\n",
       "      <td>530.0</td>\n",
       "      <td>29/11/2018</td>\n",
       "      <td>Impresora Laser</td>\n",
       "      <td>0.493519</td>\n",
       "    </tr>\n",
       "    <tr>\n",
       "      <th>4</th>\n",
       "      <td>2</td>\n",
       "      <td>2017-11-22</td>\n",
       "      <td>rev gral   sin toner cambio de contacto del ca...</td>\n",
       "      <td>480.0</td>\n",
       "      <td>29/11/2018</td>\n",
       "      <td>Impresora Laser</td>\n",
       "      <td>0.448675</td>\n",
       "    </tr>\n",
       "    <tr>\n",
       "      <th>...</th>\n",
       "      <td>...</td>\n",
       "      <td>...</td>\n",
       "      <td>...</td>\n",
       "      <td>...</td>\n",
       "      <td>...</td>\n",
       "      <td>...</td>\n",
       "      <td>...</td>\n",
       "    </tr>\n",
       "    <tr>\n",
       "      <th>8597</th>\n",
       "      <td>1835</td>\n",
       "      <td>2024-09-13</td>\n",
       "      <td>en el area del impime obscuro en doble cara ta...</td>\n",
       "      <td>2815.0</td>\n",
       "      <td>20/09/2024</td>\n",
       "      <td>Sistemas</td>\n",
       "      <td>0.325016</td>\n",
       "    </tr>\n",
       "    <tr>\n",
       "      <th>8598</th>\n",
       "      <td>1837</td>\n",
       "      <td>2024-09-13</td>\n",
       "      <td>no escanea no saca copias marca papel atascado...</td>\n",
       "      <td>3532.0</td>\n",
       "      <td>30/09/2024</td>\n",
       "      <td>Sistemas</td>\n",
       "      <td>0.275756</td>\n",
       "    </tr>\n",
       "    <tr>\n",
       "      <th>8599</th>\n",
       "      <td>1843</td>\n",
       "      <td>2024-09-24</td>\n",
       "      <td>marcaba error de fusor y luego error de escane...</td>\n",
       "      <td>4790.0</td>\n",
       "      <td>30/09/2024</td>\n",
       "      <td>Impresora Laser</td>\n",
       "      <td>0.458887</td>\n",
       "    </tr>\n",
       "    <tr>\n",
       "      <th>8600</th>\n",
       "      <td>1841</td>\n",
       "      <td>2024-09-20</td>\n",
       "      <td>arruga las hojas y se atora   cambio de filmin...</td>\n",
       "      <td>2575.0</td>\n",
       "      <td>26/09/2024</td>\n",
       "      <td>Otros</td>\n",
       "      <td>0.408079</td>\n",
       "    </tr>\n",
       "    <tr>\n",
       "      <th>8601</th>\n",
       "      <td>1845</td>\n",
       "      <td>2024-02-10</td>\n",
       "      <td>retirar bateria hinchada contrasea leonfr elim...</td>\n",
       "      <td>600.0</td>\n",
       "      <td>30/09/2024</td>\n",
       "      <td>Impresora Tinta</td>\n",
       "      <td>0.651373</td>\n",
       "    </tr>\n",
       "  </tbody>\n",
       "</table>\n",
       "<p>8602 rows × 7 columns</p>\n",
       "</div>"
      ],
      "text/plain": [
       "      CLIENTE      COHORT                                  DESCRIPCION FALLA  \\\n",
       "0           2  2017-11-22  revision general tndr cambio del panel de cont...   \n",
       "1           2  2017-11-22                 imprime negro tn mantenimiento iva   \n",
       "2           2  2017-11-22  rev gral cartucho toner reparacion traccion de...   \n",
       "3           2  2017-11-22  rev gral sin toner    con cable de energia bue...   \n",
       "4           2  2017-11-22  rev gral   sin toner cambio de contacto del ca...   \n",
       "...       ...         ...                                                ...   \n",
       "8597     1835  2024-09-13  en el area del impime obscuro en doble cara ta...   \n",
       "8598     1837  2024-09-13  no escanea no saca copias marca papel atascado...   \n",
       "8599     1843  2024-09-24  marcaba error de fusor y luego error de escane...   \n",
       "8600     1841  2024-09-20  arruga las hojas y se atora   cambio de filmin...   \n",
       "8601     1845  2024-02-10  retirar bateria hinchada contrasea leonfr elim...   \n",
       "\n",
       "      INGRESO FECHA REPARACION          CLUSTER  SIMILITUD COSENO  \n",
       "0      1820.0       29/11/2018  Impresora Laser          0.298307  \n",
       "1       480.0       30/11/2018  Impresora Tinta          0.391361  \n",
       "2      1030.0       02/01/2019  Impresora Laser          0.508475  \n",
       "3       530.0       29/11/2018  Impresora Laser          0.493519  \n",
       "4       480.0       29/11/2018  Impresora Laser          0.448675  \n",
       "...       ...              ...              ...               ...  \n",
       "8597   2815.0       20/09/2024         Sistemas          0.325016  \n",
       "8598   3532.0       30/09/2024         Sistemas          0.275756  \n",
       "8599   4790.0       30/09/2024  Impresora Laser          0.458887  \n",
       "8600   2575.0       26/09/2024            Otros          0.408079  \n",
       "8601    600.0       30/09/2024  Impresora Tinta          0.651373  \n",
       "\n",
       "[8602 rows x 7 columns]"
      ]
     },
     "execution_count": 7,
     "metadata": {},
     "output_type": "execute_result"
    }
   ],
   "source": [
    "reparaciones_thresholded = reparaciones[reparaciones['SIMILITUD COSENO'] >= 0.27].reset_index()\n",
    "reparaciones_thresholded = reparaciones_thresholded.drop(columns='index')\n",
    "reparaciones_thresholded"
   ]
  },
  {
   "cell_type": "code",
   "execution_count": 8,
   "id": "7d197067",
   "metadata": {},
   "outputs": [
    {
     "data": {
      "text/plain": [
       "Text(0, 0.5, 'CANTIDAD')"
      ]
     },
     "execution_count": 8,
     "metadata": {},
     "output_type": "execute_result"
    },
    {
     "data": {
      "image/png": "[encoded data removed]",
      "text/plain": [
       "<Figure size 800x600 with 1 Axes>"
      ]
     },
     "metadata": {},
     "output_type": "display_data"
    }
   ],
   "source": [
    "plt.figure(figsize=(8,6))\n",
    "plt.grid()\n",
    "plt.bar(['Laser', 'Tinta', 'Otros', 'Sistemas'], reparaciones_thresholded.groupby('CLUSTER')['CLUSTER'].count(), color='cadetblue')\n",
    "plt.title('Número de fallas por Cluster despues de limpieza', fontsize=16)\n",
    "plt.xlabel('CLUSTER')\n",
    "plt.ylabel('CANTIDAD')"
   ]
  },
  {
   "cell_type": "code",
   "execution_count": 9,
   "id": "99c05c9a",
   "metadata": {},
   "outputs": [],
   "source": [
    "reparaciones = reparaciones_thresholded[['CLIENTE', 'COHORT', 'DESCRIPCION FALLA', 'INGRESO', 'FECHA REPARACION', 'CLUSTER']]"
   ]
  },
  {
   "cell_type": "markdown",
   "id": "8708827a-99b3-4ab9-8a50-3a4647d275fb",
   "metadata": {},
   "source": [
    "## Exploración de Datos "
   ]
  },
  {
   "cell_type": "code",
   "execution_count": 10,
   "id": "ea9aed7d-24bb-43a9-806f-cdce1ef06cf3",
   "metadata": {},
   "outputs": [
    {
     "data": {
      "text/html": [
       "<div>\n",
       "<style scoped>\n",
       "    .dataframe tbody tr th:only-of-type {\n",
       "        vertical-align: middle;\n",
       "    }\n",
       "\n",
       "    .dataframe tbody tr th {\n",
       "        vertical-align: top;\n",
       "    }\n",
       "\n",
       "    .dataframe thead th {\n",
       "        text-align: right;\n",
       "    }\n",
       "</style>\n",
       "<table border=\"1\" class=\"dataframe\">\n",
       "  <thead>\n",
       "    <tr style=\"text-align: right;\">\n",
       "      <th></th>\n",
       "      <th>CLIENTE</th>\n",
       "      <th>COHORT</th>\n",
       "      <th>DESCRIPCION FALLA</th>\n",
       "      <th>INGRESO</th>\n",
       "      <th>FECHA REPARACION</th>\n",
       "      <th>CLUSTER</th>\n",
       "    </tr>\n",
       "  </thead>\n",
       "  <tbody>\n",
       "    <tr>\n",
       "      <th>0</th>\n",
       "      <td>2</td>\n",
       "      <td>2017-11-22</td>\n",
       "      <td>revision general tndr cambio del panel de cont...</td>\n",
       "      <td>1820.0</td>\n",
       "      <td>29/11/2018</td>\n",
       "      <td>Impresora Laser</td>\n",
       "    </tr>\n",
       "    <tr>\n",
       "      <th>1</th>\n",
       "      <td>2</td>\n",
       "      <td>2017-11-22</td>\n",
       "      <td>imprime negro tn mantenimiento iva</td>\n",
       "      <td>480.0</td>\n",
       "      <td>30/11/2018</td>\n",
       "      <td>Impresora Tinta</td>\n",
       "    </tr>\n",
       "    <tr>\n",
       "      <th>2</th>\n",
       "      <td>2</td>\n",
       "      <td>2017-11-22</td>\n",
       "      <td>rev gral cartucho toner reparacion traccion de...</td>\n",
       "      <td>1030.0</td>\n",
       "      <td>02/01/2019</td>\n",
       "      <td>Impresora Laser</td>\n",
       "    </tr>\n",
       "    <tr>\n",
       "      <th>3</th>\n",
       "      <td>2</td>\n",
       "      <td>2017-11-22</td>\n",
       "      <td>rev gral sin toner    con cable de energia bue...</td>\n",
       "      <td>530.0</td>\n",
       "      <td>29/11/2018</td>\n",
       "      <td>Impresora Laser</td>\n",
       "    </tr>\n",
       "    <tr>\n",
       "      <th>4</th>\n",
       "      <td>2</td>\n",
       "      <td>2017-11-22</td>\n",
       "      <td>rev gral   sin toner cambio de contacto del ca...</td>\n",
       "      <td>480.0</td>\n",
       "      <td>29/11/2018</td>\n",
       "      <td>Impresora Laser</td>\n",
       "    </tr>\n",
       "    <tr>\n",
       "      <th>...</th>\n",
       "      <td>...</td>\n",
       "      <td>...</td>\n",
       "      <td>...</td>\n",
       "      <td>...</td>\n",
       "      <td>...</td>\n",
       "      <td>...</td>\n",
       "    </tr>\n",
       "    <tr>\n",
       "      <th>8597</th>\n",
       "      <td>1835</td>\n",
       "      <td>2024-09-13</td>\n",
       "      <td>en el area del impime obscuro en doble cara ta...</td>\n",
       "      <td>2815.0</td>\n",
       "      <td>20/09/2024</td>\n",
       "      <td>Sistemas</td>\n",
       "    </tr>\n",
       "    <tr>\n",
       "      <th>8598</th>\n",
       "      <td>1837</td>\n",
       "      <td>2024-09-13</td>\n",
       "      <td>no escanea no saca copias marca papel atascado...</td>\n",
       "      <td>3532.0</td>\n",
       "      <td>30/09/2024</td>\n",
       "      <td>Sistemas</td>\n",
       "    </tr>\n",
       "    <tr>\n",
       "      <th>8599</th>\n",
       "      <td>1843</td>\n",
       "      <td>2024-09-24</td>\n",
       "      <td>marcaba error de fusor y luego error de escane...</td>\n",
       "      <td>4790.0</td>\n",
       "      <td>30/09/2024</td>\n",
       "      <td>Impresora Laser</td>\n",
       "    </tr>\n",
       "    <tr>\n",
       "      <th>8600</th>\n",
       "      <td>1841</td>\n",
       "      <td>2024-09-20</td>\n",
       "      <td>arruga las hojas y se atora   cambio de filmin...</td>\n",
       "      <td>2575.0</td>\n",
       "      <td>26/09/2024</td>\n",
       "      <td>Otros</td>\n",
       "    </tr>\n",
       "    <tr>\n",
       "      <th>8601</th>\n",
       "      <td>1845</td>\n",
       "      <td>2024-02-10</td>\n",
       "      <td>retirar bateria hinchada contrasea leonfr elim...</td>\n",
       "      <td>600.0</td>\n",
       "      <td>30/09/2024</td>\n",
       "      <td>Impresora Tinta</td>\n",
       "    </tr>\n",
       "  </tbody>\n",
       "</table>\n",
       "<p>8602 rows × 6 columns</p>\n",
       "</div>"
      ],
      "text/plain": [
       "      CLIENTE      COHORT                                  DESCRIPCION FALLA  \\\n",
       "0           2  2017-11-22  revision general tndr cambio del panel de cont...   \n",
       "1           2  2017-11-22                 imprime negro tn mantenimiento iva   \n",
       "2           2  2017-11-22  rev gral cartucho toner reparacion traccion de...   \n",
       "3           2  2017-11-22  rev gral sin toner    con cable de energia bue...   \n",
       "4           2  2017-11-22  rev gral   sin toner cambio de contacto del ca...   \n",
       "...       ...         ...                                                ...   \n",
       "8597     1835  2024-09-13  en el area del impime obscuro en doble cara ta...   \n",
       "8598     1837  2024-09-13  no escanea no saca copias marca papel atascado...   \n",
       "8599     1843  2024-09-24  marcaba error de fusor y luego error de escane...   \n",
       "8600     1841  2024-09-20  arruga las hojas y se atora   cambio de filmin...   \n",
       "8601     1845  2024-02-10  retirar bateria hinchada contrasea leonfr elim...   \n",
       "\n",
       "      INGRESO FECHA REPARACION          CLUSTER  \n",
       "0      1820.0       29/11/2018  Impresora Laser  \n",
       "1       480.0       30/11/2018  Impresora Tinta  \n",
       "2      1030.0       02/01/2019  Impresora Laser  \n",
       "3       530.0       29/11/2018  Impresora Laser  \n",
       "4       480.0       29/11/2018  Impresora Laser  \n",
       "...       ...              ...              ...  \n",
       "8597   2815.0       20/09/2024         Sistemas  \n",
       "8598   3532.0       30/09/2024         Sistemas  \n",
       "8599   4790.0       30/09/2024  Impresora Laser  \n",
       "8600   2575.0       26/09/2024            Otros  \n",
       "8601    600.0       30/09/2024  Impresora Tinta  \n",
       "\n",
       "[8602 rows x 6 columns]"
      ]
     },
     "execution_count": 10,
     "metadata": {},
     "output_type": "execute_result"
    }
   ],
   "source": [
    "reparaciones"
   ]
  },
  {
   "cell_type": "code",
   "execution_count": 11,
   "id": "e0ad6642",
   "metadata": {},
   "outputs": [
    {
     "name": "stdout",
     "output_type": "stream",
     "text": [
      "<class 'pandas.core.frame.DataFrame'>\n",
      "RangeIndex: 8602 entries, 0 to 8601\n",
      "Data columns (total 6 columns):\n",
      " #   Column             Non-Null Count  Dtype  \n",
      "---  ------             --------------  -----  \n",
      " 0   CLIENTE            8602 non-null   int64  \n",
      " 1   COHORT             8602 non-null   object \n",
      " 2   DESCRIPCION FALLA  8602 non-null   object \n",
      " 3   INGRESO            8602 non-null   float64\n",
      " 4   FECHA REPARACION   8602 non-null   object \n",
      " 5   CLUSTER            8602 non-null   object \n",
      "dtypes: float64(1), int64(1), object(4)\n",
      "memory usage: 403.3+ KB\n"
     ]
    }
   ],
   "source": [
    "reparaciones.info()"
   ]
  },
  {
   "cell_type": "code",
   "execution_count": 12,
   "id": "fec699d9-5d3d-4005-8c99-478b602f8439",
   "metadata": {},
   "outputs": [
    {
     "name": "stdout",
     "output_type": "stream",
     "text": [
      "<class 'pandas.core.frame.DataFrame'>\n",
      "Int64Index: 8593 entries, 0 to 8601\n",
      "Data columns (total 6 columns):\n",
      " #   Column             Non-Null Count  Dtype         \n",
      "---  ------             --------------  -----         \n",
      " 0   CLIENTE            8593 non-null   int64         \n",
      " 1   COHORT             8593 non-null   datetime64[ns]\n",
      " 2   DESCRIPCION FALLA  8593 non-null   object        \n",
      " 3   INGRESO            8593 non-null   float64       \n",
      " 4   FECHA REPARACION   8593 non-null   datetime64[ns]\n",
      " 5   CLUSTER            8593 non-null   object        \n",
      "dtypes: datetime64[ns](2), float64(1), int64(1), object(2)\n",
      "memory usage: 469.9+ KB\n"
     ]
    }
   ],
   "source": [
    "reparaciones['FECHA REPARACION'] = reparaciones['FECHA REPARACION'].str.replace('-', '/')\n",
    "reparaciones['COHORT'] = reparaciones['COHORT'].str.replace('-', '/')\n",
    "\n",
    "reparaciones['FECHA REPARACION'] = pd.to_datetime(reparaciones['FECHA REPARACION'], dayfirst=True, errors='coerce')\n",
    "reparaciones['COHORT'] = pd.to_datetime(reparaciones['COHORT'], dayfirst=True, errors='coerce')\n",
    "\n",
    "current_date = datetime.now()\n",
    "reparaciones.loc[reparaciones['FECHA REPARACION'] > current_date, 'FECHA REPARACION'] = pd.NaT\n",
    "reparaciones.loc[reparaciones['COHORT'] > current_date, 'COHORT'] = pd.NaT\n",
    "\n",
    "reparaciones = reparaciones.dropna(subset='FECHA REPARACION')\n",
    "reparaciones = reparaciones.dropna(subset='COHORT')\n",
    "\n",
    "reparaciones.info()"
   ]
  },
  {
   "cell_type": "markdown",
   "id": "93a304fc-ad53-42d9-a27c-166a17db4eac",
   "metadata": {},
   "source": [
    "### Identificar primer ticket por cliente. "
   ]
  },
  {
   "cell_type": "code",
   "execution_count": 53,
   "id": "6824b6e7-4586-4a69-8a32-a171f93f1bdc",
   "metadata": {},
   "outputs": [
    {
     "data": {
      "text/html": [
       "<div>\n",
       "<style scoped>\n",
       "    .dataframe tbody tr th:only-of-type {\n",
       "        vertical-align: middle;\n",
       "    }\n",
       "\n",
       "    .dataframe tbody tr th {\n",
       "        vertical-align: top;\n",
       "    }\n",
       "\n",
       "    .dataframe thead th {\n",
       "        text-align: right;\n",
       "    }\n",
       "</style>\n",
       "<table border=\"1\" class=\"dataframe\">\n",
       "  <thead>\n",
       "    <tr style=\"text-align: right;\">\n",
       "      <th></th>\n",
       "      <th>CLIENTE</th>\n",
       "      <th>CLUSTER</th>\n",
       "      <th>INGRESO</th>\n",
       "    </tr>\n",
       "  </thead>\n",
       "  <tbody>\n",
       "    <tr>\n",
       "      <th>0</th>\n",
       "      <td>2</td>\n",
       "      <td>Impresora Laser</td>\n",
       "      <td>1820.0</td>\n",
       "    </tr>\n",
       "    <tr>\n",
       "      <th>1</th>\n",
       "      <td>3</td>\n",
       "      <td>Sistemas</td>\n",
       "      <td>360.0</td>\n",
       "    </tr>\n",
       "    <tr>\n",
       "      <th>2</th>\n",
       "      <td>4</td>\n",
       "      <td>Sistemas</td>\n",
       "      <td>300.0</td>\n",
       "    </tr>\n",
       "    <tr>\n",
       "      <th>3</th>\n",
       "      <td>5</td>\n",
       "      <td>Sistemas</td>\n",
       "      <td>480.0</td>\n",
       "    </tr>\n",
       "    <tr>\n",
       "      <th>4</th>\n",
       "      <td>6</td>\n",
       "      <td>Sistemas</td>\n",
       "      <td>500.0</td>\n",
       "    </tr>\n",
       "  </tbody>\n",
       "</table>\n",
       "</div>"
      ],
      "text/plain": [
       "   CLIENTE          CLUSTER  INGRESO\n",
       "0        2  Impresora Laser   1820.0\n",
       "1        3         Sistemas    360.0\n",
       "2        4         Sistemas    300.0\n",
       "3        5         Sistemas    480.0\n",
       "4        6         Sistemas    500.0"
      ]
     },
     "execution_count": 53,
     "metadata": {},
     "output_type": "execute_result"
    }
   ],
   "source": [
    "reparaciones_sorted = reparaciones.sort_values(by=['CLIENTE', 'FECHA REPARACION'])\n",
    "first_ticket_df = reparaciones_sorted.groupby('CLIENTE').first().reset_index()\n",
    "first_ticket_df = first_ticket_df[['CLIENTE', 'CLUSTER', 'INGRESO']]\n",
    "first_ticket_df.head()"
   ]
  },
  {
   "cell_type": "markdown",
   "id": "03210495",
   "metadata": {},
   "source": [
    "## Análisis y cálculo de los KPIs"
   ]
  },
  {
   "cell_type": "markdown",
   "id": "34d8175c-0cc1-496d-8a65-6cc0b98b6751",
   "metadata": {},
   "source": [
    "### Customer Lifetime Value (24 Meses)"
   ]
  },
  {
   "cell_type": "code",
   "execution_count": 13,
   "id": "bc5c0e6b",
   "metadata": {},
   "outputs": [
    {
     "data": {
      "text/plain": [
       "Timestamp('2024-10-18 00:00:00')"
      ]
     },
     "execution_count": 13,
     "metadata": {},
     "output_type": "execute_result"
    }
   ],
   "source": [
    "snapshot_date = reparaciones['FECHA REPARACION'].max()\n",
    "snapshot_date"
   ]
  },
  {
   "cell_type": "code",
   "execution_count": 14,
   "id": "deeb7ee0",
   "metadata": {},
   "outputs": [
    {
     "data": {
      "text/plain": [
       "Timestamp('2017-12-04 00:00:00')"
      ]
     },
     "execution_count": 14,
     "metadata": {},
     "output_type": "execute_result"
    }
   ],
   "source": [
    "reparaciones['FECHA REPARACION'].min()"
   ]
  },
  {
   "cell_type": "code",
   "execution_count": 15,
   "id": "27d02d0c",
   "metadata": {},
   "outputs": [
    {
     "data": {
      "text/html": [
       "<div>\n",
       "<style scoped>\n",
       "    .dataframe tbody tr th:only-of-type {\n",
       "        vertical-align: middle;\n",
       "    }\n",
       "\n",
       "    .dataframe tbody tr th {\n",
       "        vertical-align: top;\n",
       "    }\n",
       "\n",
       "    .dataframe thead th {\n",
       "        text-align: right;\n",
       "    }\n",
       "</style>\n",
       "<table border=\"1\" class=\"dataframe\">\n",
       "  <thead>\n",
       "    <tr style=\"text-align: right;\">\n",
       "      <th></th>\n",
       "      <th>CLIENTE</th>\n",
       "      <th>LTV_24_MESES</th>\n",
       "    </tr>\n",
       "  </thead>\n",
       "  <tbody>\n",
       "    <tr>\n",
       "      <th>0</th>\n",
       "      <td>2</td>\n",
       "      <td>10200.0</td>\n",
       "    </tr>\n",
       "    <tr>\n",
       "      <th>1</th>\n",
       "      <td>3</td>\n",
       "      <td>31575.0</td>\n",
       "    </tr>\n",
       "    <tr>\n",
       "      <th>2</th>\n",
       "      <td>4</td>\n",
       "      <td>142495.8</td>\n",
       "    </tr>\n",
       "    <tr>\n",
       "      <th>3</th>\n",
       "      <td>5</td>\n",
       "      <td>32372.0</td>\n",
       "    </tr>\n",
       "    <tr>\n",
       "      <th>4</th>\n",
       "      <td>6</td>\n",
       "      <td>13021.0</td>\n",
       "    </tr>\n",
       "  </tbody>\n",
       "</table>\n",
       "</div>"
      ],
      "text/plain": [
       "   CLIENTE  LTV_24_MESES\n",
       "0        2       10200.0\n",
       "1        3       31575.0\n",
       "2        4      142495.8\n",
       "3        5       32372.0\n",
       "4        6       13021.0"
      ]
     },
     "execution_count": 15,
     "metadata": {},
     "output_type": "execute_result"
    }
   ],
   "source": [
    "reparaciones['CUSTOMER_TENURE'] = (snapshot_date.year - reparaciones['FECHA REPARACION'].dt.year)*12 + (\n",
    "    snapshot_date.month - reparaciones['FECHA REPARACION'].dt.month)\n",
    "\n",
    "reparaciones['CUSTOMER_TENURE_ON_TRANSACTION'] = (\n",
    "    reparaciones['FECHA REPARACION'].dt.year - reparaciones['COHORT'].dt.year)*12 + (\n",
    "    reparaciones['FECHA REPARACION'].dt.month - reparaciones['COHORT'].dt.month\n",
    ")\n",
    "\n",
    "cltv_24_months = reparaciones[\n",
    "    (reparaciones['CUSTOMER_TENURE'] > 24) &\n",
    "    (reparaciones['CUSTOMER_TENURE_ON_TRANSACTION'] <= 24)\n",
    "].groupby('CLIENTE')['INGRESO'].sum().reset_index()\n",
    "cltv_24_months = cltv_24_months.rename(columns={'INGRESO':'LTV_24_MESES'})\n",
    "\n",
    "cltv_nombres = cltv_24_months.merge(clientes, on='CLIENTE', how='inner') # Para poder observar los nombres de los clientes\n",
    "\n",
    "cltv_24_months.head()"
   ]
  },
  {
   "cell_type": "markdown",
   "id": "618ba79e-4472-4aee-9d0b-6de655e781c8",
   "metadata": {},
   "source": [
    "## Visualización de las variables relacionadas. "
   ]
  },
  {
   "cell_type": "markdown",
   "id": "49846999-637c-445e-a7c8-716b086b2714",
   "metadata": {},
   "source": [
    "### LTV por cohort"
   ]
  },
  {
   "cell_type": "code",
   "execution_count": 63,
   "id": "ff6b7cac-d878-4a2f-8faf-80b475986e4f",
   "metadata": {},
   "outputs": [
    {
     "data": {
      "text/plain": [
       "<Axes: xlabel='COHORT'>"
      ]
     },
     "execution_count": 63,
     "metadata": {},
     "output_type": "execute_result"
    },
    {
     "data": {
      "image/png": "[encoded data removed]",
      "text/plain": [
       "<Figure size 640x480 with 1 Axes>"
      ]
     },
     "metadata": {},
     "output_type": "display_data"
    }
   ],
   "source": [
    "reparaciones_ltv = reparaciones.merge(cltv_24_months, on='CLIENTE', how='inner')\n",
    "reparaciones_cohort_m = reparaciones_ltv[['CLIENTE', 'COHORT', 'LTV_24_MESES']]\n",
    "reparaciones_cohort_m['COHORT'] = pd.to_datetime(reparaciones['COHORT'], errors='coerce').dt.to_period('M')\n",
    "reparaciones_cohort_m = reparaciones_cohort_m.drop_duplicates().reset_index(drop=True)\n",
    "reparaciones_cohort_m = reparaciones_cohort_m.sort_values('COHORT').dropna()\n",
    "\n",
    "#plt.figure(figsize=())\n",
    "reparaciones_cohort_m.groupby('COHORT')['LTV_24_MESES'].mean().plot()"
   ]
  },
  {
   "cell_type": "markdown",
   "id": "7789d642",
   "metadata": {},
   "source": [
    "## Predicción del Customer Lifetime Value"
   ]
  },
  {
   "cell_type": "code",
   "execution_count": 56,
   "id": "4f62a53a-bec2-4abe-95db-0a9c38e6e265",
   "metadata": {},
   "outputs": [
    {
     "data": {
      "text/html": [
       "<div>\n",
       "<style scoped>\n",
       "    .dataframe tbody tr th:only-of-type {\n",
       "        vertical-align: middle;\n",
       "    }\n",
       "\n",
       "    .dataframe tbody tr th {\n",
       "        vertical-align: top;\n",
       "    }\n",
       "\n",
       "    .dataframe thead th {\n",
       "        text-align: right;\n",
       "    }\n",
       "</style>\n",
       "<table border=\"1\" class=\"dataframe\">\n",
       "  <thead>\n",
       "    <tr style=\"text-align: right;\">\n",
       "      <th></th>\n",
       "      <th>CLIENTE</th>\n",
       "      <th>CLUSTER</th>\n",
       "      <th>INGRESO</th>\n",
       "      <th>LTV</th>\n",
       "    </tr>\n",
       "  </thead>\n",
       "  <tbody>\n",
       "    <tr>\n",
       "      <th>0</th>\n",
       "      <td>2</td>\n",
       "      <td>Impresora Laser</td>\n",
       "      <td>1820.0</td>\n",
       "      <td>10200.0</td>\n",
       "    </tr>\n",
       "    <tr>\n",
       "      <th>1</th>\n",
       "      <td>3</td>\n",
       "      <td>Sistemas</td>\n",
       "      <td>360.0</td>\n",
       "      <td>31575.0</td>\n",
       "    </tr>\n",
       "    <tr>\n",
       "      <th>2</th>\n",
       "      <td>4</td>\n",
       "      <td>Sistemas</td>\n",
       "      <td>300.0</td>\n",
       "      <td>142495.8</td>\n",
       "    </tr>\n",
       "    <tr>\n",
       "      <th>3</th>\n",
       "      <td>5</td>\n",
       "      <td>Sistemas</td>\n",
       "      <td>480.0</td>\n",
       "      <td>32372.0</td>\n",
       "    </tr>\n",
       "    <tr>\n",
       "      <th>4</th>\n",
       "      <td>6</td>\n",
       "      <td>Sistemas</td>\n",
       "      <td>500.0</td>\n",
       "      <td>13021.0</td>\n",
       "    </tr>\n",
       "    <tr>\n",
       "      <th>...</th>\n",
       "      <td>...</td>\n",
       "      <td>...</td>\n",
       "      <td>...</td>\n",
       "      <td>...</td>\n",
       "    </tr>\n",
       "    <tr>\n",
       "      <th>1221</th>\n",
       "      <td>1467</td>\n",
       "      <td>Impresora Tinta</td>\n",
       "      <td>2100.0</td>\n",
       "      <td>1240.0</td>\n",
       "    </tr>\n",
       "    <tr>\n",
       "      <th>1222</th>\n",
       "      <td>1470</td>\n",
       "      <td>Sistemas</td>\n",
       "      <td>6631.9</td>\n",
       "      <td>2890.0</td>\n",
       "    </tr>\n",
       "    <tr>\n",
       "      <th>1223</th>\n",
       "      <td>1471</td>\n",
       "      <td>Sistemas</td>\n",
       "      <td>11200.0</td>\n",
       "      <td>1064.0</td>\n",
       "    </tr>\n",
       "    <tr>\n",
       "      <th>1224</th>\n",
       "      <td>1472</td>\n",
       "      <td>Sistemas</td>\n",
       "      <td>850.0</td>\n",
       "      <td>2610.0</td>\n",
       "    </tr>\n",
       "    <tr>\n",
       "      <th>1225</th>\n",
       "      <td>1474</td>\n",
       "      <td>Impresora Tinta</td>\n",
       "      <td>1915.0</td>\n",
       "      <td>3703.2</td>\n",
       "    </tr>\n",
       "  </tbody>\n",
       "</table>\n",
       "<p>1226 rows × 4 columns</p>\n",
       "</div>"
      ],
      "text/plain": [
       "      CLIENTE          CLUSTER  INGRESO       LTV\n",
       "0           2  Impresora Laser   1820.0   10200.0\n",
       "1           3         Sistemas    360.0   31575.0\n",
       "2           4         Sistemas    300.0  142495.8\n",
       "3           5         Sistemas    480.0   32372.0\n",
       "4           6         Sistemas    500.0   13021.0\n",
       "...       ...              ...      ...       ...\n",
       "1221     1467  Impresora Tinta   2100.0    1240.0\n",
       "1222     1470         Sistemas   6631.9    2890.0\n",
       "1223     1471         Sistemas  11200.0    1064.0\n",
       "1224     1472         Sistemas    850.0    2610.0\n",
       "1225     1474  Impresora Tinta   1915.0    3703.2\n",
       "\n",
       "[1226 rows x 4 columns]"
      ]
     },
     "execution_count": 56,
     "metadata": {},
     "output_type": "execute_result"
    }
   ],
   "source": [
    "first_ticket_df['LTV'] = cltv_24_months['LTV_24_MESES']\n",
    "df_regresion = first_ticket_df.dropna()\n",
    "df_regresion"
   ]
  },
  {
   "cell_type": "code",
   "execution_count": 72,
   "id": "4cf12ffc-4b85-44da-b3f9-fc097a903bcb",
   "metadata": {},
   "outputs": [
    {
     "data": {
      "text/html": [
       "<div>\n",
       "<style scoped>\n",
       "    .dataframe tbody tr th:only-of-type {\n",
       "        vertical-align: middle;\n",
       "    }\n",
       "\n",
       "    .dataframe tbody tr th {\n",
       "        vertical-align: top;\n",
       "    }\n",
       "\n",
       "    .dataframe thead th {\n",
       "        text-align: right;\n",
       "    }\n",
       "</style>\n",
       "<table border=\"1\" class=\"dataframe\">\n",
       "  <thead>\n",
       "    <tr style=\"text-align: right;\">\n",
       "      <th></th>\n",
       "      <th>CLIENTE</th>\n",
       "      <th>INGRESO</th>\n",
       "      <th>LTV</th>\n",
       "      <th>CLUSTER_Impresora Laser</th>\n",
       "      <th>CLUSTER_Impresora Tinta</th>\n",
       "      <th>CLUSTER_Otros</th>\n",
       "      <th>CLUSTER_Sistemas</th>\n",
       "    </tr>\n",
       "  </thead>\n",
       "  <tbody>\n",
       "    <tr>\n",
       "      <th>0</th>\n",
       "      <td>2</td>\n",
       "      <td>1820.0</td>\n",
       "      <td>10200.0</td>\n",
       "      <td>1</td>\n",
       "      <td>0</td>\n",
       "      <td>0</td>\n",
       "      <td>0</td>\n",
       "    </tr>\n",
       "    <tr>\n",
       "      <th>1</th>\n",
       "      <td>3</td>\n",
       "      <td>360.0</td>\n",
       "      <td>31575.0</td>\n",
       "      <td>0</td>\n",
       "      <td>0</td>\n",
       "      <td>0</td>\n",
       "      <td>1</td>\n",
       "    </tr>\n",
       "    <tr>\n",
       "      <th>2</th>\n",
       "      <td>4</td>\n",
       "      <td>300.0</td>\n",
       "      <td>142495.8</td>\n",
       "      <td>0</td>\n",
       "      <td>0</td>\n",
       "      <td>0</td>\n",
       "      <td>1</td>\n",
       "    </tr>\n",
       "    <tr>\n",
       "      <th>3</th>\n",
       "      <td>5</td>\n",
       "      <td>480.0</td>\n",
       "      <td>32372.0</td>\n",
       "      <td>0</td>\n",
       "      <td>0</td>\n",
       "      <td>0</td>\n",
       "      <td>1</td>\n",
       "    </tr>\n",
       "    <tr>\n",
       "      <th>4</th>\n",
       "      <td>6</td>\n",
       "      <td>500.0</td>\n",
       "      <td>13021.0</td>\n",
       "      <td>0</td>\n",
       "      <td>0</td>\n",
       "      <td>0</td>\n",
       "      <td>1</td>\n",
       "    </tr>\n",
       "    <tr>\n",
       "      <th>...</th>\n",
       "      <td>...</td>\n",
       "      <td>...</td>\n",
       "      <td>...</td>\n",
       "      <td>...</td>\n",
       "      <td>...</td>\n",
       "      <td>...</td>\n",
       "      <td>...</td>\n",
       "    </tr>\n",
       "    <tr>\n",
       "      <th>1221</th>\n",
       "      <td>1467</td>\n",
       "      <td>2100.0</td>\n",
       "      <td>1240.0</td>\n",
       "      <td>0</td>\n",
       "      <td>1</td>\n",
       "      <td>0</td>\n",
       "      <td>0</td>\n",
       "    </tr>\n",
       "    <tr>\n",
       "      <th>1222</th>\n",
       "      <td>1470</td>\n",
       "      <td>6631.9</td>\n",
       "      <td>2890.0</td>\n",
       "      <td>0</td>\n",
       "      <td>0</td>\n",
       "      <td>0</td>\n",
       "      <td>1</td>\n",
       "    </tr>\n",
       "    <tr>\n",
       "      <th>1223</th>\n",
       "      <td>1471</td>\n",
       "      <td>11200.0</td>\n",
       "      <td>1064.0</td>\n",
       "      <td>0</td>\n",
       "      <td>0</td>\n",
       "      <td>0</td>\n",
       "      <td>1</td>\n",
       "    </tr>\n",
       "    <tr>\n",
       "      <th>1224</th>\n",
       "      <td>1472</td>\n",
       "      <td>850.0</td>\n",
       "      <td>2610.0</td>\n",
       "      <td>0</td>\n",
       "      <td>0</td>\n",
       "      <td>0</td>\n",
       "      <td>1</td>\n",
       "    </tr>\n",
       "    <tr>\n",
       "      <th>1225</th>\n",
       "      <td>1474</td>\n",
       "      <td>1915.0</td>\n",
       "      <td>3703.2</td>\n",
       "      <td>0</td>\n",
       "      <td>1</td>\n",
       "      <td>0</td>\n",
       "      <td>0</td>\n",
       "    </tr>\n",
       "  </tbody>\n",
       "</table>\n",
       "<p>1226 rows × 7 columns</p>\n",
       "</div>"
      ],
      "text/plain": [
       "      CLIENTE  INGRESO       LTV  CLUSTER_Impresora Laser  \\\n",
       "0           2   1820.0   10200.0                        1   \n",
       "1           3    360.0   31575.0                        0   \n",
       "2           4    300.0  142495.8                        0   \n",
       "3           5    480.0   32372.0                        0   \n",
       "4           6    500.0   13021.0                        0   \n",
       "...       ...      ...       ...                      ...   \n",
       "1221     1467   2100.0    1240.0                        0   \n",
       "1222     1470   6631.9    2890.0                        0   \n",
       "1223     1471  11200.0    1064.0                        0   \n",
       "1224     1472    850.0    2610.0                        0   \n",
       "1225     1474   1915.0    3703.2                        0   \n",
       "\n",
       "      CLUSTER_Impresora Tinta  CLUSTER_Otros  CLUSTER_Sistemas  \n",
       "0                           0              0                 0  \n",
       "1                           0              0                 1  \n",
       "2                           0              0                 1  \n",
       "3                           0              0                 1  \n",
       "4                           0              0                 1  \n",
       "...                       ...            ...               ...  \n",
       "1221                        1              0                 0  \n",
       "1222                        0              0                 1  \n",
       "1223                        0              0                 1  \n",
       "1224                        0              0                 1  \n",
       "1225                        1              0                 0  \n",
       "\n",
       "[1226 rows x 7 columns]"
      ]
     },
     "execution_count": 72,
     "metadata": {},
     "output_type": "execute_result"
    }
   ],
   "source": [
    "categorical_features = ['CLUSTER']\n",
    "numerical_features = ['INGRESO', 'LTV']\n",
    "\n",
    "data_encoded = pd.get_dummies(df_regresion[['CLIENTE']+categorical_features], \n",
    "                              columns=categorical_features, \n",
    "                              drop_first=False)\n",
    "\n",
    "df_to_model = df_regresion[['CLIENTE']+numerical_features].merge(data_encoded, on='CLIENTE')\n",
    "\n",
    "x = ['INGRESO']\n",
    "y = ['LTV']\n",
    "\n",
    "df_to_model"
   ]
  },
  {
   "cell_type": "code",
   "execution_count": 73,
   "id": "551d2d39-6b89-45b9-8e29-d4ea16d531ec",
   "metadata": {},
   "outputs": [
    {
     "name": "stdout",
     "output_type": "stream",
     "text": [
      "                            OLS Regression Results                            \n",
      "==============================================================================\n",
      "Dep. Variable:                    LTV   R-squared:                       0.003\n",
      "Model:                            OLS   Adj. R-squared:                  0.002\n",
      "Method:                 Least Squares   F-statistic:                     3.528\n",
      "Date:                Tue, 12 Nov 2024   Prob (F-statistic):             0.0606\n",
      "Time:                        21:32:10   Log-Likelihood:                -13503.\n",
      "No. Observations:                1226   AIC:                         2.701e+04\n",
      "Df Residuals:                    1224   BIC:                         2.702e+04\n",
      "Df Model:                           1                                         \n",
      "Covariance Type:            nonrobust                                         \n",
      "==============================================================================\n",
      "                 coef    std err          t      P>|t|      [0.025      0.975]\n",
      "------------------------------------------------------------------------------\n",
      "const       7118.0915    471.507     15.096      0.000    6193.040    8043.143\n",
      "INGRESO       -0.2274      0.121     -1.878      0.061      -0.465       0.010\n",
      "==============================================================================\n",
      "Omnibus:                     1347.950   Durbin-Watson:                   1.918\n",
      "Prob(Omnibus):                  0.000   Jarque-Bera (JB):            91571.600\n",
      "Skew:                           5.460   Prob(JB):                         0.00\n",
      "Kurtosis:                      43.907   Cond. No.                     4.37e+03\n",
      "==============================================================================\n",
      "\n",
      "Notes:\n",
      "[1] Standard Errors assume that the covariance matrix of the errors is correctly specified.\n",
      "[2] The condition number is large, 4.37e+03. This might indicate that there are\n",
      "strong multicollinearity or other numerical problems.\n"
     ]
    }
   ],
   "source": [
    "X = sm.add_constant(df_to_model[x])\n",
    "\n",
    "model = sm.OLS(df_to_model[y], X)\n",
    "results = model.fit()\n",
    "\n",
    "print(results.summary())"
   ]
  },
  {
   "cell_type": "markdown",
   "id": "eb102ef0",
   "metadata": {},
   "source": [
    "Tratar de que los que representan ingreso 0 se clasifiquen como \"NO REPARADO\"."
   ]
  },
  {
   "cell_type": "code",
   "execution_count": null,
   "id": "d1adbc35-8755-4caf-b6d9-563a9587f471",
   "metadata": {},
   "outputs": [],
   "source": []
  },
  {
   "cell_type": "code",
   "execution_count": null,
   "id": "e1688151-ca82-4470-bffa-8dda8474c3ab",
   "metadata": {},
   "outputs": [],
   "source": []
  },
  {
   "cell_type": "code",
   "execution_count": null,
   "id": "04797780-cbc7-4bd6-9d3e-3f4d0fe55bc9",
   "metadata": {},
   "outputs": [],
   "source": []
  },
  {
   "cell_type": "code",
   "execution_count": null,
   "id": "e58996ba-b361-498f-b635-4299fc7563f2",
   "metadata": {},
   "outputs": [],
   "source": []
  },
  {
   "cell_type": "markdown",
   "id": "e6d60d4f",
   "metadata": {},
   "source": [
    "Variables latentes:\n",
    "- Confianza del cliente.\n",
    "    - Cuantas veces regresa el cliente.\n",
    "    - Ingreso en reparaciones."
   ]
  },
  {
   "cell_type": "markdown",
   "id": "928009ff",
   "metadata": {},
   "source": [
    "## Variable latente (confianza del cliente)."
   ]
  },
  {
   "cell_type": "code",
   "execution_count": 17,
   "id": "83e9f5ac",
   "metadata": {},
   "outputs": [
    {
     "data": {
      "text/html": [
       "<div>\n",
       "<style scoped>\n",
       "    .dataframe tbody tr th:only-of-type {\n",
       "        vertical-align: middle;\n",
       "    }\n",
       "\n",
       "    .dataframe tbody tr th {\n",
       "        vertical-align: top;\n",
       "    }\n",
       "\n",
       "    .dataframe thead th {\n",
       "        text-align: right;\n",
       "    }\n",
       "</style>\n",
       "<table border=\"1\" class=\"dataframe\">\n",
       "  <thead>\n",
       "    <tr style=\"text-align: right;\">\n",
       "      <th></th>\n",
       "      <th>CLIENTE</th>\n",
       "      <th>Retorno</th>\n",
       "      <th>Ingreso_Total</th>\n",
       "      <th>Ingreso_Promedio</th>\n",
       "    </tr>\n",
       "  </thead>\n",
       "  <tbody>\n",
       "    <tr>\n",
       "      <th>0</th>\n",
       "      <td>2</td>\n",
       "      <td>6</td>\n",
       "      <td>10200.0</td>\n",
       "      <td>1700.000000</td>\n",
       "    </tr>\n",
       "    <tr>\n",
       "      <th>1</th>\n",
       "      <td>3</td>\n",
       "      <td>36</td>\n",
       "      <td>57913.5</td>\n",
       "      <td>1608.708333</td>\n",
       "    </tr>\n",
       "    <tr>\n",
       "      <th>2</th>\n",
       "      <td>4</td>\n",
       "      <td>172</td>\n",
       "      <td>208777.0</td>\n",
       "      <td>1213.819767</td>\n",
       "    </tr>\n",
       "    <tr>\n",
       "      <th>3</th>\n",
       "      <td>5</td>\n",
       "      <td>73</td>\n",
       "      <td>102255.0</td>\n",
       "      <td>1400.753425</td>\n",
       "    </tr>\n",
       "    <tr>\n",
       "      <th>4</th>\n",
       "      <td>6</td>\n",
       "      <td>13</td>\n",
       "      <td>14941.0</td>\n",
       "      <td>1149.307692</td>\n",
       "    </tr>\n",
       "  </tbody>\n",
       "</table>\n",
       "</div>"
      ],
      "text/plain": [
       "   CLIENTE  Retorno  Ingreso_Total  Ingreso_Promedio\n",
       "0        2        6        10200.0       1700.000000\n",
       "1        3       36        57913.5       1608.708333\n",
       "2        4      172       208777.0       1213.819767\n",
       "3        5       73       102255.0       1400.753425\n",
       "4        6       13        14941.0       1149.307692"
      ]
     },
     "execution_count": 17,
     "metadata": {},
     "output_type": "execute_result"
    }
   ],
   "source": [
    "retorno_clientes = reparaciones.groupby('CLIENTE')['CLIENTE'].count()\n",
    "ingreso_clientes = reparaciones.groupby('CLIENTE')['INGRESO'].sum()\n",
    "ingreso_promedio = reparaciones.groupby('CLIENTE')['INGRESO'].mean()\n",
    "\n",
    "confianza = pd.DataFrame()\n",
    "confianza['Retorno'] = retorno_clientes\n",
    "confianza['Ingreso_Total'] = ingreso_clientes\n",
    "confianza['Ingreso_Promedio'] = ingreso_promedio\n",
    "confianza = confianza.reset_index()\n",
    "confianza.head()"
   ]
  },
  {
   "cell_type": "code",
   "execution_count": 18,
   "id": "7a8aa209",
   "metadata": {},
   "outputs": [
    {
     "name": "stdout",
     "output_type": "stream",
     "text": [
      "               lval  op              rval      Estimate          Std. Err  \\\n",
      "0           Retorno   ~         Confianza  1.000000e+00                 -   \n",
      "1     Ingreso_Total   ~         Confianza  1.417905e+03        621.255614   \n",
      "2  Ingreso_Promedio   ~         Confianza -5.434444e+00          3.910469   \n",
      "3         Confianza  ~~         Confianza  2.827695e+02        124.195303   \n",
      "4  Ingreso_Promedio  ~~  Ingreso_Promedio  4.137861e+06     150189.877107   \n",
      "5     Ingreso_Total  ~~     Ingreso_Total  3.339046e+08  249130251.330282   \n",
      "6           Retorno  ~~           Retorno  2.591124e-13        123.770737   \n",
      "\n",
      "     z-value   p-value  \n",
      "0          -         -  \n",
      "1   2.282321   0.02247  \n",
      "2  -1.389717  0.164615  \n",
      "3   2.276813  0.022797  \n",
      "4  27.550864       0.0  \n",
      "5   1.340281  0.180154  \n",
      "6        0.0       1.0  \n"
     ]
    }
   ],
   "source": [
    "model_desc = \"\"\"\n",
    "# Latent Variables\n",
    "Confianza =~ Retorno + Ingreso_Total + Ingreso_Promedio\n",
    "\"\"\"\n",
    "\n",
    "mod = Model(model_desc)\n",
    "res_opt = mod.fit(confianza)\n",
    "estimates = mod.inspect()\n",
    "\n",
    "# Imprimir los resultados del ajuste del modelo\n",
    "print(estimates)"
   ]
  },
  {
   "cell_type": "code",
   "execution_count": 19,
   "id": "13393a6f",
   "metadata": {},
   "outputs": [
    {
     "name": "stdout",
     "output_type": "stream",
     "text": [
      "Name of objective: MLW\n",
      "Optimization method: SLSQP\n",
      "Optimization successful.\n",
      "Optimization terminated successfully\n",
      "Objective value: 0.993\n",
      "Number of iterations: 41\n",
      "Params: 1417.905 -5.434 282.770 4137860.896 333904575.946 0.000\n"
     ]
    }
   ],
   "source": [
    "print(res_opt)"
   ]
  },
  {
   "cell_type": "code",
   "execution_count": 20,
   "id": "a552723c",
   "metadata": {},
   "outputs": [],
   "source": [
    "g = semplot(mod, 'pd.png')"
   ]
  },
  {
   "cell_type": "markdown",
   "id": "74a02dcb-2d4d-424c-90dd-3254f1f2b94f",
   "metadata": {},
   "source": [
    "<img src=\"pd.png\">"
   ]
  }
 ],
 "metadata": {
  "kernelspec": {
   "display_name": "Python 3 (ipykernel)",
   "language": "python",
   "name": "python3"
  },
  "language_info": {
   "codemirror_mode": {
    "name": "ipython",
    "version": 3
   },
   "file_extension": ".py",
   "mimetype": "text/x-python",
   "name": "python",
   "nbconvert_exporter": "python",
   "pygments_lexer": "ipython3",
   "version": "3.11.7"
  }
 },
 "nbformat": 4,
 "nbformat_minor": 5
}
