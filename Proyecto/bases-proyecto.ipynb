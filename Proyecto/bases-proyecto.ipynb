{
 "cells": [
  {
   "cell_type": "markdown",
   "id": "8e66d67a",
   "metadata": {},
   "source": [
    "# Proyecto final: Análisis Estratégico de Datos en Empresas Reales\n",
    "\n",
    "En este proyecto final, trabajarás en grupos de cuatro para seleccionar una empresa real de tu elección y aplicarás el proceso de análisis de datos que hemos cubierto a lo largo del curso. El objetivo es identificar métricas clave de desempeño (KPIs) que ayuden a la empresa a alcanzar sus metas estratégicas.\n",
    "\n",
    "## Selección de empresa\n",
    "\n",
    "Para la elección de la empresa, asegúrate de que puedan proporcionarte lo siguiente:\n",
    "\n",
    "- **Objetivo Empresarial Claro:** Debe estar bien definido y ser específico.\n",
    "- **Datos Relacionados al Objetivo:** Asegúrate de que la empresa pueda proporcionarte datos adecuados para el análisis, incluyendo entidades y atributos relevantes. Es esencial que cualquier dato sensible sea enmascarado para evitar problemas de seguridad.\n",
    "- **Comprensión del Contexto Empresarial:** La empresa debe estar dispuesta a proporcionarte el tiempo o la documentación necesaria para entender su industria y la naturaleza de los datos compartidos.\n",
    "\n",
    "\n",
    "## Actividades del proyecto\n",
    "\n",
    "Los puntos a elaborar son los siguientes:\n",
    "\n",
    "1. **Descripción y Contexto:**\n",
    "    - Contexto Empresarial: Analiza y describe la historia operativa de la empresa, cambios significativos, y la evolución de su industria.\n",
    "    - Objetivo Empresarial: Detalla el objetivo de la empresa, verificando si sigue el formato S.M.A.R.T (Específico, Medible, Alcanzable, Relevante, Temporal).\n",
    "    - Activos de Datos: Evalúa los datos disponibles en la empresa, su alineación con los objetivos empresariales, la existencia de posibles lagunas de datos, y planes para la adquisición de nuevos datos.\n",
    "\n",
    "&ensp;\n",
    "\n",
    "2. **⁠Definición de Métricas:**\n",
    "    - Selección de Métricas: Identifica y selecciona una o más métricas que se alineen estrechamente con los objetivos de la empresa y que puedan ser calculadas con los datos disponibles.\n",
    "    - Benchmarking: Investiga y establece puntos de referencia industriales para las métricas seleccionadas.\n",
    "\n",
    "&ensp;\n",
    "\n",
    "3. **⁠Análisis de Datos:**\n",
    "    - Análisis Descriptivo: Realiza un análisis exploratorio para entender las dinámicas actuales y la interrelación entre los atributos en relación con las KPIs.\n",
    "    - Análisis Predictivo: Utiliza modelos estadísticos para prever la evolución futura de las métricas clave y determinar los factores que impactan los KPIs.\n",
    "    - Análisis Prescriptivo: Propone acciones concretas que podrían optimizar los indicadores clave y evalúa si estas estrategias son realistas para alcanzar los objetivos propuestos.\n",
    "\n",
    "&ensp;\n",
    "\n",
    "4. **Presentación de Resultados:**\n",
    "    - Exposición de Conclusiones: Prepara una presentación de 15 minutos en Jupyter Notebook para demostrar el análisis y los resultados.\n",
    "    - Defensa del Proyecto: Estarás preparado para responder preguntas de otros estudiantes, lo que requiere un profundo entendimiento del análisis realizado.\n",
    "\n",
    "&ensp;\n",
    "    \n",
    "## Evaluación\n",
    "\n",
    "El proyecto será evaluado en base a la profundidad del análisis, la precisión de las métricas seleccionadas, la efectividad de las soluciones prescriptivas propuestas, y la calidad de la presentación final.\n",
    "\n",
    "Este proyecto final es una oportunidad para aplicar de manera práctica los conocimientos adquiridos en el curso, con un impacto directo en decisiones empresariales reales."
   ]
  },
  {
   "cell_type": "markdown",
   "id": "9a07f6ef",
   "metadata": {},
   "source": [
    "<script>\n",
    "  $(document).ready(function(){\n",
    "    $('div.prompt').hide();\n",
    "    $('div.back-to-top').hide();\n",
    "    $('nav#menubar').hide();\n",
    "    $('.breadcrumb').hide();\n",
    "    $('.hidden-print').hide();\n",
    "  });\n",
    "</script>\n",
    "\n",
    "<footer id=\"attribution\" style=\"float:right; color:#808080; background:#fff;\">\n",
    "Created with Jupyter by Carlos Kelly\n",
    "</footer>"
   ]
  }
 ],
 "metadata": {
  "kernelspec": {
   "display_name": "Python 3 (ipykernel)",
   "language": "python",
   "name": "python3"
  },
  "language_info": {
   "codemirror_mode": {
    "name": "ipython",
    "version": 3
   },
   "file_extension": ".py",
   "mimetype": "text/x-python",
   "name": "python",
   "nbconvert_exporter": "python",
   "pygments_lexer": "ipython3",
   "version": "3.11.5"
  }
 },
 "nbformat": 4,
 "nbformat_minor": 5
}
