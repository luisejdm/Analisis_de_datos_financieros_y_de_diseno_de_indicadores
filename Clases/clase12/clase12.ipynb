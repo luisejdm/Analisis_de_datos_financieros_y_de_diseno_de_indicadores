{
 "cells": [
  {
   "cell_type": "markdown",
   "id": "dee41979-0fdf-4937-9f9a-bb2108efa4a5",
   "metadata": {},
   "source": [
    "# Modelado de Ecuaciones Estructurales (SEM): Caso Práctico y Aplicación\n",
    "\n",
    "## Introducción a la Sesión\n",
    "\n",
    "En esta sesión, vamos a explorar cómo aplicar el **Modelado de Ecuaciones Estructurales (SEM)** en un entorno práctico dentro de una empresa. SEM es una herramienta poderosa para investigar relaciones complejas entre variables observables y no observables (latentes), ayudando a entender mejor fenómenos que involucran múltiples dimensiones.\n",
    "\n",
    "### Objetivo de la Empresa\n",
    "\n",
    "Supongamos que trabajamos para una empresa llamada **EcomInsights**, que está interesada en comprender cómo varios factores afectan la **satisfacción del cliente** en su plataforma de e-commerce. La empresa quiere identificar no solo las relaciones directas entre las variables que miden la satisfacción del cliente, sino también los **efectos indirectos** a través de otras variables intermedias como la confianza, el valor percibido, y la calidad del servicio.\n",
    "\n",
    "### Escenario y Problema\n",
    "\n",
    "La dirección de **EcomInsights** ha identificado que factores como el **ingreso del hogar**, la **confianza en la plataforma**, y la **calidad del servicio** están relacionados de alguna manera con la **satisfacción del cliente**. Sin embargo, no está claro cómo estas variables se interrelacionan entre sí, ni cuál es su impacto directo e indirecto en la satisfacción general del cliente. Además, algunas de estas variables no son observables directamente (por ejemplo, \"confianza\" es una variable latente).\n",
    "\n",
    "La empresa quiere construir un modelo que explique la **satisfacción del cliente** como un concepto multidimensional, midiendo tanto **efectos directos** como **indirectos** entre las variables observadas y latentes.\n",
    "\n",
    "---\n",
    "\n",
    "## ¿Qué es el Modelado de Ecuaciones Estructurales (SEM)?\n",
    "\n",
    "El **Modelado de Ecuaciones Estructurales (SEM)** es una técnica estadística que integra análisis de regresión, análisis de factores y análisis de trayectorias en un marco cohesivo. Es especialmente útil para:\n",
    "\n",
    "- Investigar **constructos complejos** que no se pueden medir directamente (como la confianza o la satisfacción).\n",
    "- Modelar **sistemas de relaciones** entre variables.\n",
    "- Evaluar tanto los **efectos directos** como los **efectos indirectos** de las variables.\n",
    "\n",
    "### ¿Cuándo usar SEM?\n",
    "\n",
    "- Cuando necesitamos medir variables que no se observan directamente (variables **latentes**), como actitudes o percepciones.\n",
    "- Cuando queremos estudiar sistemas de relaciones complejas entre varias variables y analizar cómo una variable puede influir en otra **a través de** una tercera variable (mediación).\n",
    "- En investigaciones donde la **causalidad** y los efectos acumulativos son importantes.\n",
    "\n",
    "### Aplicación en el Caso de EcomInsights\n",
    "\n",
    "La empresa quiere saber cómo diferentes factores influyen en la satisfacción del cliente. SEM es ideal para este caso, ya que algunas variables clave como la **confianza en la plataforma** son latentes y no pueden medirse directamente.\n",
    "\n",
    "---\n",
    "\n",
    "## Pasos para Implementar SEM en la Empresa\n",
    "\n",
    "### 1. **Entender el Modelo**\n",
    "\n",
    "#### Variables Latentes\n",
    "- **Confianza en la Plataforma**: No se puede observar directamente. Se mide a través de varios indicadores, como la frecuencia de uso, recomendaciones a otros usuarios, y la percepción de seguridad.\n",
    "- **Calidad del Servicio**: Se mide mediante indicadores como la rapidez de entrega, la atención al cliente, y la resolución de problemas.\n",
    "\n",
    "#### Variables Observables\n",
    "- **Ingreso del Hogar**: Directamente observable.\n",
    "- **Satisfacción del Cliente**: Una variable observada, pero influenciada por constructos latentes como la confianza y la calidad del servicio.\n",
    "\n",
    "#### Relaciones Directas e Indirectas\n",
    "- **Relación directa**: ¿Cómo afecta el ingreso directamente a la satisfacción del cliente?\n",
    "- **Relación indirecta**: ¿Cómo influye el ingreso en la calidad del servicio, y cómo esto afecta la satisfacción?\n",
    "\n",
    "### 2. **Especificar el Modelo de Medición**\n",
    "\n",
    "Primero, definimos cómo las variables latentes (**confianza**, **calidad del servicio**) se relacionan con sus indicadores observados. Esto se hace mediante un modelo de **análisis factorial confirmatorio (CFA)**.\n",
    "\n",
    "### 3. **Pasar al Modelo Estructural**\n",
    "\n",
    "Después de establecer el modelo de medición, pasamos a la **parte estructural**, donde modelamos las relaciones entre las variables latentes y observables, incluyendo los efectos directos e indirectos.\n",
    "\n",
    "---\n",
    "\n",
    "## Elementos Clave en SEM\n",
    "\n",
    "### 1. **Variables Exógenas y Endógenas**\n",
    "\n",
    "- **Exógenas**: Variables independientes dentro del sistema, como el **ingreso del hogar**.\n",
    "- **Endógenas**: Variables dependientes que están siendo explicadas dentro del modelo, como la **satisfacción del cliente**.\n",
    "\n",
    "### 2. **Análisis de Covarianza**\n",
    "\n",
    "SEM analiza las matrices de varianza/covarianza en lugar de los datos brutos. Esto permite modelar las relaciones entre las variables a un nivel más profundo.\n",
    "\n",
    "### 3. **Estimación y Ajuste del Modelo**\n",
    "\n",
    "El modelo es estimado utilizando **Máxima Verosimilitud (ML)**, que ajusta los parámetros maximizando la probabilidad de que los datos observados se ajusten al modelo teórico. Evaluamos el ajuste del modelo con métricas como el **AIC** o el **BIC** para asegurar que el modelo sea parsimonioso y explique bien los datos.\n",
    "\n",
    "### 4. **Identificación del Modelo**\n",
    "\n",
    "El modelo debe ser identificado correctamente. Si hay más incógnitas que datos observados, el modelo será **no identificado** y no podrá estimarse correctamente. Se pueden hacer ajustes para que el modelo esté **sobre-identificado**, lo que permite hacer inferencias sobre los parámetros.\n",
    "\n",
    "---\n",
    "\n",
    "## Ejemplo de Implementación Práctica\n",
    "\n",
    "### Diagrama de Trayectoria\n",
    "\n",
    "En el caso de **EcomInsights**, un modelo SEM podría tener este formato:\n",
    "\n",
    "1. **Variables Latentes**:\n",
    "   - Confianza en la plataforma → Indicadores como \"Frecuencia de uso\", \"Percepción de seguridad\".\n",
    "   - Calidad del servicio → Indicadores como \"Tiempo de respuesta\", \"Resolución de problemas\".\n",
    "\n",
    "2. **Variables Observables**:\n",
    "   - Ingreso del Hogar\n",
    "   - Satisfacción del Cliente\n",
    "\n",
    "3. **Relaciones**:\n",
    "   - Ingreso del hogar influye en la calidad del servicio (directo).\n",
    "   - La calidad del servicio influye en la satisfacción del cliente (indirecto).\n",
    "   - La confianza en la plataforma afecta directamente la satisfacción del cliente.\n",
    "\n",
    "### ¿Qué buscamos con SEM?\n",
    "\n",
    "1. **Confirmar hipótesis**: ¿La calidad del servicio actúa como mediador entre el ingreso y la satisfacción?\n",
    "2. **Evaluar el ajuste del modelo**: ¿El modelo teórico refleja adecuadamente los datos reales?\n",
    "\n",
    "---\n",
    "\n",
    "## Conclusión\n",
    "\n",
    "El **Modelado de Ecuaciones Estructurales (SEM)** es una herramienta esencial para entender relaciones complejas entre variables, permitiendo a las empresas como **EcomInsights** identificar no solo los efectos directos de sus estrategias en la satisfacción del cliente, sino también los efectos indirectos a través de constructos como la confianza y la calidad del servicio. SEM ayuda a las empresas a validar sus modelos teóricos y a mejorar su toma de decisiones con base en datos.\n",
    "\n",
    "### Beneficios de SEM para EcomInsights:\n",
    "\n",
    "- **Mejora de estrategias**: Identificación de los factores clave que influyen en la satisfacción.\n",
    "- **Manejo de variables complejas**: Modela constructos difíciles de medir, como la confianza.\n",
    "- **Optimización**: Evaluación de cómo la mejora en uno de los factores influye en los demás.\n",
    "\n",
    "Este tipo de análisis permite decisiones estratégicas más informadas, ayudando a la empresa a optimizar la experiencia del cliente y a mejorar su propuesta de valor.\n"
   ]
  },
  {
   "cell_type": "markdown",
   "id": "f533363e-e090-43da-9425-5f37e1e4b8e9",
   "metadata": {},
   "source": [
    "# Implementación de SEM en Python usando semopy\n",
    "\n",
    "## Paso 1: Instalación de semopy\n",
    "Instala la librería `semopy` usando el siguiente comando si aún no la tienes instalada:"
   ]
  },
  {
   "cell_type": "markdown",
   "id": "57f1367f-3a87-4277-8034-551b30ac4cb0",
   "metadata": {},
   "source": [
    "## Paso 2: Definir el Modelo SEM\n",
    "Definimos el modelo SEM en términos de las relaciones entre las variables observadas y latentes. En nuestro caso, modelamos Confianza en la Plataforma y Calidad del Servicio como variables latentes que influyen en la Satisfacción del Cliente."
   ]
  },
  {
   "cell_type": "code",
   "execution_count": 4,
   "id": "be27a25f-ab53-4bfe-9700-98266af5b216",
   "metadata": {
    "tags": []
   },
   "outputs": [],
   "source": [
    "import pandas as pd\n",
    "import numpy as np\n",
    "from semopy import Model, Optimizer\n",
    "import matplotlib.pyplot as plt\n",
    "from semopy import Model, Optimizer, semplot\n",
    "\n",
    "# Definir el modelo SEM usando la notación estándar de SEM\n",
    "model_desc = \"\"\"\n",
    "# Latent Variables\n",
    "Confianza =~ Uso + Seguridad + Recomendaciones\n",
    "Calidad =~ Tiempo_Respuesta + Resolucion_Problemas\n",
    "\n",
    "# Regressions\n",
    "Satisfaccion ~ Confianza + Calidad + Ingreso\n",
    "\n",
    "# Variances and Covariances\n",
    "Confianza ~~ Calidad\n",
    "\"\"\""
   ]
  },
  {
   "cell_type": "markdown",
   "id": "918932ba-3c95-4357-8819-03e035009d1e",
   "metadata": {},
   "source": [
    "## Paso 3: Generar Datos Sintéticos para EcomInsights\n",
    "Creamos un conjunto de datos sintéticos que sigue la estructura definida"
   ]
  },
  {
   "cell_type": "code",
   "execution_count": 5,
   "id": "787cbd7e-9032-4e3b-a100-9570f5934e72",
   "metadata": {
    "tags": []
   },
   "outputs": [],
   "source": [
    "np.random.seed(42)\n",
    "\n",
    "# Variables relacionadas con Confianza\n",
    "uso = np.random.normal(4, 0.5, 300)\n",
    "seguridad = uso + np.random.normal(0, 0.3, 300)  # Seguridad correlacionada con Uso\n",
    "recomendaciones = uso * 0.8 + np.random.normal(0, 0.2, 300)  # Recomendaciones correlacionadas con Uso\n",
    "\n",
    "# Variables relacionadas con Calidad\n",
    "tiempo_respuesta = np.random.normal(4.2, 0.3, 300)\n",
    "resolucion_problemas = tiempo_respuesta * 0.9 + np.random.normal(0, 0.2, 300)  # Resolución correlacionada con Tiempo de Respuesta\n",
    "\n",
    "# Ingreso del Hogar\n",
    "ingreso = np.random.normal(50000, 10000, 300)\n",
    "\n",
    "# Satisfacción del Cliente influenciada por Confianza y Calidad\n",
    "satisfaccion = 0.5 * uso + 0.7 * tiempo_respuesta + np.random.normal(0, 0.5, 300)\n",
    "\n",
    "# Crear DataFrame con los datos generados\n",
    "data = pd.DataFrame({\n",
    "    \"Uso\": uso,\n",
    "    \"Seguridad\": seguridad,\n",
    "    \"Recomendaciones\": recomendaciones,\n",
    "    \"Tiempo_Respuesta\": tiempo_respuesta,\n",
    "    \"Resolucion_Problemas\": resolucion_problemas,\n",
    "    \"Ingreso\": ingreso,\n",
    "    \"Satisfaccion\": satisfaccion\n",
    "})"
   ]
  },
  {
   "cell_type": "markdown",
   "id": "a068e411-d576-4901-bd19-9559a92291c8",
   "metadata": {
    "tags": []
   },
   "source": [
    "## Paso 4: Ajustar el Modelo SEM a los Datos Sintéticos"
   ]
  },
  {
   "cell_type": "code",
   "execution_count": 6,
   "id": "d0d24ab2-4382-4842-887b-8764ec2d0bf4",
   "metadata": {
    "tags": []
   },
   "outputs": [
    {
     "name": "stdout",
     "output_type": "stream",
     "text": [
      "                    lval  op                  rval      Estimate  Std. Err  \\\n",
      "0                    Uso   ~             Confianza  1.000000e+00         -   \n",
      "1              Seguridad   ~             Confianza  9.762671e-01  0.037555   \n",
      "2        Recomendaciones   ~             Confianza  7.847173e-01  0.026803   \n",
      "3       Tiempo_Respuesta   ~               Calidad  1.000000e+00         -   \n",
      "4   Resolucion_Problemas   ~               Calidad  8.842540e-01  0.097589   \n",
      "5           Satisfaccion   ~             Confianza  4.684551e-01  0.058186   \n",
      "6           Satisfaccion   ~               Calidad  6.763459e-01  0.116271   \n",
      "7           Satisfaccion   ~               Ingreso -5.926080e-07  0.000003   \n",
      "8              Confianza  ~~               Calidad  1.015207e-02  0.008599   \n",
      "9              Confianza  ~~             Confianza  2.413574e-01  0.020116   \n",
      "10               Calidad  ~~               Calidad  9.126770e-02   0.01191   \n",
      "11       Recomendaciones  ~~       Recomendaciones  3.954604e-02  0.004075   \n",
      "12  Resolucion_Problemas  ~~  Resolucion_Problemas  3.952065e-02  0.007939   \n",
      "13          Satisfaccion  ~~          Satisfaccion  2.388355e-01  0.019977   \n",
      "14             Seguridad  ~~             Seguridad  8.281934e-02   0.00778   \n",
      "15      Tiempo_Respuesta  ~~      Tiempo_Respuesta  2.096781e-04  0.009276   \n",
      "16                   Uso  ~~                   Uso  0.000000e+00  0.004036   \n",
      "\n",
      "      z-value   p-value  \n",
      "0           -         -  \n",
      "1   25.995879       0.0  \n",
      "2   29.277673       0.0  \n",
      "3           -         -  \n",
      "4    9.060982       0.0  \n",
      "5    8.050977       0.0  \n",
      "6    5.816956       0.0  \n",
      "7   -0.206389  0.836487  \n",
      "8    1.180644  0.237744  \n",
      "9   11.998363       0.0  \n",
      "10   7.663354       0.0  \n",
      "11   9.705145       0.0  \n",
      "12   4.978236  0.000001  \n",
      "13  11.955502       0.0  \n",
      "14  10.645335       0.0  \n",
      "15   0.022603  0.981967  \n",
      "16        0.0       1.0  \n"
     ]
    }
   ],
   "source": [
    "mod = Model(model_desc)\n",
    "res_opt = mod.fit(data)\n",
    "estimates = mod.inspect()\n",
    "\n",
    "# Imprimir los resultados del ajuste del modelo\n",
    "print(estimates)"
   ]
  },
  {
   "cell_type": "code",
   "execution_count": 7,
   "id": "49483aac-8452-4e38-8515-5f6575498cf8",
   "metadata": {
    "tags": []
   },
   "outputs": [
    {
     "name": "stdout",
     "output_type": "stream",
     "text": [
      "Name of objective: MLW\n",
      "Optimization method: SLSQP\n",
      "Optimization successful.\n",
      "Optimization terminated successfully\n",
      "Objective value: 0.046\n",
      "Number of iterations: 30\n",
      "Params: 0.976 0.785 0.884 0.468 0.676 -0.000 0.010 0.241 0.091 0.040 0.040 0.239 0.083 0.000 0.000\n"
     ]
    }
   ],
   "source": [
    "# Paso 5: Visualizar el Modelo SEM con un Diagrama de Trayectoria\n",
    "print(res_opt)"
   ]
  },
  {
   "cell_type": "markdown",
   "id": "54959f71-bfc2-4bc8-ab9f-da043960f439",
   "metadata": {},
   "source": [
    "### Análisis del Modelo SEM y Resultados\n",
    "\n",
    "Este análisis está basado en un modelo de ecuaciones estructurales (SEM) que mide la influencia de dos variables latentes (**Confianza en la Plataforma** y **Calidad del Servicio**) sobre la **Satisfacción del Cliente**, además de incorporar el **Ingreso del Hogar** como una variable observada. A continuación, se presenta un resumen de los resultados y las conclusiones derivadas del modelo.\n",
    "\n",
    "#### Estimaciones de Parámetros\n",
    "\n",
    "1. **Relaciones entre Variables Latentes y Observadas**:\n",
    "   - **Uso** (Confianza): Establecido como referencia con un valor de 1.0 (por convención en SEM).\n",
    "   - **Seguridad** (Confianza): Estima una carga factorial de **0.976**, lo que indica una fuerte relación con la variable latente **Confianza**.\n",
    "   - **Recomendaciones** (Confianza): Tiene una carga factorial de **0.785**, también indicando una relación significativa con **Confianza**, aunque algo menor que **Seguridad**.\n",
    "   - **Tiempo de Respuesta** (Calidad): Establecido como referencia con un valor de 1.0.\n",
    "   - **Resolución de Problemas** (Calidad): Carga factorial de **0.884**, lo que indica una relación muy fuerte con la **Calidad del Servicio**.\n",
    "\n",
    "2. **Relaciones entre las Variables Latentes y la Satisfacción del Cliente**:\n",
    "   - **Confianza** → **Satisfacción**: Coeficiente de **0.468**, con una significancia alta (*p-value = 0.0*). Esto indica que a mayor confianza del cliente en la plataforma, mayor es su satisfacción.\n",
    "   - **Calidad del Servicio** → **Satisfacción**: Coeficiente de **0.676**, también significativo (*p-value = 0.0*), sugiriendo que la calidad del servicio tiene una influencia importante sobre la satisfacción del cliente, incluso mayor que la confianza.\n",
    "   - **Ingreso del Hogar** → **Satisfacción**: El coeficiente es prácticamente cero (**-0.000**), y no significativo (*p-value = 0.836*). Esto implica que el ingreso del hogar no tiene un impacto relevante en la satisfacción del cliente en este modelo.\n",
    "\n",
    "3. **Covarianzas**:\n",
    "   - **Confianza** y **Calidad del Servicio** están correlacionadas positivamente (**0.010**), aunque esta relación no es estadísticamente significativa (*p-value = 0.237*).\n",
    "   - La varianza residual de **Satisfacción del Cliente** es **0.239**, lo que indica que el modelo captura una buena parte de la varianza en satisfacción, pero aún hay factores no explicados que influyen.\n",
    "\n",
    "#### Métricas de Ajuste del Modelo\n",
    "\n",
    "El ajuste del modelo fue satisfactorio, con un valor objetivo de **0.046** después de 30 iteraciones utilizando el método de optimización **SLSQP**. El modelo se ajustó correctamente a los datos, lo que se refleja en el éxito del proceso de optimización.\n",
    "\n",
    "#### Interpretación General\n",
    "\n",
    "- **Confianza en la Plataforma** y **Calidad del Servicio** son dos factores clave que explican la **Satisfacción del Cliente** en la plataforma de e-commerce. Ambos factores tienen un impacto significativo y positivo, siendo la **Calidad del Servicio** el factor más importante en términos de influencia sobre la satisfacción.\n",
    "  \n",
    "- **Ingreso del Hogar** no parece tener un impacto directo en la satisfacción del cliente, lo que sugiere que la experiencia del usuario no depende significativamente de su nivel socioeconómico en este caso.\n",
    "\n",
    "- Las relaciones entre las variables latentes y sus indicadores observados son fuertes y significativas, lo que valida la construcción teórica de las variables latentes de **Confianza** y **Calidad del Servicio**.\n",
    "\n",
    "#### Conclusiones\n",
    "\n",
    "Este modelo de ecuaciones estructurales ha demostrado ser útil para entender cómo factores complejos como la confianza y la calidad del servicio impactan en la satisfacción del cliente. Las empresas pueden enfocarse en mejorar estos dos aspectos, especialmente en el servicio, para aumentar la satisfacción general de los usuarios. Además, las intervenciones en mejorar la percepción de seguridad y la resolución de problemas pueden ser prioritarias, dado su peso en los constructos latentes.\n",
    "\n",
    "Este análisis proporciona una base sólida para la toma de decisiones basada en datos dentro de la empresa, dirigiendo los esfuerzos hacia las áreas que mayor impacto tienen en la satisfacción del cliente.\n"
   ]
  },
  {
   "cell_type": "code",
   "execution_count": 8,
   "id": "2e98c29f-6b7d-4bd5-9e74-23b153f8f199",
   "metadata": {
    "tags": []
   },
   "outputs": [
    {
     "name": "stdout",
     "output_type": "stream",
     "text": [
      "   Confianza   Calidad\n",
      "0  10.938839  7.762257\n",
      "1   9.927179  7.253717\n",
      "2  11.614626  7.578626\n",
      "3  12.790536  8.326252\n",
      "4  10.169922  7.653100\n"
     ]
    }
   ],
   "source": [
    "# Cargar factores estimados (cargas factoriales)\n",
    "confianza_factors = [1.0, 0.976, 0.785]  # Uso, Seguridad, Recomendaciones\n",
    "calidad_factors = [1.0, 0.884]           # Tiempo_Respuesta, Resolucion_Problemas\n",
    "\n",
    "# Función para calcular el valor de la variable latente\n",
    "def calculate_latent_values(df):\n",
    "    # Calcular Confianza como la suma ponderada de Uso, Seguridad y Recomendaciones\n",
    "    df['Confianza'] = (df['Uso'] * confianza_factors[0] +\n",
    "                       df['Seguridad'] * confianza_factors[1] +\n",
    "                       df['Recomendaciones'] * confianza_factors[2])\n",
    "    \n",
    "    # Calcular Calidad del Servicio como la suma ponderada de Tiempo de Respuesta y Resolución de Problemas\n",
    "    df['Calidad'] = (df['Tiempo_Respuesta'] * calidad_factors[0] +\n",
    "                     df['Resolucion_Problemas'] * calidad_factors[1])\n",
    "    \n",
    "    return df[['Confianza', 'Calidad']]\n",
    "\n",
    "# Calcular valores latentes en el dataset\n",
    "latent_values = calculate_latent_values(data)\n",
    "\n",
    "# Mostrar los primeros valores calculados\n",
    "print(latent_values.head())\n"
   ]
  },
  {
   "cell_type": "code",
   "execution_count": 9,
   "id": "472e7e07-b875-4d5c-9986-af5f36270d58",
   "metadata": {},
   "outputs": [],
   "source": [
    "g = semplot(mod, 'pd.png')"
   ]
  },
  {
   "cell_type": "markdown",
   "id": "73406b4f-0d47-4cdb-bde6-88ee55804fae",
   "metadata": {},
   "source": [
    "<img src=\"pd.png\">"
   ]
  }
 ],
 "metadata": {
  "kernelspec": {
   "display_name": "Python 3 (ipykernel)",
   "language": "python",
   "name": "python3"
  },
  "language_info": {
   "codemirror_mode": {
    "name": "ipython",
    "version": 3
   },
   "file_extension": ".py",
   "mimetype": "text/x-python",
   "name": "python",
   "nbconvert_exporter": "python",
   "pygments_lexer": "ipython3",
   "version": "3.11.7"
  }
 },
 "nbformat": 4,
 "nbformat_minor": 5
}
