{
 "cells": [
  {
   "cell_type": "markdown",
   "id": "85653ef6-bb71-4b56-a708-53ccb54cbfb5",
   "metadata": {},
   "source": [
    "Métrica que representa la realidad de una empresa.\n",
    "- Se usa para medir objetivos.\n",
    "- Dar Metas"
   ]
  },
  {
   "cell_type": "markdown",
   "id": "1b9b1ec7-0ecf-42c5-a843-76332dc67958",
   "metadata": {},
   "source": [
    "KPI: Las métricas clave que la empresa quiere revisar. Es el indicador alineado al objetivo de la empresa."
   ]
  },
  {
   "cell_type": "markdown",
   "id": "aabb2034-25a6-42a1-8bb8-3a0555edc8ea",
   "metadata": {},
   "source": [
    "Indicadores Lead: Medidas predictivas que manden señales de ventos futuros."
   ]
  },
  {
   "cell_type": "markdown",
   "id": "518d7713-0248-4751-82c4-00b5182301b9",
   "metadata": {},
   "source": [
    "Indicadores Lag: Medidas que son de los datos del pasado"
   ]
  },
  {
   "cell_type": "code",
   "execution_count": null,
   "id": "18238b36-bd80-4178-af43-386a79682f7c",
   "metadata": {},
   "outputs": [],
   "source": []
  }
 ],
 "metadata": {
  "kernelspec": {
   "display_name": "Python 3 (ipykernel)",
   "language": "python",
   "name": "python3"
  },
  "language_info": {
   "codemirror_mode": {
    "name": "ipython",
    "version": 3
   },
   "file_extension": ".py",
   "mimetype": "text/x-python",
   "name": "python",
   "nbconvert_exporter": "python",
   "pygments_lexer": "ipython3",
   "version": "3.11.7"
  }
 },
 "nbformat": 4,
 "nbformat_minor": 5
}
