{
 "cells": [
  {
   "cell_type": "markdown",
   "metadata": {},
   "source": [
    "___\n",
    "\n",
    "# Laboratorio de análisis de datos financieros y diseño de indicadores.\n",
    "#### <font color= #2E9AFE> `Martes y Jueves`</font>\n",
    "- <Strong> Profesor:</Strong> Carlos Kelly\n",
    "- <Strong> Año:</Strong> 2024\n",
    "- <Strong> Copyright:</Strong> MIT (Excepto donde se indique lo contrario)\n",
    "\n",
    "- <Strong> Email:</Strong>  <font color=\"blue\"> `carloskelly@iteso.mx, carlosk0891@gmail.com` </font>\n",
    "___"
   ]
  },
  {
   "cell_type": "markdown",
   "metadata": {},
   "source": [
    "### `Presentación mia`\n",
    "___"
   ]
  },
  {
   "cell_type": "markdown",
   "metadata": {},
   "source": [
    "### `Presentación de ustedes`\n",
    "___"
   ]
  },
  {
   "cell_type": "markdown",
   "metadata": {},
   "source": [
    "### `Algunas reglas de juego`\n",
    "\n",
    "[Normas mínimas disciplinarias](https://canvas.iteso.mx/courses/39063/files/folder/Gu%C3%ADa%20de%20aprendizaje%20y%20Normas%20m%C3%ADnimas?preview=6863855)\n"
   ]
  },
  {
   "cell_type": "markdown",
   "metadata": {},
   "source": [
    "### `Horario de asesoría`\n",
    "\n",
    "Terminando clase y ad hoc al profesor / alumno.\n",
    "___"
   ]
  },
  {
   "cell_type": "markdown",
   "metadata": {},
   "source": [
    "### `Descripción de la asignatura`\n",
    "\n",
    "*Este laboratorio está diseñado para proporcionar una experiencia práctica en el diseño y análisis de Indicadores Clave de Rendimiento (KPIs), utilizando intensivamente Python para resolver problemas empresariales reales. Los estudiantes trabajarán directamente en casos aplicados, utilizando marcos de medición como OKRs y BSC para identificar y aplicar los KPIs más relevantes. A lo largo del curso, se avanzará en técnicas estadísticas y de programación para mejorar la interpretación y eficacia de estos indicadores. Se integrarán herramientas de inteligencia empresarial y técnicas de análisis de datos, como la analítica prescriptiva y pruebas A/B, para optimizar y automatizar estrategias empresariales. Este enfoque práctico prepara a los estudiantes para liderar la gestión del rendimiento organizacional a través de soluciones basadas en datos.*\n",
    "\n",
    "- Aplicación práctica de KPIs: Identificar y aplicar los KPIs más relevantes utilizando marcos de medición concretos y datos reales.\n",
    "- Desarrollo estadístico y de programación: Utilizar Python para implementar técnicas estadísticas que mejoren la interpretación y el impacto de los indicadores.\n",
    "- Automatización y optimización de estrategias: Integrar herramientas de inteligencia empresarial y análisis de datos para mejorar y automatizar decisiones estratégicas en el entorno empresarial."
   ]
  },
  {
   "cell_type": "markdown",
   "metadata": {},
   "source": [
    "#### `OBJETIVO GENERAL `\n",
    ">  <p style='text-align: justify;'> Desarrollar habilidades prácticas en el uso de Python para diseñar, analizar y optimizar Indicadores Clave de Rendimiento (KPIs) mediante la aplicación de marcos de medición modernos como OKRs y BSC. Los estudiantes aprenderán a identificar y aplicar KPIs relevantes en escenarios empresariales reales, avanzarán en técnicas estadísticas para mejorar la interpretación de estos indicadores, y utilizarán herramientas de inteligencia empresarial para automatizar y optimizar estrategias empresariales. Además, se integrarán metodologías como la analítica prescriptiva y pruebas A/B para proponer mejoras fundamentadas y efectivas en la gestión del rendimiento organizacional.</p>"
   ]
  },
  {
   "cell_type": "markdown",
   "metadata": {},
   "source": [
    "`Módulo 1.` **Fundamentos de Indicadores y Marcos de Medición.**\n",
    "\n",
    "> En este módulo se presentan los contenidos del curso, la forma de calificar, las reglas básicas de juego y las herramientas tecnológicas clave, como Jupyter Notebook y paquetes de Python para estructuras de datos, visualización y análisis. Aprenderás a definir qué son los Indicadores Clave de Rendimiento (KPIs) y su importancia estratégica utilizando marcos como BSC y OKRs. Exploraremos cómo las empresas seleccionan y clasifican KPIs, desde indicadores cuantitativos y cualitativos hasta indicadores adelantados y rezagados, según las etapas de capital y áreas funcionales. Además, aplicarás estos conceptos a través de ejercicios prácticos para calcular KPIs relevantes y prepararás la base para el proyecto final del curso que involucra una aplicación real en una empresa.\n",
    "\n",
    "   1. ¿Qué es un indicador? ¿Que son los KPIs, Balanced Scorecard y OKRs? \n",
    "       - Actividad de laboratorio: Lenguaje de trabajo (Python y pandas).\n",
    "       - Reporte de laboratorio 1.\n",
    "   2. Clasificaciones de indicadores (cuantitativo, cualitativo, estratégico, operacional, funcional)\n",
    "       - Método del caso: Definición de un KPI relevante y calcularlo.\n",
    "   3. Indicadores de acuerdo a la madurez de la empresa, \"Lead\" y \"Lag\", y de acuerdo al área de la empresa. \n",
    "       - Método del caso: Definición de indicadores de acuerdo a objetivos empresariales y datos necesarios para calcularlos.\n",
    "       - Reporte de laboratorio 2.\n",
    "       - Quiz siguiente clase.\n",
    "   4. Quiz 1 y definición de etapas de implementación y definición de indicadores en un entorno empresarial. \n",
    "       - Método del caso: Que estructura de indicadores deberá usarse de acuerdo al contexto empresarial."
   ]
  },
  {
   "cell_type": "markdown",
   "metadata": {},
   "source": [
    "`Módulo 2.`  **Estadísticas y Visualización de Datos para Indicadores**\n",
    "\n",
    "> En este módulo profundizarás en el uso de estadísticas clave como momentos, covarianza y correlación, fundamentales para analizar la eficacia de los KPIs en un contexto profesional. A través de series de tiempo y otros datos, aprenderás a calcular y extraer conclusiones estadísticas significativas que informen decisiones empresariales. Además, este módulo te equipará con habilidades avanzadas en visualización de datos utilizando Python, permitiéndote presentar indicadores de manera efectiva para facilitar la interpretación y comprensión de los mismos.\n",
    "\n",
    "   1. Momentos estadísticos (Media, varianza), distribución, covarianza y correlación en entorno profesional. \n",
    "       - Método del caso: Dadas ciertas series de tiempo concluir sobre ciertos indicadores usando estadísticos.\n",
    "   2. Técnicas de visualización de datos con Matplotlib y Seaborn. \n",
    "       - Método del caso: Dados ciertos indicadores realizar visualizaciones para la toma de decisiones.\n",
    "       - Reporte de laboratorio 3.\n",
    "       - Quiz siguiente clase.\n",
    "   3. Quiz 2 y definición de momentos clave para el uso de estadísticos y visualizaciones, así como temporalidad de revisión de estas.\n",
    "       - Método del caso: Dados ciertos contextos empresariales que estadísticos y visualizaciones son relevantes obtener así como la temporalidad de revisión de estas."
   ]
  },
  {
   "cell_type": "markdown",
   "metadata": {},
   "source": [
    "`Módulo 3.`  **Análisis Avanzado y Modelado Predictivo para Indicadores.**\n",
    "\n",
    "> Este módulo se centra en profundizar en técnicas de análisis avanzadas y aplicaciones predictivas específicas para KPIs en contextos empresariales. Comenzarás introduciéndote en el análisis descriptivo multivariable, que te permitirá entender las interrelaciones entre diferentes indicadores y cómo estos influyen en las decisiones empresariales. Avanzarás a la aplicación de regresiones multivariables para derivar conclusiones precisas y desarrollarás habilidades en análisis predictivo, específicamente utilizando series de tiempo para anticipar tendencias futuras. Además, explorarás el uso de variables latentes y sistemas de ecuaciones estructurales para comprender mejor los factores subyacentes que afectan los KPIs.\n",
    "\n",
    "   1. Madurez análitica, tipos de análisis (Descriptivo, predictivo y prescriptivo) y definición de análisis descriptivo.\n",
    "       - Método del caso: De acuerdo a variables categóricas y numéricas dar una conclusión y recomendación de negocio.\n",
    "   2. Regresiones multivariables sobre indicadores en un entorno profesional.\n",
    "       - Método del caso: De acuerdo a datos disponibles, usando regresiones, dar conclusiones y recomendaciones de negocio.\n",
    "       - Reporte de laboratorio 4.\n",
    "       - Quiz siguiente clase.\n",
    "   3. Quiz 3, momentos clave para realizar análisis descriptivo y enfoque en contexto profesional.\n",
    "       - Método del caso: De acuerdo a un contexto empresarial, definir el plan de acción que se deberá de tomar para dar una recomendación de negocio usando análisis descriptivo.\n",
    "   4. Definición de análisis predictivo y series de tiempo (autots, scikit-learn). \n",
    "       - Método del caso: De acuerdo a un contexto profesional, dar conclusiones de negocio de acuerdo a lo que se espera en el futuro de ciertos indicadores.\n",
    "       - Reporte de laboratorio 5.\n",
    "   5. Variables latentes y sistema de ecuaciones estructurales (SEM) en el contexto profesional (semopy).\n",
    "       - Método del caso: Dar una conclusión de negocio usando variables latentes y SEM\n",
    "       - Reporte de laboratorio 6.\n",
    "       - Quiz siguiente clase.\n",
    "   6. Quiz 4, momentos relevantes para el análisis predictivo y uso de SEM.\n",
    "       - Método del caso: Definir el plan de acción y datos necesarios para completar un requreimiento de negocio usando análisis predictivos y SEM.\n",
    "   7. Clase de repaso.\n",
    "       - Exámen medio término (Módulos 1, 2 y 3) siguiente clase.\n",
    "   8. Examen de medio término."
   ]
  },
  {
   "cell_type": "markdown",
   "metadata": {},
   "source": [
    "`Módulo 4.`  **Analítica Prescriptiva y Optimización de Decisiones.**\n",
    "\n",
    "> En este módulo, explorarás el poder de la analítica prescriptiva y su aplicación en la optimización de indicadores de rendimiento. Comenzarás introduciéndote a métodos avanzados de análisis que incluyen la creación y uso de modelos predictivos y la implementación de pruebas A/B para evaluar hipótesis específicas en un contexto empresarial. Aprenderás a realizar simulaciones de escenarios que te permitirán anticipar y planificar frente a posibles futuros, optimizando las decisiones mediante el establecimiento de parámetros y restricciones claras. Cada técnica estudiada se enfocará en su utilidad práctica para la mejora continua de procesos y estrategias empresariales.\n",
    "\n",
    "   1. Introducción al análisis prescriptivo y su úso en optimización de indicadores.\n",
    "       - Método del caso: De acuerdo a contexto empresarial y restricciones optimizar indicadores para apoyar la toma de decisión. \n",
    "   2. Pruebas A/B en entorno profesional.\n",
    "       - Método del caso: Generar un plan de acción para elaborar pruebas A/B definir las caracteristicas de la prueba necesaria.\n",
    "       - Reporte de laboratorio 7.\n",
    "   3. Uso de modelos predictivos en el análisis prescriptivo.\n",
    "       - Método del caso: De acuerdo a un modelo predictivo de negocio plasmar los posibles resultados a observar.\n",
    "   4. Simulación de escenarios, herramientas y uso en entorno profesional. \n",
    "       - Método del caso: Crear distintos escenarios posibles de resultados esperados en un entorno empresarial.\n",
    "   5. Técnicas de optimización y uso en la simulación de escenarios.\n",
    "       - Método del caso: Unificar la simulación de escenairos, restricciones, modelos predictivos y pruebas A/B para optimizar el resultado de negocio.\n",
    "       - Reporte de laboratorio 8.\n",
    "       - Quiz siguiente clase.\n",
    "   6. Quiz 5 y plan de acción para análisis prescriptivo\n",
    "       - Método del caso: Tomando de báse un contexto empresarial definir los pasos necesarios para llegar a tomar una decisión de negocio óptima."
   ]
  },
  {
   "cell_type": "markdown",
   "metadata": {},
   "source": [
    "`Módulo 5.`  **Herramientas de Inteligencia Empresarial y Gestión de Datos.**\n",
    "\n",
    "> Este módulo se dedica al uso y manejo de herramientas de inteligencia empresarial (BI) y bases de datos, para el seguimiento eficaz de los KPIs. Comenzarás con una introducción a las plataformas de BI más relevantes, aprendiendo a conectar estas herramientas dentro de sistemas productivos mediante ejercicios prácticos en un entorno simulado. Avanzarás definiendo y estructurando sistemas de entidades y tablas que soporten la recolección y análisis eficiente de datos. Además, explorarás cómo manejar flujos de datos en tiempo real utilizando APIs y cómo estos flujos se integran en estructuras de datos complejas para una gestión dinámica de indicadores.\n",
    "\n",
    "   1. Introducción a herramientas de BI y bases de datos.\n",
    "       - Presentación de herramientas y como se conéctan a base de datos.\n",
    "       - Bajar Postgresql y paqueteria psycopg-binary para siguiente clase.\n",
    "   2. Sistema de entidades e implementación de tablas para seguimiento de indicadores en base de datos (psycopg).\n",
    "       - Método del caso: De acuerdo a un contexto empresarial definir y crear tablas requeridas para dar seguimiento a métricas requeridas.\n",
    "       - Reporte de laboratorio 9.\n",
    "   3. Estructuras y flujos de datos para indicadores empresariales.\n",
    "       - Método del caso: De acuerdo a contexto empresarial planificar y codificar un flujo de datos usando algún API.\n",
    "       - Reporte de laboratorio 10.\n",
    "       - Quiz siguiente clase.\n",
    "   4. Quiz 6, estructuras y requisitos para completar flujo de datos e implementación de BI en un entorno productivo. \n",
    "       - Método del caso: De acuerdo a un contexto profesional, diseñar un plan de acción para hacer productivo un flujo de datos.\n",
    "   5. Clase de repaso\n",
    "       - Exámen final (Módulos 1, 2, 3, 4 y 5) siguiente clase.\n",
    "   6. Examen final."
   ]
  },
  {
   "cell_type": "markdown",
   "metadata": {},
   "source": [
    "`Módulo 6.`  **Unificación y evaluación de conceptos.**\n",
    "\n",
    "> En este modulo se unificarán los temas vistos en el laboratorio, presentandose a traves de un proyecto.\n",
    "\n",
    "   1. Asesoría proyecto\n",
    "   2. Presentación de proyecto 1\n",
    "   3. Presentación de proyecto 2"
   ]
  },
  {
   "cell_type": "markdown",
   "metadata": {},
   "source": [
    "### `Evaluación`\n",
    "\n",
    "- **10 Reportes de laboratorio 30% (3% c/u)**\n",
    "    - Archivo de Jupyter Notebook que demuestra como se resolvieron los ejercicios de la sesión, así como dar el contexto necesario, etc.\n",
    "- **2 Evaluaciones 40% (20% c/u)**\n",
    "- **6 Quizzes 12% (2% c/u)**\n",
    "- **1 Proyecto 18%**"
   ]
  },
  {
   "cell_type": "markdown",
   "metadata": {},
   "source": [
    "### `Bibliografía `"
   ]
  },
  {
   "cell_type": "markdown",
   "metadata": {},
   "source": [
    "- Deanne Larson. (2024). Modern Business Analytics.\n",
    "- Carl Anderson. (2015). Creating a Data-Driven Organization. \n",
    "\n",
    "No es obligatoria, pero podría ayudarles a comprender mejor todos los temas"
   ]
  },
  {
   "cell_type": "markdown",
   "metadata": {},
   "source": [
    "<script>\n",
    "  $(document).ready(function(){\n",
    "    $('div.prompt').hide();\n",
    "    $('div.back-to-top').hide();\n",
    "    $('nav#menubar').hide();\n",
    "    $('.breadcrumb').hide();\n",
    "    $('.hidden-print').hide();\n",
    "  });\n",
    "</script>\n",
    "\n",
    "<footer id=\"attribution\" style=\"float:right; color:#808080; background:#fff;\">\n",
    "Created with Jupyter by Carlos Kelly\n",
    "</footer>"
   ]
  }
 ],
 "metadata": {
  "anaconda-cloud": {},
  "kernelspec": {
   "display_name": "Python 3 (ipykernel)",
   "language": "python",
   "name": "python3"
  },
  "language_info": {
   "codemirror_mode": {
    "name": "ipython",
    "version": 3
   },
   "file_extension": ".py",
   "mimetype": "text/x-python",
   "name": "python",
   "nbconvert_exporter": "python",
   "pygments_lexer": "ipython3",
   "version": "3.11.7"
  }
 },
 "nbformat": 4,
 "nbformat_minor": 4
}
