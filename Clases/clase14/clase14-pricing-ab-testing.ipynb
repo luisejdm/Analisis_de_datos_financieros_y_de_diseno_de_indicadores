{
 "cells": [
  {
   "cell_type": "markdown",
   "id": "159d3f54-47ea-49b6-bd11-854677988c51",
   "metadata": {},
   "source": [
    "# Pruebas A/B en entorno profesional\n",
    "\n",
    "### Objetivo de la Sesión\n",
    "\n",
    "El objetivo de esta sesión es comprender el proceso de creación, planificación y análisis de **pruebas A/B** para apoyar la toma de decisiones empresariales, especialmente en la **fijación de precios**. Aprenderemos cómo diseñar un experimento controlado para evaluar cambios de precio, analizar los resultados y obtener conclusiones valiosas que puedan guiar a la empresa en la mejora de sus indicadores clave de rendimiento (KPIs).\n",
    "\n",
    "### ¿Qué es una Prueba A/B?\n",
    "\n",
    "Las **pruebas A/B** son un método de experimentación utilizado para comparar dos versiones de una variable (A y B) para determinar cuál de ellas tiene mejor desempeño en función de un KPI o métrica. Este tipo de prueba es muy común en el marketing, implementación de modelos productivos de machine learning y también en la fijación de precios de productos y servicios.\n",
    "\n",
    "En el contexto de fijación de precios, una prueba A/B puede ser útil para comparar el impacto de dos precios diferentes sobre el comportamiento del consumidor, como la tasa de conversión, ingresos o el valor del ciclo de vida del cliente.\n",
    "\n",
    "### Caso Práctico: Pruebas A/B en la Empresa ABC\n",
    "\n",
    "Imaginemos que la empresa **ABC**, que ofrece un servicio de suscripción, está evaluando ajustar el precio de uno de sus planes. Actualmente, tienen un plan mensual a **10 USD** y quieren probar si aumentar el precio a **12 USD** afectaría sus tasas de conversión y retención de clientes. Para tomar esta decisión, realizarán una **prueba A/B**.\n",
    "\n",
    "#### Contexto del Caso:\n",
    "- **Problema**: La empresa está considerando aumentar el precio de su plan de suscripción mensual, pero necesita datos para respaldar la decisión.\n",
    "- **Hipótesis**: El aumento de precio a **12 USD** podría reducir las conversiones, pero también podría aumentar los ingresos por cliente si el impacto negativo en la conversión es limitado.\n",
    "- **Objetivo**: Evaluar el efecto de un aumento de precio sobre dos métricas principales:\n",
    "  1. **Tasa de conversión**: Proporción de usuarios que se suscriben después de ver el nuevo precio.\n",
    "  2. **Valor de por vida del cliente (LTV)**: El valor esperado que un cliente generará a lo largo de su relación con la empresa.\n",
    "\n",
    "### Proceso para Ejecutar una Prueba A/B\n",
    "\n",
    "#### Paso 1: Definir la Hipótesis y los KPIs\n",
    "El primer paso para realizar una prueba A/B es formular la hipótesis que deseas probar. En este caso, la hipótesis es que el cambio de precio impactará tanto la **tasa de conversión** como el **LTV** de los clientes. Los KPIs principales que mediremos son:\n",
    "- **Tasa de conversión**: Proporción de usuarios que completan la suscripción.\n",
    "- **Ingresos**: La cantidad total de ingresos generados por el grupo de prueba.\n",
    "- **LTV**: El valor total que un cliente promedio generará para la empresa.\n",
    "\n",
    "#### Paso 2: Selección de la Muestra y Segmentación\n",
    "Para llevar a cabo la prueba A/B, es crucial dividir a los usuarios en dos grupos aleatorios y comparables:\n",
    "- **Grupo A**: Usuarios que ven el precio original de 10 USD.\n",
    "- **Grupo B**: Usuarios que ven el nuevo precio de 12 USD.\n",
    "\n",
    "La segmentación debe realizarse de manera aleatoria para garantizar que ambos grupos sean representativos y no haya sesgo en los resultados.\n",
    "\n",
    "Antes de dividir a los usuarios en dos grupos, es crucial calcular el **tamaño de la muestra** necesario para asegurar que los resultados de la prueba A/B sean **estadísticamente significativos**. El tamaño de la muestra dependerá de varios factores, como la **tasa de conversión base**, el **nivel de confianza** y el **poder estadístico** que se espera obtener con la prueba.\n",
    "\n",
    "##### Factores clave para calcular el tamaño de la muestra:\n",
    "1. **Tasa de conversión base**: La tasa de conversión actual del grupo de control (por ejemplo, si el 5% de los usuarios actualmente se suscriben al plan de 10 USD).\n",
    "2. **Magnitud del cambio esperado**: La diferencia mínima en la tasa de conversión que se espera detectar entre los dos grupos (por ejemplo, esperar un aumento de la tasa de conversión del 5% al 6% con el precio de 12 USD).\n",
    "3. **Nivel de confianza**: El nivel de confianza, comúnmente del 95%, es la probabilidad de que el resultado observado no sea debido al azar.\n",
    "4. **Poder estadístico**: El poder estadístico, normalmente del 80%, es la probabilidad de detectar un verdadero efecto si este existe.\n",
    "\n",
    "##### Fórmula simplificada para el cálculo para proporciones:\n",
    "Se puede usar una calculadora de tamaño de muestra en línea o herramientas estadísticas como Python (`statsmodels`) para hacer este cálculo. Una fórmula simplificada para el tamaño de la muestra es:\n",
    "\n",
    "$\n",
    "n = \\frac{2 \\times (Z_{\\alpha/2} + Z_{\\beta})^2 \\times p(1-p)}{(p_1 - p_2)^2}\n",
    "$\n",
    "\n",
    "Donde:\n",
    "- $Z_{\\alpha/2}$ es el valor Z correspondiente al nivel de confianza (1.96 para el 95%).\n",
    "- $Z_{\\beta}$ es el valor Z correspondiente al poder estadístico (0.84 para el 80%).\n",
    "- $p$ es la tasa de conversión base.\n",
    "- $p_1$ y $p_2$ son las tasas de conversión esperadas para los grupos A y B.\n",
    "  \n",
    "##### Ejemplo con tasa de conversión:\n",
    "- **Tasa de conversión base**: 5% (0.05).\n",
    "- **Diferencia esperada en la tasa de conversión**: del 5% al 6% (0.06 - 0.05).\n",
    "- **Nivel de confianza**: 95% (valor Z = 1.96).\n",
    "- **Poder estadístico**: 80% (valor Z = 0.84).\n",
    "\n",
    "Con estos valores, podríamos calcular el tamaño de la muestra usando la fórmula o una herramienta en línea.\n",
    "\n",
    "¿Cual es el tamaño mínimo de la muestra necesaria en cada grupo?"
   ]
  },
  {
   "cell_type": "code",
   "execution_count": 21,
   "id": "16544206-8e3a-45ab-b78b-15e6004d4617",
   "metadata": {
    "tags": []
   },
   "outputs": [
    {
     "data": {
      "text/plain": [
       "7447.999999999999"
      ]
     },
     "execution_count": 21,
     "metadata": {},
     "output_type": "execute_result"
    }
   ],
   "source": [
    "(2*((1.96+0.84)**2)*0.05*0.95)/(0.01)**2"
   ]
  },
  {
   "cell_type": "code",
   "execution_count": null,
   "id": "9087505d-594a-4be8-a1e3-bb30c40651ca",
   "metadata": {},
   "outputs": [],
   "source": [
    "7448"
   ]
  },
  {
   "cell_type": "markdown",
   "id": "1247ef34-7411-421d-a60f-2dd831d8ef4c",
   "metadata": {
    "tags": []
   },
   "source": [
    "##### Fórmula para el cálculo del tamaño de la muestra con valores:\n",
    "$\n",
    "n = \\frac{2 \\times (Z_{\\alpha/2} + Z_{\\beta})^2 \\times \\sigma^2}{\\Delta^2}\n",
    "$\n",
    "\n",
    "Donde:\n",
    "- $Z_{\\alpha/2}$: El valor Z para el nivel de confianza (1.96 para 95% de confianza).\n",
    "- $Z_{\\beta}$: El valor Z para el poder estadístico (0.84 para 80% de poder).\n",
    "- $\\sigma$: Desviación estándar del LTV.\n",
    "- $\\Delta$: Diferencia mínima en el LTV que queremos detectar entre los dos grupos.\n",
    "\n",
    "##### Ejemplo con tasa de conversión:\n",
    "Imaginemos que:\n",
    "- El **LTV actual** ($\\mu_1$) es de 100 USD.\n",
    "- El **LTV esperado** ($\\mu_2$) con el nuevo precio es de 120 USD.\n",
    "- La **desviación estándar** ($\\sigma$) es de 30 USD.\n",
    "- La **diferencia esperada en el LTV** ($\\Delta = \\mu_2 - \\mu_1$) es de 20 USD.\n",
    "- Queremos un **nivel de confianza** del 95% y un **poder estadístico** del 80%.\n",
    "\n",
    "¿Cuál es el tamaño mínimo de la muestra necesaria en cada grupo?\n",
    "\n",
    "¿Qué creen que pase entre mas chica es la diferencia que queremos comprobar?\n",
    "\n",
    "#### Paso 3: Ejecutar la Prueba\n",
    "La empresa ABC debe ejecutar la prueba durante un período definido (por ejemplo, 4 semanas), asegurándose de que la prueba cubra suficientes usuarios para obtener resultados estadísticamente significativos.\n",
    "\n",
    "Durante la prueba, se monitorearán los KPIs en ambos grupos para observar cómo se comportan con los dos precios diferentes.\n",
    "\n",
    "#### Paso 4: Análisis de Resultados\n",
    "Una vez finalizada la prueba, se analizarán los resultados mediante técnicas estadísticas para determinar si el cambio de precio tiene un impacto significativo en los KPIs definidos.\n",
    "\n",
    "Los puntos clave del análisis incluyen:\n",
    "1. **Comparar tasas de conversión**: ¿El grupo B (12 USD) tuvo una tasa de conversión significativamente menor que el grupo A (10 USD)?\n",
    "2. **Ingresos totales**: ¿El grupo B generó mayores ingresos por cliente a pesar de una posible caída en las conversiones?\n",
    "3. **Valor del Tiempo de Vida (LTV)**: ¿El LTV promedio del grupo B fue superior o inferior al del grupo A?\n",
    "\n",
    "Una vez finalizada la prueba, es fundamental analizar los resultados para determinar si el cambio de precio ha tenido un impacto **estadísticamente significativo** en los KPIs, particularmente en el **Valor del Tiempo de Vida (LTV)**.\n",
    "\n",
    "En lugar de simplemente observar las diferencias en las medias, utilizaremos un **t-test** para comprobar si la diferencia en los KPIs entre los grupos es significativa desde un punto de vista estadístico.\n",
    "\n",
    "##### Pasos Clave en el Análisis:\n",
    "1. **Comparar LTV promedio entre Grupo A (10 USD) y Grupo B (12 USD)**.\n",
    "2. **Realizar una prueba t de dos muestras** para comparar las medias de LTV en ambos grupos:\n",
    "    - **Hipótesis nula ($H_0$)**: No hay diferencia significativa en el LTV entre los dos grupos.\n",
    "    - **Hipótesis alternativa ($H_1$)**: Existe una diferencia significativa en el LTV entre los dos grupos.\n",
    "3. **Calcular el valor p** para determinar si podemos rechazar la hipótesis nula:\n",
    "    - Si $p \\leq 0.05$, rechazamos $H_0$ y concluimos que la diferencia en LTV es estadísticamente significativa.\n",
    "    - Si $p > 0.05$, no hay evidencia suficiente para rechazar $H_0$, por lo tanto, no podemos afirmar que haya una diferencia significativa."
   ]
  },
  {
   "cell_type": "code",
   "execution_count": 17,
   "id": "e1fe74c0-efed-4d66-9274-08c540239de5",
   "metadata": {
    "tags": []
   },
   "outputs": [
    {
     "name": "stdout",
     "output_type": "stream",
     "text": [
      "T-statistic: -6.906043053510043, P-value: 1.6370006736192083e-05\n"
     ]
    }
   ],
   "source": [
    "# Mismo número de observaciones en ambas muestras\n",
    "import scipy.stats as stats\n",
    "\n",
    "# LTV del Grupo A y Grupo B\n",
    "ltv_grupo_a = [100, 110, 105, 98, 102, 95, 107]  # LTV con precio de 10 USD\n",
    "ltv_grupo_b = [120, 125, 118, 130, 115, 122, 119]  # LTV con precio de 12 USD\n",
    "\n",
    "# Realizamos un t-test de dos muestras\n",
    "t_stat, p_value = stats.ttest_ind(ltv_grupo_a, ltv_grupo_b)\n",
    "\n",
    "# Mostramos los resultados\n",
    "print(f\"T-statistic: {t_stat}, P-value: {p_value}\")"
   ]
  },
  {
   "cell_type": "code",
   "execution_count": 23,
   "id": "7c9e90f3-1edb-45d1-af4e-057bfdda6cec",
   "metadata": {
    "tags": []
   },
   "outputs": [
    {
     "name": "stdout",
     "output_type": "stream",
     "text": [
      "T-statistic: -3.2197578613560593, P-value: 0.00810637274846109\n"
     ]
    }
   ],
   "source": [
    "# Experimento controlado, distinto número de observaciones\n",
    "ltv_grupo_a = [100, 16, 105, 98, 100, 92, 107, 105, 112, 101, 106]  # Más observaciones\n",
    "ltv_grupo_b = [120, 125, 118, 130, 115, 122, 119]  # Menos observaciones\n",
    "\n",
    "# Realizamos un Welch's t-test, que es robusto a tamaños de muestras desiguales\n",
    "t_stat, p_value = stats.ttest_ind(ltv_grupo_a, ltv_grupo_b, equal_var=False)\n",
    "\n",
    "# Mostramos los resultados\n",
    "print(f\"T-statistic: {t_stat}, P-value: {p_value}\")"
   ]
  },
  {
   "cell_type": "markdown",
   "id": "7a89e292-c6ad-453f-99b3-085be4cf220f",
   "metadata": {},
   "source": [
    "¿Qué decisión tomarían?"
   ]
  },
  {
   "cell_type": "markdown",
   "id": "bd6b345c-0b90-4dff-951f-e3782cd5fcfb",
   "metadata": {},
   "source": [
    "Sin embargo el objetivo era aumentar el LTV 20 USD, ¿esto se cumplio?"
   ]
  },
  {
   "cell_type": "code",
   "execution_count": 25,
   "id": "e3d89196-c799-46c1-947c-f45a8a6a15a5",
   "metadata": {
    "tags": []
   },
   "outputs": [
    {
     "name": "stdout",
     "output_type": "stream",
     "text": [
      "Mean LTV of Group A: 94.73\n",
      "Mean LTV of Group B: 121.29\n",
      "Objective Difference: 10\n",
      "T-statistic: 2.0074\n",
      "P-value: 0.0457\n"
     ]
    }
   ],
   "source": [
    "# Objectivo: tener diferencia de 20 dolares en el LTV\n",
    "objective_difference = 10\n",
    "\n",
    "# Promedio y desviación estandar por grupo\n",
    "mean_a = np.mean(ltv_grupo_a)\n",
    "mean_b = np.mean(ltv_grupo_b)\n",
    "\n",
    "std_a = np.std(ltv_grupo_a, ddof=1)\n",
    "std_b = np.std(ltv_grupo_b, ddof=1)\n",
    "\n",
    "n_a = len(ltv_grupo_a)\n",
    "n_b = len(ltv_grupo_b)\n",
    "\n",
    "# Realizar un t-test de una cola (mayor o igual que el objetivo)\n",
    "# Null hypothesis H0: (mean_b - mean_a) <= objective_difference\n",
    "# Alternative hypothesis H1: (mean_b - mean_a) > objective_difference\n",
    "\n",
    "# Calculate the t-statistic and p-value\n",
    "pooled_std = np.sqrt(((std_a**2 / n_a) + (std_b**2 / n_b)))\n",
    "t_stat = (mean_b - mean_a - objective_difference) / pooled_std\n",
    "p_value = 1 - stats.t.cdf(t_stat, df=min(n_a, n_b) - 1)\n",
    "\n",
    "# Output the results\n",
    "print(f\"Mean LTV of Group A: {mean_a:.2f}\")\n",
    "print(f\"Mean LTV of Group B: {mean_b:.2f}\")\n",
    "print(f\"Objective Difference: {objective_difference}\")\n",
    "print(f\"T-statistic: {t_stat:.4f}\")\n",
    "print(f\"P-value: {p_value:.4f}\")"
   ]
  },
  {
   "cell_type": "markdown",
   "id": "4bc259bc-ca25-4877-babc-b325affcc7f1",
   "metadata": {},
   "source": [
    "¿Qué decisión tomarían?"
   ]
  },
  {
   "cell_type": "code",
   "execution_count": 8,
   "id": "2ddd39c7-00e5-40a6-9ae9-f053ac974886",
   "metadata": {
    "tags": []
   },
   "outputs": [
    {
     "name": "stdout",
     "output_type": "stream",
     "text": [
      "Z-statistic: 1.6088219735707359, P-value: 0.10765527467052377\n"
     ]
    }
   ],
   "source": [
    "# Comparar conversiones\n",
    "import numpy as np\n",
    "import statsmodels.api as sm\n",
    "\n",
    "conversions_a = 48\n",
    "total_a = 1000\n",
    "conversions_b = 30\n",
    "total_b = 900\n",
    "\n",
    "# Calcular conversion rate\n",
    "rate_a = conversions_a / total_a\n",
    "rate_b = conversions_b / total_b\n",
    "\n",
    "# Hacer un z-test de proporciones\n",
    "count = np.array([conversions_a, conversions_b])\n",
    "nobs = np.array([total_a, total_b])\n",
    "z_stat, p_value = sm.stats.proportions_ztest(count, nobs)\n",
    "\n",
    "print(f\"Z-statistic: {z_stat}, P-value: {p_value}\")"
   ]
  },
  {
   "cell_type": "markdown",
   "id": "b38fe27a-7c83-48db-bc35-ad0f7879c889",
   "metadata": {},
   "source": [
    "¿Qué decisión tomarían?"
   ]
  },
  {
   "cell_type": "markdown",
   "id": "856cd877-25cd-44df-8035-8990d63097f4",
   "metadata": {},
   "source": [
    "#### Paso 5: Toma de Decisiones\n",
    "Con base en los resultados del análisis, la empresa ABC tomará una decisión fundamentada sobre si incrementar el precio a 12 USD. Si el incremento en el precio compensa la disminución en las conversiones y resulta en un mayor LTV e ingresos, podría ser una buena estrategia.\n",
    "\n",
    "### Conclusión\n",
    "\n",
    "Las pruebas A/B son una herramienta poderosa en la toma de decisiones empresariales, especialmente en la fijación de precios. Al realizar experimentos controlados y analizar los datos de manera rigurosa, las empresas pueden minimizar el riesgo asociado con los cambios de precio, garantizando que sus decisiones estén basadas en datos concretos.\n",
    "\n",
    "### Actividad de la Sesión\n",
    "\n",
    "1. **Discusión en clase**: Analizaremos ejemplos de pruebas A/B reales y discutiremos cómo aplicar esta metodología en diferentes áreas de negocio, como marketing, cambios en ambiente productivo, diseño de productos y fijación de precios.\n",
    "2. **Trabajo en equipo**: Diseñen una prueba A/B para evaluar una hipótesis de cambio de precio.\n",
    "\n",
    "#### Trabajo de equipo\n",
    "CompuTech, una empresa de servicios de consulta de AI a través de API, está evaluando cambiar el precio de uno de sus servicios más populares. Tienen como objetivo incrementar 20 USD el ingreso promedio por usuario.\n",
    "\n",
    "\n",
    "El servicio tiene actualmente un precio de 1 USD por consulta, y la empresa está considerando aumentar el precio a 1.25 USD. Antes de implementar este cambio, desean evaluar cómo este aumento afectará su KPI ventas por usuario. Se llevará a cabo una prueba A/B para respaldar esta decisión.\n",
    "\n",
    "##### Objetivo del Caso\n",
    "El objetivo de la prueba es determinar si el cambio de precio tiene un impacto significativo en los siguientes KPIs:\n",
    "\n",
    "Ingreso promedio por usuario: Ingreso promedio por usuario. Desean que por lo menos aumente un 20 USD.\n",
    "\n",
    "Tasa de Conversión: Proporción de usuarios que completan la suscripción.\n",
    "\n",
    "\n",
    "##### Hipótesis\n",
    "- Hipótesis Nula ($H_0$): El aumento de precio a 1.25 USD no tiene un impacto significativo en la tasa de conversión ni en el ingreso promedio por usuario.\n",
    "- Hipótesis Alternativa ($H_1$): El aumento de precio a 1.25 USD tiene un impacto significativo en la tasa de conversión y el ingreso promedio por usuario.\n"
   ]
  },
  {
   "cell_type": "code",
   "execution_count": 3,
   "id": "2a505510-8eb8-444f-a86e-40f310d57d0c",
   "metadata": {},
   "outputs": [],
   "source": [
    "import pandas as pd\n",
    "import statsmodels.api as sm\n",
    "import numpy as np"
   ]
  },
  {
   "cell_type": "markdown",
   "id": "fddab69f-65ca-4889-acdc-75cc92c77cd6",
   "metadata": {},
   "source": [
    "**Hipótesis de tasa conversión:**\n",
    "- $H_0: \\Delta TC = 0$"
   ]
  },
  {
   "cell_type": "code",
   "execution_count": 4,
   "id": "766cb05b-4c23-41af-9784-3aa4e2923d0e",
   "metadata": {},
   "outputs": [
    {
     "data": {
      "text/html": [
       "<div>\n",
       "<style scoped>\n",
       "    .dataframe tbody tr th:only-of-type {\n",
       "        vertical-align: middle;\n",
       "    }\n",
       "\n",
       "    .dataframe tbody tr th {\n",
       "        vertical-align: top;\n",
       "    }\n",
       "\n",
       "    .dataframe thead th {\n",
       "        text-align: right;\n",
       "    }\n",
       "</style>\n",
       "<table border=\"1\" class=\"dataframe\">\n",
       "  <thead>\n",
       "    <tr style=\"text-align: right;\">\n",
       "      <th></th>\n",
       "      <th>User_ID</th>\n",
       "      <th>ARPU</th>\n",
       "    </tr>\n",
       "  </thead>\n",
       "  <tbody>\n",
       "    <tr>\n",
       "      <th>0</th>\n",
       "      <td>1</td>\n",
       "      <td>107.450712</td>\n",
       "    </tr>\n",
       "    <tr>\n",
       "      <th>1</th>\n",
       "      <td>2</td>\n",
       "      <td>97.926035</td>\n",
       "    </tr>\n",
       "    <tr>\n",
       "      <th>2</th>\n",
       "      <td>3</td>\n",
       "      <td>109.715328</td>\n",
       "    </tr>\n",
       "    <tr>\n",
       "      <th>3</th>\n",
       "      <td>4</td>\n",
       "      <td>122.845448</td>\n",
       "    </tr>\n",
       "    <tr>\n",
       "      <th>4</th>\n",
       "      <td>5</td>\n",
       "      <td>96.487699</td>\n",
       "    </tr>\n",
       "  </tbody>\n",
       "</table>\n",
       "</div>"
      ],
      "text/plain": [
       "   User_ID        ARPU\n",
       "0        1  107.450712\n",
       "1        2   97.926035\n",
       "2        3  109.715328\n",
       "3        4  122.845448\n",
       "4        5   96.487699"
      ]
     },
     "execution_count": 4,
     "metadata": {},
     "output_type": "execute_result"
    }
   ],
   "source": [
    "arpu = pd.read_csv('historical_arpu.csv')\n",
    "arpu.head()"
   ]
  },
  {
   "cell_type": "code",
   "execution_count": null,
   "id": "f0cd6f1a-3c16-41a7-b542-48ae003c3c03",
   "metadata": {},
   "outputs": [],
   "source": []
  }
 ],
 "metadata": {
  "kernelspec": {
   "display_name": "Python 3 (ipykernel)",
   "language": "python",
   "name": "python3"
  },
  "language_info": {
   "codemirror_mode": {
    "name": "ipython",
    "version": 3
   },
   "file_extension": ".py",
   "mimetype": "text/x-python",
   "name": "python",
   "nbconvert_exporter": "python",
   "pygments_lexer": "ipython3",
   "version": "3.11.7"
  }
 },
 "nbformat": 4,
 "nbformat_minor": 5
}
