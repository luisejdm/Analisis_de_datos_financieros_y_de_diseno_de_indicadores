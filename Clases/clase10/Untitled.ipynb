{
 "cells": [
  {
   "cell_type": "code",
   "execution_count": 7,
   "id": "2a363f63-4f65-4796-a1a4-abd09fbeb98c",
   "metadata": {},
   "outputs": [
    {
     "name": "stdout",
     "output_type": "stream",
     "text": [
      "Imported auto_timeseries version:0.0.92. Call by using:\n",
      "model = auto_timeseries(score_type='rmse',\n",
      "        time_interval='M', non_seasonal_pdq=None, seasonality=False,\n",
      "        seasonal_period=12, model_type=['best'], verbose=2, dask_xgboost_flag=0)\n",
      "model.fit(traindata, ts_column,target)\n",
      "model.predict(testdata, model='best')\n",
      "\n"
     ]
    }
   ],
   "source": [
    "import numpy as np\n",
    "import pandas as pd\n",
    "import yfinance as yf\n",
    "import matplotlib.pyplot as plt\n",
    "from auto_ts import auto_timeseries"
   ]
  },
  {
   "cell_type": "code",
   "execution_count": 2,
   "id": "9d74e6e3-9745-47e4-ab2e-988c36db185a",
   "metadata": {},
   "outputs": [],
   "source": [
    "def get_adj_close(tickets, start=None, end=None):\n",
    "    return yf.download(tickets, start=start, end=end)['Adj Close']"
   ]
  },
  {
   "cell_type": "code",
   "execution_count": 41,
   "id": "a0cf6d5f-29cb-485e-b7a2-a22129406018",
   "metadata": {},
   "outputs": [
    {
     "name": "stderr",
     "output_type": "stream",
     "text": [
      "[*********************100%%**********************]  1 of 1 completed\n"
     ]
    },
    {
     "data": {
      "text/html": [
       "<div>\n",
       "<style scoped>\n",
       "    .dataframe tbody tr th:only-of-type {\n",
       "        vertical-align: middle;\n",
       "    }\n",
       "\n",
       "    .dataframe tbody tr th {\n",
       "        vertical-align: top;\n",
       "    }\n",
       "\n",
       "    .dataframe thead th {\n",
       "        text-align: right;\n",
       "    }\n",
       "</style>\n",
       "<table border=\"1\" class=\"dataframe\">\n",
       "  <thead>\n",
       "    <tr style=\"text-align: right;\">\n",
       "      <th></th>\n",
       "      <th>Date</th>\n",
       "      <th>Adj Close</th>\n",
       "    </tr>\n",
       "  </thead>\n",
       "  <tbody>\n",
       "    <tr>\n",
       "      <th>0</th>\n",
       "      <td>2020-01-02</td>\n",
       "      <td>72.876122</td>\n",
       "    </tr>\n",
       "    <tr>\n",
       "      <th>1</th>\n",
       "      <td>2020-01-03</td>\n",
       "      <td>72.167610</td>\n",
       "    </tr>\n",
       "    <tr>\n",
       "      <th>2</th>\n",
       "      <td>2020-01-06</td>\n",
       "      <td>72.742668</td>\n",
       "    </tr>\n",
       "    <tr>\n",
       "      <th>3</th>\n",
       "      <td>2020-01-07</td>\n",
       "      <td>72.400551</td>\n",
       "    </tr>\n",
       "    <tr>\n",
       "      <th>4</th>\n",
       "      <td>2020-01-08</td>\n",
       "      <td>73.565208</td>\n",
       "    </tr>\n",
       "    <tr>\n",
       "      <th>...</th>\n",
       "      <td>...</td>\n",
       "      <td>...</td>\n",
       "    </tr>\n",
       "    <tr>\n",
       "      <th>1197</th>\n",
       "      <td>2024-10-04</td>\n",
       "      <td>226.800003</td>\n",
       "    </tr>\n",
       "    <tr>\n",
       "      <th>1198</th>\n",
       "      <td>2024-10-07</td>\n",
       "      <td>221.690002</td>\n",
       "    </tr>\n",
       "    <tr>\n",
       "      <th>1199</th>\n",
       "      <td>2024-10-08</td>\n",
       "      <td>225.770004</td>\n",
       "    </tr>\n",
       "    <tr>\n",
       "      <th>1200</th>\n",
       "      <td>2024-10-09</td>\n",
       "      <td>229.539993</td>\n",
       "    </tr>\n",
       "    <tr>\n",
       "      <th>1201</th>\n",
       "      <td>2024-10-10</td>\n",
       "      <td>229.039993</td>\n",
       "    </tr>\n",
       "  </tbody>\n",
       "</table>\n",
       "<p>1202 rows × 2 columns</p>\n",
       "</div>"
      ],
      "text/plain": [
       "           Date   Adj Close\n",
       "0    2020-01-02   72.876122\n",
       "1    2020-01-03   72.167610\n",
       "2    2020-01-06   72.742668\n",
       "3    2020-01-07   72.400551\n",
       "4    2020-01-08   73.565208\n",
       "...         ...         ...\n",
       "1197 2024-10-04  226.800003\n",
       "1198 2024-10-07  221.690002\n",
       "1199 2024-10-08  225.770004\n",
       "1200 2024-10-09  229.539993\n",
       "1201 2024-10-10  229.039993\n",
       "\n",
       "[1202 rows x 2 columns]"
      ]
     },
     "execution_count": 41,
     "metadata": {},
     "output_type": "execute_result"
    }
   ],
   "source": [
    "ticker = 'AAPL'\n",
    "data = yf.download(ticker, start='2020-01-01', interval='1d')  # Intervalo diario\n",
    "\n",
    "# Asegúrate de que los datos tengan un índice de fecha\n",
    "data = data[['Adj Close']].dropna()  # Usamos el precio ajustado de cierre\n",
    "data.reset_index(inplace=True)\n",
    "data"
   ]
  },
  {
   "cell_type": "code",
   "execution_count": 42,
   "id": "2cabec21-0314-427e-bec4-7cc42e5098c0",
   "metadata": {},
   "outputs": [],
   "source": [
    "# Revisar si la columna 'Date' está en formato datetime\n",
    "data['Date'] = pd.to_datetime(data['Date'])"
   ]
  },
  {
   "cell_type": "code",
   "execution_count": 43,
   "id": "2719ace0-a43c-4ac4-b98a-ff778e23394e",
   "metadata": {},
   "outputs": [],
   "source": [
    "# Separar datos en entrenamiento y prueba\n",
    "train_size = int(len(data) * 0.8)\n",
    "train_data = data.iloc[:train_size]\n",
    "test_data = data.iloc[train_size:]\n",
    "\n",
    "# Crear modelo con auto_ts\n",
    "model = auto_timeseries(\n",
    "    score_type='rmse',               # Tipo de métrica (puedes cambiar a 'mape', 'mae', etc.)\n",
    "    time_interval='D',               # Intervalo diario\n",
    "    non_seasonal_pdq=None,           # auto_arima encontrará los mejores parámetros no estacionales\n",
    "    seasonal_pdq=None,               # auto_arima también ajustará los parámetros estacionales\n",
    "    model_type='best',               # 'best' buscará el mejor modelo (auto_arima, prophet, ML)\n",
    "    verbose=2,                       # Nivel de verbosidad para obtener más información\n",
    "    dask_xgboost_flag=False,         # Evita usar Dask ya que es inestable a veces\n",
    "    strf_time_format='%Y-%m-%d'      # Formato de fecha para 'Date'\n",
    ")"
   ]
  },
  {
   "cell_type": "code",
   "execution_count": 46,
   "id": "44f55dbf-83bc-447c-ad0b-6fbf61666bb5",
   "metadata": {},
   "outputs": [
    {
     "name": "stdout",
     "output_type": "stream",
     "text": [
      "Object `model.fit.strf_time_format` not found.\n"
     ]
    }
   ],
   "source": [
    "# Entrenar el modelo en el conjunto de entrenamiento\n",
    "model.fit.strf_time_format?"
   ]
  },
  {
   "cell_type": "code",
   "execution_count": null,
   "id": "c92e8d27-03dd-4a2f-b788-660c3409d107",
   "metadata": {},
   "outputs": [],
   "source": []
  }
 ],
 "metadata": {
  "kernelspec": {
   "display_name": "Python 3 (ipykernel)",
   "language": "python",
   "name": "python3"
  },
  "language_info": {
   "codemirror_mode": {
    "name": "ipython",
    "version": 3
   },
   "file_extension": ".py",
   "mimetype": "text/x-python",
   "name": "python",
   "nbconvert_exporter": "python",
   "pygments_lexer": "ipython3",
   "version": "3.11.7"
  }
 },
 "nbformat": 4,
 "nbformat_minor": 5
}
