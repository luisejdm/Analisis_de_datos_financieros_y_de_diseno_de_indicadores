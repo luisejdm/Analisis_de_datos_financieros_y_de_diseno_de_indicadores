{
 "cells": [
  {
   "cell_type": "markdown",
   "id": "bdb8e7cf-b32a-4847-9796-44527cf9c04c",
   "metadata": {
    "tags": []
   },
   "source": [
    "# Módulo 4: Analítica Prescriptiva y Optimización de Decisiones\n",
    "\n",
    "## Sesión 1: Introducción al análisis prescriptivo y su uso en la optimización de indicadores\n",
    "\n",
    "### Objetivo de la Sesión\n",
    "\n",
    "En esta primera sesión del módulo, aprenderemos a aplicar el **análisis prescriptivo** en un entorno empresarial para optimizar indicadores clave de rendimiento (KPI). A través de un caso práctico, exploraremos cómo las empresas pueden utilizar modelos matemáticos y técnicas de optimización para tomar decisiones más eficientes, incluso bajo restricciones de recursos o presupuesto.\n",
    "\n",
    "### ¿Qué es el análisis prescriptivo?\n",
    "\n",
    "El **análisis prescriptivo** es la fase más avanzada del análisis de datos y responde a la pregunta **\"¿Qué debemos hacer?\"**. A diferencia del análisis descriptivo, que nos dice qué ha pasado, o el predictivo, que nos sugiere qué podría pasar, el análisis prescriptivo recomienda acciones basadas en los datos y los resultados esperados.\n",
    "\n",
    "El análisis prescriptivo combina técnicas como la programación lineal, simulación de escenarios y modelos predictivos para sugerir la mejor acción posible bajo las circunstancias dadas.\n",
    "\n",
    "### Caso Práctico: Optimización de Indicadores en la Empresa XYZ\n",
    "\n",
    "Imaginemos que somos consultores de la empresa **XYZ**, que ofrece servicios de logística para comercio electrónico. Su principal preocupación es el **indicador de satisfacción del cliente**, que ha caído en los últimos meses debido a retrasos en las entregas. XYZ quiere mejorar este indicador sin exceder un presupuesto limitado para mejoras operativas.\n",
    "\n",
    "#### Contexto del Caso:\n",
    "- **Problema**: La empresa XYZ enfrenta una caída en la satisfacción del cliente (KPI prioritario) debido a los retrasos en las entregas.\n",
    "- **Restricciones**: La empresa tiene un presupuesto limitado de 50,000 USD para invertir en mejoras operativas.\n",
    "- **Objetivo**: Maximizar la satisfacción del cliente optimizando tres factores clave: \n",
    "  1. **Capacidad de entrega** (número de paquetes entregados a tiempo).\n",
    "  2. **Tiempos de respuesta del servicio al cliente**.\n",
    "  3. **Calidad del sistema de seguimiento en línea** para que los clientes puedan monitorear sus pedidos.\n",
    "\n",
    "### Estrategia de Optimización\n",
    "\n",
    "Utilizaremos el análisis prescriptivo para ayudar a XYZ a tomar decisiones sobre dónde invertir su presupuesto de 50,000 USD para obtener el mayor impacto en la satisfacción del cliente.\n",
    "\n",
    "#### Paso 1: Definir el Problema\n",
    "El primer paso es identificar las variables clave que afectan la satisfacción del cliente y cómo podemos mejorar esos factores. Basándonos en datos históricos, sabemos que:\n",
    "- **Capacidad de entrega** tiene una correlación directa con la satisfacción.\n",
    "- **Tiempo de respuesta del servicio al cliente** también es crítico, ya que los clientes insatisfechos con el servicio tardío buscan respuestas rápidamente.\n",
    "- **Sistema de seguimiento**: Los clientes que pueden seguir el estado de sus pedidos tienden a tener una mejor experiencia, incluso si hay pequeños retrasos.\n",
    "\n",
    "#### Paso 2: Modelado del Problema\n",
    "Usaremos un modelo de programación lineal que permita maximizar la satisfacción del cliente bajo la restricción del presupuesto. Este modelo nos ayudará a asignar los 50,000 USD entre las tres áreas clave de la siguiente manera:\n",
    "- **Capacidad de entrega**: Cada 10,000 USD invertidos aumentan en un 5% la cantidad de entregas a tiempo.\n",
    "- **Tiempo de respuesta del servicio**: Cada 15,000 USD invertidos reducen el tiempo de respuesta en un 10%.\n",
    "- **Sistema de seguimiento**: Cada 25,000 USD invertidos mejoran la precisión del sistema en un 15%.\n",
    "\n",
    "#### Paso 3: Simulación de Escenarios\n",
    "Vamos a simular varios escenarios para ver qué combinación de inversiones nos ofrece el mayor retorno en términos de satisfacción del cliente, respetando el límite de presupuesto.\n",
    "\n",
    "**Escenario A**: Invertimos 30,000 USD en capacidad de entrega, 10,000 USD en tiempos de respuesta, y 10,000 USD en el sistema de seguimiento. \n",
    "\n",
    "**Escenario B**: Invertimos 25,000 USD en el sistema de seguimiento, y 25,000 USD en capacidad de entrega.\n",
    "\n",
    "**Escenario C**: Distribuimos los 50,000 USD equitativamente entre las tres áreas.\n",
    "\n",
    "#### Paso 4: Evaluación de los Resultados\n",
    "Analizaremos los resultados de cada escenario para ver cuál maximiza la satisfacción del cliente y respeta las restricciones del presupuesto. Esto nos permitirá recomendar la mejor estrategia a XYZ.\n",
    "\n",
    "### Conclusión\n",
    "\n",
    "El análisis prescriptivo nos permite tomar decisiones basadas en datos y modelos matemáticos para maximizar indicadores clave bajo restricciones reales. En este caso, la empresa XYZ podrá invertir su presupuesto de manera inteligente para mejorar la satisfacción del cliente, optimizando tanto la capacidad de entrega, como el servicio al cliente y el sistema de seguimiento.\n",
    "\n",
    "### Actividad de la Sesión\n",
    "\n",
    "1. **Discusión en clase**: Analizaremos juntos los resultados de los escenarios simulados y discutiremos cuál estrategia maximiza mejor el KPI.\n",
    "2. **Trabajo en equipo**: Los estudiantes se dividirán en grupos y se les dará un nuevo caso de negocio con restricciones específicas. Deberán aplicar lo aprendido para optimizar un KPI clave dentro de esas restricciones.\n",
    "\n"
   ]
  }
 ],
 "metadata": {
  "kernelspec": {
   "display_name": "Python 3 (ipykernel)",
   "language": "python",
   "name": "python3"
  },
  "language_info": {
   "codemirror_mode": {
    "name": "ipython",
    "version": 3
   },
   "file_extension": ".py",
   "mimetype": "text/x-python",
   "name": "python",
   "nbconvert_exporter": "python",
   "pygments_lexer": "ipython3",
   "version": "3.11.5"
  }
 },
 "nbformat": 4,
 "nbformat_minor": 5
}
