{
 "cells": [
  {
   "cell_type": "markdown",
   "id": "dee41979-0fdf-4937-9f9a-bb2108efa4a5",
   "metadata": {},
   "source": [
    "# Modelado de Ecuaciones Estructurales (SEM): Caso Práctico y Aplicación\n",
    "\n",
    "## Introducción a la Sesión\n",
    "\n",
    "En esta sesión, vamos a explorar cómo aplicar el **Modelado de Ecuaciones Estructurales (SEM)** en un entorno práctico dentro de una empresa. SEM es una herramienta poderosa para investigar relaciones complejas entre variables observables y no observables (latentes), ayudando a entender mejor fenómenos que involucran múltiples dimensiones.\n",
    "\n",
    "### Objetivo de la Empresa\n",
    "\n",
    "Supongamos que trabajamos para una empresa llamada **EcomInsights**, que está interesada en comprender cómo varios factores afectan la **satisfacción del cliente** en su plataforma de e-commerce. La empresa quiere identificar no solo las relaciones directas entre las variables que miden la satisfacción del cliente, sino también los **efectos indirectos** a través de otras variables intermedias como la confianza, el valor percibido, y la calidad del servicio.\n",
    "\n",
    "### Escenario y Problema\n",
    "\n",
    "La dirección de **EcomInsights** ha identificado que factores como el **ingreso del hogar**, la **confianza en la plataforma**, y la **calidad del servicio** están relacionados de alguna manera con la **satisfacción del cliente**. Sin embargo, no está claro cómo estas variables se interrelacionan entre sí, ni cuál es su impacto directo e indirecto en la satisfacción general del cliente. Además, algunas de estas variables no son observables directamente (por ejemplo, \"confianza\" es una variable latente).\n",
    "\n",
    "La empresa quiere construir un modelo que explique la **satisfacción del cliente** como un concepto multidimensional, midiendo tanto **efectos directos** como **indirectos** entre las variables observadas y latentes.\n",
    "\n",
    "---\n",
    "\n",
    "## ¿Qué es el Modelado de Ecuaciones Estructurales (SEM)?\n",
    "\n",
    "El **Modelado de Ecuaciones Estructurales (SEM)** es una técnica estadística que integra análisis de regresión, análisis de factores y análisis de trayectorias en un marco cohesivo. Es especialmente útil para:\n",
    "\n",
    "- Investigar **constructos complejos** que no se pueden medir directamente (como la confianza o la satisfacción).\n",
    "- Modelar **sistemas de relaciones** entre variables.\n",
    "- Evaluar tanto los **efectos directos** como los **efectos indirectos** de las variables.\n",
    "\n",
    "### ¿Cuándo usar SEM?\n",
    "\n",
    "- Cuando necesitamos medir variables que no se observan directamente (variables **latentes**), como actitudes o percepciones.\n",
    "- Cuando queremos estudiar sistemas de relaciones complejas entre varias variables y analizar cómo una variable puede influir en otra **a través de** una tercera variable (mediación).\n",
    "- En investigaciones donde la **causalidad** y los efectos acumulativos son importantes.\n",
    "\n",
    "### Aplicación en el Caso de EcomInsights\n",
    "\n",
    "La empresa quiere saber cómo diferentes factores influyen en la satisfacción del cliente. SEM es ideal para este caso, ya que algunas variables clave como la **confianza en la plataforma** son latentes y no pueden medirse directamente.\n",
    "\n",
    "---\n",
    "\n",
    "## Pasos para Implementar SEM en la Empresa\n",
    "\n",
    "### 1. **Entender el Modelo**\n",
    "\n",
    "#### Variables Latentes\n",
    "- **Confianza en la Plataforma**: No se puede observar directamente. Se mide a través de varios indicadores, como la frecuencia de uso, recomendaciones a otros usuarios, y la percepción de seguridad.\n",
    "- **Calidad del Servicio**: Se mide mediante indicadores como la rapidez de entrega, la atención al cliente, y la resolución de problemas.\n",
    "\n",
    "#### Variables Observables\n",
    "- **Ingreso del Hogar**: Directamente observable.\n",
    "- **Satisfacción del Cliente**: Una variable observada, pero influenciada por constructos latentes como la confianza y la calidad del servicio.\n",
    "\n",
    "#### Relaciones Directas e Indirectas\n",
    "- **Relación directa**: ¿Cómo afecta el ingreso directamente a la satisfacción del cliente?\n",
    "- **Relación indirecta**: ¿Cómo influye el ingreso en la calidad del servicio, y cómo esto afecta la satisfacción?\n",
    "\n",
    "### 2. **Especificar el Modelo de Medición**\n",
    "\n",
    "Primero, definimos cómo las variables latentes (**confianza**, **calidad del servicio**) se relacionan con sus indicadores observados. Esto se hace mediante un modelo de **análisis factorial confirmatorio (CFA)**.\n",
    "\n",
    "### 3. **Pasar al Modelo Estructural**\n",
    "\n",
    "Después de establecer el modelo de medición, pasamos a la **parte estructural**, donde modelamos las relaciones entre las variables latentes y observables, incluyendo los efectos directos e indirectos.\n",
    "\n",
    "---\n",
    "\n",
    "## Elementos Clave en SEM\n",
    "\n",
    "### 1. **Variables Exógenas y Endógenas**\n",
    "\n",
    "- **Exógenas**: Variables independientes dentro del sistema, como el **ingreso del hogar**.\n",
    "- **Endógenas**: Variables dependientes que están siendo explicadas dentro del modelo, como la **satisfacción del cliente**.\n",
    "\n",
    "### 2. **Análisis de Covarianza**\n",
    "\n",
    "SEM analiza las matrices de varianza/covarianza en lugar de los datos brutos. Esto permite modelar las relaciones entre las variables a un nivel más profundo.\n",
    "\n",
    "### 3. **Estimación y Ajuste del Modelo**\n",
    "\n",
    "El modelo es estimado utilizando **Máxima Verosimilitud (ML)**, que ajusta los parámetros maximizando la probabilidad de que los datos observados se ajusten al modelo teórico. Evaluamos el ajuste del modelo con métricas como el **AIC** o el **BIC** para asegurar que el modelo sea parsimonioso y explique bien los datos.\n",
    "\n",
    "### 4. **Identificación del Modelo**\n",
    "\n",
    "El modelo debe ser identificado correctamente. Si hay más incógnitas que datos observados, el modelo será **no identificado** y no podrá estimarse correctamente. Se pueden hacer ajustes para que el modelo esté **sobre-identificado**, lo que permite hacer inferencias sobre los parámetros.\n",
    "\n",
    "---\n",
    "\n",
    "## Ejemplo de Implementación Práctica\n",
    "\n",
    "### Diagrama de Trayectoria\n",
    "\n",
    "En el caso de **EcomInsights**, un modelo SEM podría tener este formato:\n",
    "\n",
    "1. **Variables Latentes**:\n",
    "   - Confianza en la plataforma → Indicadores como \"Frecuencia de uso\", \"Percepción de seguridad\".\n",
    "   - Calidad del servicio → Indicadores como \"Tiempo de respuesta\", \"Resolución de problemas\".\n",
    "\n",
    "2. **Variables Observables**:\n",
    "   - Ingreso del Hogar\n",
    "   - Satisfacción del Cliente\n",
    "\n",
    "3. **Relaciones**:\n",
    "   - Ingreso del hogar influye en la calidad del servicio (directo).\n",
    "   - La calidad del servicio influye en la satisfacción del cliente (indirecto).\n",
    "   - La confianza en la plataforma afecta directamente la satisfacción del cliente.\n",
    "\n",
    "### ¿Qué buscamos con SEM?\n",
    "\n",
    "1. **Confirmar hipótesis**: ¿La calidad del servicio actúa como mediador entre el ingreso y la satisfacción?\n",
    "2. **Evaluar el ajuste del modelo**: ¿El modelo teórico refleja adecuadamente los datos reales?\n",
    "\n",
    "---\n",
    "\n",
    "## Conclusión\n",
    "\n",
    "El **Modelado de Ecuaciones Estructurales (SEM)** es una herramienta esencial para entender relaciones complejas entre variables, permitiendo a las empresas como **EcomInsights** identificar no solo los efectos directos de sus estrategias en la satisfacción del cliente, sino también los efectos indirectos a través de constructos como la confianza y la calidad del servicio. SEM ayuda a las empresas a validar sus modelos teóricos y a mejorar su toma de decisiones con base en datos.\n",
    "\n",
    "### Beneficios de SEM para EcomInsights:\n",
    "\n",
    "- **Mejora de estrategias**: Identificación de los factores clave que influyen en la satisfacción.\n",
    "- **Manejo de variables complejas**: Modela constructos difíciles de medir, como la confianza.\n",
    "- **Optimización**: Evaluación de cómo la mejora en uno de los factores influye en los demás.\n",
    "\n",
    "Este tipo de análisis permite decisiones estratégicas más informadas, ayudando a la empresa a optimizar la experiencia del cliente y a mejorar su propuesta de valor.\n"
   ]
  },
  {
   "cell_type": "markdown",
   "id": "f533363e-e090-43da-9425-5f37e1e4b8e9",
   "metadata": {},
   "source": [
    "# Implementación de SEM en Python usando semopy\n",
    "\n",
    "## Paso 1: Instalación de semopy\n",
    "Instala la librería `semopy` usando el siguiente comando si aún no la tienes instalada:"
   ]
  },
  {
   "cell_type": "code",
   "execution_count": 1,
   "id": "5a55ea19-94ac-4565-83c8-2e14ab80ddfe",
   "metadata": {
    "tags": []
   },
   "outputs": [
    {
     "name": "stdout",
     "output_type": "stream",
     "text": [
      "Requirement already satisfied: semopy in c:\\users\\epile\\anaconda3\\lib\\site-packages (2.3.11)\n",
      "Requirement already satisfied: scipy in c:\\users\\epile\\anaconda3\\lib\\site-packages (from semopy) (1.11.4)\n",
      "Requirement already satisfied: numpy in c:\\users\\epile\\anaconda3\\lib\\site-packages (from semopy) (1.26.4)\n",
      "Requirement already satisfied: pandas in c:\\users\\epile\\anaconda3\\lib\\site-packages (from semopy) (1.5.3)\n",
      "Requirement already satisfied: sympy in c:\\users\\epile\\anaconda3\\lib\\site-packages (from semopy) (1.12)\n",
      "Requirement already satisfied: scikit-learn in c:\\users\\epile\\anaconda3\\lib\\site-packages (from semopy) (1.2.2)\n",
      "Requirement already satisfied: statsmodels in c:\\users\\epile\\anaconda3\\lib\\site-packages (from semopy) (0.14.0)\n",
      "Requirement already satisfied: numdifftools in c:\\users\\epile\\anaconda3\\lib\\site-packages (from semopy) (0.9.41)\n",
      "Requirement already satisfied: python-dateutil>=2.8.1 in c:\\users\\epile\\appdata\\roaming\\python\\python311\\site-packages (from pandas->semopy) (2.9.0.post0)\n",
      "Requirement already satisfied: pytz>=2020.1 in c:\\users\\epile\\anaconda3\\lib\\site-packages (from pandas->semopy) (2023.3.post1)\n",
      "Requirement already satisfied: joblib>=1.1.1 in c:\\users\\epile\\anaconda3\\lib\\site-packages (from scikit-learn->semopy) (1.2.0)\n",
      "Requirement already satisfied: threadpoolctl>=2.0.0 in c:\\users\\epile\\anaconda3\\lib\\site-packages (from scikit-learn->semopy) (2.2.0)\n",
      "Requirement already satisfied: patsy>=0.5.2 in c:\\users\\epile\\anaconda3\\lib\\site-packages (from statsmodels->semopy) (0.5.3)\n",
      "Requirement already satisfied: packaging>=21.3 in c:\\users\\epile\\appdata\\roaming\\python\\python311\\site-packages (from statsmodels->semopy) (24.0)\n",
      "Requirement already satisfied: mpmath>=0.19 in c:\\users\\epile\\anaconda3\\lib\\site-packages (from sympy->semopy) (1.3.0)\n",
      "Requirement already satisfied: six in c:\\users\\epile\\appdata\\roaming\\python\\python311\\site-packages (from patsy>=0.5.2->statsmodels->semopy) (1.16.0)\n"
     ]
    }
   ],
   "source": [
    "!pip install semopy"
   ]
  },
  {
   "cell_type": "markdown",
   "id": "57f1367f-3a87-4277-8034-551b30ac4cb0",
   "metadata": {},
   "source": [
    "## Paso 2: Definir el Modelo SEM\n",
    "Definimos el modelo SEM en términos de las relaciones entre las variables observadas y latentes. En nuestro caso, modelamos Confianza en la Plataforma y Calidad del Servicio como variables latentes que influyen en la Satisfacción del Cliente."
   ]
  },
  {
   "cell_type": "code",
   "execution_count": 1,
   "id": "be27a25f-ab53-4bfe-9700-98266af5b216",
   "metadata": {
    "tags": []
   },
   "outputs": [],
   "source": [
    "import pandas as pd\n",
    "import numpy as np\n",
    "from semopy import Model, Optimizer\n",
    "import matplotlib.pyplot as plt\n",
    "from semopy import Model, Optimizer, semplot\n",
    "\n",
    "# Definir el modelo SEM usando la notación estándar de SEM\n",
    "model_desc = \"\"\"\n",
    "# Latent Variables\n",
    "Confianza =~ Uso + Seguridad + Recomendaciones\n",
    "Calidad =~ Tiempo_Respuesta + Resolucion_Problemas\n",
    "\n",
    "# Regressions\n",
    "Satisfaccion ~ Confianza + Calidad + Ingreso\n",
    "\n",
    "# Variances and Covariances\n",
    "Confianza ~~ Calidad\n",
    "\"\"\""
   ]
  },
  {
   "cell_type": "markdown",
   "id": "918932ba-3c95-4357-8819-03e035009d1e",
   "metadata": {},
   "source": [
    "## Paso 3: Generar Datos Sintéticos para EcomInsights\n",
    "Creamos un conjunto de datos sintéticos que sigue la estructura definida"
   ]
  },
  {
   "cell_type": "code",
   "execution_count": 2,
   "id": "787cbd7e-9032-4e3b-a100-9570f5934e72",
   "metadata": {
    "tags": []
   },
   "outputs": [],
   "source": [
    "np.random.seed(42)\n",
    "\n",
    "# Variables relacionadas con Confianza\n",
    "uso = np.random.normal(4, 0.5, 300)\n",
    "seguridad = uso + np.random.normal(0, 0.3, 300)  # Seguridad correlacionada con Uso\n",
    "recomendaciones = uso * 0.8 + np.random.normal(0, 0.2, 300)  # Recomendaciones correlacionadas con Uso\n",
    "\n",
    "# Variables relacionadas con Calidad\n",
    "tiempo_respuesta = np.random.normal(4.2, 0.3, 300)\n",
    "resolucion_problemas = tiempo_respuesta * 0.9 + np.random.normal(0, 0.2, 300)  # Resolución correlacionada con Tiempo de Respuesta\n",
    "\n",
    "# Ingreso del Hogar\n",
    "ingreso = np.random.normal(50000, 10000, 300)\n",
    "\n",
    "# Satisfacción del Cliente influenciada por Confianza y Calidad\n",
    "satisfaccion = 0.5 * uso + 0.7 * tiempo_respuesta + np.random.normal(0, 0.5, 300)\n",
    "\n",
    "# Crear DataFrame con los datos generados\n",
    "data = pd.DataFrame({\n",
    "    \"Uso\": uso,\n",
    "    \"Seguridad\": seguridad,\n",
    "    \"Recomendaciones\": recomendaciones,\n",
    "    \"Tiempo_Respuesta\": tiempo_respuesta,\n",
    "    \"Resolucion_Problemas\": resolucion_problemas,\n",
    "    \"Ingreso\": ingreso,\n",
    "    \"Satisfaccion\": satisfaccion\n",
    "})"
   ]
  },
  {
   "cell_type": "markdown",
   "id": "a068e411-d576-4901-bd19-9559a92291c8",
   "metadata": {
    "tags": []
   },
   "source": [
    "## Paso 4: Ajustar el Modelo SEM a los Datos Sintéticos"
   ]
  },
  {
   "cell_type": "code",
   "execution_count": 3,
   "id": "d0d24ab2-4382-4842-887b-8764ec2d0bf4",
   "metadata": {
    "tags": []
   },
   "outputs": [
    {
     "name": "stdout",
     "output_type": "stream",
     "text": [
      "                    lval  op                  rval      Estimate  Std. Err  \\\n",
      "0                    Uso   ~             Confianza  1.000000e+00         -   \n",
      "1              Seguridad   ~             Confianza  9.762671e-01  0.037555   \n",
      "2        Recomendaciones   ~             Confianza  7.847173e-01  0.026803   \n",
      "3       Tiempo_Respuesta   ~               Calidad  1.000000e+00         -   \n",
      "4   Resolucion_Problemas   ~               Calidad  8.842540e-01  0.097589   \n",
      "5           Satisfaccion   ~             Confianza  4.684551e-01  0.058186   \n",
      "6           Satisfaccion   ~               Calidad  6.763459e-01  0.116271   \n",
      "7           Satisfaccion   ~               Ingreso -5.926080e-07  0.000003   \n",
      "8              Confianza  ~~               Calidad  1.015207e-02  0.008599   \n",
      "9              Confianza  ~~             Confianza  2.413574e-01  0.020116   \n",
      "10               Calidad  ~~               Calidad  9.126770e-02   0.01191   \n",
      "11       Recomendaciones  ~~       Recomendaciones  3.954604e-02  0.004075   \n",
      "12  Resolucion_Problemas  ~~  Resolucion_Problemas  3.952065e-02  0.007939   \n",
      "13          Satisfaccion  ~~          Satisfaccion  2.388355e-01  0.019977   \n",
      "14             Seguridad  ~~             Seguridad  8.281934e-02   0.00778   \n",
      "15      Tiempo_Respuesta  ~~      Tiempo_Respuesta  2.096781e-04  0.009276   \n",
      "16                   Uso  ~~                   Uso  0.000000e+00  0.004036   \n",
      "\n",
      "      z-value   p-value  \n",
      "0           -         -  \n",
      "1   25.995879       0.0  \n",
      "2   29.277673       0.0  \n",
      "3           -         -  \n",
      "4    9.060982       0.0  \n",
      "5    8.050977       0.0  \n",
      "6    5.816956       0.0  \n",
      "7   -0.206389  0.836487  \n",
      "8    1.180644  0.237744  \n",
      "9   11.998363       0.0  \n",
      "10   7.663354       0.0  \n",
      "11   9.705145       0.0  \n",
      "12   4.978236  0.000001  \n",
      "13  11.955502       0.0  \n",
      "14  10.645335       0.0  \n",
      "15   0.022603  0.981967  \n",
      "16        0.0       1.0  \n"
     ]
    }
   ],
   "source": [
    "mod = Model(model_desc)\n",
    "res_opt = mod.fit(data)\n",
    "estimates = mod.inspect()\n",
    "\n",
    "# Imprimir los resultados del ajuste del modelo\n",
    "print(estimates)"
   ]
  },
  {
   "cell_type": "code",
   "execution_count": 4,
   "id": "49483aac-8452-4e38-8515-5f6575498cf8",
   "metadata": {
    "tags": []
   },
   "outputs": [
    {
     "name": "stdout",
     "output_type": "stream",
     "text": [
      "Name of objective: MLW\n",
      "Optimization method: SLSQP\n",
      "Optimization successful.\n",
      "Optimization terminated successfully\n",
      "Objective value: 0.046\n",
      "Number of iterations: 30\n",
      "Params: 0.976 0.785 0.884 0.468 0.676 -0.000 0.010 0.241 0.091 0.040 0.040 0.239 0.083 0.000 0.000\n"
     ]
    }
   ],
   "source": [
    "# Paso 5: Visualizar el Modelo SEM con un Diagrama de Trayectoria\n",
    "print(res_opt)"
   ]
  },
  {
   "cell_type": "markdown",
   "id": "54959f71-bfc2-4bc8-ab9f-da043960f439",
   "metadata": {},
   "source": [
    "### Análisis del Modelo SEM y Resultados\n",
    "\n",
    "Este análisis está basado en un modelo de ecuaciones estructurales (SEM) que mide la influencia de dos variables latentes (**Confianza en la Plataforma** y **Calidad del Servicio**) sobre la **Satisfacción del Cliente**, además de incorporar el **Ingreso del Hogar** como una variable observada. A continuación, se presenta un resumen de los resultados y las conclusiones derivadas del modelo.\n",
    "\n",
    "#### Estimaciones de Parámetros\n",
    "\n",
    "1. **Relaciones entre Variables Latentes y Observadas**:\n",
    "   - **Uso** (Confianza): Establecido como referencia con un valor de 1.0 (por convención en SEM).\n",
    "   - **Seguridad** (Confianza): Estima una carga factorial de **0.976**, lo que indica una fuerte relación con la variable latente **Confianza**.\n",
    "   - **Recomendaciones** (Confianza): Tiene una carga factorial de **0.785**, también indicando una relación significativa con **Confianza**, aunque algo menor que **Seguridad**.\n",
    "   - **Tiempo de Respuesta** (Calidad): Establecido como referencia con un valor de 1.0.\n",
    "   - **Resolución de Problemas** (Calidad): Carga factorial de **0.884**, lo que indica una relación muy fuerte con la **Calidad del Servicio**.\n",
    "\n",
    "2. **Relaciones entre las Variables Latentes y la Satisfacción del Cliente**:\n",
    "   - **Confianza** → **Satisfacción**: Coeficiente de **0.468**, con una significancia alta (*p-value = 0.0*). Esto indica que a mayor confianza del cliente en la plataforma, mayor es su satisfacción.\n",
    "   - **Calidad del Servicio** → **Satisfacción**: Coeficiente de **0.676**, también significativo (*p-value = 0.0*), sugiriendo que la calidad del servicio tiene una influencia importante sobre la satisfacción del cliente, incluso mayor que la confianza.\n",
    "   - **Ingreso del Hogar** → **Satisfacción**: El coeficiente es prácticamente cero (**-0.000**), y no significativo (*p-value = 0.836*). Esto implica que el ingreso del hogar no tiene un impacto relevante en la satisfacción del cliente en este modelo.\n",
    "\n",
    "3. **Covarianzas**:\n",
    "   - **Confianza** y **Calidad del Servicio** están correlacionadas positivamente (**0.010**), aunque esta relación no es estadísticamente significativa (*p-value = 0.237*).\n",
    "   - La varianza residual de **Satisfacción del Cliente** es **0.239**, lo que indica que el modelo captura una buena parte de la varianza en satisfacción, pero aún hay factores no explicados que influyen.\n",
    "\n",
    "#### Métricas de Ajuste del Modelo\n",
    "\n",
    "El ajuste del modelo fue satisfactorio, con un valor objetivo de **0.046** después de 30 iteraciones utilizando el método de optimización **SLSQP**. El modelo se ajustó correctamente a los datos, lo que se refleja en el éxito del proceso de optimización.\n",
    "\n",
    "#### Interpretación General\n",
    "\n",
    "- **Confianza en la Plataforma** y **Calidad del Servicio** son dos factores clave que explican la **Satisfacción del Cliente** en la plataforma de e-commerce. Ambos factores tienen un impacto significativo y positivo, siendo la **Calidad del Servicio** el factor más importante en términos de influencia sobre la satisfacción.\n",
    "  \n",
    "- **Ingreso del Hogar** no parece tener un impacto directo en la satisfacción del cliente, lo que sugiere que la experiencia del usuario no depende significativamente de su nivel socioeconómico en este caso.\n",
    "\n",
    "- Las relaciones entre las variables latentes y sus indicadores observados son fuertes y significativas, lo que valida la construcción teórica de las variables latentes de **Confianza** y **Calidad del Servicio**.\n",
    "\n",
    "#### Conclusiones\n",
    "\n",
    "Este modelo de ecuaciones estructurales ha demostrado ser útil para entender cómo factores complejos como la confianza y la calidad del servicio impactan en la satisfacción del cliente. Las empresas pueden enfocarse en mejorar estos dos aspectos, especialmente en el servicio, para aumentar la satisfacción general de los usuarios. Además, las intervenciones en mejorar la percepción de seguridad y la resolución de problemas pueden ser prioritarias, dado su peso en los constructos latentes.\n",
    "\n",
    "Este análisis proporciona una base sólida para la toma de decisiones basada en datos dentro de la empresa, dirigiendo los esfuerzos hacia las áreas que mayor impacto tienen en la satisfacción del cliente.\n"
   ]
  },
  {
   "cell_type": "code",
   "execution_count": 5,
   "id": "2e98c29f-6b7d-4bd5-9e74-23b153f8f199",
   "metadata": {
    "tags": []
   },
   "outputs": [
    {
     "name": "stdout",
     "output_type": "stream",
     "text": [
      "   Confianza   Calidad\n",
      "0  10.938839  7.762257\n",
      "1   9.927179  7.253717\n",
      "2  11.614626  7.578626\n",
      "3  12.790536  8.326252\n",
      "4  10.169922  7.653100\n"
     ]
    }
   ],
   "source": [
    "# Cargar factores estimados (cargas factoriales)\n",
    "confianza_factors = [1.0, 0.976, 0.785]  # Uso, Seguridad, Recomendaciones\n",
    "calidad_factors = [1.0, 0.884]           # Tiempo_Respuesta, Resolucion_Problemas\n",
    "\n",
    "# Función para calcular el valor de la variable latente\n",
    "def calculate_latent_values(df):\n",
    "    # Calcular Confianza como la suma ponderada de Uso, Seguridad y Recomendaciones\n",
    "    df['Confianza'] = (df['Uso'] * confianza_factors[0] +\n",
    "                       df['Seguridad'] * confianza_factors[1] +\n",
    "                       df['Recomendaciones'] * confianza_factors[2])\n",
    "    \n",
    "    # Calcular Calidad del Servicio como la suma ponderada de Tiempo de Respuesta y Resolución de Problemas\n",
    "    df['Calidad'] = (df['Tiempo_Respuesta'] * calidad_factors[0] +\n",
    "                     df['Resolucion_Problemas'] * calidad_factors[1])\n",
    "    \n",
    "    return df[['Confianza', 'Calidad']]\n",
    "\n",
    "# Calcular valores latentes en el dataset\n",
    "latent_values = calculate_latent_values(data)\n",
    "\n",
    "# Mostrar los primeros valores calculados\n",
    "print(latent_values.head())\n"
   ]
  },
  {
   "cell_type": "code",
   "execution_count": 6,
   "id": "a5b59481-bbc1-4e34-8ff1-c9864431eb12",
   "metadata": {},
   "outputs": [
    {
     "ename": "ExecutableNotFound",
     "evalue": "failed to execute WindowsPath('dot'), make sure the Graphviz executables are on your systems' PATH",
     "output_type": "error",
     "traceback": [
      "\u001b[1;31m---------------------------------------------------------------------------\u001b[0m",
      "\u001b[1;31mFileNotFoundError\u001b[0m                         Traceback (most recent call last)",
      "File \u001b[1;32m~\\anaconda3\\Lib\\site-packages\\graphviz\\backend\\execute.py:78\u001b[0m, in \u001b[0;36mrun_check\u001b[1;34m(cmd, input_lines, encoding, quiet, **kwargs)\u001b[0m\n\u001b[0;32m     77\u001b[0m     \u001b[38;5;28;01melse\u001b[39;00m:\n\u001b[1;32m---> 78\u001b[0m         proc \u001b[38;5;241m=\u001b[39m \u001b[43msubprocess\u001b[49m\u001b[38;5;241;43m.\u001b[39;49m\u001b[43mrun\u001b[49m\u001b[43m(\u001b[49m\u001b[43mcmd\u001b[49m\u001b[43m,\u001b[49m\u001b[43m \u001b[49m\u001b[38;5;241;43m*\u001b[39;49m\u001b[38;5;241;43m*\u001b[39;49m\u001b[43mkwargs\u001b[49m\u001b[43m)\u001b[49m\n\u001b[0;32m     79\u001b[0m \u001b[38;5;28;01mexcept\u001b[39;00m \u001b[38;5;167;01mOSError\u001b[39;00m \u001b[38;5;28;01mas\u001b[39;00m e:\n",
      "File \u001b[1;32m~\\anaconda3\\Lib\\subprocess.py:548\u001b[0m, in \u001b[0;36mrun\u001b[1;34m(input, capture_output, timeout, check, *popenargs, **kwargs)\u001b[0m\n\u001b[0;32m    546\u001b[0m     kwargs[\u001b[38;5;124m'\u001b[39m\u001b[38;5;124mstderr\u001b[39m\u001b[38;5;124m'\u001b[39m] \u001b[38;5;241m=\u001b[39m PIPE\n\u001b[1;32m--> 548\u001b[0m \u001b[38;5;28;01mwith\u001b[39;00m \u001b[43mPopen\u001b[49m\u001b[43m(\u001b[49m\u001b[38;5;241;43m*\u001b[39;49m\u001b[43mpopenargs\u001b[49m\u001b[43m,\u001b[49m\u001b[43m \u001b[49m\u001b[38;5;241;43m*\u001b[39;49m\u001b[38;5;241;43m*\u001b[39;49m\u001b[43mkwargs\u001b[49m\u001b[43m)\u001b[49m \u001b[38;5;28;01mas\u001b[39;00m process:\n\u001b[0;32m    549\u001b[0m     \u001b[38;5;28;01mtry\u001b[39;00m:\n",
      "File \u001b[1;32m~\\anaconda3\\Lib\\subprocess.py:1026\u001b[0m, in \u001b[0;36mPopen.__init__\u001b[1;34m(self, args, bufsize, executable, stdin, stdout, stderr, preexec_fn, close_fds, shell, cwd, env, universal_newlines, startupinfo, creationflags, restore_signals, start_new_session, pass_fds, user, group, extra_groups, encoding, errors, text, umask, pipesize, process_group)\u001b[0m\n\u001b[0;32m   1023\u001b[0m             \u001b[38;5;28mself\u001b[39m\u001b[38;5;241m.\u001b[39mstderr \u001b[38;5;241m=\u001b[39m io\u001b[38;5;241m.\u001b[39mTextIOWrapper(\u001b[38;5;28mself\u001b[39m\u001b[38;5;241m.\u001b[39mstderr,\n\u001b[0;32m   1024\u001b[0m                     encoding\u001b[38;5;241m=\u001b[39mencoding, errors\u001b[38;5;241m=\u001b[39merrors)\n\u001b[1;32m-> 1026\u001b[0m     \u001b[38;5;28;43mself\u001b[39;49m\u001b[38;5;241;43m.\u001b[39;49m\u001b[43m_execute_child\u001b[49m\u001b[43m(\u001b[49m\u001b[43margs\u001b[49m\u001b[43m,\u001b[49m\u001b[43m \u001b[49m\u001b[43mexecutable\u001b[49m\u001b[43m,\u001b[49m\u001b[43m \u001b[49m\u001b[43mpreexec_fn\u001b[49m\u001b[43m,\u001b[49m\u001b[43m \u001b[49m\u001b[43mclose_fds\u001b[49m\u001b[43m,\u001b[49m\n\u001b[0;32m   1027\u001b[0m \u001b[43m                        \u001b[49m\u001b[43mpass_fds\u001b[49m\u001b[43m,\u001b[49m\u001b[43m \u001b[49m\u001b[43mcwd\u001b[49m\u001b[43m,\u001b[49m\u001b[43m \u001b[49m\u001b[43menv\u001b[49m\u001b[43m,\u001b[49m\n\u001b[0;32m   1028\u001b[0m \u001b[43m                        \u001b[49m\u001b[43mstartupinfo\u001b[49m\u001b[43m,\u001b[49m\u001b[43m \u001b[49m\u001b[43mcreationflags\u001b[49m\u001b[43m,\u001b[49m\u001b[43m \u001b[49m\u001b[43mshell\u001b[49m\u001b[43m,\u001b[49m\n\u001b[0;32m   1029\u001b[0m \u001b[43m                        \u001b[49m\u001b[43mp2cread\u001b[49m\u001b[43m,\u001b[49m\u001b[43m \u001b[49m\u001b[43mp2cwrite\u001b[49m\u001b[43m,\u001b[49m\n\u001b[0;32m   1030\u001b[0m \u001b[43m                        \u001b[49m\u001b[43mc2pread\u001b[49m\u001b[43m,\u001b[49m\u001b[43m \u001b[49m\u001b[43mc2pwrite\u001b[49m\u001b[43m,\u001b[49m\n\u001b[0;32m   1031\u001b[0m \u001b[43m                        \u001b[49m\u001b[43merrread\u001b[49m\u001b[43m,\u001b[49m\u001b[43m \u001b[49m\u001b[43merrwrite\u001b[49m\u001b[43m,\u001b[49m\n\u001b[0;32m   1032\u001b[0m \u001b[43m                        \u001b[49m\u001b[43mrestore_signals\u001b[49m\u001b[43m,\u001b[49m\n\u001b[0;32m   1033\u001b[0m \u001b[43m                        \u001b[49m\u001b[43mgid\u001b[49m\u001b[43m,\u001b[49m\u001b[43m \u001b[49m\u001b[43mgids\u001b[49m\u001b[43m,\u001b[49m\u001b[43m \u001b[49m\u001b[43muid\u001b[49m\u001b[43m,\u001b[49m\u001b[43m \u001b[49m\u001b[43mumask\u001b[49m\u001b[43m,\u001b[49m\n\u001b[0;32m   1034\u001b[0m \u001b[43m                        \u001b[49m\u001b[43mstart_new_session\u001b[49m\u001b[43m,\u001b[49m\u001b[43m \u001b[49m\u001b[43mprocess_group\u001b[49m\u001b[43m)\u001b[49m\n\u001b[0;32m   1035\u001b[0m \u001b[38;5;28;01mexcept\u001b[39;00m:\n\u001b[0;32m   1036\u001b[0m     \u001b[38;5;66;03m# Cleanup if the child failed starting.\u001b[39;00m\n",
      "File \u001b[1;32m~\\anaconda3\\Lib\\subprocess.py:1538\u001b[0m, in \u001b[0;36mPopen._execute_child\u001b[1;34m(self, args, executable, preexec_fn, close_fds, pass_fds, cwd, env, startupinfo, creationflags, shell, p2cread, p2cwrite, c2pread, c2pwrite, errread, errwrite, unused_restore_signals, unused_gid, unused_gids, unused_uid, unused_umask, unused_start_new_session, unused_process_group)\u001b[0m\n\u001b[0;32m   1537\u001b[0m \u001b[38;5;28;01mtry\u001b[39;00m:\n\u001b[1;32m-> 1538\u001b[0m     hp, ht, pid, tid \u001b[38;5;241m=\u001b[39m \u001b[43m_winapi\u001b[49m\u001b[38;5;241;43m.\u001b[39;49m\u001b[43mCreateProcess\u001b[49m\u001b[43m(\u001b[49m\u001b[43mexecutable\u001b[49m\u001b[43m,\u001b[49m\u001b[43m \u001b[49m\u001b[43margs\u001b[49m\u001b[43m,\u001b[49m\n\u001b[0;32m   1539\u001b[0m \u001b[43m                             \u001b[49m\u001b[38;5;66;43;03m# no special security\u001b[39;49;00m\n\u001b[0;32m   1540\u001b[0m \u001b[43m                             \u001b[49m\u001b[38;5;28;43;01mNone\u001b[39;49;00m\u001b[43m,\u001b[49m\u001b[43m \u001b[49m\u001b[38;5;28;43;01mNone\u001b[39;49;00m\u001b[43m,\u001b[49m\n\u001b[0;32m   1541\u001b[0m \u001b[43m                             \u001b[49m\u001b[38;5;28;43mint\u001b[39;49m\u001b[43m(\u001b[49m\u001b[38;5;129;43;01mnot\u001b[39;49;00m\u001b[43m \u001b[49m\u001b[43mclose_fds\u001b[49m\u001b[43m)\u001b[49m\u001b[43m,\u001b[49m\n\u001b[0;32m   1542\u001b[0m \u001b[43m                             \u001b[49m\u001b[43mcreationflags\u001b[49m\u001b[43m,\u001b[49m\n\u001b[0;32m   1543\u001b[0m \u001b[43m                             \u001b[49m\u001b[43menv\u001b[49m\u001b[43m,\u001b[49m\n\u001b[0;32m   1544\u001b[0m \u001b[43m                             \u001b[49m\u001b[43mcwd\u001b[49m\u001b[43m,\u001b[49m\n\u001b[0;32m   1545\u001b[0m \u001b[43m                             \u001b[49m\u001b[43mstartupinfo\u001b[49m\u001b[43m)\u001b[49m\n\u001b[0;32m   1546\u001b[0m \u001b[38;5;28;01mfinally\u001b[39;00m:\n\u001b[0;32m   1547\u001b[0m     \u001b[38;5;66;03m# Child is launched. Close the parent's copy of those pipe\u001b[39;00m\n\u001b[0;32m   1548\u001b[0m     \u001b[38;5;66;03m# handles that only the child should have open.  You need\u001b[39;00m\n\u001b[1;32m   (...)\u001b[0m\n\u001b[0;32m   1551\u001b[0m     \u001b[38;5;66;03m# pipe will not close when the child process exits and the\u001b[39;00m\n\u001b[0;32m   1552\u001b[0m     \u001b[38;5;66;03m# ReadFile will hang.\u001b[39;00m\n",
      "\u001b[1;31mFileNotFoundError\u001b[0m: [WinError 2] El sistema no puede encontrar el archivo especificado",
      "\nThe above exception was the direct cause of the following exception:\n",
      "\u001b[1;31mExecutableNotFound\u001b[0m                        Traceback (most recent call last)",
      "Cell \u001b[1;32mIn[6], line 1\u001b[0m\n\u001b[1;32m----> 1\u001b[0m g \u001b[38;5;241m=\u001b[39m \u001b[43msemplot\u001b[49m\u001b[43m(\u001b[49m\u001b[43mmod\u001b[49m\u001b[43m,\u001b[49m\u001b[43m \u001b[49m\u001b[38;5;124;43m'\u001b[39;49m\u001b[38;5;124;43mpd.png\u001b[39;49m\u001b[38;5;124;43m'\u001b[39;49m\u001b[43m)\u001b[49m\n",
      "File \u001b[1;32m~\\anaconda3\\Lib\\site-packages\\semopy\\plot.py:126\u001b[0m, in \u001b[0;36msemplot\u001b[1;34m(mod, filename, inspection, plot_covs, plot_exos, images, engine, latshape, plot_ests, std_ests, show)\u001b[0m\n\u001b[0;32m    124\u001b[0m             label \u001b[38;5;241m=\u001b[39m \u001b[38;5;28mstr\u001b[39m()\n\u001b[0;32m    125\u001b[0m         g\u001b[38;5;241m.\u001b[39medge(rval, lval, label\u001b[38;5;241m=\u001b[39mlabel, \u001b[38;5;28mdir\u001b[39m\u001b[38;5;241m=\u001b[39m\u001b[38;5;124m'\u001b[39m\u001b[38;5;124mboth\u001b[39m\u001b[38;5;124m'\u001b[39m, style\u001b[38;5;241m=\u001b[39m\u001b[38;5;124m'\u001b[39m\u001b[38;5;124mdashed\u001b[39m\u001b[38;5;124m'\u001b[39m)\n\u001b[1;32m--> 126\u001b[0m \u001b[43mg\u001b[49m\u001b[38;5;241;43m.\u001b[39;49m\u001b[43mrender\u001b[49m\u001b[43m(\u001b[49m\u001b[43mfilename\u001b[49m\u001b[43m,\u001b[49m\u001b[43m \u001b[49m\u001b[43mview\u001b[49m\u001b[38;5;241;43m=\u001b[39;49m\u001b[43mshow\u001b[49m\u001b[43m)\u001b[49m\n\u001b[0;32m    127\u001b[0m \u001b[38;5;28;01mreturn\u001b[39;00m g\n",
      "File \u001b[1;32m~\\anaconda3\\Lib\\site-packages\\graphviz\\_tools.py:171\u001b[0m, in \u001b[0;36mdeprecate_positional_args.<locals>.decorator.<locals>.wrapper\u001b[1;34m(*args, **kwargs)\u001b[0m\n\u001b[0;32m    162\u001b[0m     wanted \u001b[38;5;241m=\u001b[39m \u001b[38;5;124m'\u001b[39m\u001b[38;5;124m, \u001b[39m\u001b[38;5;124m'\u001b[39m\u001b[38;5;241m.\u001b[39mjoin(\u001b[38;5;124mf\u001b[39m\u001b[38;5;124m'\u001b[39m\u001b[38;5;132;01m{\u001b[39;00mname\u001b[38;5;132;01m}\u001b[39;00m\u001b[38;5;124m=\u001b[39m\u001b[38;5;132;01m{\u001b[39;00mvalue\u001b[38;5;132;01m!r}\u001b[39;00m\u001b[38;5;124m'\u001b[39m\n\u001b[0;32m    163\u001b[0m                        \u001b[38;5;28;01mfor\u001b[39;00m name, value \u001b[38;5;129;01min\u001b[39;00m deprecated\u001b[38;5;241m.\u001b[39mitems())\n\u001b[0;32m    164\u001b[0m     warnings\u001b[38;5;241m.\u001b[39mwarn(\u001b[38;5;124mf\u001b[39m\u001b[38;5;124m'\u001b[39m\u001b[38;5;124mThe signature of \u001b[39m\u001b[38;5;132;01m{\u001b[39;00mfunc\u001b[38;5;241m.\u001b[39m\u001b[38;5;18m__name__\u001b[39m\u001b[38;5;132;01m}\u001b[39;00m\u001b[38;5;124m will be reduced\u001b[39m\u001b[38;5;124m'\u001b[39m\n\u001b[0;32m    165\u001b[0m                   \u001b[38;5;124mf\u001b[39m\u001b[38;5;124m'\u001b[39m\u001b[38;5;124m to \u001b[39m\u001b[38;5;132;01m{\u001b[39;00msupported_number\u001b[38;5;132;01m}\u001b[39;00m\u001b[38;5;124m positional args\u001b[39m\u001b[38;5;124m'\u001b[39m\n\u001b[0;32m    166\u001b[0m                   \u001b[38;5;124mf\u001b[39m\u001b[38;5;124m'\u001b[39m\u001b[38;5;124m \u001b[39m\u001b[38;5;132;01m{\u001b[39;00m\u001b[38;5;28mlist\u001b[39m(supported)\u001b[38;5;132;01m}\u001b[39;00m\u001b[38;5;124m: pass \u001b[39m\u001b[38;5;132;01m{\u001b[39;00mwanted\u001b[38;5;132;01m}\u001b[39;00m\u001b[38;5;124m'\u001b[39m\n\u001b[0;32m    167\u001b[0m                   \u001b[38;5;124m'\u001b[39m\u001b[38;5;124m as keyword arg(s)\u001b[39m\u001b[38;5;124m'\u001b[39m,\n\u001b[0;32m    168\u001b[0m                   stacklevel\u001b[38;5;241m=\u001b[39mstacklevel,\n\u001b[0;32m    169\u001b[0m                   category\u001b[38;5;241m=\u001b[39mcategory)\n\u001b[1;32m--> 171\u001b[0m \u001b[38;5;28;01mreturn\u001b[39;00m \u001b[43mfunc\u001b[49m\u001b[43m(\u001b[49m\u001b[38;5;241;43m*\u001b[39;49m\u001b[43margs\u001b[49m\u001b[43m,\u001b[49m\u001b[43m \u001b[49m\u001b[38;5;241;43m*\u001b[39;49m\u001b[38;5;241;43m*\u001b[39;49m\u001b[43mkwargs\u001b[49m\u001b[43m)\u001b[49m\n",
      "File \u001b[1;32m~\\anaconda3\\Lib\\site-packages\\graphviz\\rendering.py:122\u001b[0m, in \u001b[0;36mRender.render\u001b[1;34m(self, filename, directory, view, cleanup, format, renderer, formatter, neato_no_op, quiet, quiet_view, outfile, engine, raise_if_result_exists, overwrite_source)\u001b[0m\n\u001b[0;32m    118\u001b[0m filepath \u001b[38;5;241m=\u001b[39m \u001b[38;5;28mself\u001b[39m\u001b[38;5;241m.\u001b[39msave(filename, directory\u001b[38;5;241m=\u001b[39mdirectory, skip_existing\u001b[38;5;241m=\u001b[39m\u001b[38;5;28;01mNone\u001b[39;00m)\n\u001b[0;32m    120\u001b[0m args\u001b[38;5;241m.\u001b[39mappend(filepath)\n\u001b[1;32m--> 122\u001b[0m rendered \u001b[38;5;241m=\u001b[39m \u001b[38;5;28;43mself\u001b[39;49m\u001b[38;5;241;43m.\u001b[39;49m\u001b[43m_render\u001b[49m\u001b[43m(\u001b[49m\u001b[38;5;241;43m*\u001b[39;49m\u001b[43margs\u001b[49m\u001b[43m,\u001b[49m\u001b[43m \u001b[49m\u001b[38;5;241;43m*\u001b[39;49m\u001b[38;5;241;43m*\u001b[39;49m\u001b[43mkwargs\u001b[49m\u001b[43m)\u001b[49m\n\u001b[0;32m    124\u001b[0m \u001b[38;5;28;01mif\u001b[39;00m cleanup:\n\u001b[0;32m    125\u001b[0m     log\u001b[38;5;241m.\u001b[39mdebug(\u001b[38;5;124m'\u001b[39m\u001b[38;5;124mdelete \u001b[39m\u001b[38;5;132;01m%r\u001b[39;00m\u001b[38;5;124m'\u001b[39m, filepath)\n",
      "File \u001b[1;32m~\\anaconda3\\Lib\\site-packages\\graphviz\\_tools.py:171\u001b[0m, in \u001b[0;36mdeprecate_positional_args.<locals>.decorator.<locals>.wrapper\u001b[1;34m(*args, **kwargs)\u001b[0m\n\u001b[0;32m    162\u001b[0m     wanted \u001b[38;5;241m=\u001b[39m \u001b[38;5;124m'\u001b[39m\u001b[38;5;124m, \u001b[39m\u001b[38;5;124m'\u001b[39m\u001b[38;5;241m.\u001b[39mjoin(\u001b[38;5;124mf\u001b[39m\u001b[38;5;124m'\u001b[39m\u001b[38;5;132;01m{\u001b[39;00mname\u001b[38;5;132;01m}\u001b[39;00m\u001b[38;5;124m=\u001b[39m\u001b[38;5;132;01m{\u001b[39;00mvalue\u001b[38;5;132;01m!r}\u001b[39;00m\u001b[38;5;124m'\u001b[39m\n\u001b[0;32m    163\u001b[0m                        \u001b[38;5;28;01mfor\u001b[39;00m name, value \u001b[38;5;129;01min\u001b[39;00m deprecated\u001b[38;5;241m.\u001b[39mitems())\n\u001b[0;32m    164\u001b[0m     warnings\u001b[38;5;241m.\u001b[39mwarn(\u001b[38;5;124mf\u001b[39m\u001b[38;5;124m'\u001b[39m\u001b[38;5;124mThe signature of \u001b[39m\u001b[38;5;132;01m{\u001b[39;00mfunc\u001b[38;5;241m.\u001b[39m\u001b[38;5;18m__name__\u001b[39m\u001b[38;5;132;01m}\u001b[39;00m\u001b[38;5;124m will be reduced\u001b[39m\u001b[38;5;124m'\u001b[39m\n\u001b[0;32m    165\u001b[0m                   \u001b[38;5;124mf\u001b[39m\u001b[38;5;124m'\u001b[39m\u001b[38;5;124m to \u001b[39m\u001b[38;5;132;01m{\u001b[39;00msupported_number\u001b[38;5;132;01m}\u001b[39;00m\u001b[38;5;124m positional args\u001b[39m\u001b[38;5;124m'\u001b[39m\n\u001b[0;32m    166\u001b[0m                   \u001b[38;5;124mf\u001b[39m\u001b[38;5;124m'\u001b[39m\u001b[38;5;124m \u001b[39m\u001b[38;5;132;01m{\u001b[39;00m\u001b[38;5;28mlist\u001b[39m(supported)\u001b[38;5;132;01m}\u001b[39;00m\u001b[38;5;124m: pass \u001b[39m\u001b[38;5;132;01m{\u001b[39;00mwanted\u001b[38;5;132;01m}\u001b[39;00m\u001b[38;5;124m'\u001b[39m\n\u001b[0;32m    167\u001b[0m                   \u001b[38;5;124m'\u001b[39m\u001b[38;5;124m as keyword arg(s)\u001b[39m\u001b[38;5;124m'\u001b[39m,\n\u001b[0;32m    168\u001b[0m                   stacklevel\u001b[38;5;241m=\u001b[39mstacklevel,\n\u001b[0;32m    169\u001b[0m                   category\u001b[38;5;241m=\u001b[39mcategory)\n\u001b[1;32m--> 171\u001b[0m \u001b[38;5;28;01mreturn\u001b[39;00m \u001b[43mfunc\u001b[49m\u001b[43m(\u001b[49m\u001b[38;5;241;43m*\u001b[39;49m\u001b[43margs\u001b[49m\u001b[43m,\u001b[49m\u001b[43m \u001b[49m\u001b[38;5;241;43m*\u001b[39;49m\u001b[38;5;241;43m*\u001b[39;49m\u001b[43mkwargs\u001b[49m\u001b[43m)\u001b[49m\n",
      "File \u001b[1;32m~\\anaconda3\\Lib\\site-packages\\graphviz\\backend\\rendering.py:326\u001b[0m, in \u001b[0;36mrender\u001b[1;34m(engine, format, filepath, renderer, formatter, neato_no_op, quiet, outfile, raise_if_result_exists, overwrite_filepath)\u001b[0m\n\u001b[0;32m    322\u001b[0m cmd \u001b[38;5;241m+\u001b[39m\u001b[38;5;241m=\u001b[39m args\n\u001b[0;32m    324\u001b[0m \u001b[38;5;28;01massert\u001b[39;00m filepath \u001b[38;5;129;01mis\u001b[39;00m \u001b[38;5;129;01mnot\u001b[39;00m \u001b[38;5;28;01mNone\u001b[39;00m, \u001b[38;5;124m'\u001b[39m\u001b[38;5;124mwork around pytype false alarm\u001b[39m\u001b[38;5;124m'\u001b[39m\n\u001b[1;32m--> 326\u001b[0m \u001b[43mexecute\u001b[49m\u001b[38;5;241;43m.\u001b[39;49m\u001b[43mrun_check\u001b[49m\u001b[43m(\u001b[49m\u001b[43mcmd\u001b[49m\u001b[43m,\u001b[49m\n\u001b[0;32m    327\u001b[0m \u001b[43m                  \u001b[49m\u001b[43mcwd\u001b[49m\u001b[38;5;241;43m=\u001b[39;49m\u001b[43mfilepath\u001b[49m\u001b[38;5;241;43m.\u001b[39;49m\u001b[43mparent\u001b[49m\u001b[43m \u001b[49m\u001b[38;5;28;43;01mif\u001b[39;49;00m\u001b[43m \u001b[49m\u001b[43mfilepath\u001b[49m\u001b[38;5;241;43m.\u001b[39;49m\u001b[43mparent\u001b[49m\u001b[38;5;241;43m.\u001b[39;49m\u001b[43mparts\u001b[49m\u001b[43m \u001b[49m\u001b[38;5;28;43;01melse\u001b[39;49;00m\u001b[43m \u001b[49m\u001b[38;5;28;43;01mNone\u001b[39;49;00m\u001b[43m,\u001b[49m\n\u001b[0;32m    328\u001b[0m \u001b[43m                  \u001b[49m\u001b[43mquiet\u001b[49m\u001b[38;5;241;43m=\u001b[39;49m\u001b[43mquiet\u001b[49m\u001b[43m,\u001b[49m\n\u001b[0;32m    329\u001b[0m \u001b[43m                  \u001b[49m\u001b[43mcapture_output\u001b[49m\u001b[38;5;241;43m=\u001b[39;49m\u001b[38;5;28;43;01mTrue\u001b[39;49;00m\u001b[43m)\u001b[49m\n\u001b[0;32m    331\u001b[0m \u001b[38;5;28;01mreturn\u001b[39;00m os\u001b[38;5;241m.\u001b[39mfspath(outfile)\n",
      "File \u001b[1;32m~\\anaconda3\\Lib\\site-packages\\graphviz\\backend\\execute.py:81\u001b[0m, in \u001b[0;36mrun_check\u001b[1;34m(cmd, input_lines, encoding, quiet, **kwargs)\u001b[0m\n\u001b[0;32m     79\u001b[0m \u001b[38;5;28;01mexcept\u001b[39;00m \u001b[38;5;167;01mOSError\u001b[39;00m \u001b[38;5;28;01mas\u001b[39;00m e:\n\u001b[0;32m     80\u001b[0m     \u001b[38;5;28;01mif\u001b[39;00m e\u001b[38;5;241m.\u001b[39merrno \u001b[38;5;241m==\u001b[39m errno\u001b[38;5;241m.\u001b[39mENOENT:\n\u001b[1;32m---> 81\u001b[0m         \u001b[38;5;28;01mraise\u001b[39;00m ExecutableNotFound(cmd) \u001b[38;5;28;01mfrom\u001b[39;00m \u001b[38;5;21;01me\u001b[39;00m\n\u001b[0;32m     82\u001b[0m     \u001b[38;5;28;01mraise\u001b[39;00m\n\u001b[0;32m     84\u001b[0m \u001b[38;5;28;01mif\u001b[39;00m \u001b[38;5;129;01mnot\u001b[39;00m quiet \u001b[38;5;129;01mand\u001b[39;00m proc\u001b[38;5;241m.\u001b[39mstderr:\n",
      "\u001b[1;31mExecutableNotFound\u001b[0m: failed to execute WindowsPath('dot'), make sure the Graphviz executables are on your systems' PATH"
     ]
    }
   ],
   "source": [
    "g = semplot(mod, 'pd.png')"
   ]
  },
  {
   "cell_type": "code",
   "execution_count": 11,
   "id": "b8076cb4-e7ca-4598-9ad8-52776d4bed46",
   "metadata": {},
   "outputs": [
    {
     "name": "stdout",
     "output_type": "stream",
     "text": [
      "Collecting graphviz\n",
      "  Downloading graphviz-0.20.3-py3-none-any.whl.metadata (12 kB)\n",
      "Downloading graphviz-0.20.3-py3-none-any.whl (47 kB)\n",
      "   ---------------------------------------- 0.0/47.1 kB ? eta -:--:--\n",
      "   ---------------------------------------- 0.0/47.1 kB ? eta -:--:--\n",
      "   ----------------- ---------------------- 20.5/47.1 kB ? eta -:--:--\n",
      "   ---------------------------------- ----- 41.0/47.1 kB 653.6 kB/s eta 0:00:01\n",
      "   ---------------------------------- ----- 41.0/47.1 kB 653.6 kB/s eta 0:00:01\n",
      "   ---------------------------------------- 47.1/47.1 kB 295.1 kB/s eta 0:00:00\n",
      "Installing collected packages: graphviz\n",
      "Successfully installed graphviz-0.20.3\n"
     ]
    }
   ],
   "source": [
    "!pip install graphviz"
   ]
  },
  {
   "cell_type": "code",
   "execution_count": null,
   "id": "ea08465b-42f6-46e3-81e9-42c498830b87",
   "metadata": {},
   "outputs": [],
   "source": []
  }
 ],
 "metadata": {
  "kernelspec": {
   "display_name": "Python 3 (ipykernel)",
   "language": "python",
   "name": "python3"
  },
  "language_info": {
   "codemirror_mode": {
    "name": "ipython",
    "version": 3
   },
   "file_extension": ".py",
   "mimetype": "text/x-python",
   "name": "python",
   "nbconvert_exporter": "python",
   "pygments_lexer": "ipython3",
   "version": "3.11.7"
  }
 },
 "nbformat": 4,
 "nbformat_minor": 5
}
